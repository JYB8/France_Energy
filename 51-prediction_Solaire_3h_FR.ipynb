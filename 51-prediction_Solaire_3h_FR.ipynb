{
 "cells": [
  {
   "cell_type": "code",
   "execution_count": 1,
   "metadata": {},
   "outputs": [],
   "source": [
    "import numpy as np\n",
    "import pandas as pd\n",
    "import datetime as dt\n",
    "from dateutil.relativedelta import relativedelta\n",
    "import matplotlib.pyplot as plt\n",
    "%matplotlib inline\n",
    "import statsmodels.api as sm\n",
    "from statsmodels.graphics.tsaplots import plot_pacf, plot_acf\n",
    "from statsmodels.tsa.seasonal import seasonal_decompose\n",
    "from sklearn.metrics import mean_absolute_error, mean_squared_error\n",
    "from sklearn.preprocessing import MinMaxScaler\n",
    "from sklearn.linear_model import LinearRegression"
   ]
  },
  {
   "cell_type": "markdown",
   "metadata": {},
   "source": [
    "# Objectif du notebook\n",
    "\n",
    "Comparer les différentes modélisation possible sur la variable **production solaire** :\n",
    "\n",
    "* SARIMAX avec des fonctions sinusoïdales correspondant aux saisons observées en régresseurs exogènes\n",
    "* SARIMAX avec des données métier en régresseurs exogènes (soleil).\n",
    "* SARIMAX avec des données métier FILTREES en régresseurs exogènes\n",
    "* SARIMAX sur le signal filtré par transformation de Fourier sans régresseur\n",
    "* SARIMAX sur le signal filtré avec des données métier FILTREES en régresseurs exogènes\n",
    "* Régression linéaire sur les données métiers FILTREES comme variables explicatives\n",
    "* Régression linéaire sur la variable à expliquée FILTREE et avec les variables explicatives FILTREES.\n",
    "\n",
    "**NOTA BENE :** Pour la période 3h, le calcul avec un modèle SARIMAX n'aboutit pas sans données exogènes en paramètre."
   ]
  },
  {
   "cell_type": "markdown",
   "metadata": {},
   "source": [
    "# Import du dataset original"
   ]
  },
  {
   "cell_type": "code",
   "execution_count": 2,
   "metadata": {},
   "outputs": [
    {
     "data": {
      "text/html": [
       "<div>\n",
       "<style scoped>\n",
       "    .dataframe tbody tr th:only-of-type {\n",
       "        vertical-align: middle;\n",
       "    }\n",
       "\n",
       "    .dataframe tbody tr th {\n",
       "        vertical-align: top;\n",
       "    }\n",
       "\n",
       "    .dataframe thead th {\n",
       "        text-align: right;\n",
       "    }\n",
       "</style>\n",
       "<table border=\"1\" class=\"dataframe\">\n",
       "  <thead>\n",
       "    <tr style=\"text-align: right;\">\n",
       "      <th></th>\n",
       "      <th>Dates</th>\n",
       "      <th>Solaire</th>\n",
       "    </tr>\n",
       "  </thead>\n",
       "  <tbody>\n",
       "    <tr>\n",
       "      <th>0</th>\n",
       "      <td>2013-01-01 00:00:00</td>\n",
       "      <td>0.0</td>\n",
       "    </tr>\n",
       "  </tbody>\n",
       "</table>\n",
       "</div>"
      ],
      "text/plain": [
       "                 Dates  Solaire\n",
       "0  2013-01-01 00:00:00      0.0"
      ]
     },
     "execution_count": 2,
     "metadata": {},
     "output_type": "execute_result"
    }
   ],
   "source": [
    "df = pd.read_csv('./dataset/France_3H.csv',\n",
    "                usecols = ['Dates', 'Solaire'])\n",
    "df.head(1)"
   ]
  },
  {
   "cell_type": "code",
   "execution_count": 3,
   "metadata": {},
   "outputs": [
    {
     "data": {
      "text/plain": [
       "(25808, 2)"
      ]
     },
     "execution_count": 3,
     "metadata": {},
     "output_type": "execute_result"
    }
   ],
   "source": [
    "df.shape"
   ]
  },
  {
   "cell_type": "code",
   "execution_count": 4,
   "metadata": {},
   "outputs": [],
   "source": [
    "df['Dates'] = pd.to_datetime(df['Dates'], yearfirst = True)\n",
    "df.set_index('Dates', inplace = True)"
   ]
  },
  {
   "cell_type": "code",
   "execution_count": 5,
   "metadata": {},
   "outputs": [],
   "source": [
    "debut = dt.datetime(year = 2013, month = 1, day = 1)\n",
    "fin = dt.datetime(year = 2020, month = 1, day = 1)"
   ]
  },
  {
   "cell_type": "markdown",
   "metadata": {},
   "source": [
    "# Conversion en taux de charge pour annuler l'évolution dans le temps"
   ]
  },
  {
   "cell_type": "code",
   "execution_count": 6,
   "metadata": {},
   "outputs": [],
   "source": [
    "capa = pd.read_csv('./datasource/capacite_solaire_FR.csv',\n",
    "                  usecols = ['Dates', 'Capa_sol'])\n",
    "capa['Dates'] = pd.to_datetime(capa['Dates'], format = '%Y/%m/%d %H:%M:%S', yearfirst = True)\n",
    "capa.set_index('Dates', inplace = True)"
   ]
  },
  {
   "cell_type": "code",
   "execution_count": 7,
   "metadata": {},
   "outputs": [
    {
     "data": {
      "text/plain": [
       "(25808, 1)"
      ]
     },
     "execution_count": 7,
     "metadata": {},
     "output_type": "execute_result"
    }
   ],
   "source": [
    "capa.shape"
   ]
  },
  {
   "cell_type": "code",
   "execution_count": 8,
   "metadata": {},
   "outputs": [
    {
     "data": {
      "text/html": [
       "<div>\n",
       "<style scoped>\n",
       "    .dataframe tbody tr th:only-of-type {\n",
       "        vertical-align: middle;\n",
       "    }\n",
       "\n",
       "    .dataframe tbody tr th {\n",
       "        vertical-align: top;\n",
       "    }\n",
       "\n",
       "    .dataframe thead th {\n",
       "        text-align: right;\n",
       "    }\n",
       "</style>\n",
       "<table border=\"1\" class=\"dataframe\">\n",
       "  <thead>\n",
       "    <tr style=\"text-align: right;\">\n",
       "      <th></th>\n",
       "      <th>Solaire</th>\n",
       "      <th>Capa_sol</th>\n",
       "      <th>TCH_sol</th>\n",
       "    </tr>\n",
       "    <tr>\n",
       "      <th>Dates</th>\n",
       "      <th></th>\n",
       "      <th></th>\n",
       "      <th></th>\n",
       "    </tr>\n",
       "  </thead>\n",
       "  <tbody>\n",
       "    <tr>\n",
       "      <th>2013-01-01 00:00:00</th>\n",
       "      <td>0.000000</td>\n",
       "      <td>3644</td>\n",
       "      <td>0.000000</td>\n",
       "    </tr>\n",
       "    <tr>\n",
       "      <th>2013-01-01 03:00:00</th>\n",
       "      <td>0.000000</td>\n",
       "      <td>3644</td>\n",
       "      <td>0.000000</td>\n",
       "    </tr>\n",
       "    <tr>\n",
       "      <th>2013-01-01 06:00:00</th>\n",
       "      <td>0.000000</td>\n",
       "      <td>3644</td>\n",
       "      <td>0.000000</td>\n",
       "    </tr>\n",
       "    <tr>\n",
       "      <th>2013-01-01 09:00:00</th>\n",
       "      <td>193.333333</td>\n",
       "      <td>3644</td>\n",
       "      <td>0.053055</td>\n",
       "    </tr>\n",
       "    <tr>\n",
       "      <th>2013-01-01 12:00:00</th>\n",
       "      <td>555.333333</td>\n",
       "      <td>3644</td>\n",
       "      <td>0.152397</td>\n",
       "    </tr>\n",
       "    <tr>\n",
       "      <th>...</th>\n",
       "      <td>...</td>\n",
       "      <td>...</td>\n",
       "      <td>...</td>\n",
       "    </tr>\n",
       "    <tr>\n",
       "      <th>2021-10-31 09:00:00</th>\n",
       "      <td>2709.166667</td>\n",
       "      <td>12469</td>\n",
       "      <td>0.217272</td>\n",
       "    </tr>\n",
       "    <tr>\n",
       "      <th>2021-10-31 12:00:00</th>\n",
       "      <td>3652.666667</td>\n",
       "      <td>12469</td>\n",
       "      <td>0.292940</td>\n",
       "    </tr>\n",
       "    <tr>\n",
       "      <th>2021-10-31 15:00:00</th>\n",
       "      <td>1021.666667</td>\n",
       "      <td>12469</td>\n",
       "      <td>0.081937</td>\n",
       "    </tr>\n",
       "    <tr>\n",
       "      <th>2021-10-31 18:00:00</th>\n",
       "      <td>3.666667</td>\n",
       "      <td>12469</td>\n",
       "      <td>0.000294</td>\n",
       "    </tr>\n",
       "    <tr>\n",
       "      <th>2021-10-31 21:00:00</th>\n",
       "      <td>1.000000</td>\n",
       "      <td>12469</td>\n",
       "      <td>0.000080</td>\n",
       "    </tr>\n",
       "  </tbody>\n",
       "</table>\n",
       "<p>25808 rows × 3 columns</p>\n",
       "</div>"
      ],
      "text/plain": [
       "                         Solaire  Capa_sol   TCH_sol\n",
       "Dates                                               \n",
       "2013-01-01 00:00:00     0.000000      3644  0.000000\n",
       "2013-01-01 03:00:00     0.000000      3644  0.000000\n",
       "2013-01-01 06:00:00     0.000000      3644  0.000000\n",
       "2013-01-01 09:00:00   193.333333      3644  0.053055\n",
       "2013-01-01 12:00:00   555.333333      3644  0.152397\n",
       "...                          ...       ...       ...\n",
       "2021-10-31 09:00:00  2709.166667     12469  0.217272\n",
       "2021-10-31 12:00:00  3652.666667     12469  0.292940\n",
       "2021-10-31 15:00:00  1021.666667     12469  0.081937\n",
       "2021-10-31 18:00:00     3.666667     12469  0.000294\n",
       "2021-10-31 21:00:00     1.000000     12469  0.000080\n",
       "\n",
       "[25808 rows x 3 columns]"
      ]
     },
     "execution_count": 8,
     "metadata": {},
     "output_type": "execute_result"
    }
   ],
   "source": [
    "df = pd.concat([df, capa], axis = 1)\n",
    "df['TCH_sol'] = df['Solaire'] / df['Capa_sol']\n",
    "df"
   ]
  },
  {
   "cell_type": "code",
   "execution_count": 9,
   "metadata": {
    "scrolled": false
   },
   "outputs": [
    {
     "data": {
      "image/png": "[encoded data removed]",
      "text/plain": [
       "<Figure size 1152x432 with 1 Axes>"
      ]
     },
     "metadata": {
      "needs_background": "light"
     },
     "output_type": "display_data"
    }
   ],
   "source": [
    "plt.figure(figsize=(16, 6))\n",
    "plt.plot(df['Solaire'][(df.index >= debut) & (df.index < fin)])\n",
    "for year in range(debut.year, fin.year + 1): \n",
    "    plt.axvline(pd.to_datetime(str(year)+'-01-01'), color='k', linestyle='--', alpha=0.5);"
   ]
  },
  {
   "cell_type": "code",
   "execution_count": 10,
   "metadata": {},
   "outputs": [
    {
     "data": {
      "image/png": "[encoded data removed]",
      "text/plain": [
       "<Figure size 1152x432 with 1 Axes>"
      ]
     },
     "metadata": {
      "needs_background": "light"
     },
     "output_type": "display_data"
    }
   ],
   "source": [
    "plt.figure(figsize=(16, 6))\n",
    "plt.plot(df['TCH_sol'][(df.index >= debut) & (df.index < fin)])\n",
    "for year in range(debut.year, fin.year + 1): \n",
    "    plt.axvline(pd.to_datetime(str(year)+'-01-01'), color='k', linestyle='--', alpha=0.5);"
   ]
  },
  {
   "cell_type": "markdown",
   "metadata": {},
   "source": [
    "### Test de stationnarité"
   ]
  },
  {
   "cell_type": "code",
   "execution_count": 11,
   "metadata": {},
   "outputs": [
    {
     "data": {
      "text/plain": [
       "(-6.689281561767071,\n",
       " 4.149031472308638e-09,\n",
       " 49,\n",
       " 25758,\n",
       " {'1%': -3.4306038998292085,\n",
       "  '5%': -2.8616522161827964,\n",
       "  '10%': -2.566829729367711},\n",
       " -103671.06251774792)"
      ]
     },
     "execution_count": 11,
     "metadata": {},
     "output_type": "execute_result"
    }
   ],
   "source": [
    "# la 2ème valeur donne la p_value (stationnaire si < 5%)\n",
    "sm.tsa.stattools.adfuller(df['TCH_sol'])"
   ]
  },
  {
   "cell_type": "markdown",
   "metadata": {},
   "source": [
    "### Coéfficients SARIMAX et saisonnalités"
   ]
  },
  {
   "cell_type": "code",
   "execution_count": 12,
   "metadata": {},
   "outputs": [
    {
     "data": {
      "image/png": "[encoded data removed]",
      "text/plain": [
       "<Figure size 1152x432 with 2 Axes>"
      ]
     },
     "metadata": {
      "needs_background": "light"
     },
     "output_type": "display_data"
    }
   ],
   "source": [
    "fig, (ax1, ax2) = plt.subplots(1, 2, figsize=(16,6))\n",
    "plot_acf(df['TCH_sol'], lags = 100, ax=ax1)\n",
    "plot_pacf(df['TCH_sol'], lags = 100, ax=ax2)\n",
    "plt.show()"
   ]
  },
  {
   "cell_type": "markdown",
   "metadata": {},
   "source": [
    "**Saisonnalités :**\n",
    "* 1 an"
   ]
  },
  {
   "cell_type": "markdown",
   "metadata": {},
   "source": [
    "# Import du dataset filtré (Transformation de Fourier)"
   ]
  },
  {
   "cell_type": "code",
   "execution_count": 13,
   "metadata": {},
   "outputs": [
    {
     "data": {
      "text/html": [
       "<div>\n",
       "<style scoped>\n",
       "    .dataframe tbody tr th:only-of-type {\n",
       "        vertical-align: middle;\n",
       "    }\n",
       "\n",
       "    .dataframe tbody tr th {\n",
       "        vertical-align: top;\n",
       "    }\n",
       "\n",
       "    .dataframe thead th {\n",
       "        text-align: right;\n",
       "    }\n",
       "</style>\n",
       "<table border=\"1\" class=\"dataframe\">\n",
       "  <thead>\n",
       "    <tr style=\"text-align: right;\">\n",
       "      <th></th>\n",
       "      <th>Dates</th>\n",
       "      <th>Solaire</th>\n",
       "    </tr>\n",
       "  </thead>\n",
       "  <tbody>\n",
       "    <tr>\n",
       "      <th>0</th>\n",
       "      <td>2013-01-01 00:00:00</td>\n",
       "      <td>73.165713</td>\n",
       "    </tr>\n",
       "  </tbody>\n",
       "</table>\n",
       "</div>"
      ],
      "text/plain": [
       "                 Dates    Solaire\n",
       "0  2013-01-01 00:00:00  73.165713"
      ]
     },
     "execution_count": 13,
     "metadata": {},
     "output_type": "execute_result"
    }
   ],
   "source": [
    "df_filtered = pd.read_csv('./dataset/France_3H_filtered.csv',\n",
    "                usecols = ['Dates', 'Solaire'])\n",
    "df_filtered.head(1)"
   ]
  },
  {
   "cell_type": "code",
   "execution_count": 14,
   "metadata": {},
   "outputs": [],
   "source": [
    "df_filtered['Dates'] = pd.to_datetime(df_filtered['Dates'], yearfirst = True)\n",
    "df_filtered.set_index('Dates', inplace = True)"
   ]
  },
  {
   "cell_type": "code",
   "execution_count": 15,
   "metadata": {},
   "outputs": [],
   "source": [
    "df_filtered = pd.concat([df_filtered, capa], axis = 1)\n",
    "df_filtered['TCH_sol'] = df_filtered['Solaire'] / df_filtered['Capa_sol']"
   ]
  },
  {
   "cell_type": "code",
   "execution_count": 16,
   "metadata": {
    "scrolled": false
   },
   "outputs": [
    {
     "data": {
      "image/png": "[encoded data removed]",
      "text/plain": [
       "<Figure size 1152x432 with 1 Axes>"
      ]
     },
     "metadata": {
      "needs_background": "light"
     },
     "output_type": "display_data"
    }
   ],
   "source": [
    "plt.figure(figsize=(16, 6))\n",
    "plt.plot(df_filtered['Solaire'][(df.index >= debut) & (df.index < fin)])\n",
    "for year in range(debut.year, fin.year + 1): \n",
    "    plt.axvline(pd.to_datetime(str(year)+'-01-01'), color='k', linestyle='--', alpha=0.5);"
   ]
  },
  {
   "cell_type": "code",
   "execution_count": 17,
   "metadata": {},
   "outputs": [
    {
     "data": {
      "image/png": "[encoded data removed]",
      "text/plain": [
       "<Figure size 1152x432 with 1 Axes>"
      ]
     },
     "metadata": {
      "needs_background": "light"
     },
     "output_type": "display_data"
    }
   ],
   "source": [
    "plt.figure(figsize=(16, 6))\n",
    "plt.plot(df_filtered['TCH_sol'][(df.index >= debut) & (df.index < fin)])\n",
    "for year in range(debut.year, fin.year + 1): \n",
    "    plt.axvline(pd.to_datetime(str(year)+'-01-01'), color='k', linestyle='--', alpha=0.5);"
   ]
  },
  {
   "cell_type": "markdown",
   "metadata": {},
   "source": [
    "# Jeux d'entrainement et de test"
   ]
  },
  {
   "cell_type": "code",
   "execution_count": 18,
   "metadata": {},
   "outputs": [],
   "source": [
    "df_train = df[(df.index >= debut) & (df.index < fin)]\n",
    "df_test = df[df.index >= fin]"
   ]
  },
  {
   "cell_type": "code",
   "execution_count": 19,
   "metadata": {},
   "outputs": [],
   "source": [
    "df_train_filter = df_filtered[(df_filtered.index >= debut) & (df_filtered.index < fin)]\n",
    "df_test_filter = df_filtered[df_filtered.index >= fin]"
   ]
  },
  {
   "cell_type": "code",
   "execution_count": 20,
   "metadata": {},
   "outputs": [],
   "source": [
    "fenetre = df_test.shape[0]"
   ]
  },
  {
   "cell_type": "code",
   "execution_count": 21,
   "metadata": {},
   "outputs": [],
   "source": [
    "indice = df_test.index"
   ]
  },
  {
   "cell_type": "code",
   "execution_count": 22,
   "metadata": {},
   "outputs": [],
   "source": [
    "bilan = df_test"
   ]
  },
  {
   "cell_type": "markdown",
   "metadata": {},
   "source": [
    "# Paramètres SARIMAX"
   ]
  },
  {
   "cell_type": "code",
   "execution_count": 23,
   "metadata": {},
   "outputs": [],
   "source": [
    "ordre = (3,0,0)\n",
    "saison = (2,0,0,8)"
   ]
  },
  {
   "cell_type": "markdown",
   "metadata": {},
   "source": [
    "# Régresseurs exogènes : sinus & cosinus suivant les saisonnalités"
   ]
  },
  {
   "cell_type": "code",
   "execution_count": 24,
   "metadata": {},
   "outputs": [],
   "source": [
    "exog = pd.DataFrame({'date': df.index})\n",
    "exog['date'] = pd.to_datetime(exog['date'])\n",
    "# suivant saisonnalités\n",
    "# exog['sin_D'] = np.sin(2 * np.pi * exog.index / 8)\n",
    "# exog['cos_D'] = np.cos(2 * np.pi * exog.index / 8)\n",
    "# exog['sin_W'] = np.sin(2 * np.pi * exog.index / 7)\n",
    "# exog['cos_W'] = np.cos(2 * np.pi * exog.index / 7)\n",
    "exog['sin_Y'] = np.sin(2 * np.pi * exog.index / 365.25)\n",
    "exog['cos_Y'] = np.cos(2 * np.pi * exog.index / 365.25)\n",
    "exog.set_index('date', inplace = True)"
   ]
  },
  {
   "cell_type": "code",
   "execution_count": 25,
   "metadata": {},
   "outputs": [],
   "source": [
    "# Split en jeu d'entrainement et jeu de test\n",
    "exog_train = exog[(exog.index >= debut) & (exog.index < fin)]\n",
    "exog_test = exog[exog.index >= fin]"
   ]
  },
  {
   "cell_type": "code",
   "execution_count": 26,
   "metadata": {},
   "outputs": [
    {
     "name": "stderr",
     "output_type": "stream",
     "text": [
      "<ipython-input-26-56416ee0eedf>:2: FutureWarning: The pandas.datetime class is deprecated and will be removed from pandas in a future version. Import from datetime module instead.\n",
      "  plt.plot(exog[(exog.index >= pd.datetime(2016, 1, 1)) & (exog.index < pd.datetime(2016, 1, 15))])\n"
     ]
    },
    {
     "data": {
      "text/plain": [
       "''"
      ]
     },
     "execution_count": 26,
     "metadata": {},
     "output_type": "execute_result"
    },
    {
     "data": {
      "image/png": "[encoded data removed]",
      "text/plain": [
       "<Figure size 1152x288 with 1 Axes>"
      ]
     },
     "metadata": {
      "needs_background": "light"
     },
     "output_type": "display_data"
    }
   ],
   "source": [
    "plt.figure(figsize=(16, 4))\n",
    "plt.plot(exog[(exog.index >= pd.datetime(2016, 1, 1)) & (exog.index < pd.datetime(2016, 1, 15))])\n",
    "# for year in range(debut.year, fin.year + 1): \n",
    "#     plt.axvline(pd.to_datetime(str(year)+'-01-01'), color='k', linestyle='--', alpha=0.5)\n",
    ";"
   ]
  },
  {
   "cell_type": "markdown",
   "metadata": {},
   "source": [
    "### SARIMAX"
   ]
  },
  {
   "cell_type": "code",
   "execution_count": 27,
   "metadata": {},
   "outputs": [
    {
     "name": "stderr",
     "output_type": "stream",
     "text": [
      "C:\\Python\\Anaconda3\\lib\\site-packages\\statsmodels\\base\\model.py:566: ConvergenceWarning: Maximum Likelihood optimization failed to converge. Check mle_retvals\n",
      "  warnings.warn(\"Maximum Likelihood optimization failed to \"\n"
     ]
    }
   ],
   "source": [
    "model_sinus = sm.tsa.SARIMAX(df_train['TCH_sol'].values,\n",
    "                             exog = exog_train.values,\n",
    "                             order = ordre,\n",
    "                             seasonal_order = saison)\n",
    "result_sinus = model_sinus.fit()"
   ]
  },
  {
   "cell_type": "code",
   "execution_count": 28,
   "metadata": {},
   "outputs": [],
   "source": [
    "predict_sinus = result_sinus.predict(start = 1 ,\n",
    "                                     end = fenetre,\n",
    "                                     exog = exog_test.values)"
   ]
  },
  {
   "cell_type": "code",
   "execution_count": 29,
   "metadata": {},
   "outputs": [],
   "source": [
    "predict_sinus = pd.DataFrame(predict_sinus, columns=['Sol_p_sinus'], index = indice)"
   ]
  },
  {
   "cell_type": "code",
   "execution_count": 30,
   "metadata": {},
   "outputs": [],
   "source": [
    "bilan = pd.concat([bilan, predict_sinus], axis = 1)"
   ]
  },
  {
   "cell_type": "markdown",
   "metadata": {},
   "source": [
    "### Erreur absolue"
   ]
  },
  {
   "cell_type": "code",
   "execution_count": 31,
   "metadata": {},
   "outputs": [
    {
     "data": {
      "text/html": [
       "<div>\n",
       "<style scoped>\n",
       "    .dataframe tbody tr th:only-of-type {\n",
       "        vertical-align: middle;\n",
       "    }\n",
       "\n",
       "    .dataframe tbody tr th {\n",
       "        vertical-align: top;\n",
       "    }\n",
       "\n",
       "    .dataframe thead th {\n",
       "        text-align: right;\n",
       "    }\n",
       "</style>\n",
       "<table border=\"1\" class=\"dataframe\">\n",
       "  <thead>\n",
       "    <tr style=\"text-align: right;\">\n",
       "      <th></th>\n",
       "      <th>Solaire</th>\n",
       "      <th>Capa_sol</th>\n",
       "      <th>TCH_sol</th>\n",
       "      <th>Sol_p_sinus</th>\n",
       "      <th>Err_sinus</th>\n",
       "    </tr>\n",
       "  </thead>\n",
       "  <tbody>\n",
       "    <tr>\n",
       "      <th>count</th>\n",
       "      <td>5360.000000</td>\n",
       "      <td>5360.000000</td>\n",
       "      <td>5360.000000</td>\n",
       "      <td>5360.000000</td>\n",
       "      <td>5.360000e+03</td>\n",
       "    </tr>\n",
       "    <tr>\n",
       "      <th>mean</th>\n",
       "      <td>1571.800218</td>\n",
       "      <td>10519.437313</td>\n",
       "      <td>0.148462</td>\n",
       "      <td>0.140935</td>\n",
       "      <td>1.210351e-01</td>\n",
       "    </tr>\n",
       "    <tr>\n",
       "      <th>std</th>\n",
       "      <td>2114.541475</td>\n",
       "      <td>893.727751</td>\n",
       "      <td>0.198264</td>\n",
       "      <td>0.189979</td>\n",
       "      <td>1.306124e-01</td>\n",
       "    </tr>\n",
       "    <tr>\n",
       "      <th>min</th>\n",
       "      <td>0.000000</td>\n",
       "      <td>9414.000000</td>\n",
       "      <td>0.000000</td>\n",
       "      <td>-0.101192</td>\n",
       "      <td>1.668555e-07</td>\n",
       "    </tr>\n",
       "    <tr>\n",
       "      <th>25%</th>\n",
       "      <td>1.000000</td>\n",
       "      <td>9791.000000</td>\n",
       "      <td>0.000098</td>\n",
       "      <td>0.000557</td>\n",
       "      <td>7.723424e-03</td>\n",
       "    </tr>\n",
       "    <tr>\n",
       "      <th>50%</th>\n",
       "      <td>255.083333</td>\n",
       "      <td>10167.000000</td>\n",
       "      <td>0.024076</td>\n",
       "      <td>0.027594</td>\n",
       "      <td>6.774353e-02</td>\n",
       "    </tr>\n",
       "    <tr>\n",
       "      <th>75%</th>\n",
       "      <td>2842.416667</td>\n",
       "      <td>11241.000000</td>\n",
       "      <td>0.274220</td>\n",
       "      <td>0.263836</td>\n",
       "      <td>2.072380e-01</td>\n",
       "    </tr>\n",
       "    <tr>\n",
       "      <th>max</th>\n",
       "      <td>8662.666667</td>\n",
       "      <td>12469.000000</td>\n",
       "      <td>0.755672</td>\n",
       "      <td>0.756843</td>\n",
       "      <td>5.921407e-01</td>\n",
       "    </tr>\n",
       "  </tbody>\n",
       "</table>\n",
       "</div>"
      ],
      "text/plain": [
       "           Solaire      Capa_sol      TCH_sol  Sol_p_sinus     Err_sinus\n",
       "count  5360.000000   5360.000000  5360.000000  5360.000000  5.360000e+03\n",
       "mean   1571.800218  10519.437313     0.148462     0.140935  1.210351e-01\n",
       "std    2114.541475    893.727751     0.198264     0.189979  1.306124e-01\n",
       "min       0.000000   9414.000000     0.000000    -0.101192  1.668555e-07\n",
       "25%       1.000000   9791.000000     0.000098     0.000557  7.723424e-03\n",
       "50%     255.083333  10167.000000     0.024076     0.027594  6.774353e-02\n",
       "75%    2842.416667  11241.000000     0.274220     0.263836  2.072380e-01\n",
       "max    8662.666667  12469.000000     0.755672     0.756843  5.921407e-01"
      ]
     },
     "execution_count": 31,
     "metadata": {},
     "output_type": "execute_result"
    }
   ],
   "source": [
    "bilan['Err_sinus'] = np.abs(bilan['Sol_p_sinus'] - bilan['TCH_sol'])\n",
    "bilan.describe()"
   ]
  },
  {
   "cell_type": "markdown",
   "metadata": {},
   "source": [
    "# Régresseurs exogènes : données métier"
   ]
  },
  {
   "cell_type": "code",
   "execution_count": 32,
   "metadata": {},
   "outputs": [
    {
     "data": {
      "text/html": [
       "<div>\n",
       "<style scoped>\n",
       "    .dataframe tbody tr th:only-of-type {\n",
       "        vertical-align: middle;\n",
       "    }\n",
       "\n",
       "    .dataframe tbody tr th {\n",
       "        vertical-align: top;\n",
       "    }\n",
       "\n",
       "    .dataframe thead th {\n",
       "        text-align: right;\n",
       "    }\n",
       "</style>\n",
       "<table border=\"1\" class=\"dataframe\">\n",
       "  <thead>\n",
       "    <tr style=\"text-align: right;\">\n",
       "      <th></th>\n",
       "      <th>Dates</th>\n",
       "      <th>Soleil</th>\n",
       "    </tr>\n",
       "  </thead>\n",
       "  <tbody>\n",
       "    <tr>\n",
       "      <th>0</th>\n",
       "      <td>2013-01-01 00:00:00</td>\n",
       "      <td>8.05</td>\n",
       "    </tr>\n",
       "  </tbody>\n",
       "</table>\n",
       "</div>"
      ],
      "text/plain": [
       "                 Dates  Soleil\n",
       "0  2013-01-01 00:00:00    8.05"
      ]
     },
     "execution_count": 32,
     "metadata": {},
     "output_type": "execute_result"
    }
   ],
   "source": [
    "exog = pd.read_csv('./exog/exog_3H_FR.csv', sep = ';',\n",
    "                   usecols = ['Dates', 'Soleil'])\n",
    "exog.head(1)"
   ]
  },
  {
   "cell_type": "code",
   "execution_count": 33,
   "metadata": {},
   "outputs": [],
   "source": [
    "exog['Dates'] = pd.to_datetime(exog['Dates'], yearfirst = True)\n",
    "exog.set_index('Dates', inplace = True)"
   ]
  },
  {
   "cell_type": "code",
   "execution_count": 34,
   "metadata": {},
   "outputs": [],
   "source": [
    "# Split en jeu d'entrainement et jeu de test\n",
    "exog_train = exog[(exog.index >= debut) & (exog.index < fin)]\n",
    "exog_test = exog[exog.index >= fin]"
   ]
  },
  {
   "cell_type": "markdown",
   "metadata": {},
   "source": [
    "### SARIMAX"
   ]
  },
  {
   "cell_type": "code",
   "execution_count": 35,
   "metadata": {},
   "outputs": [],
   "source": [
    "model_exog = sm.tsa.SARIMAX(df_train['TCH_sol'].values,\n",
    "                       exog = exog_train.values,\n",
    "                       # mle_regression = False, # Default = True\n",
    "                       # simple_differencing = True, #Default = False\n",
    "                       # state_regression = False,\n",
    "                       order = ordre,\n",
    "                       seasonal_order = saison)"
   ]
  },
  {
   "cell_type": "code",
   "execution_count": 36,
   "metadata": {},
   "outputs": [
    {
     "name": "stderr",
     "output_type": "stream",
     "text": [
      "C:\\Python\\Anaconda3\\lib\\site-packages\\statsmodels\\base\\model.py:566: ConvergenceWarning: Maximum Likelihood optimization failed to converge. Check mle_retvals\n",
      "  warnings.warn(\"Maximum Likelihood optimization failed to \"\n"
     ]
    }
   ],
   "source": [
    "result_exog = model_exog.fit(low_memory=True)"
   ]
  },
  {
   "cell_type": "code",
   "execution_count": 37,
   "metadata": {},
   "outputs": [
    {
     "data": {
      "text/html": [
       "<table class=\"simpletable\">\n",
       "<caption>SARIMAX Results</caption>\n",
       "<tr>\n",
       "  <th>Dep. Variable:</th>                 <td>y</td>               <th>  No. Observations:  </th>    <td>20448</td>  \n",
       "</tr>\n",
       "<tr>\n",
       "  <th>Model:</th>           <td>SARIMAX(3, 0, 0)x(2, 0, 0, 8)</td> <th>  Log Likelihood     </th>  <td>39528.176</td>\n",
       "</tr>\n",
       "<tr>\n",
       "  <th>Date:</th>                  <td>Wed, 04 May 2022</td>        <th>  AIC                </th> <td>-79042.353</td>\n",
       "</tr>\n",
       "<tr>\n",
       "  <th>Time:</th>                      <td>10:24:14</td>            <th>  BIC                </th> <td>-78986.873</td>\n",
       "</tr>\n",
       "<tr>\n",
       "  <th>Sample:</th>                        <td>0</td>               <th>  HQIC               </th> <td>-79024.221</td>\n",
       "</tr>\n",
       "<tr>\n",
       "  <th></th>                           <td> - 20448</td>            <th>                     </th>      <td> </td>    \n",
       "</tr>\n",
       "<tr>\n",
       "  <th>Covariance Type:</th>            <td>approx</td>             <th>                     </th>      <td> </td>    \n",
       "</tr>\n",
       "</table>\n",
       "<table class=\"simpletable\">\n",
       "<tr>\n",
       "      <td></td>        <th>coef</th>     <th>std err</th>      <th>z</th>      <th>P>|z|</th>  <th>[0.025</th>    <th>0.975]</th>  \n",
       "</tr>\n",
       "<tr>\n",
       "  <th>x1</th>       <td>    0.0123</td> <td>    0.002</td> <td>    8.145</td> <td> 0.000</td> <td>    0.009</td> <td>    0.015</td>\n",
       "</tr>\n",
       "<tr>\n",
       "  <th>ar.L1</th>    <td>    1.1466</td> <td>    0.007</td> <td>  168.197</td> <td> 0.000</td> <td>    1.133</td> <td>    1.160</td>\n",
       "</tr>\n",
       "<tr>\n",
       "  <th>ar.L2</th>    <td>   -0.7164</td> <td>    0.009</td> <td>  -77.385</td> <td> 0.000</td> <td>   -0.734</td> <td>   -0.698</td>\n",
       "</tr>\n",
       "<tr>\n",
       "  <th>ar.L3</th>    <td>    0.2407</td> <td>    0.007</td> <td>   35.444</td> <td> 0.000</td> <td>    0.227</td> <td>    0.254</td>\n",
       "</tr>\n",
       "<tr>\n",
       "  <th>ar.S.L8</th>  <td>    0.6664</td> <td>    0.007</td> <td>   99.250</td> <td> 0.000</td> <td>    0.653</td> <td>    0.680</td>\n",
       "</tr>\n",
       "<tr>\n",
       "  <th>ar.S.L16</th> <td>    0.2951</td> <td>    0.007</td> <td>   43.983</td> <td> 0.000</td> <td>    0.282</td> <td>    0.308</td>\n",
       "</tr>\n",
       "<tr>\n",
       "  <th>sigma2</th>   <td>    0.0012</td> <td> 1.21e-05</td> <td>  101.142</td> <td> 0.000</td> <td>    0.001</td> <td>    0.001</td>\n",
       "</tr>\n",
       "</table>\n",
       "<table class=\"simpletable\">\n",
       "<tr>\n",
       "  <th>Ljung-Box (L1) (Q):</th>     <td>7.15</td> <th>  Jarque-Bera (JB):  </th> <td>30691.43</td>\n",
       "</tr>\n",
       "<tr>\n",
       "  <th>Prob(Q):</th>                <td>0.01</td> <th>  Prob(JB):          </th>   <td>0.00</td>  \n",
       "</tr>\n",
       "<tr>\n",
       "  <th>Heteroskedasticity (H):</th> <td>1.08</td> <th>  Skew:              </th>   <td>-0.02</td> \n",
       "</tr>\n",
       "<tr>\n",
       "  <th>Prob(H) (two-sided):</th>    <td>0.00</td> <th>  Kurtosis:          </th>   <td>9.00</td>  \n",
       "</tr>\n",
       "</table><br/><br/>Warnings:<br/>[1] Covariance matrix calculated using numerical (complex-step) differentiation."
      ],
      "text/plain": [
       "<class 'statsmodels.iolib.summary.Summary'>\n",
       "\"\"\"\n",
       "                                     SARIMAX Results                                     \n",
       "=========================================================================================\n",
       "Dep. Variable:                                 y   No. Observations:                20448\n",
       "Model:             SARIMAX(3, 0, 0)x(2, 0, 0, 8)   Log Likelihood               39528.176\n",
       "Date:                           Wed, 04 May 2022   AIC                         -79042.353\n",
       "Time:                                   10:24:14   BIC                         -78986.873\n",
       "Sample:                                        0   HQIC                        -79024.221\n",
       "                                         - 20448                                         \n",
       "Covariance Type:                          approx                                         \n",
       "==============================================================================\n",
       "                 coef    std err          z      P>|z|      [0.025      0.975]\n",
       "------------------------------------------------------------------------------\n",
       "x1             0.0123      0.002      8.145      0.000       0.009       0.015\n",
       "ar.L1          1.1466      0.007    168.197      0.000       1.133       1.160\n",
       "ar.L2         -0.7164      0.009    -77.385      0.000      -0.734      -0.698\n",
       "ar.L3          0.2407      0.007     35.444      0.000       0.227       0.254\n",
       "ar.S.L8        0.6664      0.007     99.250      0.000       0.653       0.680\n",
       "ar.S.L16       0.2951      0.007     43.983      0.000       0.282       0.308\n",
       "sigma2         0.0012   1.21e-05    101.142      0.000       0.001       0.001\n",
       "===================================================================================\n",
       "Ljung-Box (L1) (Q):                   7.15   Jarque-Bera (JB):             30691.43\n",
       "Prob(Q):                              0.01   Prob(JB):                         0.00\n",
       "Heteroskedasticity (H):               1.08   Skew:                            -0.02\n",
       "Prob(H) (two-sided):                  0.00   Kurtosis:                         9.00\n",
       "===================================================================================\n",
       "\n",
       "Warnings:\n",
       "[1] Covariance matrix calculated using numerical (complex-step) differentiation.\n",
       "\"\"\""
      ]
     },
     "execution_count": 37,
     "metadata": {},
     "output_type": "execute_result"
    }
   ],
   "source": [
    "result_exog.summary()"
   ]
  },
  {
   "cell_type": "code",
   "execution_count": 38,
   "metadata": {},
   "outputs": [],
   "source": [
    "predict_exog = result_exog.predict(start = 1 ,\n",
    "                               end = fenetre,\n",
    "                               exog = exog_test.values)"
   ]
  },
  {
   "cell_type": "code",
   "execution_count": 39,
   "metadata": {},
   "outputs": [],
   "source": [
    "predict_exog = pd.DataFrame(predict_exog, index = indice, columns = ['Sol_p_exog'])"
   ]
  },
  {
   "cell_type": "code",
   "execution_count": 40,
   "metadata": {
    "scrolled": true
   },
   "outputs": [],
   "source": [
    "bilan = pd.concat([bilan, predict_exog], axis = 1)"
   ]
  },
  {
   "cell_type": "markdown",
   "metadata": {},
   "source": [
    "### Erreur absolue"
   ]
  },
  {
   "cell_type": "code",
   "execution_count": 41,
   "metadata": {},
   "outputs": [
    {
     "data": {
      "text/html": [
       "<div>\n",
       "<style scoped>\n",
       "    .dataframe tbody tr th:only-of-type {\n",
       "        vertical-align: middle;\n",
       "    }\n",
       "\n",
       "    .dataframe tbody tr th {\n",
       "        vertical-align: top;\n",
       "    }\n",
       "\n",
       "    .dataframe thead th {\n",
       "        text-align: right;\n",
       "    }\n",
       "</style>\n",
       "<table border=\"1\" class=\"dataframe\">\n",
       "  <thead>\n",
       "    <tr style=\"text-align: right;\">\n",
       "      <th></th>\n",
       "      <th>Solaire</th>\n",
       "      <th>Capa_sol</th>\n",
       "      <th>TCH_sol</th>\n",
       "      <th>Sol_p_sinus</th>\n",
       "      <th>Err_sinus</th>\n",
       "      <th>Sol_p_exog</th>\n",
       "      <th>Err_exog</th>\n",
       "    </tr>\n",
       "  </thead>\n",
       "  <tbody>\n",
       "    <tr>\n",
       "      <th>count</th>\n",
       "      <td>5360.000000</td>\n",
       "      <td>5360.000000</td>\n",
       "      <td>5360.000000</td>\n",
       "      <td>5360.000000</td>\n",
       "      <td>5.360000e+03</td>\n",
       "      <td>5360.000000</td>\n",
       "      <td>5360.000000</td>\n",
       "    </tr>\n",
       "    <tr>\n",
       "      <th>mean</th>\n",
       "      <td>1571.800218</td>\n",
       "      <td>10519.437313</td>\n",
       "      <td>0.148462</td>\n",
       "      <td>0.140935</td>\n",
       "      <td>1.210351e-01</td>\n",
       "      <td>0.142612</td>\n",
       "      <td>0.120919</td>\n",
       "    </tr>\n",
       "    <tr>\n",
       "      <th>std</th>\n",
       "      <td>2114.541475</td>\n",
       "      <td>893.727751</td>\n",
       "      <td>0.198264</td>\n",
       "      <td>0.189979</td>\n",
       "      <td>1.306124e-01</td>\n",
       "      <td>0.189619</td>\n",
       "      <td>0.129898</td>\n",
       "    </tr>\n",
       "    <tr>\n",
       "      <th>min</th>\n",
       "      <td>0.000000</td>\n",
       "      <td>9414.000000</td>\n",
       "      <td>0.000000</td>\n",
       "      <td>-0.101192</td>\n",
       "      <td>1.668555e-07</td>\n",
       "      <td>-0.098770</td>\n",
       "      <td>0.000007</td>\n",
       "    </tr>\n",
       "    <tr>\n",
       "      <th>25%</th>\n",
       "      <td>1.000000</td>\n",
       "      <td>9791.000000</td>\n",
       "      <td>0.000098</td>\n",
       "      <td>0.000557</td>\n",
       "      <td>7.723424e-03</td>\n",
       "      <td>0.002335</td>\n",
       "      <td>0.008202</td>\n",
       "    </tr>\n",
       "    <tr>\n",
       "      <th>50%</th>\n",
       "      <td>255.083333</td>\n",
       "      <td>10167.000000</td>\n",
       "      <td>0.024076</td>\n",
       "      <td>0.027594</td>\n",
       "      <td>6.774353e-02</td>\n",
       "      <td>0.029747</td>\n",
       "      <td>0.067625</td>\n",
       "    </tr>\n",
       "    <tr>\n",
       "      <th>75%</th>\n",
       "      <td>2842.416667</td>\n",
       "      <td>11241.000000</td>\n",
       "      <td>0.274220</td>\n",
       "      <td>0.263836</td>\n",
       "      <td>2.072380e-01</td>\n",
       "      <td>0.265010</td>\n",
       "      <td>0.205856</td>\n",
       "    </tr>\n",
       "    <tr>\n",
       "      <th>max</th>\n",
       "      <td>8662.666667</td>\n",
       "      <td>12469.000000</td>\n",
       "      <td>0.755672</td>\n",
       "      <td>0.756843</td>\n",
       "      <td>5.921407e-01</td>\n",
       "      <td>0.757849</td>\n",
       "      <td>0.588841</td>\n",
       "    </tr>\n",
       "  </tbody>\n",
       "</table>\n",
       "</div>"
      ],
      "text/plain": [
       "           Solaire      Capa_sol      TCH_sol  Sol_p_sinus     Err_sinus  \\\n",
       "count  5360.000000   5360.000000  5360.000000  5360.000000  5.360000e+03   \n",
       "mean   1571.800218  10519.437313     0.148462     0.140935  1.210351e-01   \n",
       "std    2114.541475    893.727751     0.198264     0.189979  1.306124e-01   \n",
       "min       0.000000   9414.000000     0.000000    -0.101192  1.668555e-07   \n",
       "25%       1.000000   9791.000000     0.000098     0.000557  7.723424e-03   \n",
       "50%     255.083333  10167.000000     0.024076     0.027594  6.774353e-02   \n",
       "75%    2842.416667  11241.000000     0.274220     0.263836  2.072380e-01   \n",
       "max    8662.666667  12469.000000     0.755672     0.756843  5.921407e-01   \n",
       "\n",
       "        Sol_p_exog     Err_exog  \n",
       "count  5360.000000  5360.000000  \n",
       "mean      0.142612     0.120919  \n",
       "std       0.189619     0.129898  \n",
       "min      -0.098770     0.000007  \n",
       "25%       0.002335     0.008202  \n",
       "50%       0.029747     0.067625  \n",
       "75%       0.265010     0.205856  \n",
       "max       0.757849     0.588841  "
      ]
     },
     "execution_count": 41,
     "metadata": {},
     "output_type": "execute_result"
    }
   ],
   "source": [
    "bilan['Err_exog'] = np.abs(bilan['Sol_p_exog'] - bilan['TCH_sol'])\n",
    "bilan.describe()"
   ]
  },
  {
   "cell_type": "markdown",
   "metadata": {},
   "source": [
    "# Régresseurs exogènes : données métier FILTREES"
   ]
  },
  {
   "cell_type": "code",
   "execution_count": 42,
   "metadata": {},
   "outputs": [
    {
     "data": {
      "text/html": [
       "<div>\n",
       "<style scoped>\n",
       "    .dataframe tbody tr th:only-of-type {\n",
       "        vertical-align: middle;\n",
       "    }\n",
       "\n",
       "    .dataframe tbody tr th {\n",
       "        vertical-align: top;\n",
       "    }\n",
       "\n",
       "    .dataframe thead th {\n",
       "        text-align: right;\n",
       "    }\n",
       "</style>\n",
       "<table border=\"1\" class=\"dataframe\">\n",
       "  <thead>\n",
       "    <tr style=\"text-align: right;\">\n",
       "      <th></th>\n",
       "      <th>Dates</th>\n",
       "      <th>Soleil</th>\n",
       "    </tr>\n",
       "  </thead>\n",
       "  <tbody>\n",
       "    <tr>\n",
       "      <th>0</th>\n",
       "      <td>2013-01-01 00:00:00</td>\n",
       "      <td>8.05</td>\n",
       "    </tr>\n",
       "  </tbody>\n",
       "</table>\n",
       "</div>"
      ],
      "text/plain": [
       "                 Dates  Soleil\n",
       "0  2013-01-01 00:00:00    8.05"
      ]
     },
     "execution_count": 42,
     "metadata": {},
     "output_type": "execute_result"
    }
   ],
   "source": [
    "exog = pd.read_csv('./exog/exog_3H_FR_filtered.csv',# sep = ';',\n",
    "                   usecols = ['Dates', 'Soleil'])\n",
    "exog.head(1)"
   ]
  },
  {
   "cell_type": "code",
   "execution_count": 43,
   "metadata": {},
   "outputs": [],
   "source": [
    "exog['Dates'] = pd.to_datetime(exog['Dates'], yearfirst = True)\n",
    "exog.set_index('Dates', inplace = True)"
   ]
  },
  {
   "cell_type": "code",
   "execution_count": 44,
   "metadata": {},
   "outputs": [],
   "source": [
    "# Split en jeu d'entrainement et jeu de test\n",
    "exog_train = exog[(exog.index >= debut) & (exog.index < fin)]\n",
    "exog_test = exog[exog.index >= fin]"
   ]
  },
  {
   "cell_type": "markdown",
   "metadata": {},
   "source": [
    "### SARIMAX"
   ]
  },
  {
   "cell_type": "code",
   "execution_count": 45,
   "metadata": {},
   "outputs": [],
   "source": [
    "model_filter = sm.tsa.SARIMAX(df_train['TCH_sol'].values,\n",
    "                       exog = exog_train.values,\n",
    "                       # mle_regression = False, # Default = True\n",
    "                       # simple_differencing = True, #Default = False\n",
    "                       # state_regression = False,\n",
    "                       order = ordre,\n",
    "                       seasonal_order = saison)"
   ]
  },
  {
   "cell_type": "code",
   "execution_count": 46,
   "metadata": {},
   "outputs": [
    {
     "name": "stderr",
     "output_type": "stream",
     "text": [
      "C:\\Python\\Anaconda3\\lib\\site-packages\\statsmodels\\base\\model.py:566: ConvergenceWarning: Maximum Likelihood optimization failed to converge. Check mle_retvals\n",
      "  warnings.warn(\"Maximum Likelihood optimization failed to \"\n"
     ]
    }
   ],
   "source": [
    "result_filter = model_filter.fit(low_memory=True)"
   ]
  },
  {
   "cell_type": "code",
   "execution_count": 47,
   "metadata": {},
   "outputs": [
    {
     "data": {
      "text/html": [
       "<table class=\"simpletable\">\n",
       "<caption>SARIMAX Results</caption>\n",
       "<tr>\n",
       "  <th>Dep. Variable:</th>                 <td>y</td>               <th>  No. Observations:  </th>    <td>20448</td>  \n",
       "</tr>\n",
       "<tr>\n",
       "  <th>Model:</th>           <td>SARIMAX(3, 0, 0)x(2, 0, 0, 8)</td> <th>  Log Likelihood     </th>  <td>39528.177</td>\n",
       "</tr>\n",
       "<tr>\n",
       "  <th>Date:</th>                  <td>Wed, 04 May 2022</td>        <th>  AIC                </th> <td>-79042.353</td>\n",
       "</tr>\n",
       "<tr>\n",
       "  <th>Time:</th>                      <td>10:26:15</td>            <th>  BIC                </th> <td>-78986.874</td>\n",
       "</tr>\n",
       "<tr>\n",
       "  <th>Sample:</th>                        <td>0</td>               <th>  HQIC               </th> <td>-79024.222</td>\n",
       "</tr>\n",
       "<tr>\n",
       "  <th></th>                           <td> - 20448</td>            <th>                     </th>      <td> </td>    \n",
       "</tr>\n",
       "<tr>\n",
       "  <th>Covariance Type:</th>            <td>approx</td>             <th>                     </th>      <td> </td>    \n",
       "</tr>\n",
       "</table>\n",
       "<table class=\"simpletable\">\n",
       "<tr>\n",
       "      <td></td>        <th>coef</th>     <th>std err</th>      <th>z</th>      <th>P>|z|</th>  <th>[0.025</th>    <th>0.975]</th>  \n",
       "</tr>\n",
       "<tr>\n",
       "  <th>x1</th>       <td>    0.0123</td> <td>    0.002</td> <td>    8.143</td> <td> 0.000</td> <td>    0.009</td> <td>    0.015</td>\n",
       "</tr>\n",
       "<tr>\n",
       "  <th>ar.L1</th>    <td>    1.1464</td> <td>    0.007</td> <td>  168.174</td> <td> 0.000</td> <td>    1.133</td> <td>    1.160</td>\n",
       "</tr>\n",
       "<tr>\n",
       "  <th>ar.L2</th>    <td>   -0.7162</td> <td>    0.009</td> <td>  -77.363</td> <td> 0.000</td> <td>   -0.734</td> <td>   -0.698</td>\n",
       "</tr>\n",
       "<tr>\n",
       "  <th>ar.L3</th>    <td>    0.2407</td> <td>    0.007</td> <td>   35.442</td> <td> 0.000</td> <td>    0.227</td> <td>    0.254</td>\n",
       "</tr>\n",
       "<tr>\n",
       "  <th>ar.S.L8</th>  <td>    0.6664</td> <td>    0.007</td> <td>   99.251</td> <td> 0.000</td> <td>    0.653</td> <td>    0.680</td>\n",
       "</tr>\n",
       "<tr>\n",
       "  <th>ar.S.L16</th> <td>    0.2951</td> <td>    0.007</td> <td>   43.984</td> <td> 0.000</td> <td>    0.282</td> <td>    0.308</td>\n",
       "</tr>\n",
       "<tr>\n",
       "  <th>sigma2</th>   <td>    0.0012</td> <td> 1.21e-05</td> <td>  101.142</td> <td> 0.000</td> <td>    0.001</td> <td>    0.001</td>\n",
       "</tr>\n",
       "</table>\n",
       "<table class=\"simpletable\">\n",
       "<tr>\n",
       "  <th>Ljung-Box (L1) (Q):</th>     <td>7.27</td> <th>  Jarque-Bera (JB):  </th> <td>30700.48</td>\n",
       "</tr>\n",
       "<tr>\n",
       "  <th>Prob(Q):</th>                <td>0.01</td> <th>  Prob(JB):          </th>   <td>0.00</td>  \n",
       "</tr>\n",
       "<tr>\n",
       "  <th>Heteroskedasticity (H):</th> <td>1.08</td> <th>  Skew:              </th>   <td>-0.02</td> \n",
       "</tr>\n",
       "<tr>\n",
       "  <th>Prob(H) (two-sided):</th>    <td>0.00</td> <th>  Kurtosis:          </th>   <td>9.00</td>  \n",
       "</tr>\n",
       "</table><br/><br/>Warnings:<br/>[1] Covariance matrix calculated using numerical (complex-step) differentiation."
      ],
      "text/plain": [
       "<class 'statsmodels.iolib.summary.Summary'>\n",
       "\"\"\"\n",
       "                                     SARIMAX Results                                     \n",
       "=========================================================================================\n",
       "Dep. Variable:                                 y   No. Observations:                20448\n",
       "Model:             SARIMAX(3, 0, 0)x(2, 0, 0, 8)   Log Likelihood               39528.177\n",
       "Date:                           Wed, 04 May 2022   AIC                         -79042.353\n",
       "Time:                                   10:26:15   BIC                         -78986.874\n",
       "Sample:                                        0   HQIC                        -79024.222\n",
       "                                         - 20448                                         \n",
       "Covariance Type:                          approx                                         \n",
       "==============================================================================\n",
       "                 coef    std err          z      P>|z|      [0.025      0.975]\n",
       "------------------------------------------------------------------------------\n",
       "x1             0.0123      0.002      8.143      0.000       0.009       0.015\n",
       "ar.L1          1.1464      0.007    168.174      0.000       1.133       1.160\n",
       "ar.L2         -0.7162      0.009    -77.363      0.000      -0.734      -0.698\n",
       "ar.L3          0.2407      0.007     35.442      0.000       0.227       0.254\n",
       "ar.S.L8        0.6664      0.007     99.251      0.000       0.653       0.680\n",
       "ar.S.L16       0.2951      0.007     43.984      0.000       0.282       0.308\n",
       "sigma2         0.0012   1.21e-05    101.142      0.000       0.001       0.001\n",
       "===================================================================================\n",
       "Ljung-Box (L1) (Q):                   7.27   Jarque-Bera (JB):             30700.48\n",
       "Prob(Q):                              0.01   Prob(JB):                         0.00\n",
       "Heteroskedasticity (H):               1.08   Skew:                            -0.02\n",
       "Prob(H) (two-sided):                  0.00   Kurtosis:                         9.00\n",
       "===================================================================================\n",
       "\n",
       "Warnings:\n",
       "[1] Covariance matrix calculated using numerical (complex-step) differentiation.\n",
       "\"\"\""
      ]
     },
     "execution_count": 47,
     "metadata": {},
     "output_type": "execute_result"
    }
   ],
   "source": [
    "result_filter.summary()"
   ]
  },
  {
   "cell_type": "code",
   "execution_count": 48,
   "metadata": {},
   "outputs": [],
   "source": [
    "predict_filter = result_filter.predict(start = 1 ,\n",
    "                               end = fenetre,\n",
    "                               exog = exog_test.values)"
   ]
  },
  {
   "cell_type": "code",
   "execution_count": 49,
   "metadata": {},
   "outputs": [],
   "source": [
    "predict_filter = pd.DataFrame(predict_filter, index = indice, columns = ['Sol_p_filter'])"
   ]
  },
  {
   "cell_type": "code",
   "execution_count": 50,
   "metadata": {
    "scrolled": true
   },
   "outputs": [],
   "source": [
    "bilan = pd.concat([bilan, predict_filter], axis = 1)"
   ]
  },
  {
   "cell_type": "markdown",
   "metadata": {},
   "source": [
    "### Erreur absolue"
   ]
  },
  {
   "cell_type": "code",
   "execution_count": 51,
   "metadata": {},
   "outputs": [
    {
     "data": {
      "text/html": [
       "<div>\n",
       "<style scoped>\n",
       "    .dataframe tbody tr th:only-of-type {\n",
       "        vertical-align: middle;\n",
       "    }\n",
       "\n",
       "    .dataframe tbody tr th {\n",
       "        vertical-align: top;\n",
       "    }\n",
       "\n",
       "    .dataframe thead th {\n",
       "        text-align: right;\n",
       "    }\n",
       "</style>\n",
       "<table border=\"1\" class=\"dataframe\">\n",
       "  <thead>\n",
       "    <tr style=\"text-align: right;\">\n",
       "      <th></th>\n",
       "      <th>Solaire</th>\n",
       "      <th>Capa_sol</th>\n",
       "      <th>TCH_sol</th>\n",
       "      <th>Sol_p_sinus</th>\n",
       "      <th>Err_sinus</th>\n",
       "      <th>Sol_p_exog</th>\n",
       "      <th>Err_exog</th>\n",
       "      <th>Sol_p_filter</th>\n",
       "      <th>Err_exog_filter</th>\n",
       "    </tr>\n",
       "  </thead>\n",
       "  <tbody>\n",
       "    <tr>\n",
       "      <th>count</th>\n",
       "      <td>5360.000000</td>\n",
       "      <td>5360.000000</td>\n",
       "      <td>5360.000000</td>\n",
       "      <td>5360.000000</td>\n",
       "      <td>5.360000e+03</td>\n",
       "      <td>5360.000000</td>\n",
       "      <td>5360.000000</td>\n",
       "      <td>5360.000000</td>\n",
       "      <td>5360.000000</td>\n",
       "    </tr>\n",
       "    <tr>\n",
       "      <th>mean</th>\n",
       "      <td>1571.800218</td>\n",
       "      <td>10519.437313</td>\n",
       "      <td>0.148462</td>\n",
       "      <td>0.140935</td>\n",
       "      <td>1.210351e-01</td>\n",
       "      <td>0.142612</td>\n",
       "      <td>0.120919</td>\n",
       "      <td>0.142612</td>\n",
       "      <td>0.120919</td>\n",
       "    </tr>\n",
       "    <tr>\n",
       "      <th>std</th>\n",
       "      <td>2114.541475</td>\n",
       "      <td>893.727751</td>\n",
       "      <td>0.198264</td>\n",
       "      <td>0.189979</td>\n",
       "      <td>1.306124e-01</td>\n",
       "      <td>0.189619</td>\n",
       "      <td>0.129898</td>\n",
       "      <td>0.189618</td>\n",
       "      <td>0.129899</td>\n",
       "    </tr>\n",
       "    <tr>\n",
       "      <th>min</th>\n",
       "      <td>0.000000</td>\n",
       "      <td>9414.000000</td>\n",
       "      <td>0.000000</td>\n",
       "      <td>-0.101192</td>\n",
       "      <td>1.668555e-07</td>\n",
       "      <td>-0.098770</td>\n",
       "      <td>0.000007</td>\n",
       "      <td>-0.098757</td>\n",
       "      <td>0.000005</td>\n",
       "    </tr>\n",
       "    <tr>\n",
       "      <th>25%</th>\n",
       "      <td>1.000000</td>\n",
       "      <td>9791.000000</td>\n",
       "      <td>0.000098</td>\n",
       "      <td>0.000557</td>\n",
       "      <td>7.723424e-03</td>\n",
       "      <td>0.002335</td>\n",
       "      <td>0.008202</td>\n",
       "      <td>0.002335</td>\n",
       "      <td>0.008200</td>\n",
       "    </tr>\n",
       "    <tr>\n",
       "      <th>50%</th>\n",
       "      <td>255.083333</td>\n",
       "      <td>10167.000000</td>\n",
       "      <td>0.024076</td>\n",
       "      <td>0.027594</td>\n",
       "      <td>6.774353e-02</td>\n",
       "      <td>0.029747</td>\n",
       "      <td>0.067625</td>\n",
       "      <td>0.029747</td>\n",
       "      <td>0.067633</td>\n",
       "    </tr>\n",
       "    <tr>\n",
       "      <th>75%</th>\n",
       "      <td>2842.416667</td>\n",
       "      <td>11241.000000</td>\n",
       "      <td>0.274220</td>\n",
       "      <td>0.263836</td>\n",
       "      <td>2.072380e-01</td>\n",
       "      <td>0.265010</td>\n",
       "      <td>0.205856</td>\n",
       "      <td>0.265011</td>\n",
       "      <td>0.205854</td>\n",
       "    </tr>\n",
       "    <tr>\n",
       "      <th>max</th>\n",
       "      <td>8662.666667</td>\n",
       "      <td>12469.000000</td>\n",
       "      <td>0.755672</td>\n",
       "      <td>0.756843</td>\n",
       "      <td>5.921407e-01</td>\n",
       "      <td>0.757849</td>\n",
       "      <td>0.588841</td>\n",
       "      <td>0.757848</td>\n",
       "      <td>0.588852</td>\n",
       "    </tr>\n",
       "  </tbody>\n",
       "</table>\n",
       "</div>"
      ],
      "text/plain": [
       "           Solaire      Capa_sol      TCH_sol  Sol_p_sinus     Err_sinus  \\\n",
       "count  5360.000000   5360.000000  5360.000000  5360.000000  5.360000e+03   \n",
       "mean   1571.800218  10519.437313     0.148462     0.140935  1.210351e-01   \n",
       "std    2114.541475    893.727751     0.198264     0.189979  1.306124e-01   \n",
       "min       0.000000   9414.000000     0.000000    -0.101192  1.668555e-07   \n",
       "25%       1.000000   9791.000000     0.000098     0.000557  7.723424e-03   \n",
       "50%     255.083333  10167.000000     0.024076     0.027594  6.774353e-02   \n",
       "75%    2842.416667  11241.000000     0.274220     0.263836  2.072380e-01   \n",
       "max    8662.666667  12469.000000     0.755672     0.756843  5.921407e-01   \n",
       "\n",
       "        Sol_p_exog     Err_exog  Sol_p_filter  Err_exog_filter  \n",
       "count  5360.000000  5360.000000   5360.000000      5360.000000  \n",
       "mean      0.142612     0.120919      0.142612         0.120919  \n",
       "std       0.189619     0.129898      0.189618         0.129899  \n",
       "min      -0.098770     0.000007     -0.098757         0.000005  \n",
       "25%       0.002335     0.008202      0.002335         0.008200  \n",
       "50%       0.029747     0.067625      0.029747         0.067633  \n",
       "75%       0.265010     0.205856      0.265011         0.205854  \n",
       "max       0.757849     0.588841      0.757848         0.588852  "
      ]
     },
     "execution_count": 51,
     "metadata": {},
     "output_type": "execute_result"
    }
   ],
   "source": [
    "bilan['Err_exog_filter'] = np.abs(bilan['Sol_p_filter'] - bilan['TCH_sol'])\n",
    "bilan.describe()"
   ]
  },
  {
   "cell_type": "markdown",
   "metadata": {},
   "source": [
    "# Target FILTREE sans régresseur"
   ]
  },
  {
   "cell_type": "markdown",
   "metadata": {},
   "source": [
    "### SARIMAX"
   ]
  },
  {
   "cell_type": "code",
   "execution_count": 52,
   "metadata": {},
   "outputs": [],
   "source": [
    "model_reduit_noreg = sm.tsa.SARIMAX(df_train_filter['TCH_sol'].values,\n",
    "                       # exog = exog_train.values,\n",
    "                       # mle_regression = False, # Default = True\n",
    "                       # simple_differencing = True, #Default = False\n",
    "                       # state_regression = False,\n",
    "                       order = ordre,\n",
    "                       seasonal_order = saison)"
   ]
  },
  {
   "cell_type": "code",
   "execution_count": 53,
   "metadata": {},
   "outputs": [
    {
     "name": "stderr",
     "output_type": "stream",
     "text": [
      "C:\\Python\\Anaconda3\\lib\\site-packages\\statsmodels\\base\\model.py:566: ConvergenceWarning: Maximum Likelihood optimization failed to converge. Check mle_retvals\n",
      "  warnings.warn(\"Maximum Likelihood optimization failed to \"\n"
     ]
    }
   ],
   "source": [
    "result_reduit_noreg = model_reduit_noreg.fit(low_memory=True)"
   ]
  },
  {
   "cell_type": "code",
   "execution_count": 54,
   "metadata": {},
   "outputs": [
    {
     "data": {
      "text/html": [
       "<table class=\"simpletable\">\n",
       "<caption>SARIMAX Results</caption>\n",
       "<tr>\n",
       "  <th>Dep. Variable:</th>                 <td>y</td>               <th>  No. Observations:  </th>    <td>20448</td>   \n",
       "</tr>\n",
       "<tr>\n",
       "  <th>Model:</th>           <td>SARIMAX(3, 0, 0)x(2, 0, 0, 8)</td> <th>  Log Likelihood     </th>  <td>93074.757</td> \n",
       "</tr>\n",
       "<tr>\n",
       "  <th>Date:</th>                  <td>Wed, 04 May 2022</td>        <th>  AIC                </th> <td>-186137.513</td>\n",
       "</tr>\n",
       "<tr>\n",
       "  <th>Time:</th>                      <td>10:27:02</td>            <th>  BIC                </th> <td>-186089.959</td>\n",
       "</tr>\n",
       "<tr>\n",
       "  <th>Sample:</th>                        <td>0</td>               <th>  HQIC               </th> <td>-186121.972</td>\n",
       "</tr>\n",
       "<tr>\n",
       "  <th></th>                           <td> - 20448</td>            <th>                     </th>      <td> </td>     \n",
       "</tr>\n",
       "<tr>\n",
       "  <th>Covariance Type:</th>            <td>approx</td>             <th>                     </th>      <td> </td>     \n",
       "</tr>\n",
       "</table>\n",
       "<table class=\"simpletable\">\n",
       "<tr>\n",
       "      <td></td>        <th>coef</th>     <th>std err</th>      <th>z</th>      <th>P>|z|</th>  <th>[0.025</th>    <th>0.975]</th>  \n",
       "</tr>\n",
       "<tr>\n",
       "  <th>ar.L1</th>    <td>    2.3107</td> <td>    0.004</td> <td>  609.552</td> <td> 0.000</td> <td>    2.303</td> <td>    2.318</td>\n",
       "</tr>\n",
       "<tr>\n",
       "  <th>ar.L2</th>    <td>   -2.1941</td> <td>    0.007</td> <td> -337.360</td> <td> 0.000</td> <td>   -2.207</td> <td>   -2.181</td>\n",
       "</tr>\n",
       "<tr>\n",
       "  <th>ar.L3</th>    <td>    0.8597</td> <td>    0.004</td> <td>  232.427</td> <td> 0.000</td> <td>    0.852</td> <td>    0.867</td>\n",
       "</tr>\n",
       "<tr>\n",
       "  <th>ar.S.L8</th>  <td>    1.6128</td> <td>    0.006</td> <td>  289.392</td> <td> 0.000</td> <td>    1.602</td> <td>    1.624</td>\n",
       "</tr>\n",
       "<tr>\n",
       "  <th>ar.S.L16</th> <td>   -0.6188</td> <td>    0.006</td> <td> -111.267</td> <td> 0.000</td> <td>   -0.630</td> <td>   -0.608</td>\n",
       "</tr>\n",
       "<tr>\n",
       "  <th>sigma2</th>   <td> 6.444e-06</td> <td> 7.62e-08</td> <td>   84.590</td> <td> 0.000</td> <td> 6.29e-06</td> <td> 6.59e-06</td>\n",
       "</tr>\n",
       "</table>\n",
       "<table class=\"simpletable\">\n",
       "<tr>\n",
       "  <th>Ljung-Box (L1) (Q):</th>     <td>5039.02</td> <th>  Jarque-Bera (JB):  </th> <td>30946.38</td>\n",
       "</tr>\n",
       "<tr>\n",
       "  <th>Prob(Q):</th>                 <td>0.00</td>   <th>  Prob(JB):          </th>   <td>0.00</td>  \n",
       "</tr>\n",
       "<tr>\n",
       "  <th>Heteroskedasticity (H):</th>  <td>0.40</td>   <th>  Skew:              </th>   <td>0.07</td>  \n",
       "</tr>\n",
       "<tr>\n",
       "  <th>Prob(H) (two-sided):</th>     <td>0.00</td>   <th>  Kurtosis:          </th>   <td>9.03</td>  \n",
       "</tr>\n",
       "</table><br/><br/>Warnings:<br/>[1] Covariance matrix calculated using numerical (complex-step) differentiation."
      ],
      "text/plain": [
       "<class 'statsmodels.iolib.summary.Summary'>\n",
       "\"\"\"\n",
       "                                     SARIMAX Results                                     \n",
       "=========================================================================================\n",
       "Dep. Variable:                                 y   No. Observations:                20448\n",
       "Model:             SARIMAX(3, 0, 0)x(2, 0, 0, 8)   Log Likelihood               93074.757\n",
       "Date:                           Wed, 04 May 2022   AIC                        -186137.513\n",
       "Time:                                   10:27:02   BIC                        -186089.959\n",
       "Sample:                                        0   HQIC                       -186121.972\n",
       "                                         - 20448                                         \n",
       "Covariance Type:                          approx                                         \n",
       "==============================================================================\n",
       "                 coef    std err          z      P>|z|      [0.025      0.975]\n",
       "------------------------------------------------------------------------------\n",
       "ar.L1          2.3107      0.004    609.552      0.000       2.303       2.318\n",
       "ar.L2         -2.1941      0.007   -337.360      0.000      -2.207      -2.181\n",
       "ar.L3          0.8597      0.004    232.427      0.000       0.852       0.867\n",
       "ar.S.L8        1.6128      0.006    289.392      0.000       1.602       1.624\n",
       "ar.S.L16      -0.6188      0.006   -111.267      0.000      -0.630      -0.608\n",
       "sigma2      6.444e-06   7.62e-08     84.590      0.000    6.29e-06    6.59e-06\n",
       "===================================================================================\n",
       "Ljung-Box (L1) (Q):                5039.02   Jarque-Bera (JB):             30946.38\n",
       "Prob(Q):                              0.00   Prob(JB):                         0.00\n",
       "Heteroskedasticity (H):               0.40   Skew:                             0.07\n",
       "Prob(H) (two-sided):                  0.00   Kurtosis:                         9.03\n",
       "===================================================================================\n",
       "\n",
       "Warnings:\n",
       "[1] Covariance matrix calculated using numerical (complex-step) differentiation.\n",
       "\"\"\""
      ]
     },
     "execution_count": 54,
     "metadata": {},
     "output_type": "execute_result"
    }
   ],
   "source": [
    "result_reduit_noreg.summary()"
   ]
  },
  {
   "cell_type": "code",
   "execution_count": 55,
   "metadata": {},
   "outputs": [],
   "source": [
    "predict_reduit_noreg = result_reduit_noreg.predict(start = 1 ,\n",
    "                               end = fenetre,\n",
    "                               # exog = exog_test.values\n",
    "                            )"
   ]
  },
  {
   "cell_type": "code",
   "execution_count": 56,
   "metadata": {},
   "outputs": [],
   "source": [
    "predict_reduit_noreg = pd.DataFrame(predict_reduit_noreg, index = indice, columns = ['Sol_p_reduit_noreg'])"
   ]
  },
  {
   "cell_type": "code",
   "execution_count": 57,
   "metadata": {
    "scrolled": true
   },
   "outputs": [],
   "source": [
    "bilan = pd.concat([bilan, predict_reduit_noreg], axis = 1)"
   ]
  },
  {
   "cell_type": "markdown",
   "metadata": {},
   "source": [
    "### Erreur absolue"
   ]
  },
  {
   "cell_type": "code",
   "execution_count": 58,
   "metadata": {},
   "outputs": [
    {
     "data": {
      "text/html": [
       "<div>\n",
       "<style scoped>\n",
       "    .dataframe tbody tr th:only-of-type {\n",
       "        vertical-align: middle;\n",
       "    }\n",
       "\n",
       "    .dataframe tbody tr th {\n",
       "        vertical-align: top;\n",
       "    }\n",
       "\n",
       "    .dataframe thead th {\n",
       "        text-align: right;\n",
       "    }\n",
       "</style>\n",
       "<table border=\"1\" class=\"dataframe\">\n",
       "  <thead>\n",
       "    <tr style=\"text-align: right;\">\n",
       "      <th></th>\n",
       "      <th>Solaire</th>\n",
       "      <th>Capa_sol</th>\n",
       "      <th>TCH_sol</th>\n",
       "      <th>Sol_p_sinus</th>\n",
       "      <th>Err_sinus</th>\n",
       "      <th>Sol_p_exog</th>\n",
       "      <th>Err_exog</th>\n",
       "      <th>Sol_p_filter</th>\n",
       "      <th>Err_exog_filter</th>\n",
       "      <th>Sol_p_reduit_noreg</th>\n",
       "      <th>Err_filter_noreg</th>\n",
       "    </tr>\n",
       "  </thead>\n",
       "  <tbody>\n",
       "    <tr>\n",
       "      <th>count</th>\n",
       "      <td>5360.000000</td>\n",
       "      <td>5360.000000</td>\n",
       "      <td>5360.000000</td>\n",
       "      <td>5360.000000</td>\n",
       "      <td>5.360000e+03</td>\n",
       "      <td>5360.000000</td>\n",
       "      <td>5360.000000</td>\n",
       "      <td>5360.000000</td>\n",
       "      <td>5360.000000</td>\n",
       "      <td>5360.000000</td>\n",
       "      <td>5360.000000</td>\n",
       "    </tr>\n",
       "    <tr>\n",
       "      <th>mean</th>\n",
       "      <td>1571.800218</td>\n",
       "      <td>10519.437313</td>\n",
       "      <td>0.148462</td>\n",
       "      <td>0.140935</td>\n",
       "      <td>1.210351e-01</td>\n",
       "      <td>0.142612</td>\n",
       "      <td>0.120919</td>\n",
       "      <td>0.142612</td>\n",
       "      <td>0.120919</td>\n",
       "      <td>0.143169</td>\n",
       "      <td>0.129572</td>\n",
       "    </tr>\n",
       "    <tr>\n",
       "      <th>std</th>\n",
       "      <td>2114.541475</td>\n",
       "      <td>893.727751</td>\n",
       "      <td>0.198264</td>\n",
       "      <td>0.189979</td>\n",
       "      <td>1.306124e-01</td>\n",
       "      <td>0.189619</td>\n",
       "      <td>0.129898</td>\n",
       "      <td>0.189618</td>\n",
       "      <td>0.129899</td>\n",
       "      <td>0.191487</td>\n",
       "      <td>0.124259</td>\n",
       "    </tr>\n",
       "    <tr>\n",
       "      <th>min</th>\n",
       "      <td>0.000000</td>\n",
       "      <td>9414.000000</td>\n",
       "      <td>0.000000</td>\n",
       "      <td>-0.101192</td>\n",
       "      <td>1.668555e-07</td>\n",
       "      <td>-0.098770</td>\n",
       "      <td>0.000007</td>\n",
       "      <td>-0.098757</td>\n",
       "      <td>0.000005</td>\n",
       "      <td>-0.192808</td>\n",
       "      <td>0.000027</td>\n",
       "    </tr>\n",
       "    <tr>\n",
       "      <th>25%</th>\n",
       "      <td>1.000000</td>\n",
       "      <td>9791.000000</td>\n",
       "      <td>0.000098</td>\n",
       "      <td>0.000557</td>\n",
       "      <td>7.723424e-03</td>\n",
       "      <td>0.002335</td>\n",
       "      <td>0.008202</td>\n",
       "      <td>0.002335</td>\n",
       "      <td>0.008200</td>\n",
       "      <td>0.000106</td>\n",
       "      <td>0.025872</td>\n",
       "    </tr>\n",
       "    <tr>\n",
       "      <th>50%</th>\n",
       "      <td>255.083333</td>\n",
       "      <td>10167.000000</td>\n",
       "      <td>0.024076</td>\n",
       "      <td>0.027594</td>\n",
       "      <td>6.774353e-02</td>\n",
       "      <td>0.029747</td>\n",
       "      <td>0.067625</td>\n",
       "      <td>0.029747</td>\n",
       "      <td>0.067633</td>\n",
       "      <td>0.047412</td>\n",
       "      <td>0.078840</td>\n",
       "    </tr>\n",
       "    <tr>\n",
       "      <th>75%</th>\n",
       "      <td>2842.416667</td>\n",
       "      <td>11241.000000</td>\n",
       "      <td>0.274220</td>\n",
       "      <td>0.263836</td>\n",
       "      <td>2.072380e-01</td>\n",
       "      <td>0.265010</td>\n",
       "      <td>0.205856</td>\n",
       "      <td>0.265011</td>\n",
       "      <td>0.205854</td>\n",
       "      <td>0.276568</td>\n",
       "      <td>0.213246</td>\n",
       "    </tr>\n",
       "    <tr>\n",
       "      <th>max</th>\n",
       "      <td>8662.666667</td>\n",
       "      <td>12469.000000</td>\n",
       "      <td>0.755672</td>\n",
       "      <td>0.756843</td>\n",
       "      <td>5.921407e-01</td>\n",
       "      <td>0.757849</td>\n",
       "      <td>0.588841</td>\n",
       "      <td>0.757848</td>\n",
       "      <td>0.588852</td>\n",
       "      <td>0.730137</td>\n",
       "      <td>0.575517</td>\n",
       "    </tr>\n",
       "  </tbody>\n",
       "</table>\n",
       "</div>"
      ],
      "text/plain": [
       "           Solaire      Capa_sol      TCH_sol  Sol_p_sinus     Err_sinus  \\\n",
       "count  5360.000000   5360.000000  5360.000000  5360.000000  5.360000e+03   \n",
       "mean   1571.800218  10519.437313     0.148462     0.140935  1.210351e-01   \n",
       "std    2114.541475    893.727751     0.198264     0.189979  1.306124e-01   \n",
       "min       0.000000   9414.000000     0.000000    -0.101192  1.668555e-07   \n",
       "25%       1.000000   9791.000000     0.000098     0.000557  7.723424e-03   \n",
       "50%     255.083333  10167.000000     0.024076     0.027594  6.774353e-02   \n",
       "75%    2842.416667  11241.000000     0.274220     0.263836  2.072380e-01   \n",
       "max    8662.666667  12469.000000     0.755672     0.756843  5.921407e-01   \n",
       "\n",
       "        Sol_p_exog     Err_exog  Sol_p_filter  Err_exog_filter  \\\n",
       "count  5360.000000  5360.000000   5360.000000      5360.000000   \n",
       "mean      0.142612     0.120919      0.142612         0.120919   \n",
       "std       0.189619     0.129898      0.189618         0.129899   \n",
       "min      -0.098770     0.000007     -0.098757         0.000005   \n",
       "25%       0.002335     0.008202      0.002335         0.008200   \n",
       "50%       0.029747     0.067625      0.029747         0.067633   \n",
       "75%       0.265010     0.205856      0.265011         0.205854   \n",
       "max       0.757849     0.588841      0.757848         0.588852   \n",
       "\n",
       "       Sol_p_reduit_noreg  Err_filter_noreg  \n",
       "count         5360.000000       5360.000000  \n",
       "mean             0.143169          0.129572  \n",
       "std              0.191487          0.124259  \n",
       "min             -0.192808          0.000027  \n",
       "25%              0.000106          0.025872  \n",
       "50%              0.047412          0.078840  \n",
       "75%              0.276568          0.213246  \n",
       "max              0.730137          0.575517  "
      ]
     },
     "execution_count": 58,
     "metadata": {},
     "output_type": "execute_result"
    }
   ],
   "source": [
    "bilan['Err_filter_noreg'] = np.abs(bilan['Sol_p_reduit_noreg'] - bilan['TCH_sol'])\n",
    "bilan.describe()"
   ]
  },
  {
   "cell_type": "markdown",
   "metadata": {},
   "source": [
    "# Target FILTREE avec Régresseurs exogènes : données métier FILTREES"
   ]
  },
  {
   "cell_type": "code",
   "execution_count": 59,
   "metadata": {},
   "outputs": [
    {
     "data": {
      "text/html": [
       "<div>\n",
       "<style scoped>\n",
       "    .dataframe tbody tr th:only-of-type {\n",
       "        vertical-align: middle;\n",
       "    }\n",
       "\n",
       "    .dataframe tbody tr th {\n",
       "        vertical-align: top;\n",
       "    }\n",
       "\n",
       "    .dataframe thead th {\n",
       "        text-align: right;\n",
       "    }\n",
       "</style>\n",
       "<table border=\"1\" class=\"dataframe\">\n",
       "  <thead>\n",
       "    <tr style=\"text-align: right;\">\n",
       "      <th></th>\n",
       "      <th>Dates</th>\n",
       "      <th>Soleil</th>\n",
       "    </tr>\n",
       "  </thead>\n",
       "  <tbody>\n",
       "    <tr>\n",
       "      <th>0</th>\n",
       "      <td>2013-01-01 00:00:00</td>\n",
       "      <td>8.05</td>\n",
       "    </tr>\n",
       "  </tbody>\n",
       "</table>\n",
       "</div>"
      ],
      "text/plain": [
       "                 Dates  Soleil\n",
       "0  2013-01-01 00:00:00    8.05"
      ]
     },
     "execution_count": 59,
     "metadata": {},
     "output_type": "execute_result"
    }
   ],
   "source": [
    "exog = pd.read_csv('./exog/exog_3H_FR_filtered.csv',# sep = ';',\n",
    "                   usecols = ['Dates', 'Soleil'])\n",
    "exog.head(1)"
   ]
  },
  {
   "cell_type": "code",
   "execution_count": 60,
   "metadata": {},
   "outputs": [],
   "source": [
    "exog['Dates'] = pd.to_datetime(exog['Dates'], yearfirst = True)\n",
    "exog.set_index('Dates', inplace = True)"
   ]
  },
  {
   "cell_type": "code",
   "execution_count": 61,
   "metadata": {},
   "outputs": [],
   "source": [
    "# Split en jeu d'entrainement et jeu de test\n",
    "exog_train = exog[(exog.index >= debut) & (exog.index < fin)]\n",
    "exog_test = exog[exog.index >= fin]"
   ]
  },
  {
   "cell_type": "markdown",
   "metadata": {},
   "source": [
    "### SARIMAX"
   ]
  },
  {
   "cell_type": "code",
   "execution_count": 62,
   "metadata": {},
   "outputs": [],
   "source": [
    "model_reduit = sm.tsa.SARIMAX(df_train_filter['TCH_sol'].values,\n",
    "                       exog = exog_train.values,\n",
    "                       # mle_regression = False, # Default = True\n",
    "                       # simple_differencing = True, #Default = False\n",
    "                       # state_regression = False,\n",
    "                       order = ordre,\n",
    "                       seasonal_order = saison)"
   ]
  },
  {
   "cell_type": "code",
   "execution_count": 63,
   "metadata": {},
   "outputs": [
    {
     "name": "stderr",
     "output_type": "stream",
     "text": [
      "C:\\Python\\Anaconda3\\lib\\site-packages\\statsmodels\\base\\model.py:566: ConvergenceWarning: Maximum Likelihood optimization failed to converge. Check mle_retvals\n",
      "  warnings.warn(\"Maximum Likelihood optimization failed to \"\n"
     ]
    }
   ],
   "source": [
    "result_reduit = model_reduit.fit(low_memory=True)"
   ]
  },
  {
   "cell_type": "code",
   "execution_count": 64,
   "metadata": {},
   "outputs": [
    {
     "data": {
      "text/html": [
       "<table class=\"simpletable\">\n",
       "<caption>SARIMAX Results</caption>\n",
       "<tr>\n",
       "  <th>Dep. Variable:</th>                 <td>y</td>               <th>  No. Observations:  </th>    <td>20448</td>   \n",
       "</tr>\n",
       "<tr>\n",
       "  <th>Model:</th>           <td>SARIMAX(3, 0, 0)x(2, 0, 0, 8)</td> <th>  Log Likelihood     </th>  <td>90950.158</td> \n",
       "</tr>\n",
       "<tr>\n",
       "  <th>Date:</th>                  <td>Wed, 04 May 2022</td>        <th>  AIC                </th> <td>-181886.316</td>\n",
       "</tr>\n",
       "<tr>\n",
       "  <th>Time:</th>                      <td>10:29:08</td>            <th>  BIC                </th> <td>-181830.837</td>\n",
       "</tr>\n",
       "<tr>\n",
       "  <th>Sample:</th>                        <td>0</td>               <th>  HQIC               </th> <td>-181868.184</td>\n",
       "</tr>\n",
       "<tr>\n",
       "  <th></th>                           <td> - 20448</td>            <th>                     </th>      <td> </td>     \n",
       "</tr>\n",
       "<tr>\n",
       "  <th>Covariance Type:</th>            <td>approx</td>             <th>                     </th>      <td> </td>     \n",
       "</tr>\n",
       "</table>\n",
       "<table class=\"simpletable\">\n",
       "<tr>\n",
       "      <td></td>        <th>coef</th>     <th>std err</th>      <th>z</th>      <th>P>|z|</th>  <th>[0.025</th>    <th>0.975]</th>  \n",
       "</tr>\n",
       "<tr>\n",
       "  <th>x1</th>       <td>    0.0005</td> <td>    0.001</td> <td>    0.396</td> <td> 0.692</td> <td>   -0.002</td> <td>    0.003</td>\n",
       "</tr>\n",
       "<tr>\n",
       "  <th>ar.L1</th>    <td>    2.2664</td> <td>    0.005</td> <td>  477.225</td> <td> 0.000</td> <td>    2.257</td> <td>    2.276</td>\n",
       "</tr>\n",
       "<tr>\n",
       "  <th>ar.L2</th>    <td>   -2.1088</td> <td>    0.008</td> <td> -258.534</td> <td> 0.000</td> <td>   -2.125</td> <td>   -2.093</td>\n",
       "</tr>\n",
       "<tr>\n",
       "  <th>ar.L3</th>    <td>    0.8235</td> <td>    0.004</td> <td>  185.941</td> <td> 0.000</td> <td>    0.815</td> <td>    0.832</td>\n",
       "</tr>\n",
       "<tr>\n",
       "  <th>ar.S.L8</th>  <td>    1.6816</td> <td>    0.006</td> <td>  269.999</td> <td> 0.000</td> <td>    1.669</td> <td>    1.694</td>\n",
       "</tr>\n",
       "<tr>\n",
       "  <th>ar.S.L16</th> <td>   -0.6915</td> <td>    0.006</td> <td> -111.291</td> <td> 0.000</td> <td>   -0.704</td> <td>   -0.679</td>\n",
       "</tr>\n",
       "<tr>\n",
       "  <th>sigma2</th>   <td> 7.967e-06</td> <td> 1.41e-07</td> <td>   56.514</td> <td> 0.000</td> <td> 7.69e-06</td> <td> 8.24e-06</td>\n",
       "</tr>\n",
       "</table>\n",
       "<table class=\"simpletable\">\n",
       "<tr>\n",
       "  <th>Ljung-Box (L1) (Q):</th>     <td>3428.46</td> <th>  Jarque-Bera (JB):  </th> <td>29946.89</td>\n",
       "</tr>\n",
       "<tr>\n",
       "  <th>Prob(Q):</th>                 <td>0.00</td>   <th>  Prob(JB):          </th>   <td>0.00</td>  \n",
       "</tr>\n",
       "<tr>\n",
       "  <th>Heteroskedasticity (H):</th>  <td>0.45</td>   <th>  Skew:              </th>   <td>0.14</td>  \n",
       "</tr>\n",
       "<tr>\n",
       "  <th>Prob(H) (two-sided):</th>     <td>0.00</td>   <th>  Kurtosis:          </th>   <td>8.92</td>  \n",
       "</tr>\n",
       "</table><br/><br/>Warnings:<br/>[1] Covariance matrix calculated using numerical (complex-step) differentiation."
      ],
      "text/plain": [
       "<class 'statsmodels.iolib.summary.Summary'>\n",
       "\"\"\"\n",
       "                                     SARIMAX Results                                     \n",
       "=========================================================================================\n",
       "Dep. Variable:                                 y   No. Observations:                20448\n",
       "Model:             SARIMAX(3, 0, 0)x(2, 0, 0, 8)   Log Likelihood               90950.158\n",
       "Date:                           Wed, 04 May 2022   AIC                        -181886.316\n",
       "Time:                                   10:29:08   BIC                        -181830.837\n",
       "Sample:                                        0   HQIC                       -181868.184\n",
       "                                         - 20448                                         \n",
       "Covariance Type:                          approx                                         \n",
       "==============================================================================\n",
       "                 coef    std err          z      P>|z|      [0.025      0.975]\n",
       "------------------------------------------------------------------------------\n",
       "x1             0.0005      0.001      0.396      0.692      -0.002       0.003\n",
       "ar.L1          2.2664      0.005    477.225      0.000       2.257       2.276\n",
       "ar.L2         -2.1088      0.008   -258.534      0.000      -2.125      -2.093\n",
       "ar.L3          0.8235      0.004    185.941      0.000       0.815       0.832\n",
       "ar.S.L8        1.6816      0.006    269.999      0.000       1.669       1.694\n",
       "ar.S.L16      -0.6915      0.006   -111.291      0.000      -0.704      -0.679\n",
       "sigma2      7.967e-06   1.41e-07     56.514      0.000    7.69e-06    8.24e-06\n",
       "===================================================================================\n",
       "Ljung-Box (L1) (Q):                3428.46   Jarque-Bera (JB):             29946.89\n",
       "Prob(Q):                              0.00   Prob(JB):                         0.00\n",
       "Heteroskedasticity (H):               0.45   Skew:                             0.14\n",
       "Prob(H) (two-sided):                  0.00   Kurtosis:                         8.92\n",
       "===================================================================================\n",
       "\n",
       "Warnings:\n",
       "[1] Covariance matrix calculated using numerical (complex-step) differentiation.\n",
       "\"\"\""
      ]
     },
     "execution_count": 64,
     "metadata": {},
     "output_type": "execute_result"
    }
   ],
   "source": [
    "result_reduit.summary()"
   ]
  },
  {
   "cell_type": "code",
   "execution_count": 65,
   "metadata": {},
   "outputs": [],
   "source": [
    "predict_reduit = result_reduit.predict(start = 1 ,\n",
    "                               end = fenetre,\n",
    "                               exog = exog_test.values)"
   ]
  },
  {
   "cell_type": "code",
   "execution_count": 66,
   "metadata": {},
   "outputs": [],
   "source": [
    "predict_reduit = pd.DataFrame(predict_reduit, index = indice, columns = ['Sol_p_reduit'])"
   ]
  },
  {
   "cell_type": "code",
   "execution_count": 67,
   "metadata": {
    "scrolled": true
   },
   "outputs": [],
   "source": [
    "bilan = pd.concat([bilan, predict_reduit], axis = 1)"
   ]
  },
  {
   "cell_type": "markdown",
   "metadata": {},
   "source": [
    "### Erreur absolue"
   ]
  },
  {
   "cell_type": "code",
   "execution_count": 68,
   "metadata": {},
   "outputs": [
    {
     "data": {
      "text/html": [
       "<div>\n",
       "<style scoped>\n",
       "    .dataframe tbody tr th:only-of-type {\n",
       "        vertical-align: middle;\n",
       "    }\n",
       "\n",
       "    .dataframe tbody tr th {\n",
       "        vertical-align: top;\n",
       "    }\n",
       "\n",
       "    .dataframe thead th {\n",
       "        text-align: right;\n",
       "    }\n",
       "</style>\n",
       "<table border=\"1\" class=\"dataframe\">\n",
       "  <thead>\n",
       "    <tr style=\"text-align: right;\">\n",
       "      <th></th>\n",
       "      <th>Solaire</th>\n",
       "      <th>Capa_sol</th>\n",
       "      <th>TCH_sol</th>\n",
       "      <th>Sol_p_sinus</th>\n",
       "      <th>Err_sinus</th>\n",
       "      <th>Sol_p_exog</th>\n",
       "      <th>Err_exog</th>\n",
       "      <th>Sol_p_filter</th>\n",
       "      <th>Err_exog_filter</th>\n",
       "      <th>Sol_p_reduit_noreg</th>\n",
       "      <th>Err_filter_noreg</th>\n",
       "      <th>Sol_p_reduit</th>\n",
       "      <th>Err_filter_exog_filter</th>\n",
       "    </tr>\n",
       "  </thead>\n",
       "  <tbody>\n",
       "    <tr>\n",
       "      <th>count</th>\n",
       "      <td>5360.000000</td>\n",
       "      <td>5360.000000</td>\n",
       "      <td>5360.000000</td>\n",
       "      <td>5360.000000</td>\n",
       "      <td>5.360000e+03</td>\n",
       "      <td>5360.000000</td>\n",
       "      <td>5360.000000</td>\n",
       "      <td>5360.000000</td>\n",
       "      <td>5360.000000</td>\n",
       "      <td>5360.000000</td>\n",
       "      <td>5360.000000</td>\n",
       "      <td>5360.000000</td>\n",
       "      <td>5360.000000</td>\n",
       "    </tr>\n",
       "    <tr>\n",
       "      <th>mean</th>\n",
       "      <td>1571.800218</td>\n",
       "      <td>10519.437313</td>\n",
       "      <td>0.148462</td>\n",
       "      <td>0.140935</td>\n",
       "      <td>1.210351e-01</td>\n",
       "      <td>0.142612</td>\n",
       "      <td>0.120919</td>\n",
       "      <td>0.142612</td>\n",
       "      <td>0.120919</td>\n",
       "      <td>0.143169</td>\n",
       "      <td>0.129572</td>\n",
       "      <td>0.143161</td>\n",
       "      <td>0.129544</td>\n",
       "    </tr>\n",
       "    <tr>\n",
       "      <th>std</th>\n",
       "      <td>2114.541475</td>\n",
       "      <td>893.727751</td>\n",
       "      <td>0.198264</td>\n",
       "      <td>0.189979</td>\n",
       "      <td>1.306124e-01</td>\n",
       "      <td>0.189619</td>\n",
       "      <td>0.129898</td>\n",
       "      <td>0.189618</td>\n",
       "      <td>0.129899</td>\n",
       "      <td>0.191487</td>\n",
       "      <td>0.124259</td>\n",
       "      <td>0.191592</td>\n",
       "      <td>0.124128</td>\n",
       "    </tr>\n",
       "    <tr>\n",
       "      <th>min</th>\n",
       "      <td>0.000000</td>\n",
       "      <td>9414.000000</td>\n",
       "      <td>0.000000</td>\n",
       "      <td>-0.101192</td>\n",
       "      <td>1.668555e-07</td>\n",
       "      <td>-0.098770</td>\n",
       "      <td>0.000007</td>\n",
       "      <td>-0.098757</td>\n",
       "      <td>0.000005</td>\n",
       "      <td>-0.192808</td>\n",
       "      <td>0.000027</td>\n",
       "      <td>-0.194508</td>\n",
       "      <td>0.000022</td>\n",
       "    </tr>\n",
       "    <tr>\n",
       "      <th>25%</th>\n",
       "      <td>1.000000</td>\n",
       "      <td>9791.000000</td>\n",
       "      <td>0.000098</td>\n",
       "      <td>0.000557</td>\n",
       "      <td>7.723424e-03</td>\n",
       "      <td>0.002335</td>\n",
       "      <td>0.008202</td>\n",
       "      <td>0.002335</td>\n",
       "      <td>0.008200</td>\n",
       "      <td>0.000106</td>\n",
       "      <td>0.025872</td>\n",
       "      <td>-0.000064</td>\n",
       "      <td>0.026002</td>\n",
       "    </tr>\n",
       "    <tr>\n",
       "      <th>50%</th>\n",
       "      <td>255.083333</td>\n",
       "      <td>10167.000000</td>\n",
       "      <td>0.024076</td>\n",
       "      <td>0.027594</td>\n",
       "      <td>6.774353e-02</td>\n",
       "      <td>0.029747</td>\n",
       "      <td>0.067625</td>\n",
       "      <td>0.029747</td>\n",
       "      <td>0.067633</td>\n",
       "      <td>0.047412</td>\n",
       "      <td>0.078840</td>\n",
       "      <td>0.047250</td>\n",
       "      <td>0.078850</td>\n",
       "    </tr>\n",
       "    <tr>\n",
       "      <th>75%</th>\n",
       "      <td>2842.416667</td>\n",
       "      <td>11241.000000</td>\n",
       "      <td>0.274220</td>\n",
       "      <td>0.263836</td>\n",
       "      <td>2.072380e-01</td>\n",
       "      <td>0.265010</td>\n",
       "      <td>0.205856</td>\n",
       "      <td>0.265011</td>\n",
       "      <td>0.205854</td>\n",
       "      <td>0.276568</td>\n",
       "      <td>0.213246</td>\n",
       "      <td>0.275916</td>\n",
       "      <td>0.213405</td>\n",
       "    </tr>\n",
       "    <tr>\n",
       "      <th>max</th>\n",
       "      <td>8662.666667</td>\n",
       "      <td>12469.000000</td>\n",
       "      <td>0.755672</td>\n",
       "      <td>0.756843</td>\n",
       "      <td>5.921407e-01</td>\n",
       "      <td>0.757849</td>\n",
       "      <td>0.588841</td>\n",
       "      <td>0.757848</td>\n",
       "      <td>0.588852</td>\n",
       "      <td>0.730137</td>\n",
       "      <td>0.575517</td>\n",
       "      <td>0.731141</td>\n",
       "      <td>0.576829</td>\n",
       "    </tr>\n",
       "  </tbody>\n",
       "</table>\n",
       "</div>"
      ],
      "text/plain": [
       "           Solaire      Capa_sol      TCH_sol  Sol_p_sinus     Err_sinus  \\\n",
       "count  5360.000000   5360.000000  5360.000000  5360.000000  5.360000e+03   \n",
       "mean   1571.800218  10519.437313     0.148462     0.140935  1.210351e-01   \n",
       "std    2114.541475    893.727751     0.198264     0.189979  1.306124e-01   \n",
       "min       0.000000   9414.000000     0.000000    -0.101192  1.668555e-07   \n",
       "25%       1.000000   9791.000000     0.000098     0.000557  7.723424e-03   \n",
       "50%     255.083333  10167.000000     0.024076     0.027594  6.774353e-02   \n",
       "75%    2842.416667  11241.000000     0.274220     0.263836  2.072380e-01   \n",
       "max    8662.666667  12469.000000     0.755672     0.756843  5.921407e-01   \n",
       "\n",
       "        Sol_p_exog     Err_exog  Sol_p_filter  Err_exog_filter  \\\n",
       "count  5360.000000  5360.000000   5360.000000      5360.000000   \n",
       "mean      0.142612     0.120919      0.142612         0.120919   \n",
       "std       0.189619     0.129898      0.189618         0.129899   \n",
       "min      -0.098770     0.000007     -0.098757         0.000005   \n",
       "25%       0.002335     0.008202      0.002335         0.008200   \n",
       "50%       0.029747     0.067625      0.029747         0.067633   \n",
       "75%       0.265010     0.205856      0.265011         0.205854   \n",
       "max       0.757849     0.588841      0.757848         0.588852   \n",
       "\n",
       "       Sol_p_reduit_noreg  Err_filter_noreg  Sol_p_reduit  \\\n",
       "count         5360.000000       5360.000000   5360.000000   \n",
       "mean             0.143169          0.129572      0.143161   \n",
       "std              0.191487          0.124259      0.191592   \n",
       "min             -0.192808          0.000027     -0.194508   \n",
       "25%              0.000106          0.025872     -0.000064   \n",
       "50%              0.047412          0.078840      0.047250   \n",
       "75%              0.276568          0.213246      0.275916   \n",
       "max              0.730137          0.575517      0.731141   \n",
       "\n",
       "       Err_filter_exog_filter  \n",
       "count             5360.000000  \n",
       "mean                 0.129544  \n",
       "std                  0.124128  \n",
       "min                  0.000022  \n",
       "25%                  0.026002  \n",
       "50%                  0.078850  \n",
       "75%                  0.213405  \n",
       "max                  0.576829  "
      ]
     },
     "execution_count": 68,
     "metadata": {},
     "output_type": "execute_result"
    }
   ],
   "source": [
    "bilan['Err_filter_exog_filter'] = np.abs(bilan['Sol_p_reduit'] - bilan['TCH_sol'])\n",
    "bilan.describe()"
   ]
  },
  {
   "cell_type": "markdown",
   "metadata": {},
   "source": [
    "# Régression linéaire avec Régresseurs exogènes : données métier FILTREES "
   ]
  },
  {
   "cell_type": "code",
   "execution_count": 69,
   "metadata": {},
   "outputs": [
    {
     "data": {
      "text/html": [
       "<div>\n",
       "<style scoped>\n",
       "    .dataframe tbody tr th:only-of-type {\n",
       "        vertical-align: middle;\n",
       "    }\n",
       "\n",
       "    .dataframe tbody tr th {\n",
       "        vertical-align: top;\n",
       "    }\n",
       "\n",
       "    .dataframe thead th {\n",
       "        text-align: right;\n",
       "    }\n",
       "</style>\n",
       "<table border=\"1\" class=\"dataframe\">\n",
       "  <thead>\n",
       "    <tr style=\"text-align: right;\">\n",
       "      <th></th>\n",
       "      <th>Dates</th>\n",
       "      <th>Soleil</th>\n",
       "    </tr>\n",
       "  </thead>\n",
       "  <tbody>\n",
       "    <tr>\n",
       "      <th>0</th>\n",
       "      <td>2013-01-01 00:00:00</td>\n",
       "      <td>8.05</td>\n",
       "    </tr>\n",
       "  </tbody>\n",
       "</table>\n",
       "</div>"
      ],
      "text/plain": [
       "                 Dates  Soleil\n",
       "0  2013-01-01 00:00:00    8.05"
      ]
     },
     "execution_count": 69,
     "metadata": {},
     "output_type": "execute_result"
    }
   ],
   "source": [
    "exog = pd.read_csv('./exog/exog_3H_FR_filtered.csv',# sep = ';',\n",
    "                   usecols = ['Dates', 'Soleil'])\n",
    "exog.head(1)"
   ]
  },
  {
   "cell_type": "code",
   "execution_count": 70,
   "metadata": {},
   "outputs": [],
   "source": [
    "exog['Dates'] = pd.to_datetime(exog['Dates'], yearfirst = True)\n",
    "exog.set_index('Dates', inplace = True)"
   ]
  },
  {
   "cell_type": "code",
   "execution_count": 71,
   "metadata": {},
   "outputs": [],
   "source": [
    "# Split en jeu d'entrainement et jeu de test\n",
    "exog_train = exog[(exog.index >= debut) & (exog.index < fin)]\n",
    "exog_test = exog[exog.index >= fin]"
   ]
  },
  {
   "cell_type": "code",
   "execution_count": 72,
   "metadata": {},
   "outputs": [],
   "source": [
    "LinReg = LinearRegression()\n",
    "LinReg.fit(exog_train, df_train['TCH_sol'])\n",
    "predict_lr = LinReg.predict(exog_test)"
   ]
  },
  {
   "cell_type": "code",
   "execution_count": 73,
   "metadata": {},
   "outputs": [],
   "source": [
    "predict_lr = pd.DataFrame(predict_lr, index = indice, columns = ['Sol_p_LinReg'])"
   ]
  },
  {
   "cell_type": "code",
   "execution_count": 74,
   "metadata": {},
   "outputs": [],
   "source": [
    "bilan = pd.concat([bilan, predict_lr], axis = 1)"
   ]
  },
  {
   "cell_type": "markdown",
   "metadata": {},
   "source": [
    "### Erreur absolue"
   ]
  },
  {
   "cell_type": "code",
   "execution_count": 75,
   "metadata": {},
   "outputs": [
    {
     "data": {
      "text/html": [
       "<div>\n",
       "<style scoped>\n",
       "    .dataframe tbody tr th:only-of-type {\n",
       "        vertical-align: middle;\n",
       "    }\n",
       "\n",
       "    .dataframe tbody tr th {\n",
       "        vertical-align: top;\n",
       "    }\n",
       "\n",
       "    .dataframe thead th {\n",
       "        text-align: right;\n",
       "    }\n",
       "</style>\n",
       "<table border=\"1\" class=\"dataframe\">\n",
       "  <thead>\n",
       "    <tr style=\"text-align: right;\">\n",
       "      <th></th>\n",
       "      <th>Solaire</th>\n",
       "      <th>Capa_sol</th>\n",
       "      <th>TCH_sol</th>\n",
       "      <th>Sol_p_sinus</th>\n",
       "      <th>Err_sinus</th>\n",
       "      <th>Sol_p_exog</th>\n",
       "      <th>Err_exog</th>\n",
       "      <th>Sol_p_filter</th>\n",
       "      <th>Err_exog_filter</th>\n",
       "      <th>Sol_p_reduit_noreg</th>\n",
       "      <th>Err_filter_noreg</th>\n",
       "      <th>Sol_p_reduit</th>\n",
       "      <th>Err_filter_exog_filter</th>\n",
       "      <th>Sol_p_LinReg</th>\n",
       "      <th>Err_LinReg</th>\n",
       "    </tr>\n",
       "  </thead>\n",
       "  <tbody>\n",
       "    <tr>\n",
       "      <th>count</th>\n",
       "      <td>5360.000000</td>\n",
       "      <td>5360.000000</td>\n",
       "      <td>5360.000000</td>\n",
       "      <td>5360.000000</td>\n",
       "      <td>5.360000e+03</td>\n",
       "      <td>5360.000000</td>\n",
       "      <td>5360.000000</td>\n",
       "      <td>5360.000000</td>\n",
       "      <td>5360.000000</td>\n",
       "      <td>5360.000000</td>\n",
       "      <td>5360.000000</td>\n",
       "      <td>5360.000000</td>\n",
       "      <td>5360.000000</td>\n",
       "      <td>5360.000000</td>\n",
       "      <td>5360.000000</td>\n",
       "    </tr>\n",
       "    <tr>\n",
       "      <th>mean</th>\n",
       "      <td>1571.800218</td>\n",
       "      <td>10519.437313</td>\n",
       "      <td>0.148462</td>\n",
       "      <td>0.140935</td>\n",
       "      <td>1.210351e-01</td>\n",
       "      <td>0.142612</td>\n",
       "      <td>0.120919</td>\n",
       "      <td>0.142612</td>\n",
       "      <td>0.120919</td>\n",
       "      <td>0.143169</td>\n",
       "      <td>0.129572</td>\n",
       "      <td>0.143161</td>\n",
       "      <td>0.129544</td>\n",
       "      <td>0.152264</td>\n",
       "      <td>0.159971</td>\n",
       "    </tr>\n",
       "    <tr>\n",
       "      <th>std</th>\n",
       "      <td>2114.541475</td>\n",
       "      <td>893.727751</td>\n",
       "      <td>0.198264</td>\n",
       "      <td>0.189979</td>\n",
       "      <td>1.306124e-01</td>\n",
       "      <td>0.189619</td>\n",
       "      <td>0.129898</td>\n",
       "      <td>0.189618</td>\n",
       "      <td>0.129899</td>\n",
       "      <td>0.191487</td>\n",
       "      <td>0.124259</td>\n",
       "      <td>0.191592</td>\n",
       "      <td>0.124128</td>\n",
       "      <td>0.055982</td>\n",
       "      <td>0.103948</td>\n",
       "    </tr>\n",
       "    <tr>\n",
       "      <th>min</th>\n",
       "      <td>0.000000</td>\n",
       "      <td>9414.000000</td>\n",
       "      <td>0.000000</td>\n",
       "      <td>-0.101192</td>\n",
       "      <td>1.668555e-07</td>\n",
       "      <td>-0.098770</td>\n",
       "      <td>0.000007</td>\n",
       "      <td>-0.098757</td>\n",
       "      <td>0.000005</td>\n",
       "      <td>-0.192808</td>\n",
       "      <td>0.000027</td>\n",
       "      <td>-0.194508</td>\n",
       "      <td>0.000022</td>\n",
       "      <td>0.058997</td>\n",
       "      <td>0.000022</td>\n",
       "    </tr>\n",
       "    <tr>\n",
       "      <th>25%</th>\n",
       "      <td>1.000000</td>\n",
       "      <td>9791.000000</td>\n",
       "      <td>0.000098</td>\n",
       "      <td>0.000557</td>\n",
       "      <td>7.723424e-03</td>\n",
       "      <td>0.002335</td>\n",
       "      <td>0.008202</td>\n",
       "      <td>0.002335</td>\n",
       "      <td>0.008200</td>\n",
       "      <td>0.000106</td>\n",
       "      <td>0.025872</td>\n",
       "      <td>-0.000064</td>\n",
       "      <td>0.026002</td>\n",
       "      <td>0.102912</td>\n",
       "      <td>0.083613</td>\n",
       "    </tr>\n",
       "    <tr>\n",
       "      <th>50%</th>\n",
       "      <td>255.083333</td>\n",
       "      <td>10167.000000</td>\n",
       "      <td>0.024076</td>\n",
       "      <td>0.027594</td>\n",
       "      <td>6.774353e-02</td>\n",
       "      <td>0.029747</td>\n",
       "      <td>0.067625</td>\n",
       "      <td>0.029747</td>\n",
       "      <td>0.067633</td>\n",
       "      <td>0.047412</td>\n",
       "      <td>0.078840</td>\n",
       "      <td>0.047250</td>\n",
       "      <td>0.078850</td>\n",
       "      <td>0.155642</td>\n",
       "      <td>0.145484</td>\n",
       "    </tr>\n",
       "    <tr>\n",
       "      <th>75%</th>\n",
       "      <td>2842.416667</td>\n",
       "      <td>11241.000000</td>\n",
       "      <td>0.274220</td>\n",
       "      <td>0.263836</td>\n",
       "      <td>2.072380e-01</td>\n",
       "      <td>0.265010</td>\n",
       "      <td>0.205856</td>\n",
       "      <td>0.265011</td>\n",
       "      <td>0.205854</td>\n",
       "      <td>0.276568</td>\n",
       "      <td>0.213246</td>\n",
       "      <td>0.275916</td>\n",
       "      <td>0.213405</td>\n",
       "      <td>0.205711</td>\n",
       "      <td>0.211034</td>\n",
       "    </tr>\n",
       "    <tr>\n",
       "      <th>max</th>\n",
       "      <td>8662.666667</td>\n",
       "      <td>12469.000000</td>\n",
       "      <td>0.755672</td>\n",
       "      <td>0.756843</td>\n",
       "      <td>5.921407e-01</td>\n",
       "      <td>0.757849</td>\n",
       "      <td>0.588841</td>\n",
       "      <td>0.757848</td>\n",
       "      <td>0.588852</td>\n",
       "      <td>0.730137</td>\n",
       "      <td>0.575517</td>\n",
       "      <td>0.731141</td>\n",
       "      <td>0.576829</td>\n",
       "      <td>0.230330</td>\n",
       "      <td>0.570818</td>\n",
       "    </tr>\n",
       "  </tbody>\n",
       "</table>\n",
       "</div>"
      ],
      "text/plain": [
       "           Solaire      Capa_sol      TCH_sol  Sol_p_sinus     Err_sinus  \\\n",
       "count  5360.000000   5360.000000  5360.000000  5360.000000  5.360000e+03   \n",
       "mean   1571.800218  10519.437313     0.148462     0.140935  1.210351e-01   \n",
       "std    2114.541475    893.727751     0.198264     0.189979  1.306124e-01   \n",
       "min       0.000000   9414.000000     0.000000    -0.101192  1.668555e-07   \n",
       "25%       1.000000   9791.000000     0.000098     0.000557  7.723424e-03   \n",
       "50%     255.083333  10167.000000     0.024076     0.027594  6.774353e-02   \n",
       "75%    2842.416667  11241.000000     0.274220     0.263836  2.072380e-01   \n",
       "max    8662.666667  12469.000000     0.755672     0.756843  5.921407e-01   \n",
       "\n",
       "        Sol_p_exog     Err_exog  Sol_p_filter  Err_exog_filter  \\\n",
       "count  5360.000000  5360.000000   5360.000000      5360.000000   \n",
       "mean      0.142612     0.120919      0.142612         0.120919   \n",
       "std       0.189619     0.129898      0.189618         0.129899   \n",
       "min      -0.098770     0.000007     -0.098757         0.000005   \n",
       "25%       0.002335     0.008202      0.002335         0.008200   \n",
       "50%       0.029747     0.067625      0.029747         0.067633   \n",
       "75%       0.265010     0.205856      0.265011         0.205854   \n",
       "max       0.757849     0.588841      0.757848         0.588852   \n",
       "\n",
       "       Sol_p_reduit_noreg  Err_filter_noreg  Sol_p_reduit  \\\n",
       "count         5360.000000       5360.000000   5360.000000   \n",
       "mean             0.143169          0.129572      0.143161   \n",
       "std              0.191487          0.124259      0.191592   \n",
       "min             -0.192808          0.000027     -0.194508   \n",
       "25%              0.000106          0.025872     -0.000064   \n",
       "50%              0.047412          0.078840      0.047250   \n",
       "75%              0.276568          0.213246      0.275916   \n",
       "max              0.730137          0.575517      0.731141   \n",
       "\n",
       "       Err_filter_exog_filter  Sol_p_LinReg   Err_LinReg  \n",
       "count             5360.000000   5360.000000  5360.000000  \n",
       "mean                 0.129544      0.152264     0.159971  \n",
       "std                  0.124128      0.055982     0.103948  \n",
       "min                  0.000022      0.058997     0.000022  \n",
       "25%                  0.026002      0.102912     0.083613  \n",
       "50%                  0.078850      0.155642     0.145484  \n",
       "75%                  0.213405      0.205711     0.211034  \n",
       "max                  0.576829      0.230330     0.570818  "
      ]
     },
     "execution_count": 75,
     "metadata": {},
     "output_type": "execute_result"
    }
   ],
   "source": [
    "bilan['Err_LinReg'] = np.abs(bilan['Sol_p_LinReg'] - bilan['TCH_sol'])\n",
    "bilan.describe()"
   ]
  },
  {
   "cell_type": "markdown",
   "metadata": {},
   "source": [
    "# Régression linéaire sur target FILTREE avec Régresseurs exogènes : données métier FILTREES "
   ]
  },
  {
   "cell_type": "code",
   "execution_count": 76,
   "metadata": {},
   "outputs": [
    {
     "data": {
      "text/html": [
       "<div>\n",
       "<style scoped>\n",
       "    .dataframe tbody tr th:only-of-type {\n",
       "        vertical-align: middle;\n",
       "    }\n",
       "\n",
       "    .dataframe tbody tr th {\n",
       "        vertical-align: top;\n",
       "    }\n",
       "\n",
       "    .dataframe thead th {\n",
       "        text-align: right;\n",
       "    }\n",
       "</style>\n",
       "<table border=\"1\" class=\"dataframe\">\n",
       "  <thead>\n",
       "    <tr style=\"text-align: right;\">\n",
       "      <th></th>\n",
       "      <th>Dates</th>\n",
       "      <th>Soleil</th>\n",
       "    </tr>\n",
       "  </thead>\n",
       "  <tbody>\n",
       "    <tr>\n",
       "      <th>0</th>\n",
       "      <td>2013-01-01 00:00:00</td>\n",
       "      <td>8.05</td>\n",
       "    </tr>\n",
       "  </tbody>\n",
       "</table>\n",
       "</div>"
      ],
      "text/plain": [
       "                 Dates  Soleil\n",
       "0  2013-01-01 00:00:00    8.05"
      ]
     },
     "execution_count": 76,
     "metadata": {},
     "output_type": "execute_result"
    }
   ],
   "source": [
    "exog = pd.read_csv('./exog/exog_3H_FR_filtered.csv',# sep = ';',\n",
    "                   usecols = ['Dates', 'Soleil'])\n",
    "exog.head(1)"
   ]
  },
  {
   "cell_type": "code",
   "execution_count": 77,
   "metadata": {},
   "outputs": [],
   "source": [
    "exog['Dates'] = pd.to_datetime(exog['Dates'], yearfirst = True)\n",
    "exog.set_index('Dates', inplace = True)"
   ]
  },
  {
   "cell_type": "code",
   "execution_count": 78,
   "metadata": {},
   "outputs": [],
   "source": [
    "# Split en jeu d'entrainement et jeu de test\n",
    "exog_train = exog[(exog.index >= debut) & (exog.index < fin)]\n",
    "exog_test = exog[exog.index >= fin]"
   ]
  },
  {
   "cell_type": "code",
   "execution_count": 79,
   "metadata": {},
   "outputs": [],
   "source": [
    "LinReg_filter = LinearRegression()\n",
    "LinReg_filter.fit(exog_train, df_train_filter['TCH_sol'])\n",
    "predict_lr_filter = LinReg_filter.predict(exog_test)"
   ]
  },
  {
   "cell_type": "code",
   "execution_count": 80,
   "metadata": {},
   "outputs": [],
   "source": [
    "predict_lr_filter = pd.DataFrame(predict_lr_filter, index = indice, columns = ['Sol_p_LinReg_filter'])"
   ]
  },
  {
   "cell_type": "code",
   "execution_count": 81,
   "metadata": {},
   "outputs": [],
   "source": [
    "bilan = pd.concat([bilan, predict_lr_filter], axis = 1)"
   ]
  },
  {
   "cell_type": "markdown",
   "metadata": {},
   "source": [
    "### Erreur absolue"
   ]
  },
  {
   "cell_type": "code",
   "execution_count": 82,
   "metadata": {},
   "outputs": [
    {
     "data": {
      "text/html": [
       "<div>\n",
       "<style scoped>\n",
       "    .dataframe tbody tr th:only-of-type {\n",
       "        vertical-align: middle;\n",
       "    }\n",
       "\n",
       "    .dataframe tbody tr th {\n",
       "        vertical-align: top;\n",
       "    }\n",
       "\n",
       "    .dataframe thead th {\n",
       "        text-align: right;\n",
       "    }\n",
       "</style>\n",
       "<table border=\"1\" class=\"dataframe\">\n",
       "  <thead>\n",
       "    <tr style=\"text-align: right;\">\n",
       "      <th></th>\n",
       "      <th>Solaire</th>\n",
       "      <th>Capa_sol</th>\n",
       "      <th>TCH_sol</th>\n",
       "      <th>Sol_p_sinus</th>\n",
       "      <th>Err_sinus</th>\n",
       "      <th>Sol_p_exog</th>\n",
       "      <th>Err_exog</th>\n",
       "      <th>Sol_p_filter</th>\n",
       "      <th>Err_exog_filter</th>\n",
       "      <th>Sol_p_reduit_noreg</th>\n",
       "      <th>Err_filter_noreg</th>\n",
       "      <th>Sol_p_reduit</th>\n",
       "      <th>Err_filter_exog_filter</th>\n",
       "      <th>Sol_p_LinReg</th>\n",
       "      <th>Err_LinReg</th>\n",
       "      <th>Sol_p_LinReg_filter</th>\n",
       "      <th>Err_LinReg_filter</th>\n",
       "    </tr>\n",
       "  </thead>\n",
       "  <tbody>\n",
       "    <tr>\n",
       "      <th>count</th>\n",
       "      <td>5360.000000</td>\n",
       "      <td>5360.000000</td>\n",
       "      <td>5360.000000</td>\n",
       "      <td>5360.000000</td>\n",
       "      <td>5.360000e+03</td>\n",
       "      <td>5360.000000</td>\n",
       "      <td>5360.000000</td>\n",
       "      <td>5360.000000</td>\n",
       "      <td>5360.000000</td>\n",
       "      <td>5360.000000</td>\n",
       "      <td>5360.000000</td>\n",
       "      <td>5360.000000</td>\n",
       "      <td>5360.000000</td>\n",
       "      <td>5360.000000</td>\n",
       "      <td>5360.000000</td>\n",
       "      <td>5360.000000</td>\n",
       "      <td>5360.000000</td>\n",
       "    </tr>\n",
       "    <tr>\n",
       "      <th>mean</th>\n",
       "      <td>1571.800218</td>\n",
       "      <td>10519.437313</td>\n",
       "      <td>0.148462</td>\n",
       "      <td>0.140935</td>\n",
       "      <td>1.210351e-01</td>\n",
       "      <td>0.142612</td>\n",
       "      <td>0.120919</td>\n",
       "      <td>0.142612</td>\n",
       "      <td>0.120919</td>\n",
       "      <td>0.143169</td>\n",
       "      <td>0.129572</td>\n",
       "      <td>0.143161</td>\n",
       "      <td>0.129544</td>\n",
       "      <td>0.152264</td>\n",
       "      <td>0.159971</td>\n",
       "      <td>0.152392</td>\n",
       "      <td>0.160016</td>\n",
       "    </tr>\n",
       "    <tr>\n",
       "      <th>std</th>\n",
       "      <td>2114.541475</td>\n",
       "      <td>893.727751</td>\n",
       "      <td>0.198264</td>\n",
       "      <td>0.189979</td>\n",
       "      <td>1.306124e-01</td>\n",
       "      <td>0.189619</td>\n",
       "      <td>0.129898</td>\n",
       "      <td>0.189618</td>\n",
       "      <td>0.129899</td>\n",
       "      <td>0.191487</td>\n",
       "      <td>0.124259</td>\n",
       "      <td>0.191592</td>\n",
       "      <td>0.124128</td>\n",
       "      <td>0.055982</td>\n",
       "      <td>0.103948</td>\n",
       "      <td>0.055710</td>\n",
       "      <td>0.103878</td>\n",
       "    </tr>\n",
       "    <tr>\n",
       "      <th>min</th>\n",
       "      <td>0.000000</td>\n",
       "      <td>9414.000000</td>\n",
       "      <td>0.000000</td>\n",
       "      <td>-0.101192</td>\n",
       "      <td>1.668555e-07</td>\n",
       "      <td>-0.098770</td>\n",
       "      <td>0.000007</td>\n",
       "      <td>-0.098757</td>\n",
       "      <td>0.000005</td>\n",
       "      <td>-0.192808</td>\n",
       "      <td>0.000027</td>\n",
       "      <td>-0.194508</td>\n",
       "      <td>0.000022</td>\n",
       "      <td>0.058997</td>\n",
       "      <td>0.000022</td>\n",
       "      <td>0.059578</td>\n",
       "      <td>0.000147</td>\n",
       "    </tr>\n",
       "    <tr>\n",
       "      <th>25%</th>\n",
       "      <td>1.000000</td>\n",
       "      <td>9791.000000</td>\n",
       "      <td>0.000098</td>\n",
       "      <td>0.000557</td>\n",
       "      <td>7.723424e-03</td>\n",
       "      <td>0.002335</td>\n",
       "      <td>0.008202</td>\n",
       "      <td>0.002335</td>\n",
       "      <td>0.008200</td>\n",
       "      <td>0.000106</td>\n",
       "      <td>0.025872</td>\n",
       "      <td>-0.000064</td>\n",
       "      <td>0.026002</td>\n",
       "      <td>0.102912</td>\n",
       "      <td>0.083613</td>\n",
       "      <td>0.103279</td>\n",
       "      <td>0.083578</td>\n",
       "    </tr>\n",
       "    <tr>\n",
       "      <th>50%</th>\n",
       "      <td>255.083333</td>\n",
       "      <td>10167.000000</td>\n",
       "      <td>0.024076</td>\n",
       "      <td>0.027594</td>\n",
       "      <td>6.774353e-02</td>\n",
       "      <td>0.029747</td>\n",
       "      <td>0.067625</td>\n",
       "      <td>0.029747</td>\n",
       "      <td>0.067633</td>\n",
       "      <td>0.047412</td>\n",
       "      <td>0.078840</td>\n",
       "      <td>0.047250</td>\n",
       "      <td>0.078850</td>\n",
       "      <td>0.155642</td>\n",
       "      <td>0.145484</td>\n",
       "      <td>0.155754</td>\n",
       "      <td>0.145538</td>\n",
       "    </tr>\n",
       "    <tr>\n",
       "      <th>75%</th>\n",
       "      <td>2842.416667</td>\n",
       "      <td>11241.000000</td>\n",
       "      <td>0.274220</td>\n",
       "      <td>0.263836</td>\n",
       "      <td>2.072380e-01</td>\n",
       "      <td>0.265010</td>\n",
       "      <td>0.205856</td>\n",
       "      <td>0.265011</td>\n",
       "      <td>0.205854</td>\n",
       "      <td>0.276568</td>\n",
       "      <td>0.213246</td>\n",
       "      <td>0.275916</td>\n",
       "      <td>0.213405</td>\n",
       "      <td>0.205711</td>\n",
       "      <td>0.211034</td>\n",
       "      <td>0.205580</td>\n",
       "      <td>0.210864</td>\n",
       "    </tr>\n",
       "    <tr>\n",
       "      <th>max</th>\n",
       "      <td>8662.666667</td>\n",
       "      <td>12469.000000</td>\n",
       "      <td>0.755672</td>\n",
       "      <td>0.756843</td>\n",
       "      <td>5.921407e-01</td>\n",
       "      <td>0.757849</td>\n",
       "      <td>0.588841</td>\n",
       "      <td>0.757848</td>\n",
       "      <td>0.588852</td>\n",
       "      <td>0.730137</td>\n",
       "      <td>0.575517</td>\n",
       "      <td>0.731141</td>\n",
       "      <td>0.576829</td>\n",
       "      <td>0.230330</td>\n",
       "      <td>0.570818</td>\n",
       "      <td>0.230079</td>\n",
       "      <td>0.570745</td>\n",
       "    </tr>\n",
       "  </tbody>\n",
       "</table>\n",
       "</div>"
      ],
      "text/plain": [
       "           Solaire      Capa_sol      TCH_sol  Sol_p_sinus     Err_sinus  \\\n",
       "count  5360.000000   5360.000000  5360.000000  5360.000000  5.360000e+03   \n",
       "mean   1571.800218  10519.437313     0.148462     0.140935  1.210351e-01   \n",
       "std    2114.541475    893.727751     0.198264     0.189979  1.306124e-01   \n",
       "min       0.000000   9414.000000     0.000000    -0.101192  1.668555e-07   \n",
       "25%       1.000000   9791.000000     0.000098     0.000557  7.723424e-03   \n",
       "50%     255.083333  10167.000000     0.024076     0.027594  6.774353e-02   \n",
       "75%    2842.416667  11241.000000     0.274220     0.263836  2.072380e-01   \n",
       "max    8662.666667  12469.000000     0.755672     0.756843  5.921407e-01   \n",
       "\n",
       "        Sol_p_exog     Err_exog  Sol_p_filter  Err_exog_filter  \\\n",
       "count  5360.000000  5360.000000   5360.000000      5360.000000   \n",
       "mean      0.142612     0.120919      0.142612         0.120919   \n",
       "std       0.189619     0.129898      0.189618         0.129899   \n",
       "min      -0.098770     0.000007     -0.098757         0.000005   \n",
       "25%       0.002335     0.008202      0.002335         0.008200   \n",
       "50%       0.029747     0.067625      0.029747         0.067633   \n",
       "75%       0.265010     0.205856      0.265011         0.205854   \n",
       "max       0.757849     0.588841      0.757848         0.588852   \n",
       "\n",
       "       Sol_p_reduit_noreg  Err_filter_noreg  Sol_p_reduit  \\\n",
       "count         5360.000000       5360.000000   5360.000000   \n",
       "mean             0.143169          0.129572      0.143161   \n",
       "std              0.191487          0.124259      0.191592   \n",
       "min             -0.192808          0.000027     -0.194508   \n",
       "25%              0.000106          0.025872     -0.000064   \n",
       "50%              0.047412          0.078840      0.047250   \n",
       "75%              0.276568          0.213246      0.275916   \n",
       "max              0.730137          0.575517      0.731141   \n",
       "\n",
       "       Err_filter_exog_filter  Sol_p_LinReg   Err_LinReg  Sol_p_LinReg_filter  \\\n",
       "count             5360.000000   5360.000000  5360.000000          5360.000000   \n",
       "mean                 0.129544      0.152264     0.159971             0.152392   \n",
       "std                  0.124128      0.055982     0.103948             0.055710   \n",
       "min                  0.000022      0.058997     0.000022             0.059578   \n",
       "25%                  0.026002      0.102912     0.083613             0.103279   \n",
       "50%                  0.078850      0.155642     0.145484             0.155754   \n",
       "75%                  0.213405      0.205711     0.211034             0.205580   \n",
       "max                  0.576829      0.230330     0.570818             0.230079   \n",
       "\n",
       "       Err_LinReg_filter  \n",
       "count        5360.000000  \n",
       "mean            0.160016  \n",
       "std             0.103878  \n",
       "min             0.000147  \n",
       "25%             0.083578  \n",
       "50%             0.145538  \n",
       "75%             0.210864  \n",
       "max             0.570745  "
      ]
     },
     "execution_count": 82,
     "metadata": {},
     "output_type": "execute_result"
    }
   ],
   "source": [
    "bilan['Err_LinReg_filter'] = np.abs(bilan['Sol_p_LinReg_filter'] - bilan['TCH_sol'])\n",
    "bilan.describe()"
   ]
  },
  {
   "cell_type": "markdown",
   "metadata": {},
   "source": [
    "# Calcul de la prediction : TCH x Capacité"
   ]
  },
  {
   "cell_type": "code",
   "execution_count": 83,
   "metadata": {},
   "outputs": [
    {
     "data": {
      "text/html": [
       "<div>\n",
       "<style scoped>\n",
       "    .dataframe tbody tr th:only-of-type {\n",
       "        vertical-align: middle;\n",
       "    }\n",
       "\n",
       "    .dataframe tbody tr th {\n",
       "        vertical-align: top;\n",
       "    }\n",
       "\n",
       "    .dataframe thead th {\n",
       "        text-align: right;\n",
       "    }\n",
       "</style>\n",
       "<table border=\"1\" class=\"dataframe\">\n",
       "  <thead>\n",
       "    <tr style=\"text-align: right;\">\n",
       "      <th></th>\n",
       "      <th>Solaire</th>\n",
       "      <th>Capa_sol</th>\n",
       "      <th>TCH_sol</th>\n",
       "      <th>Sol_p_sinus</th>\n",
       "      <th>Err_sinus</th>\n",
       "      <th>Sol_p_exog</th>\n",
       "      <th>Err_exog</th>\n",
       "      <th>Sol_p_filter</th>\n",
       "      <th>Err_exog_filter</th>\n",
       "      <th>Sol_p_reduit_noreg</th>\n",
       "      <th>Err_filter_noreg</th>\n",
       "      <th>Sol_p_reduit</th>\n",
       "      <th>Err_filter_exog_filter</th>\n",
       "      <th>Sol_p_LinReg</th>\n",
       "      <th>Err_LinReg</th>\n",
       "      <th>Sol_p_LinReg_filter</th>\n",
       "      <th>Err_LinReg_filter</th>\n",
       "    </tr>\n",
       "  </thead>\n",
       "  <tbody>\n",
       "    <tr>\n",
       "      <th>count</th>\n",
       "      <td>5360.000000</td>\n",
       "      <td>5360.000000</td>\n",
       "      <td>5360.000000</td>\n",
       "      <td>5360.000000</td>\n",
       "      <td>5360.000000</td>\n",
       "      <td>5360.000000</td>\n",
       "      <td>5360.000000</td>\n",
       "      <td>5360.000000</td>\n",
       "      <td>5360.000000</td>\n",
       "      <td>5360.000000</td>\n",
       "      <td>5360.000000</td>\n",
       "      <td>5360.000000</td>\n",
       "      <td>5360.000000</td>\n",
       "      <td>5360.000000</td>\n",
       "      <td>5360.000000</td>\n",
       "      <td>5360.000000</td>\n",
       "      <td>5360.000000</td>\n",
       "    </tr>\n",
       "    <tr>\n",
       "      <th>mean</th>\n",
       "      <td>1571.800218</td>\n",
       "      <td>10519.437313</td>\n",
       "      <td>0.148462</td>\n",
       "      <td>1499.996130</td>\n",
       "      <td>1281.956103</td>\n",
       "      <td>1517.560355</td>\n",
       "      <td>1280.691915</td>\n",
       "      <td>1517.563872</td>\n",
       "      <td>1280.687999</td>\n",
       "      <td>1523.178101</td>\n",
       "      <td>1368.896365</td>\n",
       "      <td>1523.096638</td>\n",
       "      <td>1368.606194</td>\n",
       "      <td>1612.078546</td>\n",
       "      <td>1691.893050</td>\n",
       "      <td>1613.375849</td>\n",
       "      <td>1692.353934</td>\n",
       "    </tr>\n",
       "    <tr>\n",
       "      <th>std</th>\n",
       "      <td>2114.541475</td>\n",
       "      <td>893.727751</td>\n",
       "      <td>0.198264</td>\n",
       "      <td>2050.184093</td>\n",
       "      <td>1400.223762</td>\n",
       "      <td>2046.518411</td>\n",
       "      <td>1392.826602</td>\n",
       "      <td>2046.516417</td>\n",
       "      <td>1392.832744</td>\n",
       "      <td>2060.496374</td>\n",
       "      <td>1330.996145</td>\n",
       "      <td>2061.573505</td>\n",
       "      <td>1329.580045</td>\n",
       "      <td>626.503080</td>\n",
       "      <td>1119.565733</td>\n",
       "      <td>623.784532</td>\n",
       "      <td>1118.843057</td>\n",
       "    </tr>\n",
       "    <tr>\n",
       "      <th>min</th>\n",
       "      <td>0.000000</td>\n",
       "      <td>9414.000000</td>\n",
       "      <td>0.000000</td>\n",
       "      <td>-1033.975289</td>\n",
       "      <td>0.001691</td>\n",
       "      <td>-1009.226937</td>\n",
       "      <td>0.073268</td>\n",
       "      <td>-1009.094986</td>\n",
       "      <td>0.061409</td>\n",
       "      <td>-1815.093504</td>\n",
       "      <td>0.262790</td>\n",
       "      <td>-1831.102388</td>\n",
       "      <td>0.211816</td>\n",
       "      <td>574.189849</td>\n",
       "      <td>0.243283</td>\n",
       "      <td>579.569750</td>\n",
       "      <td>1.684333</td>\n",
       "    </tr>\n",
       "    <tr>\n",
       "      <th>25%</th>\n",
       "      <td>1.000000</td>\n",
       "      <td>9791.000000</td>\n",
       "      <td>0.000098</td>\n",
       "      <td>5.782000</td>\n",
       "      <td>79.933512</td>\n",
       "      <td>24.317644</td>\n",
       "      <td>86.648477</td>\n",
       "      <td>24.313714</td>\n",
       "      <td>86.602578</td>\n",
       "      <td>1.056100</td>\n",
       "      <td>276.426573</td>\n",
       "      <td>-0.641823</td>\n",
       "      <td>277.419810</td>\n",
       "      <td>1054.331501</td>\n",
       "      <td>856.359544</td>\n",
       "      <td>1057.846903</td>\n",
       "      <td>857.111606</td>\n",
       "    </tr>\n",
       "    <tr>\n",
       "      <th>50%</th>\n",
       "      <td>255.083333</td>\n",
       "      <td>10167.000000</td>\n",
       "      <td>0.024076</td>\n",
       "      <td>292.162051</td>\n",
       "      <td>715.419162</td>\n",
       "      <td>315.723990</td>\n",
       "      <td>715.031589</td>\n",
       "      <td>315.721939</td>\n",
       "      <td>715.063291</td>\n",
       "      <td>491.389345</td>\n",
       "      <td>823.217255</td>\n",
       "      <td>493.851167</td>\n",
       "      <td>827.137100</td>\n",
       "      <td>1646.633680</td>\n",
       "      <td>1522.456414</td>\n",
       "      <td>1647.144887</td>\n",
       "      <td>1523.802089</td>\n",
       "    </tr>\n",
       "    <tr>\n",
       "      <th>75%</th>\n",
       "      <td>2842.416667</td>\n",
       "      <td>11241.000000</td>\n",
       "      <td>0.274220</td>\n",
       "      <td>2725.010748</td>\n",
       "      <td>2178.737420</td>\n",
       "      <td>2732.494058</td>\n",
       "      <td>2169.053831</td>\n",
       "      <td>2732.529632</td>\n",
       "      <td>2168.926697</td>\n",
       "      <td>2886.986692</td>\n",
       "      <td>2229.583265</td>\n",
       "      <td>2888.968535</td>\n",
       "      <td>2223.964207</td>\n",
       "      <td>2159.172152</td>\n",
       "      <td>2204.944119</td>\n",
       "      <td>2158.899790</td>\n",
       "      <td>2203.413259</td>\n",
       "    </tr>\n",
       "    <tr>\n",
       "      <th>max</th>\n",
       "      <td>8662.666667</td>\n",
       "      <td>12469.000000</td>\n",
       "      <td>0.755672</td>\n",
       "      <td>8502.377772</td>\n",
       "      <td>6520.598489</td>\n",
       "      <td>8513.676115</td>\n",
       "      <td>6485.123526</td>\n",
       "      <td>8513.662405</td>\n",
       "      <td>6485.019677</td>\n",
       "      <td>8296.941606</td>\n",
       "      <td>6337.968289</td>\n",
       "      <td>8308.440208</td>\n",
       "      <td>6336.181939</td>\n",
       "      <td>2651.408741</td>\n",
       "      <td>6498.792562</td>\n",
       "      <td>2648.532379</td>\n",
       "      <td>6495.050436</td>\n",
       "    </tr>\n",
       "  </tbody>\n",
       "</table>\n",
       "</div>"
      ],
      "text/plain": [
       "           Solaire      Capa_sol      TCH_sol  Sol_p_sinus    Err_sinus  \\\n",
       "count  5360.000000   5360.000000  5360.000000  5360.000000  5360.000000   \n",
       "mean   1571.800218  10519.437313     0.148462  1499.996130  1281.956103   \n",
       "std    2114.541475    893.727751     0.198264  2050.184093  1400.223762   \n",
       "min       0.000000   9414.000000     0.000000 -1033.975289     0.001691   \n",
       "25%       1.000000   9791.000000     0.000098     5.782000    79.933512   \n",
       "50%     255.083333  10167.000000     0.024076   292.162051   715.419162   \n",
       "75%    2842.416667  11241.000000     0.274220  2725.010748  2178.737420   \n",
       "max    8662.666667  12469.000000     0.755672  8502.377772  6520.598489   \n",
       "\n",
       "        Sol_p_exog     Err_exog  Sol_p_filter  Err_exog_filter  \\\n",
       "count  5360.000000  5360.000000   5360.000000      5360.000000   \n",
       "mean   1517.560355  1280.691915   1517.563872      1280.687999   \n",
       "std    2046.518411  1392.826602   2046.516417      1392.832744   \n",
       "min   -1009.226937     0.073268  -1009.094986         0.061409   \n",
       "25%      24.317644    86.648477     24.313714        86.602578   \n",
       "50%     315.723990   715.031589    315.721939       715.063291   \n",
       "75%    2732.494058  2169.053831   2732.529632      2168.926697   \n",
       "max    8513.676115  6485.123526   8513.662405      6485.019677   \n",
       "\n",
       "       Sol_p_reduit_noreg  Err_filter_noreg  Sol_p_reduit  \\\n",
       "count         5360.000000       5360.000000   5360.000000   \n",
       "mean          1523.178101       1368.896365   1523.096638   \n",
       "std           2060.496374       1330.996145   2061.573505   \n",
       "min          -1815.093504          0.262790  -1831.102388   \n",
       "25%              1.056100        276.426573     -0.641823   \n",
       "50%            491.389345        823.217255    493.851167   \n",
       "75%           2886.986692       2229.583265   2888.968535   \n",
       "max           8296.941606       6337.968289   8308.440208   \n",
       "\n",
       "       Err_filter_exog_filter  Sol_p_LinReg   Err_LinReg  Sol_p_LinReg_filter  \\\n",
       "count             5360.000000   5360.000000  5360.000000          5360.000000   \n",
       "mean              1368.606194   1612.078546  1691.893050          1613.375849   \n",
       "std               1329.580045    626.503080  1119.565733           623.784532   \n",
       "min                  0.211816    574.189849     0.243283           579.569750   \n",
       "25%                277.419810   1054.331501   856.359544          1057.846903   \n",
       "50%                827.137100   1646.633680  1522.456414          1647.144887   \n",
       "75%               2223.964207   2159.172152  2204.944119          2158.899790   \n",
       "max               6336.181939   2651.408741  6498.792562          2648.532379   \n",
       "\n",
       "       Err_LinReg_filter  \n",
       "count        5360.000000  \n",
       "mean         1692.353934  \n",
       "std          1118.843057  \n",
       "min             1.684333  \n",
       "25%           857.111606  \n",
       "50%          1523.802089  \n",
       "75%          2203.413259  \n",
       "max          6495.050436  "
      ]
     },
     "execution_count": 83,
     "metadata": {},
     "output_type": "execute_result"
    }
   ],
   "source": [
    "bilan['Sol_p_sinus'] = bilan['Sol_p_sinus'] * bilan['Capa_sol']\n",
    "bilan['Err_sinus'] = bilan['Err_sinus'] * bilan['Capa_sol']\n",
    "bilan['Sol_p_exog'] = bilan['Sol_p_exog'] * bilan['Capa_sol']\n",
    "bilan['Err_exog'] = bilan['Err_exog'] * bilan['Capa_sol']\n",
    "bilan['Sol_p_filter'] = bilan['Sol_p_filter'] * bilan['Capa_sol']\n",
    "bilan['Err_exog_filter'] = bilan['Err_exog_filter'] * bilan['Capa_sol']\n",
    "bilan['Sol_p_reduit_noreg'] = bilan['Sol_p_reduit_noreg'] * bilan['Capa_sol']\n",
    "bilan['Err_filter_noreg'] = bilan['Err_filter_noreg'] * bilan['Capa_sol']\n",
    "bilan['Sol_p_reduit'] = bilan['Sol_p_reduit'] * bilan['Capa_sol']\n",
    "bilan['Err_filter_exog_filter'] = bilan['Err_filter_exog_filter'] * bilan['Capa_sol']\n",
    "bilan['Sol_p_LinReg'] = bilan['Sol_p_LinReg'] * bilan['Capa_sol']\n",
    "bilan['Err_LinReg'] = bilan['Err_LinReg'] * bilan['Capa_sol']\n",
    "bilan['Sol_p_LinReg_filter'] = bilan['Sol_p_LinReg_filter'] * bilan['Capa_sol']\n",
    "bilan['Err_LinReg_filter'] = bilan['Err_LinReg_filter'] * bilan['Capa_sol']\n",
    "bilan.describe()"
   ]
  },
  {
   "cell_type": "markdown",
   "metadata": {},
   "source": [
    "# Visualisation réel vs prédictions"
   ]
  },
  {
   "cell_type": "code",
   "execution_count": 84,
   "metadata": {},
   "outputs": [
    {
     "data": {
      "image/png": "[encoded data removed]",
      "text/plain": [
       "<Figure size 1296x648 with 1 Axes>"
      ]
     },
     "metadata": {
      "needs_background": "light"
     },
     "output_type": "display_data"
    }
   ],
   "source": [
    "plt.figure(figsize=(18,9))\n",
    "plt.plot(bilan['Solaire'].resample('W').mean(), color = 'k', label = 'réel')\n",
    "plt.plot(bilan['Sol_p_sinus'].resample('W').mean(), color = 'y', linestyle = '--', alpha = 0.5, label = 'sinus')\n",
    "plt.plot(bilan['Sol_p_exog'].resample('W').mean(), color = 'b', linestyle = '--', alpha = 0.5, label = 'exog')\n",
    "plt.plot(bilan['Sol_p_filter'].resample('W').mean(), color = 'b', linestyle = ':', alpha = 0.5, label = 'exog filtré')\n",
    "plt.plot(bilan['Sol_p_reduit_noreg'].resample('W').mean(), color = 'r', linestyle = '--', alpha = 0.5, label = 'filtré sans exog')\n",
    "plt.plot(bilan['Sol_p_reduit'].resample('W').mean(), color = 'r', linestyle = ':', alpha = 0.5, label = 'filtré + exog filtré')\n",
    "plt.plot(bilan['Sol_p_LinReg'].resample('W').mean(), color = 'g', linestyle = '--', alpha = 0.5, label = 'RegLin')\n",
    "plt.plot(bilan['Sol_p_LinReg_filter'].resample('W').mean(), color = 'g', linestyle = ':', alpha = 0.5, label = 'RegLin filtré')\n",
    "plt.legend(loc = 'upper right')\n",
    "plt.title('Prediction Solaire (3h)')\n",
    "plt.savefig('./results/pred_solaire_3h.png');"
   ]
  },
  {
   "cell_type": "markdown",
   "metadata": {},
   "source": [
    "# Synthèse des erreurs"
   ]
  },
  {
   "cell_type": "code",
   "execution_count": 85,
   "metadata": {},
   "outputs": [
    {
     "data": {
      "text/html": [
       "<div>\n",
       "<style scoped>\n",
       "    .dataframe tbody tr th:only-of-type {\n",
       "        vertical-align: middle;\n",
       "    }\n",
       "\n",
       "    .dataframe tbody tr th {\n",
       "        vertical-align: top;\n",
       "    }\n",
       "\n",
       "    .dataframe thead th {\n",
       "        text-align: right;\n",
       "    }\n",
       "</style>\n",
       "<table border=\"1\" class=\"dataframe\">\n",
       "  <thead>\n",
       "    <tr style=\"text-align: right;\">\n",
       "      <th></th>\n",
       "      <th>Err_sinus</th>\n",
       "      <th>Err_exog</th>\n",
       "      <th>Err_exog_filter</th>\n",
       "      <th>Err_filter_noreg</th>\n",
       "      <th>Err_filter_exog_filter</th>\n",
       "      <th>Err_LinReg</th>\n",
       "      <th>Err_LinReg_filter</th>\n",
       "    </tr>\n",
       "  </thead>\n",
       "  <tbody>\n",
       "    <tr>\n",
       "      <th>count</th>\n",
       "      <td>5360.000000</td>\n",
       "      <td>5360.000000</td>\n",
       "      <td>5360.000000</td>\n",
       "      <td>5360.000000</td>\n",
       "      <td>5360.000000</td>\n",
       "      <td>5360.000000</td>\n",
       "      <td>5360.000000</td>\n",
       "    </tr>\n",
       "    <tr>\n",
       "      <th>mean</th>\n",
       "      <td>1281.956103</td>\n",
       "      <td>1280.691915</td>\n",
       "      <td>1280.687999</td>\n",
       "      <td>1368.896365</td>\n",
       "      <td>1368.606194</td>\n",
       "      <td>1691.893050</td>\n",
       "      <td>1692.353934</td>\n",
       "    </tr>\n",
       "    <tr>\n",
       "      <th>std</th>\n",
       "      <td>1400.223762</td>\n",
       "      <td>1392.826602</td>\n",
       "      <td>1392.832744</td>\n",
       "      <td>1330.996145</td>\n",
       "      <td>1329.580045</td>\n",
       "      <td>1119.565733</td>\n",
       "      <td>1118.843057</td>\n",
       "    </tr>\n",
       "    <tr>\n",
       "      <th>min</th>\n",
       "      <td>0.001691</td>\n",
       "      <td>0.073268</td>\n",
       "      <td>0.061409</td>\n",
       "      <td>0.262790</td>\n",
       "      <td>0.211816</td>\n",
       "      <td>0.243283</td>\n",
       "      <td>1.684333</td>\n",
       "    </tr>\n",
       "    <tr>\n",
       "      <th>25%</th>\n",
       "      <td>79.933512</td>\n",
       "      <td>86.648477</td>\n",
       "      <td>86.602578</td>\n",
       "      <td>276.426573</td>\n",
       "      <td>277.419810</td>\n",
       "      <td>856.359544</td>\n",
       "      <td>857.111606</td>\n",
       "    </tr>\n",
       "    <tr>\n",
       "      <th>50%</th>\n",
       "      <td>715.419162</td>\n",
       "      <td>715.031589</td>\n",
       "      <td>715.063291</td>\n",
       "      <td>823.217255</td>\n",
       "      <td>827.137100</td>\n",
       "      <td>1522.456414</td>\n",
       "      <td>1523.802089</td>\n",
       "    </tr>\n",
       "    <tr>\n",
       "      <th>75%</th>\n",
       "      <td>2178.737420</td>\n",
       "      <td>2169.053831</td>\n",
       "      <td>2168.926697</td>\n",
       "      <td>2229.583265</td>\n",
       "      <td>2223.964207</td>\n",
       "      <td>2204.944119</td>\n",
       "      <td>2203.413259</td>\n",
       "    </tr>\n",
       "    <tr>\n",
       "      <th>max</th>\n",
       "      <td>6520.598489</td>\n",
       "      <td>6485.123526</td>\n",
       "      <td>6485.019677</td>\n",
       "      <td>6337.968289</td>\n",
       "      <td>6336.181939</td>\n",
       "      <td>6498.792562</td>\n",
       "      <td>6495.050436</td>\n",
       "    </tr>\n",
       "  </tbody>\n",
       "</table>\n",
       "</div>"
      ],
      "text/plain": [
       "         Err_sinus     Err_exog  Err_exog_filter  Err_filter_noreg  \\\n",
       "count  5360.000000  5360.000000      5360.000000       5360.000000   \n",
       "mean   1281.956103  1280.691915      1280.687999       1368.896365   \n",
       "std    1400.223762  1392.826602      1392.832744       1330.996145   \n",
       "min       0.001691     0.073268         0.061409          0.262790   \n",
       "25%      79.933512    86.648477        86.602578        276.426573   \n",
       "50%     715.419162   715.031589       715.063291        823.217255   \n",
       "75%    2178.737420  2169.053831      2168.926697       2229.583265   \n",
       "max    6520.598489  6485.123526      6485.019677       6337.968289   \n",
       "\n",
       "       Err_filter_exog_filter   Err_LinReg  Err_LinReg_filter  \n",
       "count             5360.000000  5360.000000        5360.000000  \n",
       "mean              1368.606194  1691.893050        1692.353934  \n",
       "std               1329.580045  1119.565733        1118.843057  \n",
       "min                  0.211816     0.243283           1.684333  \n",
       "25%                277.419810   856.359544         857.111606  \n",
       "50%                827.137100  1522.456414        1523.802089  \n",
       "75%               2223.964207  2204.944119        2203.413259  \n",
       "max               6336.181939  6498.792562        6495.050436  "
      ]
     },
     "execution_count": 85,
     "metadata": {},
     "output_type": "execute_result"
    }
   ],
   "source": [
    "erreur = bilan[['Err_sinus',\n",
    "       'Err_exog',\n",
    "       'Err_exog_filter',\n",
    "       'Err_filter_noreg',\n",
    "       'Err_filter_exog_filter',\n",
    "       'Err_LinReg',\n",
    "       'Err_LinReg_filter'\n",
    "      ]].describe()\n",
    "erreur"
   ]
  },
  {
   "cell_type": "code",
   "execution_count": 86,
   "metadata": {},
   "outputs": [],
   "source": [
    "bilan.to_csv('./results/bilan_solaire_3h.csv', sep = ';')\n",
    "erreur.to_csv('./results/erreur_solaire_3h.csv', sep = ';')"
   ]
  },
  {
   "cell_type": "code",
   "execution_count": null,
   "metadata": {},
   "outputs": [],
   "source": []
  }
 ],
 "metadata": {
  "kernelspec": {
   "display_name": "Python 3",
   "language": "python",
   "name": "python3"
  },
  "language_info": {
   "codemirror_mode": {
    "name": "ipython",
    "version": 3
   },
   "file_extension": ".py",
   "mimetype": "text/x-python",
   "name": "python",
   "nbconvert_exporter": "python",
   "pygments_lexer": "ipython3",
   "version": "3.8.5"
  }
 },
 "nbformat": 4,
 "nbformat_minor": 2
}
