{
 "cells": [
  {
   "cell_type": "code",
   "execution_count": 1,
   "metadata": {},
   "outputs": [],
   "source": [
    "import numpy as np\n",
    "import pandas as pd\n",
    "import datetime as dt\n",
    "from dateutil.relativedelta import relativedelta\n",
    "import matplotlib.pyplot as plt\n",
    "%matplotlib inline\n",
    "import statsmodels.api as sm\n",
    "from statsmodels.graphics.tsaplots import plot_pacf, plot_acf\n",
    "from statsmodels.tsa.seasonal import seasonal_decompose\n",
    "from sklearn.metrics import mean_absolute_error, mean_squared_error\n",
    "from sklearn.preprocessing import MinMaxScaler\n",
    "from sklearn.linear_model import LinearRegression"
   ]
  },
  {
   "cell_type": "markdown",
   "metadata": {},
   "source": [
    "# Objectif du notebook\n",
    "\n",
    "Comparer les différentes modélisation possible sur la variable **production hydraulique** :\n",
    "\n",
    "* SARIMAX avec des fonctions sinusoïdales correspondant aux saisons observées en régresseurs exogènes\n",
    "* SARIMAX avec des données métier en régresseurs exogènes (eau, précipitations).\n",
    "* SARIMAX avec des données métier FILTREES en régresseurs exogènes\n",
    "* SARIMAX sur le signal filtré par transformation de Fourier sans régresseur\n",
    "* SARIMAX sur le signal filtré avec des données métier FILTREES en régresseurs exogènes\n",
    "* Régression linéaire sur les données métiers FILTREES comme variables explicatives\n",
    "* Régression linéaire sur la variable à expliquée FILTREE et avec les variables explicatives FILTREES."
   ]
  },
  {
   "cell_type": "markdown",
   "metadata": {},
   "source": [
    "# Import du dataset original"
   ]
  },
  {
   "cell_type": "code",
   "execution_count": 2,
   "metadata": {},
   "outputs": [
    {
     "data": {
      "text/html": [
       "<div>\n",
       "<style scoped>\n",
       "    .dataframe tbody tr th:only-of-type {\n",
       "        vertical-align: middle;\n",
       "    }\n",
       "\n",
       "    .dataframe tbody tr th {\n",
       "        vertical-align: top;\n",
       "    }\n",
       "\n",
       "    .dataframe thead th {\n",
       "        text-align: right;\n",
       "    }\n",
       "</style>\n",
       "<table border=\"1\" class=\"dataframe\">\n",
       "  <thead>\n",
       "    <tr style=\"text-align: right;\">\n",
       "      <th></th>\n",
       "      <th>Dates</th>\n",
       "      <th>Hydraulique</th>\n",
       "    </tr>\n",
       "  </thead>\n",
       "  <tbody>\n",
       "    <tr>\n",
       "      <th>0</th>\n",
       "      <td>2013-01-01</td>\n",
       "      <td>6805.141667</td>\n",
       "    </tr>\n",
       "  </tbody>\n",
       "</table>\n",
       "</div>"
      ],
      "text/plain": [
       "        Dates  Hydraulique\n",
       "0  2013-01-01  6805.141667"
      ]
     },
     "execution_count": 2,
     "metadata": {},
     "output_type": "execute_result"
    }
   ],
   "source": [
    "df = pd.read_csv('./dataset/France_D.csv',\n",
    "                usecols = ['Dates', 'Hydraulique'])\n",
    "df.head(1)"
   ]
  },
  {
   "cell_type": "code",
   "execution_count": 3,
   "metadata": {},
   "outputs": [],
   "source": [
    "df['Dates'] = pd.to_datetime(df['Dates'], yearfirst = True)\n",
    "df.set_index('Dates', inplace = True)"
   ]
  },
  {
   "cell_type": "code",
   "execution_count": 4,
   "metadata": {},
   "outputs": [],
   "source": [
    "debut = dt.datetime(year = 2013, month = 1, day = 1)\n",
    "fin = dt.datetime(year = 2020, month = 1, day = 1)"
   ]
  },
  {
   "cell_type": "markdown",
   "metadata": {},
   "source": [
    "# Conversion en taux de charge pour annuler l'évolution dans le temps"
   ]
  },
  {
   "cell_type": "code",
   "execution_count": 5,
   "metadata": {},
   "outputs": [],
   "source": [
    "capa = pd.read_csv('./datasource/capacite_hydraulique_FR.csv',\n",
    "                  usecols = ['Dates', 'Capa_hyd'])\n",
    "capa['Dates'] = pd.to_datetime(capa['Dates'], format = '%Y/%m/%d %H:%M:%S', yearfirst = True)\n",
    "capa.set_index('Dates', inplace = True)"
   ]
  },
  {
   "cell_type": "code",
   "execution_count": 6,
   "metadata": {},
   "outputs": [],
   "source": [
    "capa = capa.resample('D').mean()"
   ]
  },
  {
   "cell_type": "code",
   "execution_count": 7,
   "metadata": {},
   "outputs": [
    {
     "data": {
      "text/html": [
       "<div>\n",
       "<style scoped>\n",
       "    .dataframe tbody tr th:only-of-type {\n",
       "        vertical-align: middle;\n",
       "    }\n",
       "\n",
       "    .dataframe tbody tr th {\n",
       "        vertical-align: top;\n",
       "    }\n",
       "\n",
       "    .dataframe thead th {\n",
       "        text-align: right;\n",
       "    }\n",
       "</style>\n",
       "<table border=\"1\" class=\"dataframe\">\n",
       "  <thead>\n",
       "    <tr style=\"text-align: right;\">\n",
       "      <th></th>\n",
       "      <th>Hydraulique</th>\n",
       "      <th>Capa_hyd</th>\n",
       "      <th>TCH_hyd</th>\n",
       "    </tr>\n",
       "    <tr>\n",
       "      <th>Dates</th>\n",
       "      <th></th>\n",
       "      <th></th>\n",
       "      <th></th>\n",
       "    </tr>\n",
       "  </thead>\n",
       "  <tbody>\n",
       "    <tr>\n",
       "      <th>2013-01-01</th>\n",
       "      <td>6805.141667</td>\n",
       "      <td>25346</td>\n",
       "      <td>0.268490</td>\n",
       "    </tr>\n",
       "    <tr>\n",
       "      <th>2013-01-02</th>\n",
       "      <td>8782.166667</td>\n",
       "      <td>25346</td>\n",
       "      <td>0.346491</td>\n",
       "    </tr>\n",
       "    <tr>\n",
       "      <th>2013-01-03</th>\n",
       "      <td>9143.979167</td>\n",
       "      <td>25346</td>\n",
       "      <td>0.360766</td>\n",
       "    </tr>\n",
       "    <tr>\n",
       "      <th>2013-01-04</th>\n",
       "      <td>8631.250000</td>\n",
       "      <td>25346</td>\n",
       "      <td>0.340537</td>\n",
       "    </tr>\n",
       "    <tr>\n",
       "      <th>2013-01-05</th>\n",
       "      <td>8025.083333</td>\n",
       "      <td>25346</td>\n",
       "      <td>0.316621</td>\n",
       "    </tr>\n",
       "    <tr>\n",
       "      <th>...</th>\n",
       "      <td>...</td>\n",
       "      <td>...</td>\n",
       "      <td>...</td>\n",
       "    </tr>\n",
       "    <tr>\n",
       "      <th>2021-10-27</th>\n",
       "      <td>3766.729167</td>\n",
       "      <td>25346</td>\n",
       "      <td>0.148612</td>\n",
       "    </tr>\n",
       "    <tr>\n",
       "      <th>2021-10-28</th>\n",
       "      <td>3551.291667</td>\n",
       "      <td>25346</td>\n",
       "      <td>0.140113</td>\n",
       "    </tr>\n",
       "    <tr>\n",
       "      <th>2021-10-29</th>\n",
       "      <td>3209.708333</td>\n",
       "      <td>25346</td>\n",
       "      <td>0.126636</td>\n",
       "    </tr>\n",
       "    <tr>\n",
       "      <th>2021-10-30</th>\n",
       "      <td>3535.041667</td>\n",
       "      <td>25346</td>\n",
       "      <td>0.139471</td>\n",
       "    </tr>\n",
       "    <tr>\n",
       "      <th>2021-10-31</th>\n",
       "      <td>2902.791667</td>\n",
       "      <td>25346</td>\n",
       "      <td>0.114527</td>\n",
       "    </tr>\n",
       "  </tbody>\n",
       "</table>\n",
       "<p>3226 rows × 3 columns</p>\n",
       "</div>"
      ],
      "text/plain": [
       "            Hydraulique  Capa_hyd   TCH_hyd\n",
       "Dates                                      \n",
       "2013-01-01  6805.141667     25346  0.268490\n",
       "2013-01-02  8782.166667     25346  0.346491\n",
       "2013-01-03  9143.979167     25346  0.360766\n",
       "2013-01-04  8631.250000     25346  0.340537\n",
       "2013-01-05  8025.083333     25346  0.316621\n",
       "...                 ...       ...       ...\n",
       "2021-10-27  3766.729167     25346  0.148612\n",
       "2021-10-28  3551.291667     25346  0.140113\n",
       "2021-10-29  3209.708333     25346  0.126636\n",
       "2021-10-30  3535.041667     25346  0.139471\n",
       "2021-10-31  2902.791667     25346  0.114527\n",
       "\n",
       "[3226 rows x 3 columns]"
      ]
     },
     "execution_count": 7,
     "metadata": {},
     "output_type": "execute_result"
    }
   ],
   "source": [
    "df = pd.concat([df, capa], axis = 1)\n",
    "df['TCH_hyd'] = df['Hydraulique'] / df['Capa_hyd']\n",
    "df"
   ]
  },
  {
   "cell_type": "code",
   "execution_count": 8,
   "metadata": {
    "scrolled": false
   },
   "outputs": [
    {
     "data": {
      "image/png": "[encoded data removed]",
      "text/plain": [
       "<Figure size 1152x432 with 1 Axes>"
      ]
     },
     "metadata": {
      "needs_background": "light"
     },
     "output_type": "display_data"
    }
   ],
   "source": [
    "plt.figure(figsize=(16, 6))\n",
    "plt.plot(df['Hydraulique'][(df.index >= debut) & (df.index < fin)])\n",
    "for year in range(debut.year, fin.year + 1): \n",
    "    plt.axvline(pd.to_datetime(str(year)+'-01-01'), color='k', linestyle='--', alpha=0.5);"
   ]
  },
  {
   "cell_type": "code",
   "execution_count": 9,
   "metadata": {},
   "outputs": [
    {
     "data": {
      "image/png": "[encoded data removed]",
      "text/plain": [
       "<Figure size 1152x432 with 1 Axes>"
      ]
     },
     "metadata": {
      "needs_background": "light"
     },
     "output_type": "display_data"
    }
   ],
   "source": [
    "plt.figure(figsize=(16, 6))\n",
    "plt.plot(df['TCH_hyd'][(df.index >= debut) & (df.index < fin)])\n",
    "for year in range(debut.year, fin.year + 1): \n",
    "    plt.axvline(pd.to_datetime(str(year)+'-01-01'), color='k', linestyle='--', alpha=0.5);"
   ]
  },
  {
   "cell_type": "markdown",
   "metadata": {},
   "source": [
    "### Test de stationnarité"
   ]
  },
  {
   "cell_type": "code",
   "execution_count": 10,
   "metadata": {},
   "outputs": [
    {
     "data": {
      "text/plain": [
       "(-4.941252477632524,\n",
       " 2.896865788673183e-05,\n",
       " 29,\n",
       " 3196,\n",
       " {'1%': -3.432397734657946,\n",
       "  '5%': -2.862444764925196,\n",
       "  '10%': -2.567251626693097},\n",
       " -13972.122321172363)"
      ]
     },
     "execution_count": 10,
     "metadata": {},
     "output_type": "execute_result"
    }
   ],
   "source": [
    "# la 2ème valeur donne la p_value (stationnaire si < 5%)\n",
    "sm.tsa.stattools.adfuller(df['TCH_hyd'])"
   ]
  },
  {
   "cell_type": "markdown",
   "metadata": {},
   "source": [
    "### Coéfficients SARIMAX et saisonnalités"
   ]
  },
  {
   "cell_type": "code",
   "execution_count": 11,
   "metadata": {},
   "outputs": [
    {
     "data": {
      "image/png": "[encoded data removed]",
      "text/plain": [
       "<Figure size 1152x432 with 2 Axes>"
      ]
     },
     "metadata": {
      "needs_background": "light"
     },
     "output_type": "display_data"
    }
   ],
   "source": [
    "fig, (ax1, ax2) = plt.subplots(1, 2, figsize=(16,6))\n",
    "plot_acf(df['TCH_hyd'], lags = 100, ax=ax1)\n",
    "plot_pacf(df['TCH_hyd'], lags = 100, ax=ax2)\n",
    "plt.show()"
   ]
  },
  {
   "cell_type": "markdown",
   "metadata": {},
   "source": [
    "**Saisonnalités :**\n",
    "* 1 an"
   ]
  },
  {
   "cell_type": "markdown",
   "metadata": {},
   "source": [
    "# Import du dataset filtré (Transformation de Fourier)"
   ]
  },
  {
   "cell_type": "code",
   "execution_count": 12,
   "metadata": {},
   "outputs": [
    {
     "data": {
      "text/html": [
       "<div>\n",
       "<style scoped>\n",
       "    .dataframe tbody tr th:only-of-type {\n",
       "        vertical-align: middle;\n",
       "    }\n",
       "\n",
       "    .dataframe tbody tr th {\n",
       "        vertical-align: top;\n",
       "    }\n",
       "\n",
       "    .dataframe thead th {\n",
       "        text-align: right;\n",
       "    }\n",
       "</style>\n",
       "<table border=\"1\" class=\"dataframe\">\n",
       "  <thead>\n",
       "    <tr style=\"text-align: right;\">\n",
       "      <th></th>\n",
       "      <th>Dates</th>\n",
       "      <th>Hydraulique</th>\n",
       "    </tr>\n",
       "  </thead>\n",
       "  <tbody>\n",
       "    <tr>\n",
       "      <th>0</th>\n",
       "      <td>2013-01-01</td>\n",
       "      <td>6348.37141</td>\n",
       "    </tr>\n",
       "  </tbody>\n",
       "</table>\n",
       "</div>"
      ],
      "text/plain": [
       "        Dates  Hydraulique\n",
       "0  2013-01-01   6348.37141"
      ]
     },
     "execution_count": 12,
     "metadata": {},
     "output_type": "execute_result"
    }
   ],
   "source": [
    "df_filtered = pd.read_csv('./dataset/France_D_filtered.csv',\n",
    "                usecols = ['Dates', 'Hydraulique'])\n",
    "df_filtered.head(1)"
   ]
  },
  {
   "cell_type": "code",
   "execution_count": 13,
   "metadata": {},
   "outputs": [],
   "source": [
    "df_filtered['Dates'] = pd.to_datetime(df_filtered['Dates'], yearfirst = True)\n",
    "df_filtered.set_index('Dates', inplace = True)"
   ]
  },
  {
   "cell_type": "code",
   "execution_count": 14,
   "metadata": {},
   "outputs": [],
   "source": [
    "df_filtered = pd.concat([df_filtered, capa], axis = 1)\n",
    "df_filtered['TCH_hyd'] = df_filtered['Hydraulique'] / df_filtered['Capa_hyd']"
   ]
  },
  {
   "cell_type": "code",
   "execution_count": 15,
   "metadata": {
    "scrolled": false
   },
   "outputs": [
    {
     "data": {
      "image/png": "[encoded data removed]",
      "text/plain": [
       "<Figure size 1152x432 with 1 Axes>"
      ]
     },
     "metadata": {
      "needs_background": "light"
     },
     "output_type": "display_data"
    }
   ],
   "source": [
    "plt.figure(figsize=(16, 6))\n",
    "plt.plot(df_filtered['Hydraulique'][(df.index >= debut) & (df.index < fin)])\n",
    "for year in range(debut.year, fin.year + 1): \n",
    "    plt.axvline(pd.to_datetime(str(year)+'-01-01'), color='k', linestyle='--', alpha=0.5);"
   ]
  },
  {
   "cell_type": "code",
   "execution_count": 16,
   "metadata": {},
   "outputs": [
    {
     "data": {
      "image/png": "[encoded data removed]",
      "text/plain": [
       "<Figure size 1152x432 with 1 Axes>"
      ]
     },
     "metadata": {
      "needs_background": "light"
     },
     "output_type": "display_data"
    }
   ],
   "source": [
    "plt.figure(figsize=(16, 6))\n",
    "plt.plot(df_filtered['TCH_hyd'][(df.index >= debut) & (df.index < fin)])\n",
    "for year in range(debut.year, fin.year + 1): \n",
    "    plt.axvline(pd.to_datetime(str(year)+'-01-01'), color='k', linestyle='--', alpha=0.5);"
   ]
  },
  {
   "cell_type": "markdown",
   "metadata": {},
   "source": [
    "# Jeux d'entrainement et de test"
   ]
  },
  {
   "cell_type": "code",
   "execution_count": 17,
   "metadata": {},
   "outputs": [],
   "source": [
    "df_train = df[(df.index >= debut) & (df.index < fin)]\n",
    "df_test = df[df.index >= fin]"
   ]
  },
  {
   "cell_type": "code",
   "execution_count": 18,
   "metadata": {},
   "outputs": [],
   "source": [
    "df_train_filter = df_filtered[(df_filtered.index >= debut) & (df_filtered.index < fin)]\n",
    "df_test_filter = df_filtered[df_filtered.index >= fin]"
   ]
  },
  {
   "cell_type": "code",
   "execution_count": 19,
   "metadata": {},
   "outputs": [],
   "source": [
    "fenetre = df_test.shape[0]"
   ]
  },
  {
   "cell_type": "code",
   "execution_count": 20,
   "metadata": {},
   "outputs": [],
   "source": [
    "indice = df_test.index"
   ]
  },
  {
   "cell_type": "code",
   "execution_count": 21,
   "metadata": {},
   "outputs": [],
   "source": [
    "bilan = df_test"
   ]
  },
  {
   "cell_type": "markdown",
   "metadata": {},
   "source": [
    "# Paramètres SARIMAX"
   ]
  },
  {
   "cell_type": "code",
   "execution_count": 22,
   "metadata": {},
   "outputs": [],
   "source": [
    "ordre = (2,0,0)\n",
    "saison = (0,0,0,365)"
   ]
  },
  {
   "cell_type": "markdown",
   "metadata": {},
   "source": [
    "# Régresseurs exogènes : sinus & cosinus suivant les saisonnalités"
   ]
  },
  {
   "cell_type": "code",
   "execution_count": 23,
   "metadata": {},
   "outputs": [],
   "source": [
    "exog = pd.DataFrame({'date': df.index})\n",
    "exog['date'] = pd.to_datetime(exog['date'])\n",
    "# suivant saisonnalités\n",
    "# exog['sin_D'] = np.sin(2 * np.pi * exog.index / 8)\n",
    "# exog['cos_D'] = np.cos(2 * np.pi * exog.index / 8)\n",
    "# exog['sin_W'] = np.sin(2 * np.pi * exog.index / 7)\n",
    "# exog['cos_W'] = np.cos(2 * np.pi * exog.index / 7)\n",
    "exog['sin_Y'] = np.sin(2 * np.pi * exog.index / 365.25)\n",
    "exog['cos_Y'] = np.cos(2 * np.pi * exog.index / 365.25)\n",
    "exog.set_index('date', inplace = True)"
   ]
  },
  {
   "cell_type": "code",
   "execution_count": 24,
   "metadata": {},
   "outputs": [],
   "source": [
    "# Split en jeu d'entrainement et jeu de test\n",
    "exog_train = exog[(exog.index >= debut) & (exog.index < fin)]\n",
    "exog_test = exog[exog.index >= fin]"
   ]
  },
  {
   "cell_type": "code",
   "execution_count": 25,
   "metadata": {},
   "outputs": [
    {
     "name": "stderr",
     "output_type": "stream",
     "text": [
      "<ipython-input-25-56416ee0eedf>:2: FutureWarning: The pandas.datetime class is deprecated and will be removed from pandas in a future version. Import from datetime module instead.\n",
      "  plt.plot(exog[(exog.index >= pd.datetime(2016, 1, 1)) & (exog.index < pd.datetime(2016, 1, 15))])\n"
     ]
    },
    {
     "data": {
      "text/plain": [
       "''"
      ]
     },
     "execution_count": 25,
     "metadata": {},
     "output_type": "execute_result"
    },
    {
     "data": {
      "image/png": "[encoded data removed]",
      "text/plain": [
       "<Figure size 1152x288 with 1 Axes>"
      ]
     },
     "metadata": {
      "needs_background": "light"
     },
     "output_type": "display_data"
    }
   ],
   "source": [
    "plt.figure(figsize=(16, 4))\n",
    "plt.plot(exog[(exog.index >= pd.datetime(2016, 1, 1)) & (exog.index < pd.datetime(2016, 1, 15))])\n",
    "# for year in range(debut.year, fin.year + 1): \n",
    "#     plt.axvline(pd.to_datetime(str(year)+'-01-01'), color='k', linestyle='--', alpha=0.5)\n",
    ";"
   ]
  },
  {
   "cell_type": "markdown",
   "metadata": {},
   "source": [
    "### SARIMAX"
   ]
  },
  {
   "cell_type": "code",
   "execution_count": 26,
   "metadata": {},
   "outputs": [],
   "source": [
    "model_sinus = sm.tsa.SARIMAX(df_train['TCH_hyd'].values,\n",
    "                             exog = exog_train.values,\n",
    "                             order = ordre,\n",
    "                             seasonal_order = saison)\n",
    "result_sinus = model_sinus.fit()"
   ]
  },
  {
   "cell_type": "code",
   "execution_count": 27,
   "metadata": {},
   "outputs": [],
   "source": [
    "predict_sinus = result_sinus.predict(start = 1 ,\n",
    "                                     end = fenetre,\n",
    "                                     exog = exog_test.values)"
   ]
  },
  {
   "cell_type": "code",
   "execution_count": 28,
   "metadata": {},
   "outputs": [],
   "source": [
    "predict_sinus = pd.DataFrame(predict_sinus, columns=['Hyd_p_sinus'], index = indice)"
   ]
  },
  {
   "cell_type": "code",
   "execution_count": 29,
   "metadata": {},
   "outputs": [],
   "source": [
    "bilan = pd.concat([bilan, predict_sinus], axis = 1)"
   ]
  },
  {
   "cell_type": "markdown",
   "metadata": {},
   "source": [
    "### Erreur absolue"
   ]
  },
  {
   "cell_type": "code",
   "execution_count": 30,
   "metadata": {},
   "outputs": [
    {
     "data": {
      "text/html": [
       "<div>\n",
       "<style scoped>\n",
       "    .dataframe tbody tr th:only-of-type {\n",
       "        vertical-align: middle;\n",
       "    }\n",
       "\n",
       "    .dataframe tbody tr th {\n",
       "        vertical-align: top;\n",
       "    }\n",
       "\n",
       "    .dataframe thead th {\n",
       "        text-align: right;\n",
       "    }\n",
       "</style>\n",
       "<table border=\"1\" class=\"dataframe\">\n",
       "  <thead>\n",
       "    <tr style=\"text-align: right;\">\n",
       "      <th></th>\n",
       "      <th>Hydraulique</th>\n",
       "      <th>Capa_hyd</th>\n",
       "      <th>TCH_hyd</th>\n",
       "      <th>Hyd_p_sinus</th>\n",
       "      <th>Err_sinus</th>\n",
       "    </tr>\n",
       "  </thead>\n",
       "  <tbody>\n",
       "    <tr>\n",
       "      <th>count</th>\n",
       "      <td>670.000000</td>\n",
       "      <td>670.0</td>\n",
       "      <td>670.000000</td>\n",
       "      <td>670.000000</td>\n",
       "      <td>670.000000</td>\n",
       "    </tr>\n",
       "    <tr>\n",
       "      <th>mean</th>\n",
       "      <td>7260.388184</td>\n",
       "      <td>25346.0</td>\n",
       "      <td>0.286451</td>\n",
       "      <td>0.319838</td>\n",
       "      <td>0.065298</td>\n",
       "    </tr>\n",
       "    <tr>\n",
       "      <th>std</th>\n",
       "      <td>2126.241737</td>\n",
       "      <td>0.0</td>\n",
       "      <td>0.083889</td>\n",
       "      <td>0.077289</td>\n",
       "      <td>0.045091</td>\n",
       "    </tr>\n",
       "    <tr>\n",
       "      <th>min</th>\n",
       "      <td>2714.229167</td>\n",
       "      <td>25346.0</td>\n",
       "      <td>0.107087</td>\n",
       "      <td>0.128987</td>\n",
       "      <td>0.000027</td>\n",
       "    </tr>\n",
       "    <tr>\n",
       "      <th>25%</th>\n",
       "      <td>5620.468750</td>\n",
       "      <td>25346.0</td>\n",
       "      <td>0.221750</td>\n",
       "      <td>0.259692</td>\n",
       "      <td>0.031337</td>\n",
       "    </tr>\n",
       "    <tr>\n",
       "      <th>50%</th>\n",
       "      <td>7204.583333</td>\n",
       "      <td>25346.0</td>\n",
       "      <td>0.284249</td>\n",
       "      <td>0.329364</td>\n",
       "      <td>0.055099</td>\n",
       "    </tr>\n",
       "    <tr>\n",
       "      <th>75%</th>\n",
       "      <td>8798.942708</td>\n",
       "      <td>25346.0</td>\n",
       "      <td>0.347153</td>\n",
       "      <td>0.376340</td>\n",
       "      <td>0.091653</td>\n",
       "    </tr>\n",
       "    <tr>\n",
       "      <th>max</th>\n",
       "      <td>13298.458333</td>\n",
       "      <td>25346.0</td>\n",
       "      <td>0.524677</td>\n",
       "      <td>0.493240</td>\n",
       "      <td>0.233056</td>\n",
       "    </tr>\n",
       "  </tbody>\n",
       "</table>\n",
       "</div>"
      ],
      "text/plain": [
       "        Hydraulique  Capa_hyd     TCH_hyd  Hyd_p_sinus   Err_sinus\n",
       "count    670.000000     670.0  670.000000   670.000000  670.000000\n",
       "mean    7260.388184   25346.0    0.286451     0.319838    0.065298\n",
       "std     2126.241737       0.0    0.083889     0.077289    0.045091\n",
       "min     2714.229167   25346.0    0.107087     0.128987    0.000027\n",
       "25%     5620.468750   25346.0    0.221750     0.259692    0.031337\n",
       "50%     7204.583333   25346.0    0.284249     0.329364    0.055099\n",
       "75%     8798.942708   25346.0    0.347153     0.376340    0.091653\n",
       "max    13298.458333   25346.0    0.524677     0.493240    0.233056"
      ]
     },
     "execution_count": 30,
     "metadata": {},
     "output_type": "execute_result"
    }
   ],
   "source": [
    "bilan['Err_sinus'] = np.abs(bilan['Hyd_p_sinus'] - bilan['TCH_hyd'])\n",
    "bilan.describe()"
   ]
  },
  {
   "cell_type": "markdown",
   "metadata": {},
   "source": [
    "# Régresseurs exogènes : données métier"
   ]
  },
  {
   "cell_type": "code",
   "execution_count": 31,
   "metadata": {},
   "outputs": [
    {
     "data": {
      "text/html": [
       "<div>\n",
       "<style scoped>\n",
       "    .dataframe tbody tr th:only-of-type {\n",
       "        vertical-align: middle;\n",
       "    }\n",
       "\n",
       "    .dataframe tbody tr th {\n",
       "        vertical-align: top;\n",
       "    }\n",
       "\n",
       "    .dataframe thead th {\n",
       "        text-align: right;\n",
       "    }\n",
       "</style>\n",
       "<table border=\"1\" class=\"dataframe\">\n",
       "  <thead>\n",
       "    <tr style=\"text-align: right;\">\n",
       "      <th></th>\n",
       "      <th>Dates</th>\n",
       "      <th>Eau</th>\n",
       "    </tr>\n",
       "  </thead>\n",
       "  <tbody>\n",
       "    <tr>\n",
       "      <th>0</th>\n",
       "      <td>2013-01-01</td>\n",
       "      <td>1.806651</td>\n",
       "    </tr>\n",
       "  </tbody>\n",
       "</table>\n",
       "</div>"
      ],
      "text/plain": [
       "        Dates       Eau\n",
       "0  2013-01-01  1.806651"
      ]
     },
     "execution_count": 31,
     "metadata": {},
     "output_type": "execute_result"
    }
   ],
   "source": [
    "exog = pd.read_csv('./exog/exog_D_FR.csv', sep = ';',\n",
    "                   usecols = ['Dates', 'Eau'])\n",
    "exog.head(1)"
   ]
  },
  {
   "cell_type": "code",
   "execution_count": 32,
   "metadata": {},
   "outputs": [],
   "source": [
    "exog['Dates'] = pd.to_datetime(exog['Dates'], yearfirst = True)\n",
    "exog.set_index('Dates', inplace = True)"
   ]
  },
  {
   "cell_type": "code",
   "execution_count": 33,
   "metadata": {},
   "outputs": [],
   "source": [
    "# Split en jeu d'entrainement et jeu de test\n",
    "exog_train = exog[(exog.index >= debut) & (exog.index < fin)]\n",
    "exog_test = exog[exog.index >= fin]"
   ]
  },
  {
   "cell_type": "markdown",
   "metadata": {},
   "source": [
    "### SARIMAX"
   ]
  },
  {
   "cell_type": "code",
   "execution_count": 34,
   "metadata": {},
   "outputs": [],
   "source": [
    "model_exog = sm.tsa.SARIMAX(df_train['TCH_hyd'].values,\n",
    "                       exog = exog_train.values,\n",
    "                       # mle_regression = False, # Default = True\n",
    "                       # simple_differencing = True, #Default = False\n",
    "                       # state_regression = False,\n",
    "                       order = ordre,\n",
    "                       seasonal_order = saison)"
   ]
  },
  {
   "cell_type": "code",
   "execution_count": 35,
   "metadata": {},
   "outputs": [],
   "source": [
    "result_exog = model_exog.fit(low_memory=True)"
   ]
  },
  {
   "cell_type": "code",
   "execution_count": 36,
   "metadata": {},
   "outputs": [
    {
     "data": {
      "text/html": [
       "<table class=\"simpletable\">\n",
       "<caption>SARIMAX Results</caption>\n",
       "<tr>\n",
       "  <th>Dep. Variable:</th>           <td>y</td>        <th>  No. Observations:  </th>   <td>2556</td>   \n",
       "</tr>\n",
       "<tr>\n",
       "  <th>Model:</th>           <td>SARIMAX(2, 0, 0)</td> <th>  Log Likelihood     </th> <td>4716.634</td> \n",
       "</tr>\n",
       "<tr>\n",
       "  <th>Date:</th>            <td>Wed, 04 May 2022</td> <th>  AIC                </th> <td>-9425.268</td>\n",
       "</tr>\n",
       "<tr>\n",
       "  <th>Time:</th>                <td>10:27:35</td>     <th>  BIC                </th> <td>-9401.884</td>\n",
       "</tr>\n",
       "<tr>\n",
       "  <th>Sample:</th>                  <td>0</td>        <th>  HQIC               </th> <td>-9416.788</td>\n",
       "</tr>\n",
       "<tr>\n",
       "  <th></th>                      <td> - 2556</td>     <th>                     </th>     <td> </td>    \n",
       "</tr>\n",
       "<tr>\n",
       "  <th>Covariance Type:</th>      <td>approx</td>      <th>                     </th>     <td> </td>    \n",
       "</tr>\n",
       "</table>\n",
       "<table class=\"simpletable\">\n",
       "<tr>\n",
       "     <td></td>       <th>coef</th>     <th>std err</th>      <th>z</th>      <th>P>|z|</th>  <th>[0.025</th>    <th>0.975]</th>  \n",
       "</tr>\n",
       "<tr>\n",
       "  <th>x1</th>     <td>-7.957e-05</td> <td>    0.001</td> <td>   -0.151</td> <td> 0.880</td> <td>   -0.001</td> <td>    0.001</td>\n",
       "</tr>\n",
       "<tr>\n",
       "  <th>ar.L1</th>  <td>    0.9561</td> <td>    0.020</td> <td>   48.334</td> <td> 0.000</td> <td>    0.917</td> <td>    0.995</td>\n",
       "</tr>\n",
       "<tr>\n",
       "  <th>ar.L2</th>  <td>    0.0361</td> <td>    0.020</td> <td>    1.825</td> <td> 0.068</td> <td>   -0.003</td> <td>    0.075</td>\n",
       "</tr>\n",
       "<tr>\n",
       "  <th>sigma2</th> <td>    0.0015</td> <td> 4.08e-05</td> <td>   35.757</td> <td> 0.000</td> <td>    0.001</td> <td>    0.002</td>\n",
       "</tr>\n",
       "</table>\n",
       "<table class=\"simpletable\">\n",
       "<tr>\n",
       "  <th>Ljung-Box (L1) (Q):</th>     <td>0.51</td> <th>  Jarque-Bera (JB):  </th> <td>84.56</td>\n",
       "</tr>\n",
       "<tr>\n",
       "  <th>Prob(Q):</th>                <td>0.48</td> <th>  Prob(JB):          </th> <td>0.00</td> \n",
       "</tr>\n",
       "<tr>\n",
       "  <th>Heteroskedasticity (H):</th> <td>1.06</td> <th>  Skew:              </th> <td>0.26</td> \n",
       "</tr>\n",
       "<tr>\n",
       "  <th>Prob(H) (two-sided):</th>    <td>0.40</td> <th>  Kurtosis:          </th> <td>3.73</td> \n",
       "</tr>\n",
       "</table><br/><br/>Warnings:<br/>[1] Covariance matrix calculated using numerical (complex-step) differentiation."
      ],
      "text/plain": [
       "<class 'statsmodels.iolib.summary.Summary'>\n",
       "\"\"\"\n",
       "                               SARIMAX Results                                \n",
       "==============================================================================\n",
       "Dep. Variable:                      y   No. Observations:                 2556\n",
       "Model:               SARIMAX(2, 0, 0)   Log Likelihood                4716.634\n",
       "Date:                Wed, 04 May 2022   AIC                          -9425.268\n",
       "Time:                        10:27:35   BIC                          -9401.884\n",
       "Sample:                             0   HQIC                         -9416.788\n",
       "                               - 2556                                         \n",
       "Covariance Type:               approx                                         \n",
       "==============================================================================\n",
       "                 coef    std err          z      P>|z|      [0.025      0.975]\n",
       "------------------------------------------------------------------------------\n",
       "x1         -7.957e-05      0.001     -0.151      0.880      -0.001       0.001\n",
       "ar.L1          0.9561      0.020     48.334      0.000       0.917       0.995\n",
       "ar.L2          0.0361      0.020      1.825      0.068      -0.003       0.075\n",
       "sigma2         0.0015   4.08e-05     35.757      0.000       0.001       0.002\n",
       "===================================================================================\n",
       "Ljung-Box (L1) (Q):                   0.51   Jarque-Bera (JB):                84.56\n",
       "Prob(Q):                              0.48   Prob(JB):                         0.00\n",
       "Heteroskedasticity (H):               1.06   Skew:                             0.26\n",
       "Prob(H) (two-sided):                  0.40   Kurtosis:                         3.73\n",
       "===================================================================================\n",
       "\n",
       "Warnings:\n",
       "[1] Covariance matrix calculated using numerical (complex-step) differentiation.\n",
       "\"\"\""
      ]
     },
     "execution_count": 36,
     "metadata": {},
     "output_type": "execute_result"
    }
   ],
   "source": [
    "result_exog.summary()"
   ]
  },
  {
   "cell_type": "code",
   "execution_count": 37,
   "metadata": {},
   "outputs": [],
   "source": [
    "predict_exog = result_exog.predict(start = 1 ,\n",
    "                               end = fenetre,\n",
    "                               exog = exog_test.values)"
   ]
  },
  {
   "cell_type": "code",
   "execution_count": 38,
   "metadata": {},
   "outputs": [],
   "source": [
    "predict_exog = pd.DataFrame(predict_exog, index = indice, columns = ['Hyd_p_exog'])"
   ]
  },
  {
   "cell_type": "code",
   "execution_count": 39,
   "metadata": {
    "scrolled": true
   },
   "outputs": [],
   "source": [
    "bilan = pd.concat([bilan, predict_exog], axis = 1)"
   ]
  },
  {
   "cell_type": "markdown",
   "metadata": {},
   "source": [
    "### Erreur absolue"
   ]
  },
  {
   "cell_type": "code",
   "execution_count": 40,
   "metadata": {},
   "outputs": [
    {
     "data": {
      "text/html": [
       "<div>\n",
       "<style scoped>\n",
       "    .dataframe tbody tr th:only-of-type {\n",
       "        vertical-align: middle;\n",
       "    }\n",
       "\n",
       "    .dataframe tbody tr th {\n",
       "        vertical-align: top;\n",
       "    }\n",
       "\n",
       "    .dataframe thead th {\n",
       "        text-align: right;\n",
       "    }\n",
       "</style>\n",
       "<table border=\"1\" class=\"dataframe\">\n",
       "  <thead>\n",
       "    <tr style=\"text-align: right;\">\n",
       "      <th></th>\n",
       "      <th>Hydraulique</th>\n",
       "      <th>Capa_hyd</th>\n",
       "      <th>TCH_hyd</th>\n",
       "      <th>Hyd_p_sinus</th>\n",
       "      <th>Err_sinus</th>\n",
       "      <th>Hyd_p_exog</th>\n",
       "      <th>Err_exog</th>\n",
       "    </tr>\n",
       "  </thead>\n",
       "  <tbody>\n",
       "    <tr>\n",
       "      <th>count</th>\n",
       "      <td>670.000000</td>\n",
       "      <td>670.0</td>\n",
       "      <td>670.000000</td>\n",
       "      <td>670.000000</td>\n",
       "      <td>670.000000</td>\n",
       "      <td>670.000000</td>\n",
       "      <td>670.000000</td>\n",
       "    </tr>\n",
       "    <tr>\n",
       "      <th>mean</th>\n",
       "      <td>7260.388184</td>\n",
       "      <td>25346.0</td>\n",
       "      <td>0.286451</td>\n",
       "      <td>0.319838</td>\n",
       "      <td>0.065298</td>\n",
       "      <td>0.320023</td>\n",
       "      <td>0.065528</td>\n",
       "    </tr>\n",
       "    <tr>\n",
       "      <th>std</th>\n",
       "      <td>2126.241737</td>\n",
       "      <td>0.0</td>\n",
       "      <td>0.083889</td>\n",
       "      <td>0.077289</td>\n",
       "      <td>0.045091</td>\n",
       "      <td>0.076971</td>\n",
       "      <td>0.045100</td>\n",
       "    </tr>\n",
       "    <tr>\n",
       "      <th>min</th>\n",
       "      <td>2714.229167</td>\n",
       "      <td>25346.0</td>\n",
       "      <td>0.107087</td>\n",
       "      <td>0.128987</td>\n",
       "      <td>0.000027</td>\n",
       "      <td>0.129480</td>\n",
       "      <td>0.000239</td>\n",
       "    </tr>\n",
       "    <tr>\n",
       "      <th>25%</th>\n",
       "      <td>5620.468750</td>\n",
       "      <td>25346.0</td>\n",
       "      <td>0.221750</td>\n",
       "      <td>0.259692</td>\n",
       "      <td>0.031337</td>\n",
       "      <td>0.259386</td>\n",
       "      <td>0.031747</td>\n",
       "    </tr>\n",
       "    <tr>\n",
       "      <th>50%</th>\n",
       "      <td>7204.583333</td>\n",
       "      <td>25346.0</td>\n",
       "      <td>0.284249</td>\n",
       "      <td>0.329364</td>\n",
       "      <td>0.055099</td>\n",
       "      <td>0.330329</td>\n",
       "      <td>0.055730</td>\n",
       "    </tr>\n",
       "    <tr>\n",
       "      <th>75%</th>\n",
       "      <td>8798.942708</td>\n",
       "      <td>25346.0</td>\n",
       "      <td>0.347153</td>\n",
       "      <td>0.376340</td>\n",
       "      <td>0.091653</td>\n",
       "      <td>0.377015</td>\n",
       "      <td>0.091729</td>\n",
       "    </tr>\n",
       "    <tr>\n",
       "      <th>max</th>\n",
       "      <td>13298.458333</td>\n",
       "      <td>25346.0</td>\n",
       "      <td>0.524677</td>\n",
       "      <td>0.493240</td>\n",
       "      <td>0.233056</td>\n",
       "      <td>0.494307</td>\n",
       "      <td>0.232388</td>\n",
       "    </tr>\n",
       "  </tbody>\n",
       "</table>\n",
       "</div>"
      ],
      "text/plain": [
       "        Hydraulique  Capa_hyd     TCH_hyd  Hyd_p_sinus   Err_sinus  \\\n",
       "count    670.000000     670.0  670.000000   670.000000  670.000000   \n",
       "mean    7260.388184   25346.0    0.286451     0.319838    0.065298   \n",
       "std     2126.241737       0.0    0.083889     0.077289    0.045091   \n",
       "min     2714.229167   25346.0    0.107087     0.128987    0.000027   \n",
       "25%     5620.468750   25346.0    0.221750     0.259692    0.031337   \n",
       "50%     7204.583333   25346.0    0.284249     0.329364    0.055099   \n",
       "75%     8798.942708   25346.0    0.347153     0.376340    0.091653   \n",
       "max    13298.458333   25346.0    0.524677     0.493240    0.233056   \n",
       "\n",
       "       Hyd_p_exog    Err_exog  \n",
       "count  670.000000  670.000000  \n",
       "mean     0.320023    0.065528  \n",
       "std      0.076971    0.045100  \n",
       "min      0.129480    0.000239  \n",
       "25%      0.259386    0.031747  \n",
       "50%      0.330329    0.055730  \n",
       "75%      0.377015    0.091729  \n",
       "max      0.494307    0.232388  "
      ]
     },
     "execution_count": 40,
     "metadata": {},
     "output_type": "execute_result"
    }
   ],
   "source": [
    "bilan['Err_exog'] = np.abs(bilan['Hyd_p_exog'] - bilan['TCH_hyd'])\n",
    "bilan.describe()"
   ]
  },
  {
   "cell_type": "markdown",
   "metadata": {},
   "source": [
    "# Régresseurs exogènes : données métier FILTREES"
   ]
  },
  {
   "cell_type": "code",
   "execution_count": 41,
   "metadata": {},
   "outputs": [
    {
     "data": {
      "text/html": [
       "<div>\n",
       "<style scoped>\n",
       "    .dataframe tbody tr th:only-of-type {\n",
       "        vertical-align: middle;\n",
       "    }\n",
       "\n",
       "    .dataframe tbody tr th {\n",
       "        vertical-align: top;\n",
       "    }\n",
       "\n",
       "    .dataframe thead th {\n",
       "        text-align: right;\n",
       "    }\n",
       "</style>\n",
       "<table border=\"1\" class=\"dataframe\">\n",
       "  <thead>\n",
       "    <tr style=\"text-align: right;\">\n",
       "      <th></th>\n",
       "      <th>Dates</th>\n",
       "      <th>Eau</th>\n",
       "    </tr>\n",
       "  </thead>\n",
       "  <tbody>\n",
       "    <tr>\n",
       "      <th>0</th>\n",
       "      <td>2013-01-01</td>\n",
       "      <td>2.766248</td>\n",
       "    </tr>\n",
       "  </tbody>\n",
       "</table>\n",
       "</div>"
      ],
      "text/plain": [
       "        Dates       Eau\n",
       "0  2013-01-01  2.766248"
      ]
     },
     "execution_count": 41,
     "metadata": {},
     "output_type": "execute_result"
    }
   ],
   "source": [
    "exog = pd.read_csv('./exog/exog_D_FR_filtered.csv',# sep = ';',\n",
    "                   usecols = ['Dates', 'Eau'])\n",
    "exog.head(1)"
   ]
  },
  {
   "cell_type": "code",
   "execution_count": 42,
   "metadata": {},
   "outputs": [],
   "source": [
    "exog['Dates'] = pd.to_datetime(exog['Dates'], yearfirst = True)\n",
    "exog.set_index('Dates', inplace = True)"
   ]
  },
  {
   "cell_type": "code",
   "execution_count": 43,
   "metadata": {},
   "outputs": [],
   "source": [
    "# Split en jeu d'entrainement et jeu de test\n",
    "exog_train = exog[(exog.index >= debut) & (exog.index < fin)]\n",
    "exog_test = exog[exog.index >= fin]"
   ]
  },
  {
   "cell_type": "markdown",
   "metadata": {},
   "source": [
    "### SARIMAX"
   ]
  },
  {
   "cell_type": "code",
   "execution_count": 44,
   "metadata": {},
   "outputs": [],
   "source": [
    "model_filter = sm.tsa.SARIMAX(df_train['TCH_hyd'].values,\n",
    "                       exog = exog_train.values,\n",
    "                       # mle_regression = False, # Default = True\n",
    "                       # simple_differencing = True, #Default = False\n",
    "                       # state_regression = False,\n",
    "                       order = ordre,\n",
    "                       seasonal_order = saison)"
   ]
  },
  {
   "cell_type": "code",
   "execution_count": 45,
   "metadata": {},
   "outputs": [],
   "source": [
    "result_filter = model_filter.fit(low_memory=True)"
   ]
  },
  {
   "cell_type": "code",
   "execution_count": 46,
   "metadata": {},
   "outputs": [
    {
     "data": {
      "text/html": [
       "<table class=\"simpletable\">\n",
       "<caption>SARIMAX Results</caption>\n",
       "<tr>\n",
       "  <th>Dep. Variable:</th>           <td>y</td>        <th>  No. Observations:  </th>   <td>2556</td>   \n",
       "</tr>\n",
       "<tr>\n",
       "  <th>Model:</th>           <td>SARIMAX(2, 0, 0)</td> <th>  Log Likelihood     </th> <td>4716.829</td> \n",
       "</tr>\n",
       "<tr>\n",
       "  <th>Date:</th>            <td>Wed, 04 May 2022</td> <th>  AIC                </th> <td>-9425.658</td>\n",
       "</tr>\n",
       "<tr>\n",
       "  <th>Time:</th>                <td>10:27:39</td>     <th>  BIC                </th> <td>-9402.273</td>\n",
       "</tr>\n",
       "<tr>\n",
       "  <th>Sample:</th>                  <td>0</td>        <th>  HQIC               </th> <td>-9417.178</td>\n",
       "</tr>\n",
       "<tr>\n",
       "  <th></th>                      <td> - 2556</td>     <th>                     </th>     <td> </td>    \n",
       "</tr>\n",
       "<tr>\n",
       "  <th>Covariance Type:</th>      <td>approx</td>      <th>                     </th>     <td> </td>    \n",
       "</tr>\n",
       "</table>\n",
       "<table class=\"simpletable\">\n",
       "<tr>\n",
       "     <td></td>       <th>coef</th>     <th>std err</th>      <th>z</th>      <th>P>|z|</th>  <th>[0.025</th>    <th>0.975]</th>  \n",
       "</tr>\n",
       "<tr>\n",
       "  <th>x1</th>     <td>   -0.0004</td> <td>    0.001</td> <td>   -0.649</td> <td> 0.517</td> <td>   -0.001</td> <td>    0.001</td>\n",
       "</tr>\n",
       "<tr>\n",
       "  <th>ar.L1</th>  <td>    0.9559</td> <td>    0.020</td> <td>   48.332</td> <td> 0.000</td> <td>    0.917</td> <td>    0.995</td>\n",
       "</tr>\n",
       "<tr>\n",
       "  <th>ar.L2</th>  <td>    0.0363</td> <td>    0.020</td> <td>    1.835</td> <td> 0.066</td> <td>   -0.002</td> <td>    0.075</td>\n",
       "</tr>\n",
       "<tr>\n",
       "  <th>sigma2</th> <td>    0.0015</td> <td> 4.08e-05</td> <td>   35.758</td> <td> 0.000</td> <td>    0.001</td> <td>    0.002</td>\n",
       "</tr>\n",
       "</table>\n",
       "<table class=\"simpletable\">\n",
       "<tr>\n",
       "  <th>Ljung-Box (L1) (Q):</th>     <td>0.51</td> <th>  Jarque-Bera (JB):  </th> <td>85.17</td>\n",
       "</tr>\n",
       "<tr>\n",
       "  <th>Prob(Q):</th>                <td>0.47</td> <th>  Prob(JB):          </th> <td>0.00</td> \n",
       "</tr>\n",
       "<tr>\n",
       "  <th>Heteroskedasticity (H):</th> <td>1.06</td> <th>  Skew:              </th> <td>0.26</td> \n",
       "</tr>\n",
       "<tr>\n",
       "  <th>Prob(H) (two-sided):</th>    <td>0.40</td> <th>  Kurtosis:          </th> <td>3.73</td> \n",
       "</tr>\n",
       "</table><br/><br/>Warnings:<br/>[1] Covariance matrix calculated using numerical (complex-step) differentiation."
      ],
      "text/plain": [
       "<class 'statsmodels.iolib.summary.Summary'>\n",
       "\"\"\"\n",
       "                               SARIMAX Results                                \n",
       "==============================================================================\n",
       "Dep. Variable:                      y   No. Observations:                 2556\n",
       "Model:               SARIMAX(2, 0, 0)   Log Likelihood                4716.829\n",
       "Date:                Wed, 04 May 2022   AIC                          -9425.658\n",
       "Time:                        10:27:39   BIC                          -9402.273\n",
       "Sample:                             0   HQIC                         -9417.178\n",
       "                               - 2556                                         \n",
       "Covariance Type:               approx                                         \n",
       "==============================================================================\n",
       "                 coef    std err          z      P>|z|      [0.025      0.975]\n",
       "------------------------------------------------------------------------------\n",
       "x1            -0.0004      0.001     -0.649      0.517      -0.001       0.001\n",
       "ar.L1          0.9559      0.020     48.332      0.000       0.917       0.995\n",
       "ar.L2          0.0363      0.020      1.835      0.066      -0.002       0.075\n",
       "sigma2         0.0015   4.08e-05     35.758      0.000       0.001       0.002\n",
       "===================================================================================\n",
       "Ljung-Box (L1) (Q):                   0.51   Jarque-Bera (JB):                85.17\n",
       "Prob(Q):                              0.47   Prob(JB):                         0.00\n",
       "Heteroskedasticity (H):               1.06   Skew:                             0.26\n",
       "Prob(H) (two-sided):                  0.40   Kurtosis:                         3.73\n",
       "===================================================================================\n",
       "\n",
       "Warnings:\n",
       "[1] Covariance matrix calculated using numerical (complex-step) differentiation.\n",
       "\"\"\""
      ]
     },
     "execution_count": 46,
     "metadata": {},
     "output_type": "execute_result"
    }
   ],
   "source": [
    "result_filter.summary()"
   ]
  },
  {
   "cell_type": "code",
   "execution_count": 47,
   "metadata": {},
   "outputs": [],
   "source": [
    "predict_filter = result_filter.predict(start = 1 ,\n",
    "                               end = fenetre,\n",
    "                               exog = exog_test.values)"
   ]
  },
  {
   "cell_type": "code",
   "execution_count": 48,
   "metadata": {},
   "outputs": [],
   "source": [
    "predict_filter = pd.DataFrame(predict_filter, index = indice, columns = ['Hyd_p_filter'])"
   ]
  },
  {
   "cell_type": "code",
   "execution_count": 49,
   "metadata": {
    "scrolled": true
   },
   "outputs": [],
   "source": [
    "bilan = pd.concat([bilan, predict_filter], axis = 1)"
   ]
  },
  {
   "cell_type": "markdown",
   "metadata": {},
   "source": [
    "### Erreur absolue"
   ]
  },
  {
   "cell_type": "code",
   "execution_count": 50,
   "metadata": {},
   "outputs": [
    {
     "data": {
      "text/html": [
       "<div>\n",
       "<style scoped>\n",
       "    .dataframe tbody tr th:only-of-type {\n",
       "        vertical-align: middle;\n",
       "    }\n",
       "\n",
       "    .dataframe tbody tr th {\n",
       "        vertical-align: top;\n",
       "    }\n",
       "\n",
       "    .dataframe thead th {\n",
       "        text-align: right;\n",
       "    }\n",
       "</style>\n",
       "<table border=\"1\" class=\"dataframe\">\n",
       "  <thead>\n",
       "    <tr style=\"text-align: right;\">\n",
       "      <th></th>\n",
       "      <th>Hydraulique</th>\n",
       "      <th>Capa_hyd</th>\n",
       "      <th>TCH_hyd</th>\n",
       "      <th>Hyd_p_sinus</th>\n",
       "      <th>Err_sinus</th>\n",
       "      <th>Hyd_p_exog</th>\n",
       "      <th>Err_exog</th>\n",
       "      <th>Hyd_p_filter</th>\n",
       "      <th>Err_exog_filter</th>\n",
       "    </tr>\n",
       "  </thead>\n",
       "  <tbody>\n",
       "    <tr>\n",
       "      <th>count</th>\n",
       "      <td>670.000000</td>\n",
       "      <td>670.0</td>\n",
       "      <td>670.000000</td>\n",
       "      <td>670.000000</td>\n",
       "      <td>670.000000</td>\n",
       "      <td>670.000000</td>\n",
       "      <td>670.000000</td>\n",
       "      <td>670.000000</td>\n",
       "      <td>670.000000</td>\n",
       "    </tr>\n",
       "    <tr>\n",
       "      <th>mean</th>\n",
       "      <td>7260.388184</td>\n",
       "      <td>25346.0</td>\n",
       "      <td>0.286451</td>\n",
       "      <td>0.319838</td>\n",
       "      <td>0.065298</td>\n",
       "      <td>0.320023</td>\n",
       "      <td>0.065528</td>\n",
       "      <td>0.320028</td>\n",
       "      <td>0.065533</td>\n",
       "    </tr>\n",
       "    <tr>\n",
       "      <th>std</th>\n",
       "      <td>2126.241737</td>\n",
       "      <td>0.0</td>\n",
       "      <td>0.083889</td>\n",
       "      <td>0.077289</td>\n",
       "      <td>0.045091</td>\n",
       "      <td>0.076971</td>\n",
       "      <td>0.045100</td>\n",
       "      <td>0.076987</td>\n",
       "      <td>0.045108</td>\n",
       "    </tr>\n",
       "    <tr>\n",
       "      <th>min</th>\n",
       "      <td>2714.229167</td>\n",
       "      <td>25346.0</td>\n",
       "      <td>0.107087</td>\n",
       "      <td>0.128987</td>\n",
       "      <td>0.000027</td>\n",
       "      <td>0.129480</td>\n",
       "      <td>0.000239</td>\n",
       "      <td>0.129645</td>\n",
       "      <td>0.000138</td>\n",
       "    </tr>\n",
       "    <tr>\n",
       "      <th>25%</th>\n",
       "      <td>5620.468750</td>\n",
       "      <td>25346.0</td>\n",
       "      <td>0.221750</td>\n",
       "      <td>0.259692</td>\n",
       "      <td>0.031337</td>\n",
       "      <td>0.259386</td>\n",
       "      <td>0.031747</td>\n",
       "      <td>0.259357</td>\n",
       "      <td>0.031381</td>\n",
       "    </tr>\n",
       "    <tr>\n",
       "      <th>50%</th>\n",
       "      <td>7204.583333</td>\n",
       "      <td>25346.0</td>\n",
       "      <td>0.284249</td>\n",
       "      <td>0.329364</td>\n",
       "      <td>0.055099</td>\n",
       "      <td>0.330329</td>\n",
       "      <td>0.055730</td>\n",
       "      <td>0.330138</td>\n",
       "      <td>0.055751</td>\n",
       "    </tr>\n",
       "    <tr>\n",
       "      <th>75%</th>\n",
       "      <td>8798.942708</td>\n",
       "      <td>25346.0</td>\n",
       "      <td>0.347153</td>\n",
       "      <td>0.376340</td>\n",
       "      <td>0.091653</td>\n",
       "      <td>0.377015</td>\n",
       "      <td>0.091729</td>\n",
       "      <td>0.377154</td>\n",
       "      <td>0.091664</td>\n",
       "    </tr>\n",
       "    <tr>\n",
       "      <th>max</th>\n",
       "      <td>13298.458333</td>\n",
       "      <td>25346.0</td>\n",
       "      <td>0.524677</td>\n",
       "      <td>0.493240</td>\n",
       "      <td>0.233056</td>\n",
       "      <td>0.494307</td>\n",
       "      <td>0.232388</td>\n",
       "      <td>0.494471</td>\n",
       "      <td>0.232703</td>\n",
       "    </tr>\n",
       "  </tbody>\n",
       "</table>\n",
       "</div>"
      ],
      "text/plain": [
       "        Hydraulique  Capa_hyd     TCH_hyd  Hyd_p_sinus   Err_sinus  \\\n",
       "count    670.000000     670.0  670.000000   670.000000  670.000000   \n",
       "mean    7260.388184   25346.0    0.286451     0.319838    0.065298   \n",
       "std     2126.241737       0.0    0.083889     0.077289    0.045091   \n",
       "min     2714.229167   25346.0    0.107087     0.128987    0.000027   \n",
       "25%     5620.468750   25346.0    0.221750     0.259692    0.031337   \n",
       "50%     7204.583333   25346.0    0.284249     0.329364    0.055099   \n",
       "75%     8798.942708   25346.0    0.347153     0.376340    0.091653   \n",
       "max    13298.458333   25346.0    0.524677     0.493240    0.233056   \n",
       "\n",
       "       Hyd_p_exog    Err_exog  Hyd_p_filter  Err_exog_filter  \n",
       "count  670.000000  670.000000    670.000000       670.000000  \n",
       "mean     0.320023    0.065528      0.320028         0.065533  \n",
       "std      0.076971    0.045100      0.076987         0.045108  \n",
       "min      0.129480    0.000239      0.129645         0.000138  \n",
       "25%      0.259386    0.031747      0.259357         0.031381  \n",
       "50%      0.330329    0.055730      0.330138         0.055751  \n",
       "75%      0.377015    0.091729      0.377154         0.091664  \n",
       "max      0.494307    0.232388      0.494471         0.232703  "
      ]
     },
     "execution_count": 50,
     "metadata": {},
     "output_type": "execute_result"
    }
   ],
   "source": [
    "bilan['Err_exog_filter'] = np.abs(bilan['Hyd_p_filter'] - bilan['TCH_hyd'])\n",
    "bilan.describe()"
   ]
  },
  {
   "cell_type": "markdown",
   "metadata": {},
   "source": [
    "# Target FILTREE sans régresseur"
   ]
  },
  {
   "cell_type": "markdown",
   "metadata": {},
   "source": [
    "### SARIMAX"
   ]
  },
  {
   "cell_type": "code",
   "execution_count": 51,
   "metadata": {},
   "outputs": [],
   "source": [
    "model_reduit_noreg = sm.tsa.SARIMAX(df_train_filter['TCH_hyd'].values,\n",
    "                       # exog = exog_train.values,\n",
    "                       # mle_regression = False, # Default = True\n",
    "                       # simple_differencing = True, #Default = False\n",
    "                       # state_regression = False,\n",
    "                       order = ordre,\n",
    "                       seasonal_order = saison)"
   ]
  },
  {
   "cell_type": "code",
   "execution_count": 52,
   "metadata": {},
   "outputs": [],
   "source": [
    "result_reduit_noreg = model_reduit_noreg.fit(low_memory=True)"
   ]
  },
  {
   "cell_type": "code",
   "execution_count": 53,
   "metadata": {},
   "outputs": [
    {
     "data": {
      "text/html": [
       "<table class=\"simpletable\">\n",
       "<caption>SARIMAX Results</caption>\n",
       "<tr>\n",
       "  <th>Dep. Variable:</th>           <td>y</td>        <th>  No. Observations:  </th>    <td>2556</td>   \n",
       "</tr>\n",
       "<tr>\n",
       "  <th>Model:</th>           <td>SARIMAX(2, 0, 0)</td> <th>  Log Likelihood     </th>  <td>5347.844</td> \n",
       "</tr>\n",
       "<tr>\n",
       "  <th>Date:</th>            <td>Wed, 04 May 2022</td> <th>  AIC                </th> <td>-10689.688</td>\n",
       "</tr>\n",
       "<tr>\n",
       "  <th>Time:</th>                <td>10:27:39</td>     <th>  BIC                </th> <td>-10672.149</td>\n",
       "</tr>\n",
       "<tr>\n",
       "  <th>Sample:</th>                  <td>0</td>        <th>  HQIC               </th> <td>-10683.327</td>\n",
       "</tr>\n",
       "<tr>\n",
       "  <th></th>                      <td> - 2556</td>     <th>                     </th>      <td> </td>    \n",
       "</tr>\n",
       "<tr>\n",
       "  <th>Covariance Type:</th>      <td>approx</td>      <th>                     </th>      <td> </td>    \n",
       "</tr>\n",
       "</table>\n",
       "<table class=\"simpletable\">\n",
       "<tr>\n",
       "     <td></td>       <th>coef</th>     <th>std err</th>      <th>z</th>      <th>P>|z|</th>  <th>[0.025</th>    <th>0.975]</th>  \n",
       "</tr>\n",
       "<tr>\n",
       "  <th>ar.L1</th>  <td>    1.0545</td> <td>    0.020</td> <td>   53.422</td> <td> 0.000</td> <td>    1.016</td> <td>    1.093</td>\n",
       "</tr>\n",
       "<tr>\n",
       "  <th>ar.L2</th>  <td>   -0.0597</td> <td>    0.020</td> <td>   -3.024</td> <td> 0.002</td> <td>   -0.098</td> <td>   -0.021</td>\n",
       "</tr>\n",
       "<tr>\n",
       "  <th>sigma2</th> <td>    0.0009</td> <td> 2.49e-05</td> <td>   35.749</td> <td> 0.000</td> <td>    0.001</td> <td>    0.001</td>\n",
       "</tr>\n",
       "</table>\n",
       "<table class=\"simpletable\">\n",
       "<tr>\n",
       "  <th>Ljung-Box (L1) (Q):</th>     <td>1.32</td> <th>  Jarque-Bera (JB):  </th> <td>166.03</td>\n",
       "</tr>\n",
       "<tr>\n",
       "  <th>Prob(Q):</th>                <td>0.25</td> <th>  Prob(JB):          </th>  <td>0.00</td> \n",
       "</tr>\n",
       "<tr>\n",
       "  <th>Heteroskedasticity (H):</th> <td>1.09</td> <th>  Skew:              </th>  <td>0.59</td> \n",
       "</tr>\n",
       "<tr>\n",
       "  <th>Prob(H) (two-sided):</th>    <td>0.20</td> <th>  Kurtosis:          </th>  <td>3.43</td> \n",
       "</tr>\n",
       "</table><br/><br/>Warnings:<br/>[1] Covariance matrix calculated using numerical (complex-step) differentiation."
      ],
      "text/plain": [
       "<class 'statsmodels.iolib.summary.Summary'>\n",
       "\"\"\"\n",
       "                               SARIMAX Results                                \n",
       "==============================================================================\n",
       "Dep. Variable:                      y   No. Observations:                 2556\n",
       "Model:               SARIMAX(2, 0, 0)   Log Likelihood                5347.844\n",
       "Date:                Wed, 04 May 2022   AIC                         -10689.688\n",
       "Time:                        10:27:39   BIC                         -10672.149\n",
       "Sample:                             0   HQIC                        -10683.327\n",
       "                               - 2556                                         \n",
       "Covariance Type:               approx                                         \n",
       "==============================================================================\n",
       "                 coef    std err          z      P>|z|      [0.025      0.975]\n",
       "------------------------------------------------------------------------------\n",
       "ar.L1          1.0545      0.020     53.422      0.000       1.016       1.093\n",
       "ar.L2         -0.0597      0.020     -3.024      0.002      -0.098      -0.021\n",
       "sigma2         0.0009   2.49e-05     35.749      0.000       0.001       0.001\n",
       "===================================================================================\n",
       "Ljung-Box (L1) (Q):                   1.32   Jarque-Bera (JB):               166.03\n",
       "Prob(Q):                              0.25   Prob(JB):                         0.00\n",
       "Heteroskedasticity (H):               1.09   Skew:                             0.59\n",
       "Prob(H) (two-sided):                  0.20   Kurtosis:                         3.43\n",
       "===================================================================================\n",
       "\n",
       "Warnings:\n",
       "[1] Covariance matrix calculated using numerical (complex-step) differentiation.\n",
       "\"\"\""
      ]
     },
     "execution_count": 53,
     "metadata": {},
     "output_type": "execute_result"
    }
   ],
   "source": [
    "result_reduit_noreg.summary()"
   ]
  },
  {
   "cell_type": "code",
   "execution_count": 54,
   "metadata": {},
   "outputs": [],
   "source": [
    "predict_reduit_noreg = result_reduit_noreg.predict(start = 1 ,\n",
    "                               end = fenetre,\n",
    "                               # exog = exog_test.values\n",
    "                            )"
   ]
  },
  {
   "cell_type": "code",
   "execution_count": 55,
   "metadata": {},
   "outputs": [],
   "source": [
    "predict_reduit_noreg = pd.DataFrame(predict_reduit_noreg, index = indice, columns = ['Hyd_p_reduit_noreg'])"
   ]
  },
  {
   "cell_type": "code",
   "execution_count": 56,
   "metadata": {
    "scrolled": true
   },
   "outputs": [],
   "source": [
    "bilan = pd.concat([bilan, predict_reduit_noreg], axis = 1)"
   ]
  },
  {
   "cell_type": "markdown",
   "metadata": {},
   "source": [
    "### Erreur absolue"
   ]
  },
  {
   "cell_type": "code",
   "execution_count": 57,
   "metadata": {},
   "outputs": [
    {
     "data": {
      "text/html": [
       "<div>\n",
       "<style scoped>\n",
       "    .dataframe tbody tr th:only-of-type {\n",
       "        vertical-align: middle;\n",
       "    }\n",
       "\n",
       "    .dataframe tbody tr th {\n",
       "        vertical-align: top;\n",
       "    }\n",
       "\n",
       "    .dataframe thead th {\n",
       "        text-align: right;\n",
       "    }\n",
       "</style>\n",
       "<table border=\"1\" class=\"dataframe\">\n",
       "  <thead>\n",
       "    <tr style=\"text-align: right;\">\n",
       "      <th></th>\n",
       "      <th>Hydraulique</th>\n",
       "      <th>Capa_hyd</th>\n",
       "      <th>TCH_hyd</th>\n",
       "      <th>Hyd_p_sinus</th>\n",
       "      <th>Err_sinus</th>\n",
       "      <th>Hyd_p_exog</th>\n",
       "      <th>Err_exog</th>\n",
       "      <th>Hyd_p_filter</th>\n",
       "      <th>Err_exog_filter</th>\n",
       "      <th>Hyd_p_reduit_noreg</th>\n",
       "      <th>Err_filter_noreg</th>\n",
       "    </tr>\n",
       "  </thead>\n",
       "  <tbody>\n",
       "    <tr>\n",
       "      <th>count</th>\n",
       "      <td>670.000000</td>\n",
       "      <td>670.0</td>\n",
       "      <td>670.000000</td>\n",
       "      <td>670.000000</td>\n",
       "      <td>670.000000</td>\n",
       "      <td>670.000000</td>\n",
       "      <td>670.000000</td>\n",
       "      <td>670.000000</td>\n",
       "      <td>670.000000</td>\n",
       "      <td>670.000000</td>\n",
       "      <td>670.000000</td>\n",
       "    </tr>\n",
       "    <tr>\n",
       "      <th>mean</th>\n",
       "      <td>7260.388184</td>\n",
       "      <td>25346.0</td>\n",
       "      <td>0.286451</td>\n",
       "      <td>0.319838</td>\n",
       "      <td>0.065298</td>\n",
       "      <td>0.320023</td>\n",
       "      <td>0.065528</td>\n",
       "      <td>0.320028</td>\n",
       "      <td>0.065533</td>\n",
       "      <td>0.319717</td>\n",
       "      <td>0.063185</td>\n",
       "    </tr>\n",
       "    <tr>\n",
       "      <th>std</th>\n",
       "      <td>2126.241737</td>\n",
       "      <td>0.0</td>\n",
       "      <td>0.083889</td>\n",
       "      <td>0.077289</td>\n",
       "      <td>0.045091</td>\n",
       "      <td>0.076971</td>\n",
       "      <td>0.045100</td>\n",
       "      <td>0.076987</td>\n",
       "      <td>0.045108</td>\n",
       "      <td>0.075358</td>\n",
       "      <td>0.044097</td>\n",
       "    </tr>\n",
       "    <tr>\n",
       "      <th>min</th>\n",
       "      <td>2714.229167</td>\n",
       "      <td>25346.0</td>\n",
       "      <td>0.107087</td>\n",
       "      <td>0.128987</td>\n",
       "      <td>0.000027</td>\n",
       "      <td>0.129480</td>\n",
       "      <td>0.000239</td>\n",
       "      <td>0.129645</td>\n",
       "      <td>0.000138</td>\n",
       "      <td>0.122704</td>\n",
       "      <td>0.000255</td>\n",
       "    </tr>\n",
       "    <tr>\n",
       "      <th>25%</th>\n",
       "      <td>5620.468750</td>\n",
       "      <td>25346.0</td>\n",
       "      <td>0.221750</td>\n",
       "      <td>0.259692</td>\n",
       "      <td>0.031337</td>\n",
       "      <td>0.259386</td>\n",
       "      <td>0.031747</td>\n",
       "      <td>0.259357</td>\n",
       "      <td>0.031381</td>\n",
       "      <td>0.264728</td>\n",
       "      <td>0.028815</td>\n",
       "    </tr>\n",
       "    <tr>\n",
       "      <th>50%</th>\n",
       "      <td>7204.583333</td>\n",
       "      <td>25346.0</td>\n",
       "      <td>0.284249</td>\n",
       "      <td>0.329364</td>\n",
       "      <td>0.055099</td>\n",
       "      <td>0.330329</td>\n",
       "      <td>0.055730</td>\n",
       "      <td>0.330138</td>\n",
       "      <td>0.055751</td>\n",
       "      <td>0.327012</td>\n",
       "      <td>0.055479</td>\n",
       "    </tr>\n",
       "    <tr>\n",
       "      <th>75%</th>\n",
       "      <td>8798.942708</td>\n",
       "      <td>25346.0</td>\n",
       "      <td>0.347153</td>\n",
       "      <td>0.376340</td>\n",
       "      <td>0.091653</td>\n",
       "      <td>0.377015</td>\n",
       "      <td>0.091729</td>\n",
       "      <td>0.377154</td>\n",
       "      <td>0.091664</td>\n",
       "      <td>0.372683</td>\n",
       "      <td>0.089390</td>\n",
       "    </tr>\n",
       "    <tr>\n",
       "      <th>max</th>\n",
       "      <td>13298.458333</td>\n",
       "      <td>25346.0</td>\n",
       "      <td>0.524677</td>\n",
       "      <td>0.493240</td>\n",
       "      <td>0.233056</td>\n",
       "      <td>0.494307</td>\n",
       "      <td>0.232388</td>\n",
       "      <td>0.494471</td>\n",
       "      <td>0.232703</td>\n",
       "      <td>0.484728</td>\n",
       "      <td>0.224707</td>\n",
       "    </tr>\n",
       "  </tbody>\n",
       "</table>\n",
       "</div>"
      ],
      "text/plain": [
       "        Hydraulique  Capa_hyd     TCH_hyd  Hyd_p_sinus   Err_sinus  \\\n",
       "count    670.000000     670.0  670.000000   670.000000  670.000000   \n",
       "mean    7260.388184   25346.0    0.286451     0.319838    0.065298   \n",
       "std     2126.241737       0.0    0.083889     0.077289    0.045091   \n",
       "min     2714.229167   25346.0    0.107087     0.128987    0.000027   \n",
       "25%     5620.468750   25346.0    0.221750     0.259692    0.031337   \n",
       "50%     7204.583333   25346.0    0.284249     0.329364    0.055099   \n",
       "75%     8798.942708   25346.0    0.347153     0.376340    0.091653   \n",
       "max    13298.458333   25346.0    0.524677     0.493240    0.233056   \n",
       "\n",
       "       Hyd_p_exog    Err_exog  Hyd_p_filter  Err_exog_filter  \\\n",
       "count  670.000000  670.000000    670.000000       670.000000   \n",
       "mean     0.320023    0.065528      0.320028         0.065533   \n",
       "std      0.076971    0.045100      0.076987         0.045108   \n",
       "min      0.129480    0.000239      0.129645         0.000138   \n",
       "25%      0.259386    0.031747      0.259357         0.031381   \n",
       "50%      0.330329    0.055730      0.330138         0.055751   \n",
       "75%      0.377015    0.091729      0.377154         0.091664   \n",
       "max      0.494307    0.232388      0.494471         0.232703   \n",
       "\n",
       "       Hyd_p_reduit_noreg  Err_filter_noreg  \n",
       "count          670.000000        670.000000  \n",
       "mean             0.319717          0.063185  \n",
       "std              0.075358          0.044097  \n",
       "min              0.122704          0.000255  \n",
       "25%              0.264728          0.028815  \n",
       "50%              0.327012          0.055479  \n",
       "75%              0.372683          0.089390  \n",
       "max              0.484728          0.224707  "
      ]
     },
     "execution_count": 57,
     "metadata": {},
     "output_type": "execute_result"
    }
   ],
   "source": [
    "bilan['Err_filter_noreg'] = np.abs(bilan['Hyd_p_reduit_noreg'] - bilan['TCH_hyd'])\n",
    "bilan.describe()"
   ]
  },
  {
   "cell_type": "markdown",
   "metadata": {},
   "source": [
    "# Target FILTREE avec Régresseurs exogènes : données métier FILTREES"
   ]
  },
  {
   "cell_type": "code",
   "execution_count": 58,
   "metadata": {},
   "outputs": [
    {
     "data": {
      "text/html": [
       "<div>\n",
       "<style scoped>\n",
       "    .dataframe tbody tr th:only-of-type {\n",
       "        vertical-align: middle;\n",
       "    }\n",
       "\n",
       "    .dataframe tbody tr th {\n",
       "        vertical-align: top;\n",
       "    }\n",
       "\n",
       "    .dataframe thead th {\n",
       "        text-align: right;\n",
       "    }\n",
       "</style>\n",
       "<table border=\"1\" class=\"dataframe\">\n",
       "  <thead>\n",
       "    <tr style=\"text-align: right;\">\n",
       "      <th></th>\n",
       "      <th>Dates</th>\n",
       "      <th>Eau</th>\n",
       "    </tr>\n",
       "  </thead>\n",
       "  <tbody>\n",
       "    <tr>\n",
       "      <th>0</th>\n",
       "      <td>2013-01-01</td>\n",
       "      <td>2.766248</td>\n",
       "    </tr>\n",
       "  </tbody>\n",
       "</table>\n",
       "</div>"
      ],
      "text/plain": [
       "        Dates       Eau\n",
       "0  2013-01-01  2.766248"
      ]
     },
     "execution_count": 58,
     "metadata": {},
     "output_type": "execute_result"
    }
   ],
   "source": [
    "exog = pd.read_csv('./exog/exog_D_FR_filtered.csv',# sep = ';',\n",
    "                   usecols = ['Dates', 'Eau'])\n",
    "exog.head(1)"
   ]
  },
  {
   "cell_type": "code",
   "execution_count": 59,
   "metadata": {},
   "outputs": [],
   "source": [
    "exog['Dates'] = pd.to_datetime(exog['Dates'], yearfirst = True)\n",
    "exog.set_index('Dates', inplace = True)"
   ]
  },
  {
   "cell_type": "code",
   "execution_count": 60,
   "metadata": {},
   "outputs": [],
   "source": [
    "# Split en jeu d'entrainement et jeu de test\n",
    "exog_train = exog[(exog.index >= debut) & (exog.index < fin)]\n",
    "exog_test = exog[exog.index >= fin]"
   ]
  },
  {
   "cell_type": "markdown",
   "metadata": {},
   "source": [
    "### SARIMAX"
   ]
  },
  {
   "cell_type": "code",
   "execution_count": 61,
   "metadata": {},
   "outputs": [],
   "source": [
    "model_reduit = sm.tsa.SARIMAX(df_train_filter['TCH_hyd'].values,\n",
    "                       exog = exog_train.values,\n",
    "                       # mle_regression = False, # Default = True\n",
    "                       # simple_differencing = True, #Default = False\n",
    "                       # state_regression = False,\n",
    "                       order = ordre,\n",
    "                       seasonal_order = saison)"
   ]
  },
  {
   "cell_type": "code",
   "execution_count": 62,
   "metadata": {},
   "outputs": [],
   "source": [
    "result_reduit = model_reduit.fit(low_memory=True)"
   ]
  },
  {
   "cell_type": "code",
   "execution_count": 63,
   "metadata": {},
   "outputs": [
    {
     "data": {
      "text/html": [
       "<table class=\"simpletable\">\n",
       "<caption>SARIMAX Results</caption>\n",
       "<tr>\n",
       "  <th>Dep. Variable:</th>           <td>y</td>        <th>  No. Observations:  </th>    <td>2556</td>   \n",
       "</tr>\n",
       "<tr>\n",
       "  <th>Model:</th>           <td>SARIMAX(2, 0, 0)</td> <th>  Log Likelihood     </th>  <td>5348.302</td> \n",
       "</tr>\n",
       "<tr>\n",
       "  <th>Date:</th>            <td>Wed, 04 May 2022</td> <th>  AIC                </th> <td>-10688.604</td>\n",
       "</tr>\n",
       "<tr>\n",
       "  <th>Time:</th>                <td>10:27:44</td>     <th>  BIC                </th> <td>-10665.219</td>\n",
       "</tr>\n",
       "<tr>\n",
       "  <th>Sample:</th>                  <td>0</td>        <th>  HQIC               </th> <td>-10680.123</td>\n",
       "</tr>\n",
       "<tr>\n",
       "  <th></th>                      <td> - 2556</td>     <th>                     </th>      <td> </td>    \n",
       "</tr>\n",
       "<tr>\n",
       "  <th>Covariance Type:</th>      <td>approx</td>      <th>                     </th>      <td> </td>    \n",
       "</tr>\n",
       "</table>\n",
       "<table class=\"simpletable\">\n",
       "<tr>\n",
       "     <td></td>       <th>coef</th>     <th>std err</th>      <th>z</th>      <th>P>|z|</th>  <th>[0.025</th>    <th>0.975]</th>  \n",
       "</tr>\n",
       "<tr>\n",
       "  <th>x1</th>     <td>   -0.0004</td> <td>    0.000</td> <td>   -0.967</td> <td> 0.333</td> <td>   -0.001</td> <td>    0.000</td>\n",
       "</tr>\n",
       "<tr>\n",
       "  <th>ar.L1</th>  <td>    1.0540</td> <td>    0.020</td> <td>   53.383</td> <td> 0.000</td> <td>    1.015</td> <td>    1.093</td>\n",
       "</tr>\n",
       "<tr>\n",
       "  <th>ar.L2</th>  <td>   -0.0593</td> <td>    0.020</td> <td>   -3.001</td> <td> 0.003</td> <td>   -0.098</td> <td>   -0.021</td>\n",
       "</tr>\n",
       "<tr>\n",
       "  <th>sigma2</th> <td>    0.0009</td> <td> 2.49e-05</td> <td>   35.761</td> <td> 0.000</td> <td>    0.001</td> <td>    0.001</td>\n",
       "</tr>\n",
       "</table>\n",
       "<table class=\"simpletable\">\n",
       "<tr>\n",
       "  <th>Ljung-Box (L1) (Q):</th>     <td>1.30</td> <th>  Jarque-Bera (JB):  </th> <td>164.59</td>\n",
       "</tr>\n",
       "<tr>\n",
       "  <th>Prob(Q):</th>                <td>0.25</td> <th>  Prob(JB):          </th>  <td>0.00</td> \n",
       "</tr>\n",
       "<tr>\n",
       "  <th>Heteroskedasticity (H):</th> <td>1.09</td> <th>  Skew:              </th>  <td>0.58</td> \n",
       "</tr>\n",
       "<tr>\n",
       "  <th>Prob(H) (two-sided):</th>    <td>0.19</td> <th>  Kurtosis:          </th>  <td>3.43</td> \n",
       "</tr>\n",
       "</table><br/><br/>Warnings:<br/>[1] Covariance matrix calculated using numerical (complex-step) differentiation."
      ],
      "text/plain": [
       "<class 'statsmodels.iolib.summary.Summary'>\n",
       "\"\"\"\n",
       "                               SARIMAX Results                                \n",
       "==============================================================================\n",
       "Dep. Variable:                      y   No. Observations:                 2556\n",
       "Model:               SARIMAX(2, 0, 0)   Log Likelihood                5348.302\n",
       "Date:                Wed, 04 May 2022   AIC                         -10688.604\n",
       "Time:                        10:27:44   BIC                         -10665.219\n",
       "Sample:                             0   HQIC                        -10680.123\n",
       "                               - 2556                                         \n",
       "Covariance Type:               approx                                         \n",
       "==============================================================================\n",
       "                 coef    std err          z      P>|z|      [0.025      0.975]\n",
       "------------------------------------------------------------------------------\n",
       "x1            -0.0004      0.000     -0.967      0.333      -0.001       0.000\n",
       "ar.L1          1.0540      0.020     53.383      0.000       1.015       1.093\n",
       "ar.L2         -0.0593      0.020     -3.001      0.003      -0.098      -0.021\n",
       "sigma2         0.0009   2.49e-05     35.761      0.000       0.001       0.001\n",
       "===================================================================================\n",
       "Ljung-Box (L1) (Q):                   1.30   Jarque-Bera (JB):               164.59\n",
       "Prob(Q):                              0.25   Prob(JB):                         0.00\n",
       "Heteroskedasticity (H):               1.09   Skew:                             0.58\n",
       "Prob(H) (two-sided):                  0.19   Kurtosis:                         3.43\n",
       "===================================================================================\n",
       "\n",
       "Warnings:\n",
       "[1] Covariance matrix calculated using numerical (complex-step) differentiation.\n",
       "\"\"\""
      ]
     },
     "execution_count": 63,
     "metadata": {},
     "output_type": "execute_result"
    }
   ],
   "source": [
    "result_reduit.summary()"
   ]
  },
  {
   "cell_type": "code",
   "execution_count": 64,
   "metadata": {},
   "outputs": [],
   "source": [
    "predict_reduit = result_reduit.predict(start = 1 ,\n",
    "                               end = fenetre,\n",
    "                               exog = exog_test.values)"
   ]
  },
  {
   "cell_type": "code",
   "execution_count": 65,
   "metadata": {},
   "outputs": [],
   "source": [
    "predict_reduit = pd.DataFrame(predict_reduit, index = indice, columns = ['Hyd_p_reduit'])"
   ]
  },
  {
   "cell_type": "code",
   "execution_count": 66,
   "metadata": {
    "scrolled": true
   },
   "outputs": [],
   "source": [
    "bilan = pd.concat([bilan, predict_reduit], axis = 1)"
   ]
  },
  {
   "cell_type": "markdown",
   "metadata": {},
   "source": [
    "### Erreur absolue"
   ]
  },
  {
   "cell_type": "code",
   "execution_count": 67,
   "metadata": {},
   "outputs": [
    {
     "data": {
      "text/html": [
       "<div>\n",
       "<style scoped>\n",
       "    .dataframe tbody tr th:only-of-type {\n",
       "        vertical-align: middle;\n",
       "    }\n",
       "\n",
       "    .dataframe tbody tr th {\n",
       "        vertical-align: top;\n",
       "    }\n",
       "\n",
       "    .dataframe thead th {\n",
       "        text-align: right;\n",
       "    }\n",
       "</style>\n",
       "<table border=\"1\" class=\"dataframe\">\n",
       "  <thead>\n",
       "    <tr style=\"text-align: right;\">\n",
       "      <th></th>\n",
       "      <th>Hydraulique</th>\n",
       "      <th>Capa_hyd</th>\n",
       "      <th>TCH_hyd</th>\n",
       "      <th>Hyd_p_sinus</th>\n",
       "      <th>Err_sinus</th>\n",
       "      <th>Hyd_p_exog</th>\n",
       "      <th>Err_exog</th>\n",
       "      <th>Hyd_p_filter</th>\n",
       "      <th>Err_exog_filter</th>\n",
       "      <th>Hyd_p_reduit_noreg</th>\n",
       "      <th>Err_filter_noreg</th>\n",
       "      <th>Hyd_p_reduit</th>\n",
       "      <th>Err_filter_exog_filter</th>\n",
       "    </tr>\n",
       "  </thead>\n",
       "  <tbody>\n",
       "    <tr>\n",
       "      <th>count</th>\n",
       "      <td>670.000000</td>\n",
       "      <td>670.0</td>\n",
       "      <td>670.000000</td>\n",
       "      <td>670.000000</td>\n",
       "      <td>670.000000</td>\n",
       "      <td>670.000000</td>\n",
       "      <td>670.000000</td>\n",
       "      <td>670.000000</td>\n",
       "      <td>670.000000</td>\n",
       "      <td>670.000000</td>\n",
       "      <td>670.000000</td>\n",
       "      <td>670.000000</td>\n",
       "      <td>670.000000</td>\n",
       "    </tr>\n",
       "    <tr>\n",
       "      <th>mean</th>\n",
       "      <td>7260.388184</td>\n",
       "      <td>25346.0</td>\n",
       "      <td>0.286451</td>\n",
       "      <td>0.319838</td>\n",
       "      <td>0.065298</td>\n",
       "      <td>0.320023</td>\n",
       "      <td>0.065528</td>\n",
       "      <td>0.320028</td>\n",
       "      <td>0.065533</td>\n",
       "      <td>0.319717</td>\n",
       "      <td>0.063185</td>\n",
       "      <td>0.319694</td>\n",
       "      <td>0.063163</td>\n",
       "    </tr>\n",
       "    <tr>\n",
       "      <th>std</th>\n",
       "      <td>2126.241737</td>\n",
       "      <td>0.0</td>\n",
       "      <td>0.083889</td>\n",
       "      <td>0.077289</td>\n",
       "      <td>0.045091</td>\n",
       "      <td>0.076971</td>\n",
       "      <td>0.045100</td>\n",
       "      <td>0.076987</td>\n",
       "      <td>0.045108</td>\n",
       "      <td>0.075358</td>\n",
       "      <td>0.044097</td>\n",
       "      <td>0.075358</td>\n",
       "      <td>0.044100</td>\n",
       "    </tr>\n",
       "    <tr>\n",
       "      <th>min</th>\n",
       "      <td>2714.229167</td>\n",
       "      <td>25346.0</td>\n",
       "      <td>0.107087</td>\n",
       "      <td>0.128987</td>\n",
       "      <td>0.000027</td>\n",
       "      <td>0.129480</td>\n",
       "      <td>0.000239</td>\n",
       "      <td>0.129645</td>\n",
       "      <td>0.000138</td>\n",
       "      <td>0.122704</td>\n",
       "      <td>0.000255</td>\n",
       "      <td>0.122491</td>\n",
       "      <td>0.000137</td>\n",
       "    </tr>\n",
       "    <tr>\n",
       "      <th>25%</th>\n",
       "      <td>5620.468750</td>\n",
       "      <td>25346.0</td>\n",
       "      <td>0.221750</td>\n",
       "      <td>0.259692</td>\n",
       "      <td>0.031337</td>\n",
       "      <td>0.259386</td>\n",
       "      <td>0.031747</td>\n",
       "      <td>0.259357</td>\n",
       "      <td>0.031381</td>\n",
       "      <td>0.264728</td>\n",
       "      <td>0.028815</td>\n",
       "      <td>0.264670</td>\n",
       "      <td>0.028961</td>\n",
       "    </tr>\n",
       "    <tr>\n",
       "      <th>50%</th>\n",
       "      <td>7204.583333</td>\n",
       "      <td>25346.0</td>\n",
       "      <td>0.284249</td>\n",
       "      <td>0.329364</td>\n",
       "      <td>0.055099</td>\n",
       "      <td>0.330329</td>\n",
       "      <td>0.055730</td>\n",
       "      <td>0.330138</td>\n",
       "      <td>0.055751</td>\n",
       "      <td>0.327012</td>\n",
       "      <td>0.055479</td>\n",
       "      <td>0.327028</td>\n",
       "      <td>0.055360</td>\n",
       "    </tr>\n",
       "    <tr>\n",
       "      <th>75%</th>\n",
       "      <td>8798.942708</td>\n",
       "      <td>25346.0</td>\n",
       "      <td>0.347153</td>\n",
       "      <td>0.376340</td>\n",
       "      <td>0.091653</td>\n",
       "      <td>0.377015</td>\n",
       "      <td>0.091729</td>\n",
       "      <td>0.377154</td>\n",
       "      <td>0.091664</td>\n",
       "      <td>0.372683</td>\n",
       "      <td>0.089390</td>\n",
       "      <td>0.372650</td>\n",
       "      <td>0.089236</td>\n",
       "    </tr>\n",
       "    <tr>\n",
       "      <th>max</th>\n",
       "      <td>13298.458333</td>\n",
       "      <td>25346.0</td>\n",
       "      <td>0.524677</td>\n",
       "      <td>0.493240</td>\n",
       "      <td>0.233056</td>\n",
       "      <td>0.494307</td>\n",
       "      <td>0.232388</td>\n",
       "      <td>0.494471</td>\n",
       "      <td>0.232703</td>\n",
       "      <td>0.484728</td>\n",
       "      <td>0.224707</td>\n",
       "      <td>0.484696</td>\n",
       "      <td>0.225013</td>\n",
       "    </tr>\n",
       "  </tbody>\n",
       "</table>\n",
       "</div>"
      ],
      "text/plain": [
       "        Hydraulique  Capa_hyd     TCH_hyd  Hyd_p_sinus   Err_sinus  \\\n",
       "count    670.000000     670.0  670.000000   670.000000  670.000000   \n",
       "mean    7260.388184   25346.0    0.286451     0.319838    0.065298   \n",
       "std     2126.241737       0.0    0.083889     0.077289    0.045091   \n",
       "min     2714.229167   25346.0    0.107087     0.128987    0.000027   \n",
       "25%     5620.468750   25346.0    0.221750     0.259692    0.031337   \n",
       "50%     7204.583333   25346.0    0.284249     0.329364    0.055099   \n",
       "75%     8798.942708   25346.0    0.347153     0.376340    0.091653   \n",
       "max    13298.458333   25346.0    0.524677     0.493240    0.233056   \n",
       "\n",
       "       Hyd_p_exog    Err_exog  Hyd_p_filter  Err_exog_filter  \\\n",
       "count  670.000000  670.000000    670.000000       670.000000   \n",
       "mean     0.320023    0.065528      0.320028         0.065533   \n",
       "std      0.076971    0.045100      0.076987         0.045108   \n",
       "min      0.129480    0.000239      0.129645         0.000138   \n",
       "25%      0.259386    0.031747      0.259357         0.031381   \n",
       "50%      0.330329    0.055730      0.330138         0.055751   \n",
       "75%      0.377015    0.091729      0.377154         0.091664   \n",
       "max      0.494307    0.232388      0.494471         0.232703   \n",
       "\n",
       "       Hyd_p_reduit_noreg  Err_filter_noreg  Hyd_p_reduit  \\\n",
       "count          670.000000        670.000000    670.000000   \n",
       "mean             0.319717          0.063185      0.319694   \n",
       "std              0.075358          0.044097      0.075358   \n",
       "min              0.122704          0.000255      0.122491   \n",
       "25%              0.264728          0.028815      0.264670   \n",
       "50%              0.327012          0.055479      0.327028   \n",
       "75%              0.372683          0.089390      0.372650   \n",
       "max              0.484728          0.224707      0.484696   \n",
       "\n",
       "       Err_filter_exog_filter  \n",
       "count              670.000000  \n",
       "mean                 0.063163  \n",
       "std                  0.044100  \n",
       "min                  0.000137  \n",
       "25%                  0.028961  \n",
       "50%                  0.055360  \n",
       "75%                  0.089236  \n",
       "max                  0.225013  "
      ]
     },
     "execution_count": 67,
     "metadata": {},
     "output_type": "execute_result"
    }
   ],
   "source": [
    "bilan['Err_filter_exog_filter'] = np.abs(bilan['Hyd_p_reduit'] - bilan['TCH_hyd'])\n",
    "bilan.describe()"
   ]
  },
  {
   "cell_type": "markdown",
   "metadata": {},
   "source": [
    "# Régression linéaire avec Régresseurs exogènes : données métier FILTREES "
   ]
  },
  {
   "cell_type": "code",
   "execution_count": 68,
   "metadata": {},
   "outputs": [
    {
     "data": {
      "text/html": [
       "<div>\n",
       "<style scoped>\n",
       "    .dataframe tbody tr th:only-of-type {\n",
       "        vertical-align: middle;\n",
       "    }\n",
       "\n",
       "    .dataframe tbody tr th {\n",
       "        vertical-align: top;\n",
       "    }\n",
       "\n",
       "    .dataframe thead th {\n",
       "        text-align: right;\n",
       "    }\n",
       "</style>\n",
       "<table border=\"1\" class=\"dataframe\">\n",
       "  <thead>\n",
       "    <tr style=\"text-align: right;\">\n",
       "      <th></th>\n",
       "      <th>Dates</th>\n",
       "      <th>Eau</th>\n",
       "    </tr>\n",
       "  </thead>\n",
       "  <tbody>\n",
       "    <tr>\n",
       "      <th>0</th>\n",
       "      <td>2013-01-01</td>\n",
       "      <td>2.766248</td>\n",
       "    </tr>\n",
       "  </tbody>\n",
       "</table>\n",
       "</div>"
      ],
      "text/plain": [
       "        Dates       Eau\n",
       "0  2013-01-01  2.766248"
      ]
     },
     "execution_count": 68,
     "metadata": {},
     "output_type": "execute_result"
    }
   ],
   "source": [
    "exog = pd.read_csv('./exog/exog_D_FR_filtered.csv',# sep = ';',\n",
    "                   usecols = ['Dates', 'Eau'])\n",
    "exog.head(1)"
   ]
  },
  {
   "cell_type": "code",
   "execution_count": 69,
   "metadata": {},
   "outputs": [],
   "source": [
    "exog['Dates'] = pd.to_datetime(exog['Dates'], yearfirst = True)\n",
    "exog.set_index('Dates', inplace = True)"
   ]
  },
  {
   "cell_type": "code",
   "execution_count": 70,
   "metadata": {},
   "outputs": [],
   "source": [
    "# Split en jeu d'entrainement et jeu de test\n",
    "exog_train = exog[(exog.index >= debut) & (exog.index < fin)]\n",
    "exog_test = exog[exog.index >= fin]"
   ]
  },
  {
   "cell_type": "code",
   "execution_count": 71,
   "metadata": {},
   "outputs": [],
   "source": [
    "LinReg = LinearRegression()\n",
    "LinReg.fit(exog_train, df_train['TCH_hyd'])\n",
    "predict_lr = LinReg.predict(exog_test)"
   ]
  },
  {
   "cell_type": "code",
   "execution_count": 72,
   "metadata": {},
   "outputs": [],
   "source": [
    "predict_lr = pd.DataFrame(predict_lr, index = indice, columns = ['Hyd_p_LinReg'])"
   ]
  },
  {
   "cell_type": "code",
   "execution_count": 73,
   "metadata": {},
   "outputs": [],
   "source": [
    "bilan = pd.concat([bilan, predict_lr], axis = 1)"
   ]
  },
  {
   "cell_type": "markdown",
   "metadata": {},
   "source": [
    "### Erreur absolue"
   ]
  },
  {
   "cell_type": "code",
   "execution_count": 74,
   "metadata": {},
   "outputs": [
    {
     "data": {
      "text/html": [
       "<div>\n",
       "<style scoped>\n",
       "    .dataframe tbody tr th:only-of-type {\n",
       "        vertical-align: middle;\n",
       "    }\n",
       "\n",
       "    .dataframe tbody tr th {\n",
       "        vertical-align: top;\n",
       "    }\n",
       "\n",
       "    .dataframe thead th {\n",
       "        text-align: right;\n",
       "    }\n",
       "</style>\n",
       "<table border=\"1\" class=\"dataframe\">\n",
       "  <thead>\n",
       "    <tr style=\"text-align: right;\">\n",
       "      <th></th>\n",
       "      <th>Hydraulique</th>\n",
       "      <th>Capa_hyd</th>\n",
       "      <th>TCH_hyd</th>\n",
       "      <th>Hyd_p_sinus</th>\n",
       "      <th>Err_sinus</th>\n",
       "      <th>Hyd_p_exog</th>\n",
       "      <th>Err_exog</th>\n",
       "      <th>Hyd_p_filter</th>\n",
       "      <th>Err_exog_filter</th>\n",
       "      <th>Hyd_p_reduit_noreg</th>\n",
       "      <th>Err_filter_noreg</th>\n",
       "      <th>Hyd_p_reduit</th>\n",
       "      <th>Err_filter_exog_filter</th>\n",
       "      <th>Hyd_p_LinReg</th>\n",
       "      <th>Err_LinReg</th>\n",
       "    </tr>\n",
       "  </thead>\n",
       "  <tbody>\n",
       "    <tr>\n",
       "      <th>count</th>\n",
       "      <td>670.000000</td>\n",
       "      <td>670.0</td>\n",
       "      <td>670.000000</td>\n",
       "      <td>670.000000</td>\n",
       "      <td>670.000000</td>\n",
       "      <td>670.000000</td>\n",
       "      <td>670.000000</td>\n",
       "      <td>670.000000</td>\n",
       "      <td>670.000000</td>\n",
       "      <td>670.000000</td>\n",
       "      <td>670.000000</td>\n",
       "      <td>670.000000</td>\n",
       "      <td>670.000000</td>\n",
       "      <td>670.000000</td>\n",
       "      <td>670.000000</td>\n",
       "    </tr>\n",
       "    <tr>\n",
       "      <th>mean</th>\n",
       "      <td>7260.388184</td>\n",
       "      <td>25346.0</td>\n",
       "      <td>0.286451</td>\n",
       "      <td>0.319838</td>\n",
       "      <td>0.065298</td>\n",
       "      <td>0.320023</td>\n",
       "      <td>0.065528</td>\n",
       "      <td>0.320028</td>\n",
       "      <td>0.065533</td>\n",
       "      <td>0.319717</td>\n",
       "      <td>0.063185</td>\n",
       "      <td>0.319694</td>\n",
       "      <td>0.063163</td>\n",
       "      <td>0.284989</td>\n",
       "      <td>0.069091</td>\n",
       "    </tr>\n",
       "    <tr>\n",
       "      <th>std</th>\n",
       "      <td>2126.241737</td>\n",
       "      <td>0.0</td>\n",
       "      <td>0.083889</td>\n",
       "      <td>0.077289</td>\n",
       "      <td>0.045091</td>\n",
       "      <td>0.076971</td>\n",
       "      <td>0.045100</td>\n",
       "      <td>0.076987</td>\n",
       "      <td>0.045108</td>\n",
       "      <td>0.075358</td>\n",
       "      <td>0.044097</td>\n",
       "      <td>0.075358</td>\n",
       "      <td>0.044100</td>\n",
       "      <td>0.006848</td>\n",
       "      <td>0.047843</td>\n",
       "    </tr>\n",
       "    <tr>\n",
       "      <th>min</th>\n",
       "      <td>2714.229167</td>\n",
       "      <td>25346.0</td>\n",
       "      <td>0.107087</td>\n",
       "      <td>0.128987</td>\n",
       "      <td>0.000027</td>\n",
       "      <td>0.129480</td>\n",
       "      <td>0.000239</td>\n",
       "      <td>0.129645</td>\n",
       "      <td>0.000138</td>\n",
       "      <td>0.122704</td>\n",
       "      <td>0.000255</td>\n",
       "      <td>0.122491</td>\n",
       "      <td>0.000137</td>\n",
       "      <td>0.275498</td>\n",
       "      <td>0.000058</td>\n",
       "    </tr>\n",
       "    <tr>\n",
       "      <th>25%</th>\n",
       "      <td>5620.468750</td>\n",
       "      <td>25346.0</td>\n",
       "      <td>0.221750</td>\n",
       "      <td>0.259692</td>\n",
       "      <td>0.031337</td>\n",
       "      <td>0.259386</td>\n",
       "      <td>0.031747</td>\n",
       "      <td>0.259357</td>\n",
       "      <td>0.031381</td>\n",
       "      <td>0.264728</td>\n",
       "      <td>0.028815</td>\n",
       "      <td>0.264670</td>\n",
       "      <td>0.028961</td>\n",
       "      <td>0.280772</td>\n",
       "      <td>0.030680</td>\n",
       "    </tr>\n",
       "    <tr>\n",
       "      <th>50%</th>\n",
       "      <td>7204.583333</td>\n",
       "      <td>25346.0</td>\n",
       "      <td>0.284249</td>\n",
       "      <td>0.329364</td>\n",
       "      <td>0.055099</td>\n",
       "      <td>0.330329</td>\n",
       "      <td>0.055730</td>\n",
       "      <td>0.330138</td>\n",
       "      <td>0.055751</td>\n",
       "      <td>0.327012</td>\n",
       "      <td>0.055479</td>\n",
       "      <td>0.327028</td>\n",
       "      <td>0.055360</td>\n",
       "      <td>0.282895</td>\n",
       "      <td>0.060539</td>\n",
       "    </tr>\n",
       "    <tr>\n",
       "      <th>75%</th>\n",
       "      <td>8798.942708</td>\n",
       "      <td>25346.0</td>\n",
       "      <td>0.347153</td>\n",
       "      <td>0.376340</td>\n",
       "      <td>0.091653</td>\n",
       "      <td>0.377015</td>\n",
       "      <td>0.091729</td>\n",
       "      <td>0.377154</td>\n",
       "      <td>0.091664</td>\n",
       "      <td>0.372683</td>\n",
       "      <td>0.089390</td>\n",
       "      <td>0.372650</td>\n",
       "      <td>0.089236</td>\n",
       "      <td>0.286969</td>\n",
       "      <td>0.103919</td>\n",
       "    </tr>\n",
       "    <tr>\n",
       "      <th>max</th>\n",
       "      <td>13298.458333</td>\n",
       "      <td>25346.0</td>\n",
       "      <td>0.524677</td>\n",
       "      <td>0.493240</td>\n",
       "      <td>0.233056</td>\n",
       "      <td>0.494307</td>\n",
       "      <td>0.232388</td>\n",
       "      <td>0.494471</td>\n",
       "      <td>0.232703</td>\n",
       "      <td>0.484728</td>\n",
       "      <td>0.224707</td>\n",
       "      <td>0.484696</td>\n",
       "      <td>0.225013</td>\n",
       "      <td>0.328408</td>\n",
       "      <td>0.241174</td>\n",
       "    </tr>\n",
       "  </tbody>\n",
       "</table>\n",
       "</div>"
      ],
      "text/plain": [
       "        Hydraulique  Capa_hyd     TCH_hyd  Hyd_p_sinus   Err_sinus  \\\n",
       "count    670.000000     670.0  670.000000   670.000000  670.000000   \n",
       "mean    7260.388184   25346.0    0.286451     0.319838    0.065298   \n",
       "std     2126.241737       0.0    0.083889     0.077289    0.045091   \n",
       "min     2714.229167   25346.0    0.107087     0.128987    0.000027   \n",
       "25%     5620.468750   25346.0    0.221750     0.259692    0.031337   \n",
       "50%     7204.583333   25346.0    0.284249     0.329364    0.055099   \n",
       "75%     8798.942708   25346.0    0.347153     0.376340    0.091653   \n",
       "max    13298.458333   25346.0    0.524677     0.493240    0.233056   \n",
       "\n",
       "       Hyd_p_exog    Err_exog  Hyd_p_filter  Err_exog_filter  \\\n",
       "count  670.000000  670.000000    670.000000       670.000000   \n",
       "mean     0.320023    0.065528      0.320028         0.065533   \n",
       "std      0.076971    0.045100      0.076987         0.045108   \n",
       "min      0.129480    0.000239      0.129645         0.000138   \n",
       "25%      0.259386    0.031747      0.259357         0.031381   \n",
       "50%      0.330329    0.055730      0.330138         0.055751   \n",
       "75%      0.377015    0.091729      0.377154         0.091664   \n",
       "max      0.494307    0.232388      0.494471         0.232703   \n",
       "\n",
       "       Hyd_p_reduit_noreg  Err_filter_noreg  Hyd_p_reduit  \\\n",
       "count          670.000000        670.000000    670.000000   \n",
       "mean             0.319717          0.063185      0.319694   \n",
       "std              0.075358          0.044097      0.075358   \n",
       "min              0.122704          0.000255      0.122491   \n",
       "25%              0.264728          0.028815      0.264670   \n",
       "50%              0.327012          0.055479      0.327028   \n",
       "75%              0.372683          0.089390      0.372650   \n",
       "max              0.484728          0.224707      0.484696   \n",
       "\n",
       "       Err_filter_exog_filter  Hyd_p_LinReg  Err_LinReg  \n",
       "count              670.000000    670.000000  670.000000  \n",
       "mean                 0.063163      0.284989    0.069091  \n",
       "std                  0.044100      0.006848    0.047843  \n",
       "min                  0.000137      0.275498    0.000058  \n",
       "25%                  0.028961      0.280772    0.030680  \n",
       "50%                  0.055360      0.282895    0.060539  \n",
       "75%                  0.089236      0.286969    0.103919  \n",
       "max                  0.225013      0.328408    0.241174  "
      ]
     },
     "execution_count": 74,
     "metadata": {},
     "output_type": "execute_result"
    }
   ],
   "source": [
    "bilan['Err_LinReg'] = np.abs(bilan['Hyd_p_LinReg'] - bilan['TCH_hyd'])\n",
    "bilan.describe()"
   ]
  },
  {
   "cell_type": "markdown",
   "metadata": {},
   "source": [
    "# Régression linéaire sur target FILTREE avec Régresseurs exogènes : données métier FILTREES "
   ]
  },
  {
   "cell_type": "code",
   "execution_count": 75,
   "metadata": {},
   "outputs": [
    {
     "data": {
      "text/html": [
       "<div>\n",
       "<style scoped>\n",
       "    .dataframe tbody tr th:only-of-type {\n",
       "        vertical-align: middle;\n",
       "    }\n",
       "\n",
       "    .dataframe tbody tr th {\n",
       "        vertical-align: top;\n",
       "    }\n",
       "\n",
       "    .dataframe thead th {\n",
       "        text-align: right;\n",
       "    }\n",
       "</style>\n",
       "<table border=\"1\" class=\"dataframe\">\n",
       "  <thead>\n",
       "    <tr style=\"text-align: right;\">\n",
       "      <th></th>\n",
       "      <th>Dates</th>\n",
       "      <th>Eau</th>\n",
       "    </tr>\n",
       "  </thead>\n",
       "  <tbody>\n",
       "    <tr>\n",
       "      <th>0</th>\n",
       "      <td>2013-01-01</td>\n",
       "      <td>2.766248</td>\n",
       "    </tr>\n",
       "  </tbody>\n",
       "</table>\n",
       "</div>"
      ],
      "text/plain": [
       "        Dates       Eau\n",
       "0  2013-01-01  2.766248"
      ]
     },
     "execution_count": 75,
     "metadata": {},
     "output_type": "execute_result"
    }
   ],
   "source": [
    "exog = pd.read_csv('./exog/exog_D_FR_filtered.csv',# sep = ';',\n",
    "                   usecols = ['Dates', 'Eau'])\n",
    "exog.head(1)"
   ]
  },
  {
   "cell_type": "code",
   "execution_count": 76,
   "metadata": {},
   "outputs": [],
   "source": [
    "exog['Dates'] = pd.to_datetime(exog['Dates'], yearfirst = True)\n",
    "exog.set_index('Dates', inplace = True)"
   ]
  },
  {
   "cell_type": "code",
   "execution_count": 77,
   "metadata": {},
   "outputs": [],
   "source": [
    "# Split en jeu d'entrainement et jeu de test\n",
    "exog_train = exog[(exog.index >= debut) & (exog.index < fin)]\n",
    "exog_test = exog[exog.index >= fin]"
   ]
  },
  {
   "cell_type": "code",
   "execution_count": 78,
   "metadata": {},
   "outputs": [],
   "source": [
    "LinReg_filter = LinearRegression()\n",
    "LinReg_filter.fit(exog_train, df_train_filter['TCH_hyd'])\n",
    "predict_lr_filter = LinReg_filter.predict(exog_test)"
   ]
  },
  {
   "cell_type": "code",
   "execution_count": 79,
   "metadata": {},
   "outputs": [],
   "source": [
    "predict_lr_filter = pd.DataFrame(predict_lr_filter, index = indice, columns = ['Hyd_p_LinReg_filter'])"
   ]
  },
  {
   "cell_type": "code",
   "execution_count": 80,
   "metadata": {},
   "outputs": [],
   "source": [
    "bilan = pd.concat([bilan, predict_lr_filter], axis = 1)"
   ]
  },
  {
   "cell_type": "markdown",
   "metadata": {},
   "source": [
    "### Erreur absolue"
   ]
  },
  {
   "cell_type": "code",
   "execution_count": 81,
   "metadata": {},
   "outputs": [
    {
     "data": {
      "text/html": [
       "<div>\n",
       "<style scoped>\n",
       "    .dataframe tbody tr th:only-of-type {\n",
       "        vertical-align: middle;\n",
       "    }\n",
       "\n",
       "    .dataframe tbody tr th {\n",
       "        vertical-align: top;\n",
       "    }\n",
       "\n",
       "    .dataframe thead th {\n",
       "        text-align: right;\n",
       "    }\n",
       "</style>\n",
       "<table border=\"1\" class=\"dataframe\">\n",
       "  <thead>\n",
       "    <tr style=\"text-align: right;\">\n",
       "      <th></th>\n",
       "      <th>Hydraulique</th>\n",
       "      <th>Capa_hyd</th>\n",
       "      <th>TCH_hyd</th>\n",
       "      <th>Hyd_p_sinus</th>\n",
       "      <th>Err_sinus</th>\n",
       "      <th>Hyd_p_exog</th>\n",
       "      <th>Err_exog</th>\n",
       "      <th>Hyd_p_filter</th>\n",
       "      <th>Err_exog_filter</th>\n",
       "      <th>Hyd_p_reduit_noreg</th>\n",
       "      <th>Err_filter_noreg</th>\n",
       "      <th>Hyd_p_reduit</th>\n",
       "      <th>Err_filter_exog_filter</th>\n",
       "      <th>Hyd_p_LinReg</th>\n",
       "      <th>Err_LinReg</th>\n",
       "      <th>Hyd_p_LinReg_filter</th>\n",
       "      <th>Err_LinReg_filter</th>\n",
       "    </tr>\n",
       "  </thead>\n",
       "  <tbody>\n",
       "    <tr>\n",
       "      <th>count</th>\n",
       "      <td>670.000000</td>\n",
       "      <td>670.0</td>\n",
       "      <td>670.000000</td>\n",
       "      <td>670.000000</td>\n",
       "      <td>670.000000</td>\n",
       "      <td>670.000000</td>\n",
       "      <td>670.000000</td>\n",
       "      <td>670.000000</td>\n",
       "      <td>670.000000</td>\n",
       "      <td>670.000000</td>\n",
       "      <td>670.000000</td>\n",
       "      <td>670.000000</td>\n",
       "      <td>670.000000</td>\n",
       "      <td>670.000000</td>\n",
       "      <td>670.000000</td>\n",
       "      <td>670.000000</td>\n",
       "      <td>670.000000</td>\n",
       "    </tr>\n",
       "    <tr>\n",
       "      <th>mean</th>\n",
       "      <td>7260.388184</td>\n",
       "      <td>25346.0</td>\n",
       "      <td>0.286451</td>\n",
       "      <td>0.319838</td>\n",
       "      <td>0.065298</td>\n",
       "      <td>0.320023</td>\n",
       "      <td>0.065528</td>\n",
       "      <td>0.320028</td>\n",
       "      <td>0.065533</td>\n",
       "      <td>0.319717</td>\n",
       "      <td>0.063185</td>\n",
       "      <td>0.319694</td>\n",
       "      <td>0.063163</td>\n",
       "      <td>0.284989</td>\n",
       "      <td>0.069091</td>\n",
       "      <td>0.284777</td>\n",
       "      <td>0.069091</td>\n",
       "    </tr>\n",
       "    <tr>\n",
       "      <th>std</th>\n",
       "      <td>2126.241737</td>\n",
       "      <td>0.0</td>\n",
       "      <td>0.083889</td>\n",
       "      <td>0.077289</td>\n",
       "      <td>0.045091</td>\n",
       "      <td>0.076971</td>\n",
       "      <td>0.045100</td>\n",
       "      <td>0.076987</td>\n",
       "      <td>0.045108</td>\n",
       "      <td>0.075358</td>\n",
       "      <td>0.044097</td>\n",
       "      <td>0.075358</td>\n",
       "      <td>0.044100</td>\n",
       "      <td>0.006848</td>\n",
       "      <td>0.047843</td>\n",
       "      <td>0.006588</td>\n",
       "      <td>0.047819</td>\n",
       "    </tr>\n",
       "    <tr>\n",
       "      <th>min</th>\n",
       "      <td>2714.229167</td>\n",
       "      <td>25346.0</td>\n",
       "      <td>0.107087</td>\n",
       "      <td>0.128987</td>\n",
       "      <td>0.000027</td>\n",
       "      <td>0.129480</td>\n",
       "      <td>0.000239</td>\n",
       "      <td>0.129645</td>\n",
       "      <td>0.000138</td>\n",
       "      <td>0.122704</td>\n",
       "      <td>0.000255</td>\n",
       "      <td>0.122491</td>\n",
       "      <td>0.000137</td>\n",
       "      <td>0.275498</td>\n",
       "      <td>0.000058</td>\n",
       "      <td>0.275648</td>\n",
       "      <td>0.000009</td>\n",
       "    </tr>\n",
       "    <tr>\n",
       "      <th>25%</th>\n",
       "      <td>5620.468750</td>\n",
       "      <td>25346.0</td>\n",
       "      <td>0.221750</td>\n",
       "      <td>0.259692</td>\n",
       "      <td>0.031337</td>\n",
       "      <td>0.259386</td>\n",
       "      <td>0.031747</td>\n",
       "      <td>0.259357</td>\n",
       "      <td>0.031381</td>\n",
       "      <td>0.264728</td>\n",
       "      <td>0.028815</td>\n",
       "      <td>0.264670</td>\n",
       "      <td>0.028961</td>\n",
       "      <td>0.280772</td>\n",
       "      <td>0.030680</td>\n",
       "      <td>0.280721</td>\n",
       "      <td>0.030567</td>\n",
       "    </tr>\n",
       "    <tr>\n",
       "      <th>50%</th>\n",
       "      <td>7204.583333</td>\n",
       "      <td>25346.0</td>\n",
       "      <td>0.284249</td>\n",
       "      <td>0.329364</td>\n",
       "      <td>0.055099</td>\n",
       "      <td>0.330329</td>\n",
       "      <td>0.055730</td>\n",
       "      <td>0.330138</td>\n",
       "      <td>0.055751</td>\n",
       "      <td>0.327012</td>\n",
       "      <td>0.055479</td>\n",
       "      <td>0.327028</td>\n",
       "      <td>0.055360</td>\n",
       "      <td>0.282895</td>\n",
       "      <td>0.060539</td>\n",
       "      <td>0.282763</td>\n",
       "      <td>0.060522</td>\n",
       "    </tr>\n",
       "    <tr>\n",
       "      <th>75%</th>\n",
       "      <td>8798.942708</td>\n",
       "      <td>25346.0</td>\n",
       "      <td>0.347153</td>\n",
       "      <td>0.376340</td>\n",
       "      <td>0.091653</td>\n",
       "      <td>0.377015</td>\n",
       "      <td>0.091729</td>\n",
       "      <td>0.377154</td>\n",
       "      <td>0.091664</td>\n",
       "      <td>0.372683</td>\n",
       "      <td>0.089390</td>\n",
       "      <td>0.372650</td>\n",
       "      <td>0.089236</td>\n",
       "      <td>0.286969</td>\n",
       "      <td>0.103919</td>\n",
       "      <td>0.286682</td>\n",
       "      <td>0.103433</td>\n",
       "    </tr>\n",
       "    <tr>\n",
       "      <th>max</th>\n",
       "      <td>13298.458333</td>\n",
       "      <td>25346.0</td>\n",
       "      <td>0.524677</td>\n",
       "      <td>0.493240</td>\n",
       "      <td>0.233056</td>\n",
       "      <td>0.494307</td>\n",
       "      <td>0.232388</td>\n",
       "      <td>0.494471</td>\n",
       "      <td>0.232703</td>\n",
       "      <td>0.484728</td>\n",
       "      <td>0.224707</td>\n",
       "      <td>0.484696</td>\n",
       "      <td>0.225013</td>\n",
       "      <td>0.328408</td>\n",
       "      <td>0.241174</td>\n",
       "      <td>0.326544</td>\n",
       "      <td>0.241330</td>\n",
       "    </tr>\n",
       "  </tbody>\n",
       "</table>\n",
       "</div>"
      ],
      "text/plain": [
       "        Hydraulique  Capa_hyd     TCH_hyd  Hyd_p_sinus   Err_sinus  \\\n",
       "count    670.000000     670.0  670.000000   670.000000  670.000000   \n",
       "mean    7260.388184   25346.0    0.286451     0.319838    0.065298   \n",
       "std     2126.241737       0.0    0.083889     0.077289    0.045091   \n",
       "min     2714.229167   25346.0    0.107087     0.128987    0.000027   \n",
       "25%     5620.468750   25346.0    0.221750     0.259692    0.031337   \n",
       "50%     7204.583333   25346.0    0.284249     0.329364    0.055099   \n",
       "75%     8798.942708   25346.0    0.347153     0.376340    0.091653   \n",
       "max    13298.458333   25346.0    0.524677     0.493240    0.233056   \n",
       "\n",
       "       Hyd_p_exog    Err_exog  Hyd_p_filter  Err_exog_filter  \\\n",
       "count  670.000000  670.000000    670.000000       670.000000   \n",
       "mean     0.320023    0.065528      0.320028         0.065533   \n",
       "std      0.076971    0.045100      0.076987         0.045108   \n",
       "min      0.129480    0.000239      0.129645         0.000138   \n",
       "25%      0.259386    0.031747      0.259357         0.031381   \n",
       "50%      0.330329    0.055730      0.330138         0.055751   \n",
       "75%      0.377015    0.091729      0.377154         0.091664   \n",
       "max      0.494307    0.232388      0.494471         0.232703   \n",
       "\n",
       "       Hyd_p_reduit_noreg  Err_filter_noreg  Hyd_p_reduit  \\\n",
       "count          670.000000        670.000000    670.000000   \n",
       "mean             0.319717          0.063185      0.319694   \n",
       "std              0.075358          0.044097      0.075358   \n",
       "min              0.122704          0.000255      0.122491   \n",
       "25%              0.264728          0.028815      0.264670   \n",
       "50%              0.327012          0.055479      0.327028   \n",
       "75%              0.372683          0.089390      0.372650   \n",
       "max              0.484728          0.224707      0.484696   \n",
       "\n",
       "       Err_filter_exog_filter  Hyd_p_LinReg  Err_LinReg  Hyd_p_LinReg_filter  \\\n",
       "count              670.000000    670.000000  670.000000           670.000000   \n",
       "mean                 0.063163      0.284989    0.069091             0.284777   \n",
       "std                  0.044100      0.006848    0.047843             0.006588   \n",
       "min                  0.000137      0.275498    0.000058             0.275648   \n",
       "25%                  0.028961      0.280772    0.030680             0.280721   \n",
       "50%                  0.055360      0.282895    0.060539             0.282763   \n",
       "75%                  0.089236      0.286969    0.103919             0.286682   \n",
       "max                  0.225013      0.328408    0.241174             0.326544   \n",
       "\n",
       "       Err_LinReg_filter  \n",
       "count         670.000000  \n",
       "mean            0.069091  \n",
       "std             0.047819  \n",
       "min             0.000009  \n",
       "25%             0.030567  \n",
       "50%             0.060522  \n",
       "75%             0.103433  \n",
       "max             0.241330  "
      ]
     },
     "execution_count": 81,
     "metadata": {},
     "output_type": "execute_result"
    }
   ],
   "source": [
    "bilan['Err_LinReg_filter'] = np.abs(bilan['Hyd_p_LinReg_filter'] - bilan['TCH_hyd'])\n",
    "bilan.describe()"
   ]
  },
  {
   "cell_type": "markdown",
   "metadata": {},
   "source": [
    "# Calcul de la prediction : TCH x Capacité"
   ]
  },
  {
   "cell_type": "code",
   "execution_count": 82,
   "metadata": {},
   "outputs": [
    {
     "data": {
      "text/html": [
       "<div>\n",
       "<style scoped>\n",
       "    .dataframe tbody tr th:only-of-type {\n",
       "        vertical-align: middle;\n",
       "    }\n",
       "\n",
       "    .dataframe tbody tr th {\n",
       "        vertical-align: top;\n",
       "    }\n",
       "\n",
       "    .dataframe thead th {\n",
       "        text-align: right;\n",
       "    }\n",
       "</style>\n",
       "<table border=\"1\" class=\"dataframe\">\n",
       "  <thead>\n",
       "    <tr style=\"text-align: right;\">\n",
       "      <th></th>\n",
       "      <th>Hydraulique</th>\n",
       "      <th>Capa_hyd</th>\n",
       "      <th>TCH_hyd</th>\n",
       "      <th>Hyd_p_sinus</th>\n",
       "      <th>Err_sinus</th>\n",
       "      <th>Hyd_p_exog</th>\n",
       "      <th>Err_exog</th>\n",
       "      <th>Hyd_p_filter</th>\n",
       "      <th>Err_exog_filter</th>\n",
       "      <th>Hyd_p_reduit_noreg</th>\n",
       "      <th>Err_filter_noreg</th>\n",
       "      <th>Hyd_p_reduit</th>\n",
       "      <th>Err_filter_exog_filter</th>\n",
       "      <th>Hyd_p_LinReg</th>\n",
       "      <th>Err_LinReg</th>\n",
       "      <th>Hyd_p_LinReg_filter</th>\n",
       "      <th>Err_LinReg_filter</th>\n",
       "    </tr>\n",
       "  </thead>\n",
       "  <tbody>\n",
       "    <tr>\n",
       "      <th>count</th>\n",
       "      <td>670.000000</td>\n",
       "      <td>670.0</td>\n",
       "      <td>670.000000</td>\n",
       "      <td>670.000000</td>\n",
       "      <td>670.000000</td>\n",
       "      <td>670.000000</td>\n",
       "      <td>670.000000</td>\n",
       "      <td>670.000000</td>\n",
       "      <td>670.000000</td>\n",
       "      <td>670.000000</td>\n",
       "      <td>670.000000</td>\n",
       "      <td>670.000000</td>\n",
       "      <td>670.000000</td>\n",
       "      <td>670.000000</td>\n",
       "      <td>670.000000</td>\n",
       "      <td>670.000000</td>\n",
       "      <td>670.000000</td>\n",
       "    </tr>\n",
       "    <tr>\n",
       "      <th>mean</th>\n",
       "      <td>7260.388184</td>\n",
       "      <td>25346.0</td>\n",
       "      <td>0.286451</td>\n",
       "      <td>8106.609350</td>\n",
       "      <td>1655.032904</td>\n",
       "      <td>8111.307161</td>\n",
       "      <td>1660.875876</td>\n",
       "      <td>8111.422426</td>\n",
       "      <td>1661.008148</td>\n",
       "      <td>8103.556877</td>\n",
       "      <td>1601.494203</td>\n",
       "      <td>8102.975190</td>\n",
       "      <td>1600.938963</td>\n",
       "      <td>7223.332574</td>\n",
       "      <td>1751.180133</td>\n",
       "      <td>7217.967650</td>\n",
       "      <td>1751.187975</td>\n",
       "    </tr>\n",
       "    <tr>\n",
       "      <th>std</th>\n",
       "      <td>2126.241737</td>\n",
       "      <td>0.0</td>\n",
       "      <td>0.083889</td>\n",
       "      <td>1958.954373</td>\n",
       "      <td>1142.864589</td>\n",
       "      <td>1950.915471</td>\n",
       "      <td>1143.114734</td>\n",
       "      <td>1951.324990</td>\n",
       "      <td>1143.302134</td>\n",
       "      <td>1910.034570</td>\n",
       "      <td>1117.693489</td>\n",
       "      <td>1910.020234</td>\n",
       "      <td>1117.768984</td>\n",
       "      <td>173.581613</td>\n",
       "      <td>1212.625847</td>\n",
       "      <td>166.975055</td>\n",
       "      <td>1212.031160</td>\n",
       "    </tr>\n",
       "    <tr>\n",
       "      <th>min</th>\n",
       "      <td>2714.229167</td>\n",
       "      <td>25346.0</td>\n",
       "      <td>0.107087</td>\n",
       "      <td>3269.293272</td>\n",
       "      <td>0.679022</td>\n",
       "      <td>3281.788475</td>\n",
       "      <td>6.045886</td>\n",
       "      <td>3285.988828</td>\n",
       "      <td>3.505697</td>\n",
       "      <td>3110.065795</td>\n",
       "      <td>6.459041</td>\n",
       "      <td>3104.664392</td>\n",
       "      <td>3.480564</td>\n",
       "      <td>6982.770900</td>\n",
       "      <td>1.457546</td>\n",
       "      <td>6986.561810</td>\n",
       "      <td>0.225915</td>\n",
       "    </tr>\n",
       "    <tr>\n",
       "      <th>25%</th>\n",
       "      <td>5620.468750</td>\n",
       "      <td>25346.0</td>\n",
       "      <td>0.221750</td>\n",
       "      <td>6582.148165</td>\n",
       "      <td>794.256185</td>\n",
       "      <td>6574.398842</td>\n",
       "      <td>804.667749</td>\n",
       "      <td>6573.660100</td>\n",
       "      <td>795.395087</td>\n",
       "      <td>6709.790666</td>\n",
       "      <td>730.355195</td>\n",
       "      <td>6708.332071</td>\n",
       "      <td>734.057254</td>\n",
       "      <td>7116.450116</td>\n",
       "      <td>777.607197</td>\n",
       "      <td>7115.153163</td>\n",
       "      <td>774.763309</td>\n",
       "    </tr>\n",
       "    <tr>\n",
       "      <th>50%</th>\n",
       "      <td>7204.583333</td>\n",
       "      <td>25346.0</td>\n",
       "      <td>0.284249</td>\n",
       "      <td>8348.066669</td>\n",
       "      <td>1396.533454</td>\n",
       "      <td>8372.522224</td>\n",
       "      <td>1412.532601</td>\n",
       "      <td>8367.687454</td>\n",
       "      <td>1413.072833</td>\n",
       "      <td>8288.437812</td>\n",
       "      <td>1406.172581</td>\n",
       "      <td>8288.843084</td>\n",
       "      <td>1403.148631</td>\n",
       "      <td>7170.267488</td>\n",
       "      <td>1534.417732</td>\n",
       "      <td>7166.922233</td>\n",
       "      <td>1533.979997</td>\n",
       "    </tr>\n",
       "    <tr>\n",
       "      <th>75%</th>\n",
       "      <td>8798.942708</td>\n",
       "      <td>25346.0</td>\n",
       "      <td>0.347153</td>\n",
       "      <td>9538.718549</td>\n",
       "      <td>2323.040497</td>\n",
       "      <td>9555.814977</td>\n",
       "      <td>2324.964459</td>\n",
       "      <td>9559.345828</td>\n",
       "      <td>2323.317706</td>\n",
       "      <td>9446.019577</td>\n",
       "      <td>2265.686965</td>\n",
       "      <td>9445.186256</td>\n",
       "      <td>2261.773669</td>\n",
       "      <td>7273.507372</td>\n",
       "      <td>2633.929830</td>\n",
       "      <td>7266.232782</td>\n",
       "      <td>2621.624633</td>\n",
       "    </tr>\n",
       "    <tr>\n",
       "      <th>max</th>\n",
       "      <td>13298.458333</td>\n",
       "      <td>25346.0</td>\n",
       "      <td>0.524677</td>\n",
       "      <td>12501.657836</td>\n",
       "      <td>5907.049961</td>\n",
       "      <td>12528.695038</td>\n",
       "      <td>5890.111179</td>\n",
       "      <td>12532.853526</td>\n",
       "      <td>5898.087530</td>\n",
       "      <td>12285.925152</td>\n",
       "      <td>5695.413204</td>\n",
       "      <td>12285.101989</td>\n",
       "      <td>5703.191130</td>\n",
       "      <td>8323.826650</td>\n",
       "      <td>6112.808235</td>\n",
       "      <td>8276.576656</td>\n",
       "      <td>6116.738956</td>\n",
       "    </tr>\n",
       "  </tbody>\n",
       "</table>\n",
       "</div>"
      ],
      "text/plain": [
       "        Hydraulique  Capa_hyd     TCH_hyd   Hyd_p_sinus    Err_sinus  \\\n",
       "count    670.000000     670.0  670.000000    670.000000   670.000000   \n",
       "mean    7260.388184   25346.0    0.286451   8106.609350  1655.032904   \n",
       "std     2126.241737       0.0    0.083889   1958.954373  1142.864589   \n",
       "min     2714.229167   25346.0    0.107087   3269.293272     0.679022   \n",
       "25%     5620.468750   25346.0    0.221750   6582.148165   794.256185   \n",
       "50%     7204.583333   25346.0    0.284249   8348.066669  1396.533454   \n",
       "75%     8798.942708   25346.0    0.347153   9538.718549  2323.040497   \n",
       "max    13298.458333   25346.0    0.524677  12501.657836  5907.049961   \n",
       "\n",
       "         Hyd_p_exog     Err_exog  Hyd_p_filter  Err_exog_filter  \\\n",
       "count    670.000000   670.000000    670.000000       670.000000   \n",
       "mean    8111.307161  1660.875876   8111.422426      1661.008148   \n",
       "std     1950.915471  1143.114734   1951.324990      1143.302134   \n",
       "min     3281.788475     6.045886   3285.988828         3.505697   \n",
       "25%     6574.398842   804.667749   6573.660100       795.395087   \n",
       "50%     8372.522224  1412.532601   8367.687454      1413.072833   \n",
       "75%     9555.814977  2324.964459   9559.345828      2323.317706   \n",
       "max    12528.695038  5890.111179  12532.853526      5898.087530   \n",
       "\n",
       "       Hyd_p_reduit_noreg  Err_filter_noreg  Hyd_p_reduit  \\\n",
       "count          670.000000        670.000000    670.000000   \n",
       "mean          8103.556877       1601.494203   8102.975190   \n",
       "std           1910.034570       1117.693489   1910.020234   \n",
       "min           3110.065795          6.459041   3104.664392   \n",
       "25%           6709.790666        730.355195   6708.332071   \n",
       "50%           8288.437812       1406.172581   8288.843084   \n",
       "75%           9446.019577       2265.686965   9445.186256   \n",
       "max          12285.925152       5695.413204  12285.101989   \n",
       "\n",
       "       Err_filter_exog_filter  Hyd_p_LinReg   Err_LinReg  Hyd_p_LinReg_filter  \\\n",
       "count              670.000000    670.000000   670.000000           670.000000   \n",
       "mean              1600.938963   7223.332574  1751.180133          7217.967650   \n",
       "std               1117.768984    173.581613  1212.625847           166.975055   \n",
       "min                  3.480564   6982.770900     1.457546          6986.561810   \n",
       "25%                734.057254   7116.450116   777.607197          7115.153163   \n",
       "50%               1403.148631   7170.267488  1534.417732          7166.922233   \n",
       "75%               2261.773669   7273.507372  2633.929830          7266.232782   \n",
       "max               5703.191130   8323.826650  6112.808235          8276.576656   \n",
       "\n",
       "       Err_LinReg_filter  \n",
       "count         670.000000  \n",
       "mean         1751.187975  \n",
       "std          1212.031160  \n",
       "min             0.225915  \n",
       "25%           774.763309  \n",
       "50%          1533.979997  \n",
       "75%          2621.624633  \n",
       "max          6116.738956  "
      ]
     },
     "execution_count": 82,
     "metadata": {},
     "output_type": "execute_result"
    }
   ],
   "source": [
    "bilan['Hyd_p_sinus'] = bilan['Hyd_p_sinus'] * bilan['Capa_hyd']\n",
    "bilan['Err_sinus'] = bilan['Err_sinus'] * bilan['Capa_hyd']\n",
    "bilan['Hyd_p_exog'] = bilan['Hyd_p_exog'] * bilan['Capa_hyd']\n",
    "bilan['Err_exog'] = bilan['Err_exog'] * bilan['Capa_hyd']\n",
    "bilan['Hyd_p_filter'] = bilan['Hyd_p_filter'] * bilan['Capa_hyd']\n",
    "bilan['Err_exog_filter'] = bilan['Err_exog_filter'] * bilan['Capa_hyd']\n",
    "bilan['Hyd_p_reduit_noreg'] = bilan['Hyd_p_reduit_noreg'] * bilan['Capa_hyd']\n",
    "bilan['Err_filter_noreg'] = bilan['Err_filter_noreg'] * bilan['Capa_hyd']\n",
    "bilan['Hyd_p_reduit'] = bilan['Hyd_p_reduit'] * bilan['Capa_hyd']\n",
    "bilan['Err_filter_exog_filter'] = bilan['Err_filter_exog_filter'] * bilan['Capa_hyd']\n",
    "bilan['Hyd_p_LinReg'] = bilan['Hyd_p_LinReg'] * bilan['Capa_hyd']\n",
    "bilan['Err_LinReg'] = bilan['Err_LinReg'] * bilan['Capa_hyd']\n",
    "bilan['Hyd_p_LinReg_filter'] = bilan['Hyd_p_LinReg_filter'] * bilan['Capa_hyd']\n",
    "bilan['Err_LinReg_filter'] = bilan['Err_LinReg_filter'] * bilan['Capa_hyd']\n",
    "bilan.describe()"
   ]
  },
  {
   "cell_type": "markdown",
   "metadata": {},
   "source": [
    "# Visualisation réel vs prédictions"
   ]
  },
  {
   "cell_type": "code",
   "execution_count": 83,
   "metadata": {},
   "outputs": [
    {
     "data": {
      "image/png": "[encoded data removed]",
      "text/plain": [
       "<Figure size 1296x648 with 1 Axes>"
      ]
     },
     "metadata": {
      "needs_background": "light"
     },
     "output_type": "display_data"
    }
   ],
   "source": [
    "plt.figure(figsize=(18,9))\n",
    "plt.plot(bilan['Hydraulique'].resample('W').mean(), color = 'k', label = 'réel')\n",
    "plt.plot(bilan['Hyd_p_sinus'].resample('W').mean(), color = 'y', linestyle = '--', alpha = 0.5, label = 'sinus', marker = '>')\n",
    "plt.plot(bilan['Hyd_p_exog'].resample('W').mean(), color = 'b', linestyle = '--', alpha = 0.5, label = 'exog')\n",
    "#plt.plot(bilan['Hyd_p_filter'].resample('W').mean(), color = 'b', linestyle = ':', alpha = 0.5, label = 'exog filtré')\n",
    "plt.plot(bilan['Hyd_p_reduit_noreg'].resample('W').mean(), color = 'r', linestyle = '--', alpha = 0.5, label = 'filtré sans exog')\n",
    "#plt.plot(bilan['Hyd_p_reduit'].resample('W').mean(), color = 'r', linestyle = ':', alpha = 0.5, label = 'filtré + exog filtré')\n",
    "plt.plot(bilan['Hyd_p_LinReg'].resample('W').mean(), color = 'g', linestyle = '--', alpha = 0.5, label = 'RegLin')\n",
    "#plt.plot(bilan['Hyd_p_LinReg_filter'].resample('W').mean(), color = 'g', linestyle = ':', alpha = 0.5, label = 'RegLin filtré')\n",
    "plt.legend(loc = 'upper right')\n",
    "plt.title('Prediction Hydraulique (D)')\n",
    "plt.savefig('./results/pred_hydraulique_D.png');"
   ]
  },
  {
   "cell_type": "markdown",
   "metadata": {},
   "source": [
    "# Synthèse des erreurs"
   ]
  },
  {
   "cell_type": "code",
   "execution_count": 85,
   "metadata": {},
   "outputs": [
    {
     "data": {
      "text/html": [
       "<div>\n",
       "<style scoped>\n",
       "    .dataframe tbody tr th:only-of-type {\n",
       "        vertical-align: middle;\n",
       "    }\n",
       "\n",
       "    .dataframe tbody tr th {\n",
       "        vertical-align: top;\n",
       "    }\n",
       "\n",
       "    .dataframe thead th {\n",
       "        text-align: right;\n",
       "    }\n",
       "</style>\n",
       "<table border=\"1\" class=\"dataframe\">\n",
       "  <thead>\n",
       "    <tr style=\"text-align: right;\">\n",
       "      <th></th>\n",
       "      <th>Err_sinus</th>\n",
       "      <th>Err_exog</th>\n",
       "      <th>Err_exog_filter</th>\n",
       "      <th>Err_filter_noreg</th>\n",
       "      <th>Err_filter_exog_filter</th>\n",
       "      <th>Err_LinReg</th>\n",
       "      <th>Err_LinReg_filter</th>\n",
       "    </tr>\n",
       "  </thead>\n",
       "  <tbody>\n",
       "    <tr>\n",
       "      <th>count</th>\n",
       "      <td>670.000000</td>\n",
       "      <td>670.000000</td>\n",
       "      <td>670.000000</td>\n",
       "      <td>670.000000</td>\n",
       "      <td>670.000000</td>\n",
       "      <td>670.000000</td>\n",
       "      <td>670.000000</td>\n",
       "    </tr>\n",
       "    <tr>\n",
       "      <th>mean</th>\n",
       "      <td>1655.032904</td>\n",
       "      <td>1660.875876</td>\n",
       "      <td>1661.008148</td>\n",
       "      <td>1601.494203</td>\n",
       "      <td>1600.938963</td>\n",
       "      <td>1751.180133</td>\n",
       "      <td>1751.187975</td>\n",
       "    </tr>\n",
       "    <tr>\n",
       "      <th>std</th>\n",
       "      <td>1142.864589</td>\n",
       "      <td>1143.114734</td>\n",
       "      <td>1143.302134</td>\n",
       "      <td>1117.693489</td>\n",
       "      <td>1117.768984</td>\n",
       "      <td>1212.625847</td>\n",
       "      <td>1212.031160</td>\n",
       "    </tr>\n",
       "    <tr>\n",
       "      <th>min</th>\n",
       "      <td>0.679022</td>\n",
       "      <td>6.045886</td>\n",
       "      <td>3.505697</td>\n",
       "      <td>6.459041</td>\n",
       "      <td>3.480564</td>\n",
       "      <td>1.457546</td>\n",
       "      <td>0.225915</td>\n",
       "    </tr>\n",
       "    <tr>\n",
       "      <th>25%</th>\n",
       "      <td>794.256185</td>\n",
       "      <td>804.667749</td>\n",
       "      <td>795.395087</td>\n",
       "      <td>730.355195</td>\n",
       "      <td>734.057254</td>\n",
       "      <td>777.607197</td>\n",
       "      <td>774.763309</td>\n",
       "    </tr>\n",
       "    <tr>\n",
       "      <th>50%</th>\n",
       "      <td>1396.533454</td>\n",
       "      <td>1412.532601</td>\n",
       "      <td>1413.072833</td>\n",
       "      <td>1406.172581</td>\n",
       "      <td>1403.148631</td>\n",
       "      <td>1534.417732</td>\n",
       "      <td>1533.979997</td>\n",
       "    </tr>\n",
       "    <tr>\n",
       "      <th>75%</th>\n",
       "      <td>2323.040497</td>\n",
       "      <td>2324.964459</td>\n",
       "      <td>2323.317706</td>\n",
       "      <td>2265.686965</td>\n",
       "      <td>2261.773669</td>\n",
       "      <td>2633.929830</td>\n",
       "      <td>2621.624633</td>\n",
       "    </tr>\n",
       "    <tr>\n",
       "      <th>max</th>\n",
       "      <td>5907.049961</td>\n",
       "      <td>5890.111179</td>\n",
       "      <td>5898.087530</td>\n",
       "      <td>5695.413204</td>\n",
       "      <td>5703.191130</td>\n",
       "      <td>6112.808235</td>\n",
       "      <td>6116.738956</td>\n",
       "    </tr>\n",
       "  </tbody>\n",
       "</table>\n",
       "</div>"
      ],
      "text/plain": [
       "         Err_sinus     Err_exog  Err_exog_filter  Err_filter_noreg  \\\n",
       "count   670.000000   670.000000       670.000000        670.000000   \n",
       "mean   1655.032904  1660.875876      1661.008148       1601.494203   \n",
       "std    1142.864589  1143.114734      1143.302134       1117.693489   \n",
       "min       0.679022     6.045886         3.505697          6.459041   \n",
       "25%     794.256185   804.667749       795.395087        730.355195   \n",
       "50%    1396.533454  1412.532601      1413.072833       1406.172581   \n",
       "75%    2323.040497  2324.964459      2323.317706       2265.686965   \n",
       "max    5907.049961  5890.111179      5898.087530       5695.413204   \n",
       "\n",
       "       Err_filter_exog_filter   Err_LinReg  Err_LinReg_filter  \n",
       "count              670.000000   670.000000         670.000000  \n",
       "mean              1600.938963  1751.180133        1751.187975  \n",
       "std               1117.768984  1212.625847        1212.031160  \n",
       "min                  3.480564     1.457546           0.225915  \n",
       "25%                734.057254   777.607197         774.763309  \n",
       "50%               1403.148631  1534.417732        1533.979997  \n",
       "75%               2261.773669  2633.929830        2621.624633  \n",
       "max               5703.191130  6112.808235        6116.738956  "
      ]
     },
     "execution_count": 85,
     "metadata": {},
     "output_type": "execute_result"
    }
   ],
   "source": [
    "erreur = bilan[['Err_sinus',\n",
    "       'Err_exog',\n",
    "       'Err_exog_filter',\n",
    "       'Err_filter_noreg',\n",
    "       'Err_filter_exog_filter',\n",
    "       'Err_LinReg',\n",
    "       'Err_LinReg_filter'\n",
    "      ]].describe()\n",
    "erreur"
   ]
  },
  {
   "cell_type": "code",
   "execution_count": 86,
   "metadata": {},
   "outputs": [],
   "source": [
    "bilan.to_csv('./results/bilan_hydraulique_D.csv', sep = ';')\n",
    "erreur.to_csv('./results/erreur_hydraulique_D.csv', sep = ';')"
   ]
  }
 ],
 "metadata": {
  "kernelspec": {
   "display_name": "Python 3",
   "language": "python",
   "name": "python3"
  },
  "language_info": {
   "codemirror_mode": {
    "name": "ipython",
    "version": 3
   },
   "file_extension": ".py",
   "mimetype": "text/x-python",
   "name": "python",
   "nbconvert_exporter": "python",
   "pygments_lexer": "ipython3",
   "version": "3.8.5"
  }
 },
 "nbformat": 4,
 "nbformat_minor": 2
}
