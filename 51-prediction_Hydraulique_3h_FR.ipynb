{
 "cells": [
  {
   "cell_type": "code",
   "execution_count": 1,
   "metadata": {},
   "outputs": [],
   "source": [
    "import numpy as np\n",
    "import pandas as pd\n",
    "import datetime as dt\n",
    "from dateutil.relativedelta import relativedelta\n",
    "import matplotlib.pyplot as plt\n",
    "%matplotlib inline\n",
    "import statsmodels.api as sm\n",
    "from statsmodels.graphics.tsaplots import plot_pacf, plot_acf\n",
    "from statsmodels.tsa.seasonal import seasonal_decompose\n",
    "from sklearn.metrics import mean_absolute_error, mean_squared_error\n",
    "from sklearn.preprocessing import MinMaxScaler\n",
    "from sklearn.linear_model import LinearRegression"
   ]
  },
  {
   "cell_type": "markdown",
   "metadata": {},
   "source": [
    "# Objectif du notebook\n",
    "\n",
    "Comparer les différentes modélisation possible sur la variable **production hydraulique** :\n",
    "\n",
    "* SARIMAX avec des fonctions sinusoïdales correspondant aux saisons observées en régresseurs exogènes\n",
    "* SARIMAX avec des données métier en régresseurs exogènes (eau, précipitation).\n",
    "* SARIMAX avec des données métier FILTREES en régresseurs exogènes\n",
    "* SARIMAX sur le signal filtré par transformation de Fourier sans régresseur\n",
    "* SARIMAX sur le signal filtré avec des données métier FILTREES en régresseurs exogènes\n",
    "* Régression linéaire sur les données métiers FILTREES comme variables explicatives\n",
    "* Régression linéaire sur la variable à expliquée FILTREE et avec les variables explicatives FILTREES.\n",
    "\n",
    "**NOTA BENE :** Pour la période 3h, le calcul avec un modèle SARIMAX n'aboutit pas sans données exogènes en paramètre."
   ]
  },
  {
   "cell_type": "markdown",
   "metadata": {},
   "source": [
    "# Import du dataset original"
   ]
  },
  {
   "cell_type": "code",
   "execution_count": 2,
   "metadata": {},
   "outputs": [
    {
     "data": {
      "text/html": [
       "<div>\n",
       "<style scoped>\n",
       "    .dataframe tbody tr th:only-of-type {\n",
       "        vertical-align: middle;\n",
       "    }\n",
       "\n",
       "    .dataframe tbody tr th {\n",
       "        vertical-align: top;\n",
       "    }\n",
       "\n",
       "    .dataframe thead th {\n",
       "        text-align: right;\n",
       "    }\n",
       "</style>\n",
       "<table border=\"1\" class=\"dataframe\">\n",
       "  <thead>\n",
       "    <tr style=\"text-align: right;\">\n",
       "      <th></th>\n",
       "      <th>Dates</th>\n",
       "      <th>Hydraulique</th>\n",
       "    </tr>\n",
       "  </thead>\n",
       "  <tbody>\n",
       "    <tr>\n",
       "      <th>0</th>\n",
       "      <td>2013-01-01 00:00:00</td>\n",
       "      <td>6770.8</td>\n",
       "    </tr>\n",
       "  </tbody>\n",
       "</table>\n",
       "</div>"
      ],
      "text/plain": [
       "                 Dates  Hydraulique\n",
       "0  2013-01-01 00:00:00       6770.8"
      ]
     },
     "execution_count": 2,
     "metadata": {},
     "output_type": "execute_result"
    }
   ],
   "source": [
    "df = pd.read_csv('./dataset/France_3H.csv',\n",
    "                usecols = ['Dates', 'Hydraulique'])\n",
    "df.head(1)"
   ]
  },
  {
   "cell_type": "code",
   "execution_count": 3,
   "metadata": {},
   "outputs": [
    {
     "data": {
      "text/plain": [
       "(25808, 2)"
      ]
     },
     "execution_count": 3,
     "metadata": {},
     "output_type": "execute_result"
    }
   ],
   "source": [
    "df.shape"
   ]
  },
  {
   "cell_type": "code",
   "execution_count": 4,
   "metadata": {},
   "outputs": [],
   "source": [
    "df['Dates'] = pd.to_datetime(df['Dates'], yearfirst = True)\n",
    "df.set_index('Dates', inplace = True)"
   ]
  },
  {
   "cell_type": "code",
   "execution_count": 5,
   "metadata": {},
   "outputs": [],
   "source": [
    "debut = dt.datetime(year = 2013, month = 1, day = 1)\n",
    "fin = dt.datetime(year = 2020, month = 1, day = 1)"
   ]
  },
  {
   "cell_type": "markdown",
   "metadata": {},
   "source": [
    "# Conversion en taux de charge pour annuler l'évolution dans le temps"
   ]
  },
  {
   "cell_type": "code",
   "execution_count": 6,
   "metadata": {},
   "outputs": [],
   "source": [
    "capa = pd.read_csv('./datasource/capacite_hydraulique_FR.csv',\n",
    "                  usecols = ['Dates', 'Capa_hyd'])\n",
    "capa['Dates'] = pd.to_datetime(capa['Dates'], format = '%Y/%m/%d %H:%M:%S', yearfirst = True)\n",
    "capa.set_index('Dates', inplace = True)"
   ]
  },
  {
   "cell_type": "code",
   "execution_count": 7,
   "metadata": {},
   "outputs": [
    {
     "data": {
      "text/plain": [
       "(25808, 1)"
      ]
     },
     "execution_count": 7,
     "metadata": {},
     "output_type": "execute_result"
    }
   ],
   "source": [
    "capa.shape"
   ]
  },
  {
   "cell_type": "code",
   "execution_count": 8,
   "metadata": {},
   "outputs": [
    {
     "data": {
      "text/html": [
       "<div>\n",
       "<style scoped>\n",
       "    .dataframe tbody tr th:only-of-type {\n",
       "        vertical-align: middle;\n",
       "    }\n",
       "\n",
       "    .dataframe tbody tr th {\n",
       "        vertical-align: top;\n",
       "    }\n",
       "\n",
       "    .dataframe thead th {\n",
       "        text-align: right;\n",
       "    }\n",
       "</style>\n",
       "<table border=\"1\" class=\"dataframe\">\n",
       "  <thead>\n",
       "    <tr style=\"text-align: right;\">\n",
       "      <th></th>\n",
       "      <th>Hydraulique</th>\n",
       "      <th>Capa_hyd</th>\n",
       "      <th>TCH_hyd</th>\n",
       "    </tr>\n",
       "    <tr>\n",
       "      <th>Dates</th>\n",
       "      <th></th>\n",
       "      <th></th>\n",
       "      <th></th>\n",
       "    </tr>\n",
       "  </thead>\n",
       "  <tbody>\n",
       "    <tr>\n",
       "      <th>2013-01-01 00:00:00</th>\n",
       "      <td>6770.800000</td>\n",
       "      <td>25346</td>\n",
       "      <td>0.267135</td>\n",
       "    </tr>\n",
       "    <tr>\n",
       "      <th>2013-01-01 03:00:00</th>\n",
       "      <td>5614.666667</td>\n",
       "      <td>25346</td>\n",
       "      <td>0.221521</td>\n",
       "    </tr>\n",
       "    <tr>\n",
       "      <th>2013-01-01 06:00:00</th>\n",
       "      <td>5645.166667</td>\n",
       "      <td>25346</td>\n",
       "      <td>0.222724</td>\n",
       "    </tr>\n",
       "    <tr>\n",
       "      <th>2013-01-01 09:00:00</th>\n",
       "      <td>6325.833333</td>\n",
       "      <td>25346</td>\n",
       "      <td>0.249579</td>\n",
       "    </tr>\n",
       "    <tr>\n",
       "      <th>2013-01-01 12:00:00</th>\n",
       "      <td>6867.666667</td>\n",
       "      <td>25346</td>\n",
       "      <td>0.270957</td>\n",
       "    </tr>\n",
       "    <tr>\n",
       "      <th>...</th>\n",
       "      <td>...</td>\n",
       "      <td>...</td>\n",
       "      <td>...</td>\n",
       "    </tr>\n",
       "    <tr>\n",
       "      <th>2021-10-31 09:00:00</th>\n",
       "      <td>3089.500000</td>\n",
       "      <td>25346</td>\n",
       "      <td>0.121893</td>\n",
       "    </tr>\n",
       "    <tr>\n",
       "      <th>2021-10-31 12:00:00</th>\n",
       "      <td>2510.500000</td>\n",
       "      <td>25346</td>\n",
       "      <td>0.099049</td>\n",
       "    </tr>\n",
       "    <tr>\n",
       "      <th>2021-10-31 15:00:00</th>\n",
       "      <td>2338.500000</td>\n",
       "      <td>25346</td>\n",
       "      <td>0.092263</td>\n",
       "    </tr>\n",
       "    <tr>\n",
       "      <th>2021-10-31 18:00:00</th>\n",
       "      <td>3863.666667</td>\n",
       "      <td>25346</td>\n",
       "      <td>0.152437</td>\n",
       "    </tr>\n",
       "    <tr>\n",
       "      <th>2021-10-31 21:00:00</th>\n",
       "      <td>3417.500000</td>\n",
       "      <td>25346</td>\n",
       "      <td>0.134834</td>\n",
       "    </tr>\n",
       "  </tbody>\n",
       "</table>\n",
       "<p>25808 rows × 3 columns</p>\n",
       "</div>"
      ],
      "text/plain": [
       "                     Hydraulique  Capa_hyd   TCH_hyd\n",
       "Dates                                               \n",
       "2013-01-01 00:00:00  6770.800000     25346  0.267135\n",
       "2013-01-01 03:00:00  5614.666667     25346  0.221521\n",
       "2013-01-01 06:00:00  5645.166667     25346  0.222724\n",
       "2013-01-01 09:00:00  6325.833333     25346  0.249579\n",
       "2013-01-01 12:00:00  6867.666667     25346  0.270957\n",
       "...                          ...       ...       ...\n",
       "2021-10-31 09:00:00  3089.500000     25346  0.121893\n",
       "2021-10-31 12:00:00  2510.500000     25346  0.099049\n",
       "2021-10-31 15:00:00  2338.500000     25346  0.092263\n",
       "2021-10-31 18:00:00  3863.666667     25346  0.152437\n",
       "2021-10-31 21:00:00  3417.500000     25346  0.134834\n",
       "\n",
       "[25808 rows x 3 columns]"
      ]
     },
     "execution_count": 8,
     "metadata": {},
     "output_type": "execute_result"
    }
   ],
   "source": [
    "df = pd.concat([df, capa], axis = 1)\n",
    "df['TCH_hyd'] = df['Hydraulique'] / df['Capa_hyd']\n",
    "df"
   ]
  },
  {
   "cell_type": "code",
   "execution_count": 9,
   "metadata": {
    "scrolled": false
   },
   "outputs": [
    {
     "data": {
      "image/png": "[encoded data removed]",
      "text/plain": [
       "<Figure size 1152x432 with 1 Axes>"
      ]
     },
     "metadata": {
      "needs_background": "light"
     },
     "output_type": "display_data"
    }
   ],
   "source": [
    "plt.figure(figsize=(16, 6))\n",
    "plt.plot(df['Hydraulique'][(df.index >= debut) & (df.index < fin)])\n",
    "for year in range(debut.year, fin.year + 1): \n",
    "    plt.axvline(pd.to_datetime(str(year)+'-01-01'), color='k', linestyle='--', alpha=0.5);"
   ]
  },
  {
   "cell_type": "code",
   "execution_count": 10,
   "metadata": {},
   "outputs": [
    {
     "data": {
      "image/png": "[encoded data removed]",
      "text/plain": [
       "<Figure size 1152x432 with 1 Axes>"
      ]
     },
     "metadata": {
      "needs_background": "light"
     },
     "output_type": "display_data"
    }
   ],
   "source": [
    "plt.figure(figsize=(16, 6))\n",
    "plt.plot(df['TCH_hyd'][(df.index >= debut) & (df.index < fin)])\n",
    "for year in range(debut.year, fin.year + 1): \n",
    "    plt.axvline(pd.to_datetime(str(year)+'-01-01'), color='k', linestyle='--', alpha=0.5);"
   ]
  },
  {
   "cell_type": "markdown",
   "metadata": {},
   "source": [
    "### Test de stationnarité"
   ]
  },
  {
   "cell_type": "code",
   "execution_count": 11,
   "metadata": {},
   "outputs": [
    {
     "data": {
      "text/plain": [
       "(-4.69074596908079,\n",
       " 8.758654481097686e-05,\n",
       " 49,\n",
       " 25758,\n",
       " {'1%': -3.4306038998292085,\n",
       "  '5%': -2.8616522161827964,\n",
       "  '10%': -2.566829729367711},\n",
       " -106489.41251544026)"
      ]
     },
     "execution_count": 11,
     "metadata": {},
     "output_type": "execute_result"
    }
   ],
   "source": [
    "# la 2ème valeur donne la p_value (stationnaire si < 5%)\n",
    "sm.tsa.stattools.adfuller(df['TCH_hyd'])"
   ]
  },
  {
   "cell_type": "markdown",
   "metadata": {},
   "source": [
    "### Coéfficients SARIMAX et saisonnalités"
   ]
  },
  {
   "cell_type": "code",
   "execution_count": 12,
   "metadata": {},
   "outputs": [
    {
     "data": {
      "image/png": "[encoded data removed]",
      "text/plain": [
       "<Figure size 1152x432 with 2 Axes>"
      ]
     },
     "metadata": {
      "needs_background": "light"
     },
     "output_type": "display_data"
    }
   ],
   "source": [
    "fig, (ax1, ax2) = plt.subplots(1, 2, figsize=(16,6))\n",
    "plot_acf(df['TCH_hyd'], lags = 100, ax=ax1)\n",
    "plot_pacf(df['TCH_hyd'], lags = 100, ax=ax2)\n",
    "plt.show()"
   ]
  },
  {
   "cell_type": "markdown",
   "metadata": {},
   "source": [
    "**Saisonnalités :**\n",
    "* 1 an"
   ]
  },
  {
   "cell_type": "markdown",
   "metadata": {},
   "source": [
    "# Import du dataset filtré (Transformation de Fourier)"
   ]
  },
  {
   "cell_type": "code",
   "execution_count": 13,
   "metadata": {},
   "outputs": [
    {
     "data": {
      "text/html": [
       "<div>\n",
       "<style scoped>\n",
       "    .dataframe tbody tr th:only-of-type {\n",
       "        vertical-align: middle;\n",
       "    }\n",
       "\n",
       "    .dataframe tbody tr th {\n",
       "        vertical-align: top;\n",
       "    }\n",
       "\n",
       "    .dataframe thead th {\n",
       "        text-align: right;\n",
       "    }\n",
       "</style>\n",
       "<table border=\"1\" class=\"dataframe\">\n",
       "  <thead>\n",
       "    <tr style=\"text-align: right;\">\n",
       "      <th></th>\n",
       "      <th>Dates</th>\n",
       "      <th>Hydraulique</th>\n",
       "    </tr>\n",
       "  </thead>\n",
       "  <tbody>\n",
       "    <tr>\n",
       "      <th>0</th>\n",
       "      <td>2013-01-01 00:00:00</td>\n",
       "      <td>3697.02044</td>\n",
       "    </tr>\n",
       "  </tbody>\n",
       "</table>\n",
       "</div>"
      ],
      "text/plain": [
       "                 Dates  Hydraulique\n",
       "0  2013-01-01 00:00:00   3697.02044"
      ]
     },
     "execution_count": 13,
     "metadata": {},
     "output_type": "execute_result"
    }
   ],
   "source": [
    "df_filtered = pd.read_csv('./dataset/France_3H_filtered.csv',\n",
    "                usecols = ['Dates', 'Hydraulique'])\n",
    "df_filtered.head(1)"
   ]
  },
  {
   "cell_type": "code",
   "execution_count": 14,
   "metadata": {},
   "outputs": [],
   "source": [
    "df_filtered['Dates'] = pd.to_datetime(df_filtered['Dates'], yearfirst = True)\n",
    "df_filtered.set_index('Dates', inplace = True)"
   ]
  },
  {
   "cell_type": "code",
   "execution_count": 15,
   "metadata": {},
   "outputs": [],
   "source": [
    "df_filtered = pd.concat([df_filtered, capa], axis = 1)\n",
    "df_filtered['TCH_hyd'] = df_filtered['Hydraulique'] / df_filtered['Capa_hyd']"
   ]
  },
  {
   "cell_type": "code",
   "execution_count": 16,
   "metadata": {
    "scrolled": false
   },
   "outputs": [
    {
     "data": {
      "image/png": "[encoded data removed]",
      "text/plain": [
       "<Figure size 1152x432 with 1 Axes>"
      ]
     },
     "metadata": {
      "needs_background": "light"
     },
     "output_type": "display_data"
    }
   ],
   "source": [
    "plt.figure(figsize=(16, 6))\n",
    "plt.plot(df_filtered['Hydraulique'][(df.index >= debut) & (df.index < fin)])\n",
    "for year in range(debut.year, fin.year + 1): \n",
    "    plt.axvline(pd.to_datetime(str(year)+'-01-01'), color='k', linestyle='--', alpha=0.5);"
   ]
  },
  {
   "cell_type": "code",
   "execution_count": 17,
   "metadata": {},
   "outputs": [
    {
     "data": {
      "image/png": "[encoded data removed]",
      "text/plain": [
       "<Figure size 1152x432 with 1 Axes>"
      ]
     },
     "metadata": {
      "needs_background": "light"
     },
     "output_type": "display_data"
    }
   ],
   "source": [
    "plt.figure(figsize=(16, 6))\n",
    "plt.plot(df_filtered['TCH_hyd'][(df.index >= debut) & (df.index < fin)])\n",
    "for year in range(debut.year, fin.year + 1): \n",
    "    plt.axvline(pd.to_datetime(str(year)+'-01-01'), color='k', linestyle='--', alpha=0.5);"
   ]
  },
  {
   "cell_type": "markdown",
   "metadata": {},
   "source": [
    "# Jeux d'entrainement et de test"
   ]
  },
  {
   "cell_type": "code",
   "execution_count": 18,
   "metadata": {},
   "outputs": [],
   "source": [
    "df_train = df[(df.index >= debut) & (df.index < fin)]\n",
    "df_test = df[df.index >= fin]"
   ]
  },
  {
   "cell_type": "code",
   "execution_count": 19,
   "metadata": {},
   "outputs": [],
   "source": [
    "df_train_filter = df_filtered[(df_filtered.index >= debut) & (df_filtered.index < fin)]\n",
    "df_test_filter = df_filtered[df_filtered.index >= fin]"
   ]
  },
  {
   "cell_type": "code",
   "execution_count": 20,
   "metadata": {},
   "outputs": [],
   "source": [
    "fenetre = df_test.shape[0]"
   ]
  },
  {
   "cell_type": "code",
   "execution_count": 21,
   "metadata": {},
   "outputs": [],
   "source": [
    "indice = df_test.index"
   ]
  },
  {
   "cell_type": "code",
   "execution_count": 22,
   "metadata": {},
   "outputs": [],
   "source": [
    "bilan = df_test"
   ]
  },
  {
   "cell_type": "markdown",
   "metadata": {},
   "source": [
    "# Paramètres SARIMAX"
   ]
  },
  {
   "cell_type": "code",
   "execution_count": 23,
   "metadata": {},
   "outputs": [],
   "source": [
    "ordre = (3,0,0)\n",
    "saison = (2,0,0,8)"
   ]
  },
  {
   "cell_type": "markdown",
   "metadata": {},
   "source": [
    "# Régresseurs exogènes : sinus & cosinus suivant les saisonnalités"
   ]
  },
  {
   "cell_type": "code",
   "execution_count": 24,
   "metadata": {},
   "outputs": [],
   "source": [
    "exog = pd.DataFrame({'date': df.index})\n",
    "exog['date'] = pd.to_datetime(exog['date'])\n",
    "# suivant saisonnalités\n",
    "# exog['sin_D'] = np.sin(2 * np.pi * exog.index / 8)\n",
    "# exog['cos_D'] = np.cos(2 * np.pi * exog.index / 8)\n",
    "# exog['sin_W'] = np.sin(2 * np.pi * exog.index / 7)\n",
    "# exog['cos_W'] = np.cos(2 * np.pi * exog.index / 7)\n",
    "exog['sin_Y'] = np.sin(2 * np.pi * exog.index / 365.25)\n",
    "exog['cos_Y'] = np.cos(2 * np.pi * exog.index / 365.25)\n",
    "exog.set_index('date', inplace = True)"
   ]
  },
  {
   "cell_type": "code",
   "execution_count": 25,
   "metadata": {},
   "outputs": [],
   "source": [
    "# Split en jeu d'entrainement et jeu de test\n",
    "exog_train = exog[(exog.index >= debut) & (exog.index < fin)]\n",
    "exog_test = exog[exog.index >= fin]"
   ]
  },
  {
   "cell_type": "code",
   "execution_count": 26,
   "metadata": {},
   "outputs": [
    {
     "name": "stderr",
     "output_type": "stream",
     "text": [
      "<ipython-input-26-56416ee0eedf>:2: FutureWarning: The pandas.datetime class is deprecated and will be removed from pandas in a future version. Import from datetime module instead.\n",
      "  plt.plot(exog[(exog.index >= pd.datetime(2016, 1, 1)) & (exog.index < pd.datetime(2016, 1, 15))])\n"
     ]
    },
    {
     "data": {
      "text/plain": [
       "''"
      ]
     },
     "execution_count": 26,
     "metadata": {},
     "output_type": "execute_result"
    },
    {
     "data": {
      "image/png": "[encoded data removed]",
      "text/plain": [
       "<Figure size 1152x288 with 1 Axes>"
      ]
     },
     "metadata": {
      "needs_background": "light"
     },
     "output_type": "display_data"
    }
   ],
   "source": [
    "plt.figure(figsize=(16, 4))\n",
    "plt.plot(exog[(exog.index >= pd.datetime(2016, 1, 1)) & (exog.index < pd.datetime(2016, 1, 15))])\n",
    "# for year in range(debut.year, fin.year + 1): \n",
    "#     plt.axvline(pd.to_datetime(str(year)+'-01-01'), color='k', linestyle='--', alpha=0.5)\n",
    ";"
   ]
  },
  {
   "cell_type": "markdown",
   "metadata": {},
   "source": [
    "### SARIMAX"
   ]
  },
  {
   "cell_type": "code",
   "execution_count": 27,
   "metadata": {},
   "outputs": [
    {
     "name": "stderr",
     "output_type": "stream",
     "text": [
      "C:\\Python\\Anaconda3\\lib\\site-packages\\statsmodels\\base\\model.py:566: ConvergenceWarning: Maximum Likelihood optimization failed to converge. Check mle_retvals\n",
      "  warnings.warn(\"Maximum Likelihood optimization failed to \"\n"
     ]
    }
   ],
   "source": [
    "model_sinus = sm.tsa.SARIMAX(df_train['TCH_hyd'].values,\n",
    "                             exog = exog_train.values,\n",
    "                             order = ordre,\n",
    "                             seasonal_order = saison)\n",
    "result_sinus = model_sinus.fit()"
   ]
  },
  {
   "cell_type": "code",
   "execution_count": 28,
   "metadata": {},
   "outputs": [],
   "source": [
    "predict_sinus = result_sinus.predict(start = 1 ,\n",
    "                                     end = fenetre,\n",
    "                                     exog = exog_test.values)"
   ]
  },
  {
   "cell_type": "code",
   "execution_count": 29,
   "metadata": {},
   "outputs": [],
   "source": [
    "predict_sinus = pd.DataFrame(predict_sinus, columns=['Hyd_p_sinus'], index = indice)"
   ]
  },
  {
   "cell_type": "code",
   "execution_count": 30,
   "metadata": {},
   "outputs": [],
   "source": [
    "bilan = pd.concat([bilan, predict_sinus], axis = 1)"
   ]
  },
  {
   "cell_type": "markdown",
   "metadata": {},
   "source": [
    "### Erreur absolue"
   ]
  },
  {
   "cell_type": "code",
   "execution_count": 31,
   "metadata": {},
   "outputs": [
    {
     "data": {
      "text/html": [
       "<div>\n",
       "<style scoped>\n",
       "    .dataframe tbody tr th:only-of-type {\n",
       "        vertical-align: middle;\n",
       "    }\n",
       "\n",
       "    .dataframe tbody tr th {\n",
       "        vertical-align: top;\n",
       "    }\n",
       "\n",
       "    .dataframe thead th {\n",
       "        text-align: right;\n",
       "    }\n",
       "</style>\n",
       "<table border=\"1\" class=\"dataframe\">\n",
       "  <thead>\n",
       "    <tr style=\"text-align: right;\">\n",
       "      <th></th>\n",
       "      <th>Hydraulique</th>\n",
       "      <th>Capa_hyd</th>\n",
       "      <th>TCH_hyd</th>\n",
       "      <th>Hyd_p_sinus</th>\n",
       "      <th>Err_sinus</th>\n",
       "    </tr>\n",
       "  </thead>\n",
       "  <tbody>\n",
       "    <tr>\n",
       "      <th>count</th>\n",
       "      <td>5360.000000</td>\n",
       "      <td>5360.0</td>\n",
       "      <td>5360.000000</td>\n",
       "      <td>5360.000000</td>\n",
       "      <td>5360.000000</td>\n",
       "    </tr>\n",
       "    <tr>\n",
       "      <th>mean</th>\n",
       "      <td>7260.388184</td>\n",
       "      <td>25346.0</td>\n",
       "      <td>0.286451</td>\n",
       "      <td>0.321103</td>\n",
       "      <td>0.088204</td>\n",
       "    </tr>\n",
       "    <tr>\n",
       "      <th>std</th>\n",
       "      <td>2609.352124</td>\n",
       "      <td>0.0</td>\n",
       "      <td>0.102949</td>\n",
       "      <td>0.095678</td>\n",
       "      <td>0.065891</td>\n",
       "    </tr>\n",
       "    <tr>\n",
       "      <th>min</th>\n",
       "      <td>1795.000000</td>\n",
       "      <td>25346.0</td>\n",
       "      <td>0.070820</td>\n",
       "      <td>0.087967</td>\n",
       "      <td>0.000010</td>\n",
       "    </tr>\n",
       "    <tr>\n",
       "      <th>25%</th>\n",
       "      <td>5350.208333</td>\n",
       "      <td>25346.0</td>\n",
       "      <td>0.211087</td>\n",
       "      <td>0.252296</td>\n",
       "      <td>0.035179</td>\n",
       "    </tr>\n",
       "    <tr>\n",
       "      <th>50%</th>\n",
       "      <td>7097.000000</td>\n",
       "      <td>25346.0</td>\n",
       "      <td>0.280005</td>\n",
       "      <td>0.319804</td>\n",
       "      <td>0.074470</td>\n",
       "    </tr>\n",
       "    <tr>\n",
       "      <th>75%</th>\n",
       "      <td>8883.833333</td>\n",
       "      <td>25346.0</td>\n",
       "      <td>0.350502</td>\n",
       "      <td>0.390432</td>\n",
       "      <td>0.126265</td>\n",
       "    </tr>\n",
       "    <tr>\n",
       "      <th>max</th>\n",
       "      <td>17214.000000</td>\n",
       "      <td>25346.0</td>\n",
       "      <td>0.679160</td>\n",
       "      <td>0.603015</td>\n",
       "      <td>0.382586</td>\n",
       "    </tr>\n",
       "  </tbody>\n",
       "</table>\n",
       "</div>"
      ],
      "text/plain": [
       "        Hydraulique  Capa_hyd      TCH_hyd  Hyd_p_sinus    Err_sinus\n",
       "count   5360.000000    5360.0  5360.000000  5360.000000  5360.000000\n",
       "mean    7260.388184   25346.0     0.286451     0.321103     0.088204\n",
       "std     2609.352124       0.0     0.102949     0.095678     0.065891\n",
       "min     1795.000000   25346.0     0.070820     0.087967     0.000010\n",
       "25%     5350.208333   25346.0     0.211087     0.252296     0.035179\n",
       "50%     7097.000000   25346.0     0.280005     0.319804     0.074470\n",
       "75%     8883.833333   25346.0     0.350502     0.390432     0.126265\n",
       "max    17214.000000   25346.0     0.679160     0.603015     0.382586"
      ]
     },
     "execution_count": 31,
     "metadata": {},
     "output_type": "execute_result"
    }
   ],
   "source": [
    "bilan['Err_sinus'] = np.abs(bilan['Hyd_p_sinus'] - bilan['TCH_hyd'])\n",
    "bilan.describe()"
   ]
  },
  {
   "cell_type": "markdown",
   "metadata": {},
   "source": [
    "# Régresseurs exogènes : données métier"
   ]
  },
  {
   "cell_type": "code",
   "execution_count": 32,
   "metadata": {},
   "outputs": [
    {
     "data": {
      "text/html": [
       "<div>\n",
       "<style scoped>\n",
       "    .dataframe tbody tr th:only-of-type {\n",
       "        vertical-align: middle;\n",
       "    }\n",
       "\n",
       "    .dataframe tbody tr th {\n",
       "        vertical-align: top;\n",
       "    }\n",
       "\n",
       "    .dataframe thead th {\n",
       "        text-align: right;\n",
       "    }\n",
       "</style>\n",
       "<table border=\"1\" class=\"dataframe\">\n",
       "  <thead>\n",
       "    <tr style=\"text-align: right;\">\n",
       "      <th></th>\n",
       "      <th>Dates</th>\n",
       "      <th>Eau</th>\n",
       "    </tr>\n",
       "  </thead>\n",
       "  <tbody>\n",
       "    <tr>\n",
       "      <th>0</th>\n",
       "      <td>2013-01-01 00:00:00</td>\n",
       "      <td>0.292275</td>\n",
       "    </tr>\n",
       "  </tbody>\n",
       "</table>\n",
       "</div>"
      ],
      "text/plain": [
       "                 Dates       Eau\n",
       "0  2013-01-01 00:00:00  0.292275"
      ]
     },
     "execution_count": 32,
     "metadata": {},
     "output_type": "execute_result"
    }
   ],
   "source": [
    "exog = pd.read_csv('./exog/exog_3H_FR.csv', sep = ';',\n",
    "                   usecols = ['Dates', 'Eau'])\n",
    "exog.head(1)"
   ]
  },
  {
   "cell_type": "code",
   "execution_count": 33,
   "metadata": {},
   "outputs": [],
   "source": [
    "exog['Dates'] = pd.to_datetime(exog['Dates'], yearfirst = True)\n",
    "exog.set_index('Dates', inplace = True)"
   ]
  },
  {
   "cell_type": "code",
   "execution_count": 34,
   "metadata": {},
   "outputs": [],
   "source": [
    "# Split en jeu d'entrainement et jeu de test\n",
    "exog_train = exog[(exog.index >= debut) & (exog.index < fin)]\n",
    "exog_test = exog[exog.index >= fin]"
   ]
  },
  {
   "cell_type": "markdown",
   "metadata": {},
   "source": [
    "### SARIMAX"
   ]
  },
  {
   "cell_type": "code",
   "execution_count": 35,
   "metadata": {},
   "outputs": [],
   "source": [
    "model_exog = sm.tsa.SARIMAX(df_train['TCH_hyd'].values,\n",
    "                       exog = exog_train.values,\n",
    "                       # mle_regression = False, # Default = True\n",
    "                       # simple_differencing = True, #Default = False\n",
    "                       # state_regression = False,\n",
    "                       order = ordre,\n",
    "                       seasonal_order = saison)"
   ]
  },
  {
   "cell_type": "code",
   "execution_count": 36,
   "metadata": {},
   "outputs": [
    {
     "name": "stderr",
     "output_type": "stream",
     "text": [
      "C:\\Python\\Anaconda3\\lib\\site-packages\\statsmodels\\base\\model.py:566: ConvergenceWarning: Maximum Likelihood optimization failed to converge. Check mle_retvals\n",
      "  warnings.warn(\"Maximum Likelihood optimization failed to \"\n"
     ]
    }
   ],
   "source": [
    "result_exog = model_exog.fit(low_memory=True)"
   ]
  },
  {
   "cell_type": "code",
   "execution_count": 37,
   "metadata": {},
   "outputs": [
    {
     "data": {
      "text/html": [
       "<table class=\"simpletable\">\n",
       "<caption>SARIMAX Results</caption>\n",
       "<tr>\n",
       "  <th>Dep. Variable:</th>                 <td>y</td>               <th>  No. Observations:  </th>    <td>20448</td>  \n",
       "</tr>\n",
       "<tr>\n",
       "  <th>Model:</th>           <td>SARIMAX(3, 0, 0)x(2, 0, 0, 8)</td> <th>  Log Likelihood     </th>  <td>39740.579</td>\n",
       "</tr>\n",
       "<tr>\n",
       "  <th>Date:</th>                  <td>Wed, 04 May 2022</td>        <th>  AIC                </th> <td>-79467.159</td>\n",
       "</tr>\n",
       "<tr>\n",
       "  <th>Time:</th>                      <td>10:05:08</td>            <th>  BIC                </th> <td>-79411.679</td>\n",
       "</tr>\n",
       "<tr>\n",
       "  <th>Sample:</th>                        <td>0</td>               <th>  HQIC               </th> <td>-79449.027</td>\n",
       "</tr>\n",
       "<tr>\n",
       "  <th></th>                           <td> - 20448</td>            <th>                     </th>      <td> </td>    \n",
       "</tr>\n",
       "<tr>\n",
       "  <th>Covariance Type:</th>            <td>approx</td>             <th>                     </th>      <td> </td>    \n",
       "</tr>\n",
       "</table>\n",
       "<table class=\"simpletable\">\n",
       "<tr>\n",
       "      <td></td>        <th>coef</th>     <th>std err</th>      <th>z</th>      <th>P>|z|</th>  <th>[0.025</th>    <th>0.975]</th>  \n",
       "</tr>\n",
       "<tr>\n",
       "  <th>x1</th>       <td>  -6.3e-05</td> <td>    0.000</td> <td>   -0.469</td> <td> 0.639</td> <td>   -0.000</td> <td>    0.000</td>\n",
       "</tr>\n",
       "<tr>\n",
       "  <th>ar.L1</th>    <td>    0.9118</td> <td>    0.007</td> <td>  128.210</td> <td> 0.000</td> <td>    0.898</td> <td>    0.926</td>\n",
       "</tr>\n",
       "<tr>\n",
       "  <th>ar.L2</th>    <td>   -0.2641</td> <td>    0.009</td> <td>  -28.740</td> <td> 0.000</td> <td>   -0.282</td> <td>   -0.246</td>\n",
       "</tr>\n",
       "<tr>\n",
       "  <th>ar.L3</th>    <td>    0.1878</td> <td>    0.008</td> <td>   25.030</td> <td> 0.000</td> <td>    0.173</td> <td>    0.203</td>\n",
       "</tr>\n",
       "<tr>\n",
       "  <th>ar.S.L8</th>  <td>    0.6357</td> <td>    0.007</td> <td>   88.321</td> <td> 0.000</td> <td>    0.622</td> <td>    0.650</td>\n",
       "</tr>\n",
       "<tr>\n",
       "  <th>ar.S.L16</th> <td>    0.2542</td> <td>    0.007</td> <td>   36.824</td> <td> 0.000</td> <td>    0.241</td> <td>    0.268</td>\n",
       "</tr>\n",
       "<tr>\n",
       "  <th>sigma2</th>   <td>    0.0012</td> <td>  1.2e-05</td> <td>  100.124</td> <td> 0.000</td> <td>    0.001</td> <td>    0.001</td>\n",
       "</tr>\n",
       "</table>\n",
       "<table class=\"simpletable\">\n",
       "<tr>\n",
       "  <th>Ljung-Box (L1) (Q):</th>     <td>2.41</td> <th>  Jarque-Bera (JB):  </th> <td>3799.27</td>\n",
       "</tr>\n",
       "<tr>\n",
       "  <th>Prob(Q):</th>                <td>0.12</td> <th>  Prob(JB):          </th>  <td>0.00</td>  \n",
       "</tr>\n",
       "<tr>\n",
       "  <th>Heteroskedasticity (H):</th> <td>1.07</td> <th>  Skew:              </th>  <td>0.24</td>  \n",
       "</tr>\n",
       "<tr>\n",
       "  <th>Prob(H) (two-sided):</th>    <td>0.01</td> <th>  Kurtosis:          </th>  <td>5.06</td>  \n",
       "</tr>\n",
       "</table><br/><br/>Warnings:<br/>[1] Covariance matrix calculated using numerical (complex-step) differentiation."
      ],
      "text/plain": [
       "<class 'statsmodels.iolib.summary.Summary'>\n",
       "\"\"\"\n",
       "                                     SARIMAX Results                                     \n",
       "=========================================================================================\n",
       "Dep. Variable:                                 y   No. Observations:                20448\n",
       "Model:             SARIMAX(3, 0, 0)x(2, 0, 0, 8)   Log Likelihood               39740.579\n",
       "Date:                           Wed, 04 May 2022   AIC                         -79467.159\n",
       "Time:                                   10:05:08   BIC                         -79411.679\n",
       "Sample:                                        0   HQIC                        -79449.027\n",
       "                                         - 20448                                         \n",
       "Covariance Type:                          approx                                         \n",
       "==============================================================================\n",
       "                 coef    std err          z      P>|z|      [0.025      0.975]\n",
       "------------------------------------------------------------------------------\n",
       "x1           -6.3e-05      0.000     -0.469      0.639      -0.000       0.000\n",
       "ar.L1          0.9118      0.007    128.210      0.000       0.898       0.926\n",
       "ar.L2         -0.2641      0.009    -28.740      0.000      -0.282      -0.246\n",
       "ar.L3          0.1878      0.008     25.030      0.000       0.173       0.203\n",
       "ar.S.L8        0.6357      0.007     88.321      0.000       0.622       0.650\n",
       "ar.S.L16       0.2542      0.007     36.824      0.000       0.241       0.268\n",
       "sigma2         0.0012    1.2e-05    100.124      0.000       0.001       0.001\n",
       "===================================================================================\n",
       "Ljung-Box (L1) (Q):                   2.41   Jarque-Bera (JB):              3799.27\n",
       "Prob(Q):                              0.12   Prob(JB):                         0.00\n",
       "Heteroskedasticity (H):               1.07   Skew:                             0.24\n",
       "Prob(H) (two-sided):                  0.01   Kurtosis:                         5.06\n",
       "===================================================================================\n",
       "\n",
       "Warnings:\n",
       "[1] Covariance matrix calculated using numerical (complex-step) differentiation.\n",
       "\"\"\""
      ]
     },
     "execution_count": 37,
     "metadata": {},
     "output_type": "execute_result"
    }
   ],
   "source": [
    "result_exog.summary()"
   ]
  },
  {
   "cell_type": "code",
   "execution_count": 38,
   "metadata": {},
   "outputs": [],
   "source": [
    "predict_exog = result_exog.predict(start = 1 ,\n",
    "                               end = fenetre,\n",
    "                               exog = exog_test.values)"
   ]
  },
  {
   "cell_type": "code",
   "execution_count": 39,
   "metadata": {},
   "outputs": [],
   "source": [
    "predict_exog = pd.DataFrame(predict_exog, index = indice, columns = ['Hyd_p_exog'])"
   ]
  },
  {
   "cell_type": "code",
   "execution_count": 40,
   "metadata": {
    "scrolled": true
   },
   "outputs": [],
   "source": [
    "bilan = pd.concat([bilan, predict_exog], axis = 1)"
   ]
  },
  {
   "cell_type": "markdown",
   "metadata": {},
   "source": [
    "### Erreur absolue"
   ]
  },
  {
   "cell_type": "code",
   "execution_count": 41,
   "metadata": {},
   "outputs": [
    {
     "data": {
      "text/html": [
       "<div>\n",
       "<style scoped>\n",
       "    .dataframe tbody tr th:only-of-type {\n",
       "        vertical-align: middle;\n",
       "    }\n",
       "\n",
       "    .dataframe tbody tr th {\n",
       "        vertical-align: top;\n",
       "    }\n",
       "\n",
       "    .dataframe thead th {\n",
       "        text-align: right;\n",
       "    }\n",
       "</style>\n",
       "<table border=\"1\" class=\"dataframe\">\n",
       "  <thead>\n",
       "    <tr style=\"text-align: right;\">\n",
       "      <th></th>\n",
       "      <th>Hydraulique</th>\n",
       "      <th>Capa_hyd</th>\n",
       "      <th>TCH_hyd</th>\n",
       "      <th>Hyd_p_sinus</th>\n",
       "      <th>Err_sinus</th>\n",
       "      <th>Hyd_p_exog</th>\n",
       "      <th>Err_exog</th>\n",
       "    </tr>\n",
       "  </thead>\n",
       "  <tbody>\n",
       "    <tr>\n",
       "      <th>count</th>\n",
       "      <td>5360.000000</td>\n",
       "      <td>5360.0</td>\n",
       "      <td>5360.000000</td>\n",
       "      <td>5360.000000</td>\n",
       "      <td>5360.000000</td>\n",
       "      <td>5360.000000</td>\n",
       "      <td>5360.000000</td>\n",
       "    </tr>\n",
       "    <tr>\n",
       "      <th>mean</th>\n",
       "      <td>7260.388184</td>\n",
       "      <td>25346.0</td>\n",
       "      <td>0.286451</td>\n",
       "      <td>0.321103</td>\n",
       "      <td>0.088204</td>\n",
       "      <td>0.316670</td>\n",
       "      <td>0.084840</td>\n",
       "    </tr>\n",
       "    <tr>\n",
       "      <th>std</th>\n",
       "      <td>2609.352124</td>\n",
       "      <td>0.0</td>\n",
       "      <td>0.102949</td>\n",
       "      <td>0.095678</td>\n",
       "      <td>0.065891</td>\n",
       "      <td>0.093569</td>\n",
       "      <td>0.063392</td>\n",
       "    </tr>\n",
       "    <tr>\n",
       "      <th>min</th>\n",
       "      <td>1795.000000</td>\n",
       "      <td>25346.0</td>\n",
       "      <td>0.070820</td>\n",
       "      <td>0.087967</td>\n",
       "      <td>0.000010</td>\n",
       "      <td>0.085757</td>\n",
       "      <td>0.000004</td>\n",
       "    </tr>\n",
       "    <tr>\n",
       "      <th>25%</th>\n",
       "      <td>5350.208333</td>\n",
       "      <td>25346.0</td>\n",
       "      <td>0.211087</td>\n",
       "      <td>0.252296</td>\n",
       "      <td>0.035179</td>\n",
       "      <td>0.248938</td>\n",
       "      <td>0.034316</td>\n",
       "    </tr>\n",
       "    <tr>\n",
       "      <th>50%</th>\n",
       "      <td>7097.000000</td>\n",
       "      <td>25346.0</td>\n",
       "      <td>0.280005</td>\n",
       "      <td>0.319804</td>\n",
       "      <td>0.074470</td>\n",
       "      <td>0.314946</td>\n",
       "      <td>0.071271</td>\n",
       "    </tr>\n",
       "    <tr>\n",
       "      <th>75%</th>\n",
       "      <td>8883.833333</td>\n",
       "      <td>25346.0</td>\n",
       "      <td>0.350502</td>\n",
       "      <td>0.390432</td>\n",
       "      <td>0.126265</td>\n",
       "      <td>0.385166</td>\n",
       "      <td>0.120740</td>\n",
       "    </tr>\n",
       "    <tr>\n",
       "      <th>max</th>\n",
       "      <td>17214.000000</td>\n",
       "      <td>25346.0</td>\n",
       "      <td>0.679160</td>\n",
       "      <td>0.603015</td>\n",
       "      <td>0.382586</td>\n",
       "      <td>0.592832</td>\n",
       "      <td>0.372403</td>\n",
       "    </tr>\n",
       "  </tbody>\n",
       "</table>\n",
       "</div>"
      ],
      "text/plain": [
       "        Hydraulique  Capa_hyd      TCH_hyd  Hyd_p_sinus    Err_sinus  \\\n",
       "count   5360.000000    5360.0  5360.000000  5360.000000  5360.000000   \n",
       "mean    7260.388184   25346.0     0.286451     0.321103     0.088204   \n",
       "std     2609.352124       0.0     0.102949     0.095678     0.065891   \n",
       "min     1795.000000   25346.0     0.070820     0.087967     0.000010   \n",
       "25%     5350.208333   25346.0     0.211087     0.252296     0.035179   \n",
       "50%     7097.000000   25346.0     0.280005     0.319804     0.074470   \n",
       "75%     8883.833333   25346.0     0.350502     0.390432     0.126265   \n",
       "max    17214.000000   25346.0     0.679160     0.603015     0.382586   \n",
       "\n",
       "        Hyd_p_exog     Err_exog  \n",
       "count  5360.000000  5360.000000  \n",
       "mean      0.316670     0.084840  \n",
       "std       0.093569     0.063392  \n",
       "min       0.085757     0.000004  \n",
       "25%       0.248938     0.034316  \n",
       "50%       0.314946     0.071271  \n",
       "75%       0.385166     0.120740  \n",
       "max       0.592832     0.372403  "
      ]
     },
     "execution_count": 41,
     "metadata": {},
     "output_type": "execute_result"
    }
   ],
   "source": [
    "bilan['Err_exog'] = np.abs(bilan['Hyd_p_exog'] - bilan['TCH_hyd'])\n",
    "bilan.describe()"
   ]
  },
  {
   "cell_type": "markdown",
   "metadata": {},
   "source": [
    "# Régresseurs exogènes : données métier FILTREES"
   ]
  },
  {
   "cell_type": "code",
   "execution_count": 42,
   "metadata": {},
   "outputs": [
    {
     "data": {
      "text/html": [
       "<div>\n",
       "<style scoped>\n",
       "    .dataframe tbody tr th:only-of-type {\n",
       "        vertical-align: middle;\n",
       "    }\n",
       "\n",
       "    .dataframe tbody tr th {\n",
       "        vertical-align: top;\n",
       "    }\n",
       "\n",
       "    .dataframe thead th {\n",
       "        text-align: right;\n",
       "    }\n",
       "</style>\n",
       "<table border=\"1\" class=\"dataframe\">\n",
       "  <thead>\n",
       "    <tr style=\"text-align: right;\">\n",
       "      <th></th>\n",
       "      <th>Dates</th>\n",
       "      <th>Eau</th>\n",
       "    </tr>\n",
       "  </thead>\n",
       "  <tbody>\n",
       "    <tr>\n",
       "      <th>0</th>\n",
       "      <td>2013-01-01 00:00:00</td>\n",
       "      <td>3.570189</td>\n",
       "    </tr>\n",
       "  </tbody>\n",
       "</table>\n",
       "</div>"
      ],
      "text/plain": [
       "                 Dates       Eau\n",
       "0  2013-01-01 00:00:00  3.570189"
      ]
     },
     "execution_count": 42,
     "metadata": {},
     "output_type": "execute_result"
    }
   ],
   "source": [
    "exog = pd.read_csv('./exog/exog_3H_FR_filtered.csv',# sep = ';',\n",
    "                   usecols = ['Dates', 'Eau'])\n",
    "exog.head(1)"
   ]
  },
  {
   "cell_type": "code",
   "execution_count": 43,
   "metadata": {},
   "outputs": [],
   "source": [
    "exog['Dates'] = pd.to_datetime(exog['Dates'], yearfirst = True)\n",
    "exog.set_index('Dates', inplace = True)"
   ]
  },
  {
   "cell_type": "code",
   "execution_count": 44,
   "metadata": {},
   "outputs": [],
   "source": [
    "# Split en jeu d'entrainement et jeu de test\n",
    "exog_train = exog[(exog.index >= debut) & (exog.index < fin)]\n",
    "exog_test = exog[exog.index >= fin]"
   ]
  },
  {
   "cell_type": "markdown",
   "metadata": {},
   "source": [
    "### SARIMAX"
   ]
  },
  {
   "cell_type": "code",
   "execution_count": 45,
   "metadata": {},
   "outputs": [],
   "source": [
    "model_filter = sm.tsa.SARIMAX(df_train['TCH_hyd'].values,\n",
    "                       exog = exog_train.values,\n",
    "                       # mle_regression = False, # Default = True\n",
    "                       # simple_differencing = True, #Default = False\n",
    "                       # state_regression = False,\n",
    "                       order = ordre,\n",
    "                       seasonal_order = saison)"
   ]
  },
  {
   "cell_type": "code",
   "execution_count": 46,
   "metadata": {},
   "outputs": [
    {
     "name": "stderr",
     "output_type": "stream",
     "text": [
      "C:\\Python\\Anaconda3\\lib\\site-packages\\statsmodels\\base\\model.py:566: ConvergenceWarning: Maximum Likelihood optimization failed to converge. Check mle_retvals\n",
      "  warnings.warn(\"Maximum Likelihood optimization failed to \"\n"
     ]
    }
   ],
   "source": [
    "result_filter = model_filter.fit(low_memory=True)"
   ]
  },
  {
   "cell_type": "code",
   "execution_count": 47,
   "metadata": {},
   "outputs": [
    {
     "data": {
      "text/html": [
       "<table class=\"simpletable\">\n",
       "<caption>SARIMAX Results</caption>\n",
       "<tr>\n",
       "  <th>Dep. Variable:</th>                 <td>y</td>               <th>  No. Observations:  </th>    <td>20448</td>  \n",
       "</tr>\n",
       "<tr>\n",
       "  <th>Model:</th>           <td>SARIMAX(3, 0, 0)x(2, 0, 0, 8)</td> <th>  Log Likelihood     </th>  <td>39396.230</td>\n",
       "</tr>\n",
       "<tr>\n",
       "  <th>Date:</th>                  <td>Wed, 04 May 2022</td>        <th>  AIC                </th> <td>-78778.461</td>\n",
       "</tr>\n",
       "<tr>\n",
       "  <th>Time:</th>                      <td>10:07:20</td>            <th>  BIC                </th> <td>-78722.981</td>\n",
       "</tr>\n",
       "<tr>\n",
       "  <th>Sample:</th>                        <td>0</td>               <th>  HQIC               </th> <td>-78760.329</td>\n",
       "</tr>\n",
       "<tr>\n",
       "  <th></th>                           <td> - 20448</td>            <th>                     </th>      <td> </td>    \n",
       "</tr>\n",
       "<tr>\n",
       "  <th>Covariance Type:</th>            <td>approx</td>             <th>                     </th>      <td> </td>    \n",
       "</tr>\n",
       "</table>\n",
       "<table class=\"simpletable\">\n",
       "<tr>\n",
       "      <td></td>        <th>coef</th>     <th>std err</th>      <th>z</th>      <th>P>|z|</th>  <th>[0.025</th>    <th>0.975]</th>  \n",
       "</tr>\n",
       "<tr>\n",
       "  <th>x1</th>       <td>    0.0005</td> <td>    0.000</td> <td>    1.210</td> <td> 0.226</td> <td>   -0.000</td> <td>    0.001</td>\n",
       "</tr>\n",
       "<tr>\n",
       "  <th>ar.L1</th>    <td>    0.9900</td> <td>    0.007</td> <td>  141.287</td> <td> 0.000</td> <td>    0.976</td> <td>    1.004</td>\n",
       "</tr>\n",
       "<tr>\n",
       "  <th>ar.L2</th>    <td>   -0.2822</td> <td>    0.009</td> <td>  -30.204</td> <td> 0.000</td> <td>   -0.301</td> <td>   -0.264</td>\n",
       "</tr>\n",
       "<tr>\n",
       "  <th>ar.L3</th>    <td>    0.2456</td> <td>    0.007</td> <td>   34.711</td> <td> 0.000</td> <td>    0.232</td> <td>    0.259</td>\n",
       "</tr>\n",
       "<tr>\n",
       "  <th>ar.S.L8</th>  <td>    0.6518</td> <td>    0.007</td> <td>   95.045</td> <td> 0.000</td> <td>    0.638</td> <td>    0.665</td>\n",
       "</tr>\n",
       "<tr>\n",
       "  <th>ar.S.L16</th> <td>    0.2411</td> <td>    0.007</td> <td>   35.248</td> <td> 0.000</td> <td>    0.228</td> <td>    0.254</td>\n",
       "</tr>\n",
       "<tr>\n",
       "  <th>sigma2</th>   <td>    0.0012</td> <td> 1.27e-05</td> <td>   97.532</td> <td> 0.000</td> <td>    0.001</td> <td>    0.001</td>\n",
       "</tr>\n",
       "</table>\n",
       "<table class=\"simpletable\">\n",
       "<tr>\n",
       "  <th>Ljung-Box (L1) (Q):</th>     <td>23.88</td> <th>  Jarque-Bera (JB):  </th> <td>3187.99</td>\n",
       "</tr>\n",
       "<tr>\n",
       "  <th>Prob(Q):</th>                <td>0.00</td>  <th>  Prob(JB):          </th>  <td>0.00</td>  \n",
       "</tr>\n",
       "<tr>\n",
       "  <th>Heteroskedasticity (H):</th> <td>1.07</td>  <th>  Skew:              </th>  <td>0.16</td>  \n",
       "</tr>\n",
       "<tr>\n",
       "  <th>Prob(H) (two-sided):</th>    <td>0.01</td>  <th>  Kurtosis:          </th>  <td>4.91</td>  \n",
       "</tr>\n",
       "</table><br/><br/>Warnings:<br/>[1] Covariance matrix calculated using numerical (complex-step) differentiation."
      ],
      "text/plain": [
       "<class 'statsmodels.iolib.summary.Summary'>\n",
       "\"\"\"\n",
       "                                     SARIMAX Results                                     \n",
       "=========================================================================================\n",
       "Dep. Variable:                                 y   No. Observations:                20448\n",
       "Model:             SARIMAX(3, 0, 0)x(2, 0, 0, 8)   Log Likelihood               39396.230\n",
       "Date:                           Wed, 04 May 2022   AIC                         -78778.461\n",
       "Time:                                   10:07:20   BIC                         -78722.981\n",
       "Sample:                                        0   HQIC                        -78760.329\n",
       "                                         - 20448                                         \n",
       "Covariance Type:                          approx                                         \n",
       "==============================================================================\n",
       "                 coef    std err          z      P>|z|      [0.025      0.975]\n",
       "------------------------------------------------------------------------------\n",
       "x1             0.0005      0.000      1.210      0.226      -0.000       0.001\n",
       "ar.L1          0.9900      0.007    141.287      0.000       0.976       1.004\n",
       "ar.L2         -0.2822      0.009    -30.204      0.000      -0.301      -0.264\n",
       "ar.L3          0.2456      0.007     34.711      0.000       0.232       0.259\n",
       "ar.S.L8        0.6518      0.007     95.045      0.000       0.638       0.665\n",
       "ar.S.L16       0.2411      0.007     35.248      0.000       0.228       0.254\n",
       "sigma2         0.0012   1.27e-05     97.532      0.000       0.001       0.001\n",
       "===================================================================================\n",
       "Ljung-Box (L1) (Q):                  23.88   Jarque-Bera (JB):              3187.99\n",
       "Prob(Q):                              0.00   Prob(JB):                         0.00\n",
       "Heteroskedasticity (H):               1.07   Skew:                             0.16\n",
       "Prob(H) (two-sided):                  0.01   Kurtosis:                         4.91\n",
       "===================================================================================\n",
       "\n",
       "Warnings:\n",
       "[1] Covariance matrix calculated using numerical (complex-step) differentiation.\n",
       "\"\"\""
      ]
     },
     "execution_count": 47,
     "metadata": {},
     "output_type": "execute_result"
    }
   ],
   "source": [
    "result_filter.summary()"
   ]
  },
  {
   "cell_type": "code",
   "execution_count": 48,
   "metadata": {},
   "outputs": [],
   "source": [
    "predict_filter = result_filter.predict(start = 1 ,\n",
    "                               end = fenetre,\n",
    "                               exog = exog_test.values)"
   ]
  },
  {
   "cell_type": "code",
   "execution_count": 49,
   "metadata": {},
   "outputs": [],
   "source": [
    "predict_filter = pd.DataFrame(predict_filter, index = indice, columns = ['Hyd_p_filter'])"
   ]
  },
  {
   "cell_type": "code",
   "execution_count": 50,
   "metadata": {
    "scrolled": true
   },
   "outputs": [],
   "source": [
    "bilan = pd.concat([bilan, predict_filter], axis = 1)"
   ]
  },
  {
   "cell_type": "markdown",
   "metadata": {},
   "source": [
    "### Erreur absolue"
   ]
  },
  {
   "cell_type": "code",
   "execution_count": 51,
   "metadata": {},
   "outputs": [
    {
     "data": {
      "text/html": [
       "<div>\n",
       "<style scoped>\n",
       "    .dataframe tbody tr th:only-of-type {\n",
       "        vertical-align: middle;\n",
       "    }\n",
       "\n",
       "    .dataframe tbody tr th {\n",
       "        vertical-align: top;\n",
       "    }\n",
       "\n",
       "    .dataframe thead th {\n",
       "        text-align: right;\n",
       "    }\n",
       "</style>\n",
       "<table border=\"1\" class=\"dataframe\">\n",
       "  <thead>\n",
       "    <tr style=\"text-align: right;\">\n",
       "      <th></th>\n",
       "      <th>Hydraulique</th>\n",
       "      <th>Capa_hyd</th>\n",
       "      <th>TCH_hyd</th>\n",
       "      <th>Hyd_p_sinus</th>\n",
       "      <th>Err_sinus</th>\n",
       "      <th>Hyd_p_exog</th>\n",
       "      <th>Err_exog</th>\n",
       "      <th>Hyd_p_filter</th>\n",
       "      <th>Err_exog_filter</th>\n",
       "    </tr>\n",
       "  </thead>\n",
       "  <tbody>\n",
       "    <tr>\n",
       "      <th>count</th>\n",
       "      <td>5360.000000</td>\n",
       "      <td>5360.0</td>\n",
       "      <td>5360.000000</td>\n",
       "      <td>5360.000000</td>\n",
       "      <td>5360.000000</td>\n",
       "      <td>5360.000000</td>\n",
       "      <td>5360.000000</td>\n",
       "      <td>5360.000000</td>\n",
       "      <td>5.360000e+03</td>\n",
       "    </tr>\n",
       "    <tr>\n",
       "      <th>mean</th>\n",
       "      <td>7260.388184</td>\n",
       "      <td>25346.0</td>\n",
       "      <td>0.286451</td>\n",
       "      <td>0.321103</td>\n",
       "      <td>0.088204</td>\n",
       "      <td>0.316670</td>\n",
       "      <td>0.084840</td>\n",
       "      <td>0.320900</td>\n",
       "      <td>8.680896e-02</td>\n",
       "    </tr>\n",
       "    <tr>\n",
       "      <th>std</th>\n",
       "      <td>2609.352124</td>\n",
       "      <td>0.0</td>\n",
       "      <td>0.102949</td>\n",
       "      <td>0.095678</td>\n",
       "      <td>0.065891</td>\n",
       "      <td>0.093569</td>\n",
       "      <td>0.063392</td>\n",
       "      <td>0.096011</td>\n",
       "      <td>6.472702e-02</td>\n",
       "    </tr>\n",
       "    <tr>\n",
       "      <th>min</th>\n",
       "      <td>1795.000000</td>\n",
       "      <td>25346.0</td>\n",
       "      <td>0.070820</td>\n",
       "      <td>0.087967</td>\n",
       "      <td>0.000010</td>\n",
       "      <td>0.085757</td>\n",
       "      <td>0.000004</td>\n",
       "      <td>0.082013</td>\n",
       "      <td>8.173221e-08</td>\n",
       "    </tr>\n",
       "    <tr>\n",
       "      <th>25%</th>\n",
       "      <td>5350.208333</td>\n",
       "      <td>25346.0</td>\n",
       "      <td>0.211087</td>\n",
       "      <td>0.252296</td>\n",
       "      <td>0.035179</td>\n",
       "      <td>0.248938</td>\n",
       "      <td>0.034316</td>\n",
       "      <td>0.251495</td>\n",
       "      <td>3.524117e-02</td>\n",
       "    </tr>\n",
       "    <tr>\n",
       "      <th>50%</th>\n",
       "      <td>7097.000000</td>\n",
       "      <td>25346.0</td>\n",
       "      <td>0.280005</td>\n",
       "      <td>0.319804</td>\n",
       "      <td>0.074470</td>\n",
       "      <td>0.314946</td>\n",
       "      <td>0.071271</td>\n",
       "      <td>0.319622</td>\n",
       "      <td>7.308759e-02</td>\n",
       "    </tr>\n",
       "    <tr>\n",
       "      <th>75%</th>\n",
       "      <td>8883.833333</td>\n",
       "      <td>25346.0</td>\n",
       "      <td>0.350502</td>\n",
       "      <td>0.390432</td>\n",
       "      <td>0.126265</td>\n",
       "      <td>0.385166</td>\n",
       "      <td>0.120740</td>\n",
       "      <td>0.390582</td>\n",
       "      <td>1.239484e-01</td>\n",
       "    </tr>\n",
       "    <tr>\n",
       "      <th>max</th>\n",
       "      <td>17214.000000</td>\n",
       "      <td>25346.0</td>\n",
       "      <td>0.679160</td>\n",
       "      <td>0.603015</td>\n",
       "      <td>0.382586</td>\n",
       "      <td>0.592832</td>\n",
       "      <td>0.372403</td>\n",
       "      <td>0.608290</td>\n",
       "      <td>3.878606e-01</td>\n",
       "    </tr>\n",
       "  </tbody>\n",
       "</table>\n",
       "</div>"
      ],
      "text/plain": [
       "        Hydraulique  Capa_hyd      TCH_hyd  Hyd_p_sinus    Err_sinus  \\\n",
       "count   5360.000000    5360.0  5360.000000  5360.000000  5360.000000   \n",
       "mean    7260.388184   25346.0     0.286451     0.321103     0.088204   \n",
       "std     2609.352124       0.0     0.102949     0.095678     0.065891   \n",
       "min     1795.000000   25346.0     0.070820     0.087967     0.000010   \n",
       "25%     5350.208333   25346.0     0.211087     0.252296     0.035179   \n",
       "50%     7097.000000   25346.0     0.280005     0.319804     0.074470   \n",
       "75%     8883.833333   25346.0     0.350502     0.390432     0.126265   \n",
       "max    17214.000000   25346.0     0.679160     0.603015     0.382586   \n",
       "\n",
       "        Hyd_p_exog     Err_exog  Hyd_p_filter  Err_exog_filter  \n",
       "count  5360.000000  5360.000000   5360.000000     5.360000e+03  \n",
       "mean      0.316670     0.084840      0.320900     8.680896e-02  \n",
       "std       0.093569     0.063392      0.096011     6.472702e-02  \n",
       "min       0.085757     0.000004      0.082013     8.173221e-08  \n",
       "25%       0.248938     0.034316      0.251495     3.524117e-02  \n",
       "50%       0.314946     0.071271      0.319622     7.308759e-02  \n",
       "75%       0.385166     0.120740      0.390582     1.239484e-01  \n",
       "max       0.592832     0.372403      0.608290     3.878606e-01  "
      ]
     },
     "execution_count": 51,
     "metadata": {},
     "output_type": "execute_result"
    }
   ],
   "source": [
    "bilan['Err_exog_filter'] = np.abs(bilan['Hyd_p_filter'] - bilan['TCH_hyd'])\n",
    "bilan.describe()"
   ]
  },
  {
   "cell_type": "markdown",
   "metadata": {},
   "source": [
    "# Target FILTREE sans régresseur"
   ]
  },
  {
   "cell_type": "markdown",
   "metadata": {},
   "source": [
    "### SARIMAX"
   ]
  },
  {
   "cell_type": "code",
   "execution_count": 52,
   "metadata": {},
   "outputs": [],
   "source": [
    "model_reduit_noreg = sm.tsa.SARIMAX(df_train_filter['TCH_hyd'].values,\n",
    "                       # exog = exog_train.values,\n",
    "                       # mle_regression = False, # Default = True\n",
    "                       # simple_differencing = True, #Default = False\n",
    "                       # state_regression = False,\n",
    "                       order = ordre,\n",
    "                       seasonal_order = saison)"
   ]
  },
  {
   "cell_type": "code",
   "execution_count": 53,
   "metadata": {},
   "outputs": [],
   "source": [
    "result_reduit_noreg = model_reduit_noreg.fit(low_memory=True)"
   ]
  },
  {
   "cell_type": "code",
   "execution_count": 54,
   "metadata": {},
   "outputs": [
    {
     "data": {
      "text/html": [
       "<table class=\"simpletable\">\n",
       "<caption>SARIMAX Results</caption>\n",
       "<tr>\n",
       "  <th>Dep. Variable:</th>                 <td>y</td>               <th>  No. Observations:  </th>    <td>20448</td>   \n",
       "</tr>\n",
       "<tr>\n",
       "  <th>Model:</th>           <td>SARIMAX(3, 0, 0)x(2, 0, 0, 8)</td> <th>  Log Likelihood     </th>  <td>50274.564</td> \n",
       "</tr>\n",
       "<tr>\n",
       "  <th>Date:</th>                  <td>Wed, 04 May 2022</td>        <th>  AIC                </th> <td>-100537.128</td>\n",
       "</tr>\n",
       "<tr>\n",
       "  <th>Time:</th>                      <td>10:08:01</td>            <th>  BIC                </th> <td>-100489.574</td>\n",
       "</tr>\n",
       "<tr>\n",
       "  <th>Sample:</th>                        <td>0</td>               <th>  HQIC               </th> <td>-100521.586</td>\n",
       "</tr>\n",
       "<tr>\n",
       "  <th></th>                           <td> - 20448</td>            <th>                     </th>      <td> </td>     \n",
       "</tr>\n",
       "<tr>\n",
       "  <th>Covariance Type:</th>            <td>approx</td>             <th>                     </th>      <td> </td>     \n",
       "</tr>\n",
       "</table>\n",
       "<table class=\"simpletable\">\n",
       "<tr>\n",
       "      <td></td>        <th>coef</th>     <th>std err</th>      <th>z</th>      <th>P>|z|</th>  <th>[0.025</th>    <th>0.975]</th>  \n",
       "</tr>\n",
       "<tr>\n",
       "  <th>ar.L1</th>    <td>    1.3119</td> <td>    0.007</td> <td>  189.737</td> <td> 0.000</td> <td>    1.298</td> <td>    1.325</td>\n",
       "</tr>\n",
       "<tr>\n",
       "  <th>ar.L2</th>    <td>   -0.6767</td> <td>    0.010</td> <td>  -66.360</td> <td> 0.000</td> <td>   -0.697</td> <td>   -0.657</td>\n",
       "</tr>\n",
       "<tr>\n",
       "  <th>ar.L3</th>    <td>    0.3444</td> <td>    0.007</td> <td>   49.758</td> <td> 0.000</td> <td>    0.331</td> <td>    0.358</td>\n",
       "</tr>\n",
       "<tr>\n",
       "  <th>ar.S.L8</th>  <td>    0.9283</td> <td>    0.007</td> <td>  131.588</td> <td> 0.000</td> <td>    0.914</td> <td>    0.942</td>\n",
       "</tr>\n",
       "<tr>\n",
       "  <th>ar.S.L16</th> <td>    0.0624</td> <td>    0.007</td> <td>    8.842</td> <td> 0.000</td> <td>    0.049</td> <td>    0.076</td>\n",
       "</tr>\n",
       "<tr>\n",
       "  <th>sigma2</th>   <td>    0.0004</td> <td> 4.49e-06</td> <td>   95.310</td> <td> 0.000</td> <td>    0.000</td> <td>    0.000</td>\n",
       "</tr>\n",
       "</table>\n",
       "<table class=\"simpletable\">\n",
       "<tr>\n",
       "  <th>Ljung-Box (L1) (Q):</th>     <td>167.88</td> <th>  Jarque-Bera (JB):  </th> <td>29427.20</td>\n",
       "</tr>\n",
       "<tr>\n",
       "  <th>Prob(Q):</th>                 <td>0.00</td>  <th>  Prob(JB):          </th>   <td>0.00</td>  \n",
       "</tr>\n",
       "<tr>\n",
       "  <th>Heteroskedasticity (H):</th>  <td>1.34</td>  <th>  Skew:              </th>   <td>0.24</td>  \n",
       "</tr>\n",
       "<tr>\n",
       "  <th>Prob(H) (two-sided):</th>     <td>0.00</td>  <th>  Kurtosis:          </th>   <td>8.86</td>  \n",
       "</tr>\n",
       "</table><br/><br/>Warnings:<br/>[1] Covariance matrix calculated using numerical (complex-step) differentiation."
      ],
      "text/plain": [
       "<class 'statsmodels.iolib.summary.Summary'>\n",
       "\"\"\"\n",
       "                                     SARIMAX Results                                     \n",
       "=========================================================================================\n",
       "Dep. Variable:                                 y   No. Observations:                20448\n",
       "Model:             SARIMAX(3, 0, 0)x(2, 0, 0, 8)   Log Likelihood               50274.564\n",
       "Date:                           Wed, 04 May 2022   AIC                        -100537.128\n",
       "Time:                                   10:08:01   BIC                        -100489.574\n",
       "Sample:                                        0   HQIC                       -100521.586\n",
       "                                         - 20448                                         \n",
       "Covariance Type:                          approx                                         \n",
       "==============================================================================\n",
       "                 coef    std err          z      P>|z|      [0.025      0.975]\n",
       "------------------------------------------------------------------------------\n",
       "ar.L1          1.3119      0.007    189.737      0.000       1.298       1.325\n",
       "ar.L2         -0.6767      0.010    -66.360      0.000      -0.697      -0.657\n",
       "ar.L3          0.3444      0.007     49.758      0.000       0.331       0.358\n",
       "ar.S.L8        0.9283      0.007    131.588      0.000       0.914       0.942\n",
       "ar.S.L16       0.0624      0.007      8.842      0.000       0.049       0.076\n",
       "sigma2         0.0004   4.49e-06     95.310      0.000       0.000       0.000\n",
       "===================================================================================\n",
       "Ljung-Box (L1) (Q):                 167.88   Jarque-Bera (JB):             29427.20\n",
       "Prob(Q):                              0.00   Prob(JB):                         0.00\n",
       "Heteroskedasticity (H):               1.34   Skew:                             0.24\n",
       "Prob(H) (two-sided):                  0.00   Kurtosis:                         8.86\n",
       "===================================================================================\n",
       "\n",
       "Warnings:\n",
       "[1] Covariance matrix calculated using numerical (complex-step) differentiation.\n",
       "\"\"\""
      ]
     },
     "execution_count": 54,
     "metadata": {},
     "output_type": "execute_result"
    }
   ],
   "source": [
    "result_reduit_noreg.summary()"
   ]
  },
  {
   "cell_type": "code",
   "execution_count": 55,
   "metadata": {},
   "outputs": [],
   "source": [
    "predict_reduit_noreg = result_reduit_noreg.predict(start = 1 ,\n",
    "                               end = fenetre,\n",
    "                               # exog = exog_test.values\n",
    "                            )"
   ]
  },
  {
   "cell_type": "code",
   "execution_count": 56,
   "metadata": {},
   "outputs": [],
   "source": [
    "predict_reduit_noreg = pd.DataFrame(predict_reduit_noreg, index = indice, columns = ['Hyd_p_reduit_noreg'])"
   ]
  },
  {
   "cell_type": "code",
   "execution_count": 57,
   "metadata": {
    "scrolled": true
   },
   "outputs": [],
   "source": [
    "bilan = pd.concat([bilan, predict_reduit_noreg], axis = 1)"
   ]
  },
  {
   "cell_type": "markdown",
   "metadata": {},
   "source": [
    "### Erreur absolue"
   ]
  },
  {
   "cell_type": "code",
   "execution_count": 58,
   "metadata": {},
   "outputs": [
    {
     "data": {
      "text/html": [
       "<div>\n",
       "<style scoped>\n",
       "    .dataframe tbody tr th:only-of-type {\n",
       "        vertical-align: middle;\n",
       "    }\n",
       "\n",
       "    .dataframe tbody tr th {\n",
       "        vertical-align: top;\n",
       "    }\n",
       "\n",
       "    .dataframe thead th {\n",
       "        text-align: right;\n",
       "    }\n",
       "</style>\n",
       "<table border=\"1\" class=\"dataframe\">\n",
       "  <thead>\n",
       "    <tr style=\"text-align: right;\">\n",
       "      <th></th>\n",
       "      <th>Hydraulique</th>\n",
       "      <th>Capa_hyd</th>\n",
       "      <th>TCH_hyd</th>\n",
       "      <th>Hyd_p_sinus</th>\n",
       "      <th>Err_sinus</th>\n",
       "      <th>Hyd_p_exog</th>\n",
       "      <th>Err_exog</th>\n",
       "      <th>Hyd_p_filter</th>\n",
       "      <th>Err_exog_filter</th>\n",
       "      <th>Hyd_p_reduit_noreg</th>\n",
       "      <th>Err_filter_noreg</th>\n",
       "    </tr>\n",
       "  </thead>\n",
       "  <tbody>\n",
       "    <tr>\n",
       "      <th>count</th>\n",
       "      <td>5360.000000</td>\n",
       "      <td>5360.0</td>\n",
       "      <td>5360.000000</td>\n",
       "      <td>5360.000000</td>\n",
       "      <td>5360.000000</td>\n",
       "      <td>5360.000000</td>\n",
       "      <td>5360.000000</td>\n",
       "      <td>5360.000000</td>\n",
       "      <td>5.360000e+03</td>\n",
       "      <td>5360.000000</td>\n",
       "      <td>5360.000000</td>\n",
       "    </tr>\n",
       "    <tr>\n",
       "      <th>mean</th>\n",
       "      <td>7260.388184</td>\n",
       "      <td>25346.0</td>\n",
       "      <td>0.286451</td>\n",
       "      <td>0.321103</td>\n",
       "      <td>0.088204</td>\n",
       "      <td>0.316670</td>\n",
       "      <td>0.084840</td>\n",
       "      <td>0.320900</td>\n",
       "      <td>8.680896e-02</td>\n",
       "      <td>0.322392</td>\n",
       "      <td>0.087479</td>\n",
       "    </tr>\n",
       "    <tr>\n",
       "      <th>std</th>\n",
       "      <td>2609.352124</td>\n",
       "      <td>0.0</td>\n",
       "      <td>0.102949</td>\n",
       "      <td>0.095678</td>\n",
       "      <td>0.065891</td>\n",
       "      <td>0.093569</td>\n",
       "      <td>0.063392</td>\n",
       "      <td>0.096011</td>\n",
       "      <td>6.472702e-02</td>\n",
       "      <td>0.095018</td>\n",
       "      <td>0.065213</td>\n",
       "    </tr>\n",
       "    <tr>\n",
       "      <th>min</th>\n",
       "      <td>1795.000000</td>\n",
       "      <td>25346.0</td>\n",
       "      <td>0.070820</td>\n",
       "      <td>0.087967</td>\n",
       "      <td>0.000010</td>\n",
       "      <td>0.085757</td>\n",
       "      <td>0.000004</td>\n",
       "      <td>0.082013</td>\n",
       "      <td>8.173221e-08</td>\n",
       "      <td>0.068747</td>\n",
       "      <td>0.000028</td>\n",
       "    </tr>\n",
       "    <tr>\n",
       "      <th>25%</th>\n",
       "      <td>5350.208333</td>\n",
       "      <td>25346.0</td>\n",
       "      <td>0.211087</td>\n",
       "      <td>0.252296</td>\n",
       "      <td>0.035179</td>\n",
       "      <td>0.248938</td>\n",
       "      <td>0.034316</td>\n",
       "      <td>0.251495</td>\n",
       "      <td>3.524117e-02</td>\n",
       "      <td>0.253741</td>\n",
       "      <td>0.034292</td>\n",
       "    </tr>\n",
       "    <tr>\n",
       "      <th>50%</th>\n",
       "      <td>7097.000000</td>\n",
       "      <td>25346.0</td>\n",
       "      <td>0.280005</td>\n",
       "      <td>0.319804</td>\n",
       "      <td>0.074470</td>\n",
       "      <td>0.314946</td>\n",
       "      <td>0.071271</td>\n",
       "      <td>0.319622</td>\n",
       "      <td>7.308759e-02</td>\n",
       "      <td>0.320974</td>\n",
       "      <td>0.075363</td>\n",
       "    </tr>\n",
       "    <tr>\n",
       "      <th>75%</th>\n",
       "      <td>8883.833333</td>\n",
       "      <td>25346.0</td>\n",
       "      <td>0.350502</td>\n",
       "      <td>0.390432</td>\n",
       "      <td>0.126265</td>\n",
       "      <td>0.385166</td>\n",
       "      <td>0.120740</td>\n",
       "      <td>0.390582</td>\n",
       "      <td>1.239484e-01</td>\n",
       "      <td>0.391116</td>\n",
       "      <td>0.126627</td>\n",
       "    </tr>\n",
       "    <tr>\n",
       "      <th>max</th>\n",
       "      <td>17214.000000</td>\n",
       "      <td>25346.0</td>\n",
       "      <td>0.679160</td>\n",
       "      <td>0.603015</td>\n",
       "      <td>0.382586</td>\n",
       "      <td>0.592832</td>\n",
       "      <td>0.372403</td>\n",
       "      <td>0.608290</td>\n",
       "      <td>3.878606e-01</td>\n",
       "      <td>0.581431</td>\n",
       "      <td>0.359626</td>\n",
       "    </tr>\n",
       "  </tbody>\n",
       "</table>\n",
       "</div>"
      ],
      "text/plain": [
       "        Hydraulique  Capa_hyd      TCH_hyd  Hyd_p_sinus    Err_sinus  \\\n",
       "count   5360.000000    5360.0  5360.000000  5360.000000  5360.000000   \n",
       "mean    7260.388184   25346.0     0.286451     0.321103     0.088204   \n",
       "std     2609.352124       0.0     0.102949     0.095678     0.065891   \n",
       "min     1795.000000   25346.0     0.070820     0.087967     0.000010   \n",
       "25%     5350.208333   25346.0     0.211087     0.252296     0.035179   \n",
       "50%     7097.000000   25346.0     0.280005     0.319804     0.074470   \n",
       "75%     8883.833333   25346.0     0.350502     0.390432     0.126265   \n",
       "max    17214.000000   25346.0     0.679160     0.603015     0.382586   \n",
       "\n",
       "        Hyd_p_exog     Err_exog  Hyd_p_filter  Err_exog_filter  \\\n",
       "count  5360.000000  5360.000000   5360.000000     5.360000e+03   \n",
       "mean      0.316670     0.084840      0.320900     8.680896e-02   \n",
       "std       0.093569     0.063392      0.096011     6.472702e-02   \n",
       "min       0.085757     0.000004      0.082013     8.173221e-08   \n",
       "25%       0.248938     0.034316      0.251495     3.524117e-02   \n",
       "50%       0.314946     0.071271      0.319622     7.308759e-02   \n",
       "75%       0.385166     0.120740      0.390582     1.239484e-01   \n",
       "max       0.592832     0.372403      0.608290     3.878606e-01   \n",
       "\n",
       "       Hyd_p_reduit_noreg  Err_filter_noreg  \n",
       "count         5360.000000       5360.000000  \n",
       "mean             0.322392          0.087479  \n",
       "std              0.095018          0.065213  \n",
       "min              0.068747          0.000028  \n",
       "25%              0.253741          0.034292  \n",
       "50%              0.320974          0.075363  \n",
       "75%              0.391116          0.126627  \n",
       "max              0.581431          0.359626  "
      ]
     },
     "execution_count": 58,
     "metadata": {},
     "output_type": "execute_result"
    }
   ],
   "source": [
    "bilan['Err_filter_noreg'] = np.abs(bilan['Hyd_p_reduit_noreg'] - bilan['TCH_hyd'])\n",
    "bilan.describe()"
   ]
  },
  {
   "cell_type": "markdown",
   "metadata": {},
   "source": [
    "# Target FILTREE avec Régresseurs exogènes : données métier FILTREES"
   ]
  },
  {
   "cell_type": "code",
   "execution_count": 59,
   "metadata": {},
   "outputs": [
    {
     "data": {
      "text/html": [
       "<div>\n",
       "<style scoped>\n",
       "    .dataframe tbody tr th:only-of-type {\n",
       "        vertical-align: middle;\n",
       "    }\n",
       "\n",
       "    .dataframe tbody tr th {\n",
       "        vertical-align: top;\n",
       "    }\n",
       "\n",
       "    .dataframe thead th {\n",
       "        text-align: right;\n",
       "    }\n",
       "</style>\n",
       "<table border=\"1\" class=\"dataframe\">\n",
       "  <thead>\n",
       "    <tr style=\"text-align: right;\">\n",
       "      <th></th>\n",
       "      <th>Dates</th>\n",
       "      <th>Eau</th>\n",
       "    </tr>\n",
       "  </thead>\n",
       "  <tbody>\n",
       "    <tr>\n",
       "      <th>0</th>\n",
       "      <td>2013-01-01 00:00:00</td>\n",
       "      <td>3.570189</td>\n",
       "    </tr>\n",
       "  </tbody>\n",
       "</table>\n",
       "</div>"
      ],
      "text/plain": [
       "                 Dates       Eau\n",
       "0  2013-01-01 00:00:00  3.570189"
      ]
     },
     "execution_count": 59,
     "metadata": {},
     "output_type": "execute_result"
    }
   ],
   "source": [
    "exog = pd.read_csv('./exog/exog_3H_FR_filtered.csv',# sep = ';',\n",
    "                   usecols = ['Dates', 'Eau'])\n",
    "exog.head(1)"
   ]
  },
  {
   "cell_type": "code",
   "execution_count": 60,
   "metadata": {},
   "outputs": [],
   "source": [
    "exog['Dates'] = pd.to_datetime(exog['Dates'], yearfirst = True)\n",
    "exog.set_index('Dates', inplace = True)"
   ]
  },
  {
   "cell_type": "code",
   "execution_count": 61,
   "metadata": {},
   "outputs": [],
   "source": [
    "# Split en jeu d'entrainement et jeu de test\n",
    "exog_train = exog[(exog.index >= debut) & (exog.index < fin)]\n",
    "exog_test = exog[exog.index >= fin]"
   ]
  },
  {
   "cell_type": "markdown",
   "metadata": {},
   "source": [
    "### SARIMAX"
   ]
  },
  {
   "cell_type": "code",
   "execution_count": 62,
   "metadata": {},
   "outputs": [],
   "source": [
    "model_reduit = sm.tsa.SARIMAX(df_train_filter['TCH_hyd'].values,\n",
    "                       exog = exog_train.values,\n",
    "                       # mle_regression = False, # Default = True\n",
    "                       # simple_differencing = True, #Default = False\n",
    "                       # state_regression = False,\n",
    "                       order = ordre,\n",
    "                       seasonal_order = saison)"
   ]
  },
  {
   "cell_type": "code",
   "execution_count": 63,
   "metadata": {},
   "outputs": [
    {
     "name": "stderr",
     "output_type": "stream",
     "text": [
      "C:\\Python\\Anaconda3\\lib\\site-packages\\statsmodels\\base\\model.py:566: ConvergenceWarning: Maximum Likelihood optimization failed to converge. Check mle_retvals\n",
      "  warnings.warn(\"Maximum Likelihood optimization failed to \"\n"
     ]
    }
   ],
   "source": [
    "result_reduit = model_reduit.fit(low_memory=True)"
   ]
  },
  {
   "cell_type": "code",
   "execution_count": 64,
   "metadata": {},
   "outputs": [
    {
     "data": {
      "text/html": [
       "<table class=\"simpletable\">\n",
       "<caption>SARIMAX Results</caption>\n",
       "<tr>\n",
       "  <th>Dep. Variable:</th>                 <td>y</td>               <th>  No. Observations:  </th>    <td>20448</td>   \n",
       "</tr>\n",
       "<tr>\n",
       "  <th>Model:</th>           <td>SARIMAX(3, 0, 0)x(2, 0, 0, 8)</td> <th>  Log Likelihood     </th>  <td>50590.280</td> \n",
       "</tr>\n",
       "<tr>\n",
       "  <th>Date:</th>                  <td>Wed, 04 May 2022</td>        <th>  AIC                </th> <td>-101166.561</td>\n",
       "</tr>\n",
       "<tr>\n",
       "  <th>Time:</th>                      <td>10:10:19</td>            <th>  BIC                </th> <td>-101111.081</td>\n",
       "</tr>\n",
       "<tr>\n",
       "  <th>Sample:</th>                        <td>0</td>               <th>  HQIC               </th> <td>-101148.429</td>\n",
       "</tr>\n",
       "<tr>\n",
       "  <th></th>                           <td> - 20448</td>            <th>                     </th>      <td> </td>     \n",
       "</tr>\n",
       "<tr>\n",
       "  <th>Covariance Type:</th>            <td>approx</td>             <th>                     </th>      <td> </td>     \n",
       "</tr>\n",
       "</table>\n",
       "<table class=\"simpletable\">\n",
       "<tr>\n",
       "      <td></td>        <th>coef</th>     <th>std err</th>      <th>z</th>      <th>P>|z|</th>  <th>[0.025</th>    <th>0.975]</th>  \n",
       "</tr>\n",
       "<tr>\n",
       "  <th>x1</th>       <td>    0.0003</td> <td>    0.000</td> <td>    1.392</td> <td> 0.164</td> <td>   -0.000</td> <td>    0.001</td>\n",
       "</tr>\n",
       "<tr>\n",
       "  <th>ar.L1</th>    <td>    1.2978</td> <td>    0.007</td> <td>  190.200</td> <td> 0.000</td> <td>    1.284</td> <td>    1.311</td>\n",
       "</tr>\n",
       "<tr>\n",
       "  <th>ar.L2</th>    <td>   -0.6721</td> <td>    0.010</td> <td>  -66.501</td> <td> 0.000</td> <td>   -0.692</td> <td>   -0.652</td>\n",
       "</tr>\n",
       "<tr>\n",
       "  <th>ar.L3</th>    <td>    0.3320</td> <td>    0.007</td> <td>   48.628</td> <td> 0.000</td> <td>    0.319</td> <td>    0.345</td>\n",
       "</tr>\n",
       "<tr>\n",
       "  <th>ar.S.L8</th>  <td>    0.9091</td> <td>    0.007</td> <td>  129.291</td> <td> 0.000</td> <td>    0.895</td> <td>    0.923</td>\n",
       "</tr>\n",
       "<tr>\n",
       "  <th>ar.S.L16</th> <td>    0.0435</td> <td>    0.007</td> <td>    6.206</td> <td> 0.000</td> <td>    0.030</td> <td>    0.057</td>\n",
       "</tr>\n",
       "<tr>\n",
       "  <th>sigma2</th>   <td>    0.0004</td> <td> 4.21e-06</td> <td>   98.447</td> <td> 0.000</td> <td>    0.000</td> <td>    0.000</td>\n",
       "</tr>\n",
       "</table>\n",
       "<table class=\"simpletable\">\n",
       "<tr>\n",
       "  <th>Ljung-Box (L1) (Q):</th>     <td>120.74</td> <th>  Jarque-Bera (JB):  </th> <td>32062.41</td>\n",
       "</tr>\n",
       "<tr>\n",
       "  <th>Prob(Q):</th>                 <td>0.00</td>  <th>  Prob(JB):          </th>   <td>0.00</td>  \n",
       "</tr>\n",
       "<tr>\n",
       "  <th>Heteroskedasticity (H):</th>  <td>1.34</td>  <th>  Skew:              </th>   <td>0.29</td>  \n",
       "</tr>\n",
       "<tr>\n",
       "  <th>Prob(H) (two-sided):</th>     <td>0.00</td>  <th>  Kurtosis:          </th>   <td>9.11</td>  \n",
       "</tr>\n",
       "</table><br/><br/>Warnings:<br/>[1] Covariance matrix calculated using numerical (complex-step) differentiation."
      ],
      "text/plain": [
       "<class 'statsmodels.iolib.summary.Summary'>\n",
       "\"\"\"\n",
       "                                     SARIMAX Results                                     \n",
       "=========================================================================================\n",
       "Dep. Variable:                                 y   No. Observations:                20448\n",
       "Model:             SARIMAX(3, 0, 0)x(2, 0, 0, 8)   Log Likelihood               50590.280\n",
       "Date:                           Wed, 04 May 2022   AIC                        -101166.561\n",
       "Time:                                   10:10:19   BIC                        -101111.081\n",
       "Sample:                                        0   HQIC                       -101148.429\n",
       "                                         - 20448                                         \n",
       "Covariance Type:                          approx                                         \n",
       "==============================================================================\n",
       "                 coef    std err          z      P>|z|      [0.025      0.975]\n",
       "------------------------------------------------------------------------------\n",
       "x1             0.0003      0.000      1.392      0.164      -0.000       0.001\n",
       "ar.L1          1.2978      0.007    190.200      0.000       1.284       1.311\n",
       "ar.L2         -0.6721      0.010    -66.501      0.000      -0.692      -0.652\n",
       "ar.L3          0.3320      0.007     48.628      0.000       0.319       0.345\n",
       "ar.S.L8        0.9091      0.007    129.291      0.000       0.895       0.923\n",
       "ar.S.L16       0.0435      0.007      6.206      0.000       0.030       0.057\n",
       "sigma2         0.0004   4.21e-06     98.447      0.000       0.000       0.000\n",
       "===================================================================================\n",
       "Ljung-Box (L1) (Q):                 120.74   Jarque-Bera (JB):             32062.41\n",
       "Prob(Q):                              0.00   Prob(JB):                         0.00\n",
       "Heteroskedasticity (H):               1.34   Skew:                             0.29\n",
       "Prob(H) (two-sided):                  0.00   Kurtosis:                         9.11\n",
       "===================================================================================\n",
       "\n",
       "Warnings:\n",
       "[1] Covariance matrix calculated using numerical (complex-step) differentiation.\n",
       "\"\"\""
      ]
     },
     "execution_count": 64,
     "metadata": {},
     "output_type": "execute_result"
    }
   ],
   "source": [
    "result_reduit.summary()"
   ]
  },
  {
   "cell_type": "code",
   "execution_count": 65,
   "metadata": {},
   "outputs": [],
   "source": [
    "predict_reduit = result_reduit.predict(start = 1 ,\n",
    "                               end = fenetre,\n",
    "                               exog = exog_test.values)"
   ]
  },
  {
   "cell_type": "code",
   "execution_count": 66,
   "metadata": {},
   "outputs": [],
   "source": [
    "predict_reduit = pd.DataFrame(predict_reduit, index = indice, columns = ['Hyd_p_reduit'])"
   ]
  },
  {
   "cell_type": "code",
   "execution_count": 67,
   "metadata": {
    "scrolled": true
   },
   "outputs": [],
   "source": [
    "bilan = pd.concat([bilan, predict_reduit], axis = 1)"
   ]
  },
  {
   "cell_type": "markdown",
   "metadata": {},
   "source": [
    "### Erreur absolue"
   ]
  },
  {
   "cell_type": "code",
   "execution_count": 68,
   "metadata": {},
   "outputs": [
    {
     "data": {
      "text/html": [
       "<div>\n",
       "<style scoped>\n",
       "    .dataframe tbody tr th:only-of-type {\n",
       "        vertical-align: middle;\n",
       "    }\n",
       "\n",
       "    .dataframe tbody tr th {\n",
       "        vertical-align: top;\n",
       "    }\n",
       "\n",
       "    .dataframe thead th {\n",
       "        text-align: right;\n",
       "    }\n",
       "</style>\n",
       "<table border=\"1\" class=\"dataframe\">\n",
       "  <thead>\n",
       "    <tr style=\"text-align: right;\">\n",
       "      <th></th>\n",
       "      <th>Hydraulique</th>\n",
       "      <th>Capa_hyd</th>\n",
       "      <th>TCH_hyd</th>\n",
       "      <th>Hyd_p_sinus</th>\n",
       "      <th>Err_sinus</th>\n",
       "      <th>Hyd_p_exog</th>\n",
       "      <th>Err_exog</th>\n",
       "      <th>Hyd_p_filter</th>\n",
       "      <th>Err_exog_filter</th>\n",
       "      <th>Hyd_p_reduit_noreg</th>\n",
       "      <th>Err_filter_noreg</th>\n",
       "      <th>Hyd_p_reduit</th>\n",
       "      <th>Err_filter_exog_filter</th>\n",
       "    </tr>\n",
       "  </thead>\n",
       "  <tbody>\n",
       "    <tr>\n",
       "      <th>count</th>\n",
       "      <td>5360.000000</td>\n",
       "      <td>5360.0</td>\n",
       "      <td>5360.000000</td>\n",
       "      <td>5360.000000</td>\n",
       "      <td>5360.000000</td>\n",
       "      <td>5360.000000</td>\n",
       "      <td>5360.000000</td>\n",
       "      <td>5360.000000</td>\n",
       "      <td>5.360000e+03</td>\n",
       "      <td>5360.000000</td>\n",
       "      <td>5360.000000</td>\n",
       "      <td>5360.000000</td>\n",
       "      <td>5360.000000</td>\n",
       "    </tr>\n",
       "    <tr>\n",
       "      <th>mean</th>\n",
       "      <td>7260.388184</td>\n",
       "      <td>25346.0</td>\n",
       "      <td>0.286451</td>\n",
       "      <td>0.321103</td>\n",
       "      <td>0.088204</td>\n",
       "      <td>0.316670</td>\n",
       "      <td>0.084840</td>\n",
       "      <td>0.320900</td>\n",
       "      <td>8.680896e-02</td>\n",
       "      <td>0.322392</td>\n",
       "      <td>0.087479</td>\n",
       "      <td>0.321816</td>\n",
       "      <td>0.086353</td>\n",
       "    </tr>\n",
       "    <tr>\n",
       "      <th>std</th>\n",
       "      <td>2609.352124</td>\n",
       "      <td>0.0</td>\n",
       "      <td>0.102949</td>\n",
       "      <td>0.095678</td>\n",
       "      <td>0.065891</td>\n",
       "      <td>0.093569</td>\n",
       "      <td>0.063392</td>\n",
       "      <td>0.096011</td>\n",
       "      <td>6.472702e-02</td>\n",
       "      <td>0.095018</td>\n",
       "      <td>0.065213</td>\n",
       "      <td>0.094157</td>\n",
       "      <td>0.064338</td>\n",
       "    </tr>\n",
       "    <tr>\n",
       "      <th>min</th>\n",
       "      <td>1795.000000</td>\n",
       "      <td>25346.0</td>\n",
       "      <td>0.070820</td>\n",
       "      <td>0.087967</td>\n",
       "      <td>0.000010</td>\n",
       "      <td>0.085757</td>\n",
       "      <td>0.000004</td>\n",
       "      <td>0.082013</td>\n",
       "      <td>8.173221e-08</td>\n",
       "      <td>0.068747</td>\n",
       "      <td>0.000028</td>\n",
       "      <td>0.071355</td>\n",
       "      <td>0.000007</td>\n",
       "    </tr>\n",
       "    <tr>\n",
       "      <th>25%</th>\n",
       "      <td>5350.208333</td>\n",
       "      <td>25346.0</td>\n",
       "      <td>0.211087</td>\n",
       "      <td>0.252296</td>\n",
       "      <td>0.035179</td>\n",
       "      <td>0.248938</td>\n",
       "      <td>0.034316</td>\n",
       "      <td>0.251495</td>\n",
       "      <td>3.524117e-02</td>\n",
       "      <td>0.253741</td>\n",
       "      <td>0.034292</td>\n",
       "      <td>0.253788</td>\n",
       "      <td>0.033846</td>\n",
       "    </tr>\n",
       "    <tr>\n",
       "      <th>50%</th>\n",
       "      <td>7097.000000</td>\n",
       "      <td>25346.0</td>\n",
       "      <td>0.280005</td>\n",
       "      <td>0.319804</td>\n",
       "      <td>0.074470</td>\n",
       "      <td>0.314946</td>\n",
       "      <td>0.071271</td>\n",
       "      <td>0.319622</td>\n",
       "      <td>7.308759e-02</td>\n",
       "      <td>0.320974</td>\n",
       "      <td>0.075363</td>\n",
       "      <td>0.320309</td>\n",
       "      <td>0.074238</td>\n",
       "    </tr>\n",
       "    <tr>\n",
       "      <th>75%</th>\n",
       "      <td>8883.833333</td>\n",
       "      <td>25346.0</td>\n",
       "      <td>0.350502</td>\n",
       "      <td>0.390432</td>\n",
       "      <td>0.126265</td>\n",
       "      <td>0.385166</td>\n",
       "      <td>0.120740</td>\n",
       "      <td>0.390582</td>\n",
       "      <td>1.239484e-01</td>\n",
       "      <td>0.391116</td>\n",
       "      <td>0.126627</td>\n",
       "      <td>0.390236</td>\n",
       "      <td>0.124536</td>\n",
       "    </tr>\n",
       "    <tr>\n",
       "      <th>max</th>\n",
       "      <td>17214.000000</td>\n",
       "      <td>25346.0</td>\n",
       "      <td>0.679160</td>\n",
       "      <td>0.603015</td>\n",
       "      <td>0.382586</td>\n",
       "      <td>0.592832</td>\n",
       "      <td>0.372403</td>\n",
       "      <td>0.608290</td>\n",
       "      <td>3.878606e-01</td>\n",
       "      <td>0.581431</td>\n",
       "      <td>0.359626</td>\n",
       "      <td>0.578460</td>\n",
       "      <td>0.352967</td>\n",
       "    </tr>\n",
       "  </tbody>\n",
       "</table>\n",
       "</div>"
      ],
      "text/plain": [
       "        Hydraulique  Capa_hyd      TCH_hyd  Hyd_p_sinus    Err_sinus  \\\n",
       "count   5360.000000    5360.0  5360.000000  5360.000000  5360.000000   \n",
       "mean    7260.388184   25346.0     0.286451     0.321103     0.088204   \n",
       "std     2609.352124       0.0     0.102949     0.095678     0.065891   \n",
       "min     1795.000000   25346.0     0.070820     0.087967     0.000010   \n",
       "25%     5350.208333   25346.0     0.211087     0.252296     0.035179   \n",
       "50%     7097.000000   25346.0     0.280005     0.319804     0.074470   \n",
       "75%     8883.833333   25346.0     0.350502     0.390432     0.126265   \n",
       "max    17214.000000   25346.0     0.679160     0.603015     0.382586   \n",
       "\n",
       "        Hyd_p_exog     Err_exog  Hyd_p_filter  Err_exog_filter  \\\n",
       "count  5360.000000  5360.000000   5360.000000     5.360000e+03   \n",
       "mean      0.316670     0.084840      0.320900     8.680896e-02   \n",
       "std       0.093569     0.063392      0.096011     6.472702e-02   \n",
       "min       0.085757     0.000004      0.082013     8.173221e-08   \n",
       "25%       0.248938     0.034316      0.251495     3.524117e-02   \n",
       "50%       0.314946     0.071271      0.319622     7.308759e-02   \n",
       "75%       0.385166     0.120740      0.390582     1.239484e-01   \n",
       "max       0.592832     0.372403      0.608290     3.878606e-01   \n",
       "\n",
       "       Hyd_p_reduit_noreg  Err_filter_noreg  Hyd_p_reduit  \\\n",
       "count         5360.000000       5360.000000   5360.000000   \n",
       "mean             0.322392          0.087479      0.321816   \n",
       "std              0.095018          0.065213      0.094157   \n",
       "min              0.068747          0.000028      0.071355   \n",
       "25%              0.253741          0.034292      0.253788   \n",
       "50%              0.320974          0.075363      0.320309   \n",
       "75%              0.391116          0.126627      0.390236   \n",
       "max              0.581431          0.359626      0.578460   \n",
       "\n",
       "       Err_filter_exog_filter  \n",
       "count             5360.000000  \n",
       "mean                 0.086353  \n",
       "std                  0.064338  \n",
       "min                  0.000007  \n",
       "25%                  0.033846  \n",
       "50%                  0.074238  \n",
       "75%                  0.124536  \n",
       "max                  0.352967  "
      ]
     },
     "execution_count": 68,
     "metadata": {},
     "output_type": "execute_result"
    }
   ],
   "source": [
    "bilan['Err_filter_exog_filter'] = np.abs(bilan['Hyd_p_reduit'] - bilan['TCH_hyd'])\n",
    "bilan.describe()"
   ]
  },
  {
   "cell_type": "markdown",
   "metadata": {},
   "source": [
    "# Régression linéaire avec Régresseurs exogènes : données métier FILTREES "
   ]
  },
  {
   "cell_type": "code",
   "execution_count": 69,
   "metadata": {},
   "outputs": [
    {
     "data": {
      "text/html": [
       "<div>\n",
       "<style scoped>\n",
       "    .dataframe tbody tr th:only-of-type {\n",
       "        vertical-align: middle;\n",
       "    }\n",
       "\n",
       "    .dataframe tbody tr th {\n",
       "        vertical-align: top;\n",
       "    }\n",
       "\n",
       "    .dataframe thead th {\n",
       "        text-align: right;\n",
       "    }\n",
       "</style>\n",
       "<table border=\"1\" class=\"dataframe\">\n",
       "  <thead>\n",
       "    <tr style=\"text-align: right;\">\n",
       "      <th></th>\n",
       "      <th>Dates</th>\n",
       "      <th>Eau</th>\n",
       "    </tr>\n",
       "  </thead>\n",
       "  <tbody>\n",
       "    <tr>\n",
       "      <th>0</th>\n",
       "      <td>2013-01-01 00:00:00</td>\n",
       "      <td>3.570189</td>\n",
       "    </tr>\n",
       "  </tbody>\n",
       "</table>\n",
       "</div>"
      ],
      "text/plain": [
       "                 Dates       Eau\n",
       "0  2013-01-01 00:00:00  3.570189"
      ]
     },
     "execution_count": 69,
     "metadata": {},
     "output_type": "execute_result"
    }
   ],
   "source": [
    "exog = pd.read_csv('./exog/exog_3H_FR_filtered.csv',# sep = ';',\n",
    "                   usecols = ['Dates', 'Eau'])\n",
    "exog.head(1)"
   ]
  },
  {
   "cell_type": "code",
   "execution_count": 70,
   "metadata": {},
   "outputs": [],
   "source": [
    "exog['Dates'] = pd.to_datetime(exog['Dates'], yearfirst = True)\n",
    "exog.set_index('Dates', inplace = True)"
   ]
  },
  {
   "cell_type": "code",
   "execution_count": 71,
   "metadata": {},
   "outputs": [],
   "source": [
    "# Split en jeu d'entrainement et jeu de test\n",
    "exog_train = exog[(exog.index >= debut) & (exog.index < fin)]\n",
    "exog_test = exog[exog.index >= fin]"
   ]
  },
  {
   "cell_type": "code",
   "execution_count": 72,
   "metadata": {},
   "outputs": [],
   "source": [
    "LinReg = LinearRegression()\n",
    "LinReg.fit(exog_train, df_train['TCH_hyd'])\n",
    "predict_lr = LinReg.predict(exog_test)"
   ]
  },
  {
   "cell_type": "code",
   "execution_count": 73,
   "metadata": {},
   "outputs": [],
   "source": [
    "predict_lr = pd.DataFrame(predict_lr, index = indice, columns = ['Hyd_p_LinReg'])"
   ]
  },
  {
   "cell_type": "code",
   "execution_count": 74,
   "metadata": {},
   "outputs": [],
   "source": [
    "bilan = pd.concat([bilan, predict_lr], axis = 1)"
   ]
  },
  {
   "cell_type": "markdown",
   "metadata": {},
   "source": [
    "### Erreur absolue"
   ]
  },
  {
   "cell_type": "code",
   "execution_count": 75,
   "metadata": {},
   "outputs": [
    {
     "data": {
      "text/html": [
       "<div>\n",
       "<style scoped>\n",
       "    .dataframe tbody tr th:only-of-type {\n",
       "        vertical-align: middle;\n",
       "    }\n",
       "\n",
       "    .dataframe tbody tr th {\n",
       "        vertical-align: top;\n",
       "    }\n",
       "\n",
       "    .dataframe thead th {\n",
       "        text-align: right;\n",
       "    }\n",
       "</style>\n",
       "<table border=\"1\" class=\"dataframe\">\n",
       "  <thead>\n",
       "    <tr style=\"text-align: right;\">\n",
       "      <th></th>\n",
       "      <th>Hydraulique</th>\n",
       "      <th>Capa_hyd</th>\n",
       "      <th>TCH_hyd</th>\n",
       "      <th>Hyd_p_sinus</th>\n",
       "      <th>Err_sinus</th>\n",
       "      <th>Hyd_p_exog</th>\n",
       "      <th>Err_exog</th>\n",
       "      <th>Hyd_p_filter</th>\n",
       "      <th>Err_exog_filter</th>\n",
       "      <th>Hyd_p_reduit_noreg</th>\n",
       "      <th>Err_filter_noreg</th>\n",
       "      <th>Hyd_p_reduit</th>\n",
       "      <th>Err_filter_exog_filter</th>\n",
       "      <th>Hyd_p_LinReg</th>\n",
       "      <th>Err_LinReg</th>\n",
       "    </tr>\n",
       "  </thead>\n",
       "  <tbody>\n",
       "    <tr>\n",
       "      <th>count</th>\n",
       "      <td>5360.000000</td>\n",
       "      <td>5360.0</td>\n",
       "      <td>5360.000000</td>\n",
       "      <td>5360.000000</td>\n",
       "      <td>5360.000000</td>\n",
       "      <td>5360.000000</td>\n",
       "      <td>5360.000000</td>\n",
       "      <td>5360.000000</td>\n",
       "      <td>5.360000e+03</td>\n",
       "      <td>5360.000000</td>\n",
       "      <td>5360.000000</td>\n",
       "      <td>5360.000000</td>\n",
       "      <td>5360.000000</td>\n",
       "      <td>5360.000000</td>\n",
       "      <td>5360.000000</td>\n",
       "    </tr>\n",
       "    <tr>\n",
       "      <th>mean</th>\n",
       "      <td>7260.388184</td>\n",
       "      <td>25346.0</td>\n",
       "      <td>0.286451</td>\n",
       "      <td>0.321103</td>\n",
       "      <td>0.088204</td>\n",
       "      <td>0.316670</td>\n",
       "      <td>0.084840</td>\n",
       "      <td>0.320900</td>\n",
       "      <td>8.680896e-02</td>\n",
       "      <td>0.322392</td>\n",
       "      <td>0.087479</td>\n",
       "      <td>0.321816</td>\n",
       "      <td>0.086353</td>\n",
       "      <td>0.285056</td>\n",
       "      <td>0.082179</td>\n",
       "    </tr>\n",
       "    <tr>\n",
       "      <th>std</th>\n",
       "      <td>2609.352124</td>\n",
       "      <td>0.0</td>\n",
       "      <td>0.102949</td>\n",
       "      <td>0.095678</td>\n",
       "      <td>0.065891</td>\n",
       "      <td>0.093569</td>\n",
       "      <td>0.063392</td>\n",
       "      <td>0.096011</td>\n",
       "      <td>6.472702e-02</td>\n",
       "      <td>0.095018</td>\n",
       "      <td>0.065213</td>\n",
       "      <td>0.094157</td>\n",
       "      <td>0.064338</td>\n",
       "      <td>0.006965</td>\n",
       "      <td>0.062076</td>\n",
       "    </tr>\n",
       "    <tr>\n",
       "      <th>min</th>\n",
       "      <td>1795.000000</td>\n",
       "      <td>25346.0</td>\n",
       "      <td>0.070820</td>\n",
       "      <td>0.087967</td>\n",
       "      <td>0.000010</td>\n",
       "      <td>0.085757</td>\n",
       "      <td>0.000004</td>\n",
       "      <td>0.082013</td>\n",
       "      <td>8.173221e-08</td>\n",
       "      <td>0.068747</td>\n",
       "      <td>0.000028</td>\n",
       "      <td>0.071355</td>\n",
       "      <td>0.000007</td>\n",
       "      <td>0.271036</td>\n",
       "      <td>0.000006</td>\n",
       "    </tr>\n",
       "    <tr>\n",
       "      <th>25%</th>\n",
       "      <td>5350.208333</td>\n",
       "      <td>25346.0</td>\n",
       "      <td>0.211087</td>\n",
       "      <td>0.252296</td>\n",
       "      <td>0.035179</td>\n",
       "      <td>0.248938</td>\n",
       "      <td>0.034316</td>\n",
       "      <td>0.251495</td>\n",
       "      <td>3.524117e-02</td>\n",
       "      <td>0.253741</td>\n",
       "      <td>0.034292</td>\n",
       "      <td>0.253788</td>\n",
       "      <td>0.033846</td>\n",
       "      <td>0.280861</td>\n",
       "      <td>0.033463</td>\n",
       "    </tr>\n",
       "    <tr>\n",
       "      <th>50%</th>\n",
       "      <td>7097.000000</td>\n",
       "      <td>25346.0</td>\n",
       "      <td>0.280005</td>\n",
       "      <td>0.319804</td>\n",
       "      <td>0.074470</td>\n",
       "      <td>0.314946</td>\n",
       "      <td>0.071271</td>\n",
       "      <td>0.319622</td>\n",
       "      <td>7.308759e-02</td>\n",
       "      <td>0.320974</td>\n",
       "      <td>0.075363</td>\n",
       "      <td>0.320309</td>\n",
       "      <td>0.074238</td>\n",
       "      <td>0.283530</td>\n",
       "      <td>0.069933</td>\n",
       "    </tr>\n",
       "    <tr>\n",
       "      <th>75%</th>\n",
       "      <td>8883.833333</td>\n",
       "      <td>25346.0</td>\n",
       "      <td>0.350502</td>\n",
       "      <td>0.390432</td>\n",
       "      <td>0.126265</td>\n",
       "      <td>0.385166</td>\n",
       "      <td>0.120740</td>\n",
       "      <td>0.390582</td>\n",
       "      <td>1.239484e-01</td>\n",
       "      <td>0.391116</td>\n",
       "      <td>0.126627</td>\n",
       "      <td>0.390236</td>\n",
       "      <td>0.124536</td>\n",
       "      <td>0.287188</td>\n",
       "      <td>0.118113</td>\n",
       "    </tr>\n",
       "    <tr>\n",
       "      <th>max</th>\n",
       "      <td>17214.000000</td>\n",
       "      <td>25346.0</td>\n",
       "      <td>0.679160</td>\n",
       "      <td>0.603015</td>\n",
       "      <td>0.382586</td>\n",
       "      <td>0.592832</td>\n",
       "      <td>0.372403</td>\n",
       "      <td>0.608290</td>\n",
       "      <td>3.878606e-01</td>\n",
       "      <td>0.581431</td>\n",
       "      <td>0.359626</td>\n",
       "      <td>0.578460</td>\n",
       "      <td>0.352967</td>\n",
       "      <td>0.351224</td>\n",
       "      <td>0.388001</td>\n",
       "    </tr>\n",
       "  </tbody>\n",
       "</table>\n",
       "</div>"
      ],
      "text/plain": [
       "        Hydraulique  Capa_hyd      TCH_hyd  Hyd_p_sinus    Err_sinus  \\\n",
       "count   5360.000000    5360.0  5360.000000  5360.000000  5360.000000   \n",
       "mean    7260.388184   25346.0     0.286451     0.321103     0.088204   \n",
       "std     2609.352124       0.0     0.102949     0.095678     0.065891   \n",
       "min     1795.000000   25346.0     0.070820     0.087967     0.000010   \n",
       "25%     5350.208333   25346.0     0.211087     0.252296     0.035179   \n",
       "50%     7097.000000   25346.0     0.280005     0.319804     0.074470   \n",
       "75%     8883.833333   25346.0     0.350502     0.390432     0.126265   \n",
       "max    17214.000000   25346.0     0.679160     0.603015     0.382586   \n",
       "\n",
       "        Hyd_p_exog     Err_exog  Hyd_p_filter  Err_exog_filter  \\\n",
       "count  5360.000000  5360.000000   5360.000000     5.360000e+03   \n",
       "mean      0.316670     0.084840      0.320900     8.680896e-02   \n",
       "std       0.093569     0.063392      0.096011     6.472702e-02   \n",
       "min       0.085757     0.000004      0.082013     8.173221e-08   \n",
       "25%       0.248938     0.034316      0.251495     3.524117e-02   \n",
       "50%       0.314946     0.071271      0.319622     7.308759e-02   \n",
       "75%       0.385166     0.120740      0.390582     1.239484e-01   \n",
       "max       0.592832     0.372403      0.608290     3.878606e-01   \n",
       "\n",
       "       Hyd_p_reduit_noreg  Err_filter_noreg  Hyd_p_reduit  \\\n",
       "count         5360.000000       5360.000000   5360.000000   \n",
       "mean             0.322392          0.087479      0.321816   \n",
       "std              0.095018          0.065213      0.094157   \n",
       "min              0.068747          0.000028      0.071355   \n",
       "25%              0.253741          0.034292      0.253788   \n",
       "50%              0.320974          0.075363      0.320309   \n",
       "75%              0.391116          0.126627      0.390236   \n",
       "max              0.581431          0.359626      0.578460   \n",
       "\n",
       "       Err_filter_exog_filter  Hyd_p_LinReg   Err_LinReg  \n",
       "count             5360.000000   5360.000000  5360.000000  \n",
       "mean                 0.086353      0.285056     0.082179  \n",
       "std                  0.064338      0.006965     0.062076  \n",
       "min                  0.000007      0.271036     0.000006  \n",
       "25%                  0.033846      0.280861     0.033463  \n",
       "50%                  0.074238      0.283530     0.069933  \n",
       "75%                  0.124536      0.287188     0.118113  \n",
       "max                  0.352967      0.351224     0.388001  "
      ]
     },
     "execution_count": 75,
     "metadata": {},
     "output_type": "execute_result"
    }
   ],
   "source": [
    "bilan['Err_LinReg'] = np.abs(bilan['Hyd_p_LinReg'] - bilan['TCH_hyd'])\n",
    "bilan.describe()"
   ]
  },
  {
   "cell_type": "markdown",
   "metadata": {},
   "source": [
    "# Régression linéaire sur target FILTREE avec Régresseurs exogènes : données métier FILTREES "
   ]
  },
  {
   "cell_type": "code",
   "execution_count": 76,
   "metadata": {},
   "outputs": [
    {
     "data": {
      "text/html": [
       "<div>\n",
       "<style scoped>\n",
       "    .dataframe tbody tr th:only-of-type {\n",
       "        vertical-align: middle;\n",
       "    }\n",
       "\n",
       "    .dataframe tbody tr th {\n",
       "        vertical-align: top;\n",
       "    }\n",
       "\n",
       "    .dataframe thead th {\n",
       "        text-align: right;\n",
       "    }\n",
       "</style>\n",
       "<table border=\"1\" class=\"dataframe\">\n",
       "  <thead>\n",
       "    <tr style=\"text-align: right;\">\n",
       "      <th></th>\n",
       "      <th>Dates</th>\n",
       "      <th>Eau</th>\n",
       "    </tr>\n",
       "  </thead>\n",
       "  <tbody>\n",
       "    <tr>\n",
       "      <th>0</th>\n",
       "      <td>2013-01-01 00:00:00</td>\n",
       "      <td>3.570189</td>\n",
       "    </tr>\n",
       "  </tbody>\n",
       "</table>\n",
       "</div>"
      ],
      "text/plain": [
       "                 Dates       Eau\n",
       "0  2013-01-01 00:00:00  3.570189"
      ]
     },
     "execution_count": 76,
     "metadata": {},
     "output_type": "execute_result"
    }
   ],
   "source": [
    "exog = pd.read_csv('./exog/exog_3H_FR_filtered.csv',# sep = ';',\n",
    "                   usecols = ['Dates', 'Eau'])\n",
    "exog.head(1)"
   ]
  },
  {
   "cell_type": "code",
   "execution_count": 77,
   "metadata": {},
   "outputs": [],
   "source": [
    "exog['Dates'] = pd.to_datetime(exog['Dates'], yearfirst = True)\n",
    "exog.set_index('Dates', inplace = True)"
   ]
  },
  {
   "cell_type": "code",
   "execution_count": 78,
   "metadata": {},
   "outputs": [],
   "source": [
    "# Split en jeu d'entrainement et jeu de test\n",
    "exog_train = exog[(exog.index >= debut) & (exog.index < fin)]\n",
    "exog_test = exog[exog.index >= fin]"
   ]
  },
  {
   "cell_type": "code",
   "execution_count": 79,
   "metadata": {},
   "outputs": [],
   "source": [
    "LinReg_filter = LinearRegression()\n",
    "LinReg_filter.fit(exog_train, df_train_filter['TCH_hyd'])\n",
    "predict_lr_filter = LinReg_filter.predict(exog_test)"
   ]
  },
  {
   "cell_type": "code",
   "execution_count": 80,
   "metadata": {},
   "outputs": [],
   "source": [
    "predict_lr_filter = pd.DataFrame(predict_lr_filter, index = indice, columns = ['Hyd_p_LinReg_filter'])"
   ]
  },
  {
   "cell_type": "code",
   "execution_count": 81,
   "metadata": {},
   "outputs": [],
   "source": [
    "bilan = pd.concat([bilan, predict_lr_filter], axis = 1)"
   ]
  },
  {
   "cell_type": "markdown",
   "metadata": {},
   "source": [
    "### Erreur absolue"
   ]
  },
  {
   "cell_type": "code",
   "execution_count": 82,
   "metadata": {},
   "outputs": [
    {
     "data": {
      "text/html": [
       "<div>\n",
       "<style scoped>\n",
       "    .dataframe tbody tr th:only-of-type {\n",
       "        vertical-align: middle;\n",
       "    }\n",
       "\n",
       "    .dataframe tbody tr th {\n",
       "        vertical-align: top;\n",
       "    }\n",
       "\n",
       "    .dataframe thead th {\n",
       "        text-align: right;\n",
       "    }\n",
       "</style>\n",
       "<table border=\"1\" class=\"dataframe\">\n",
       "  <thead>\n",
       "    <tr style=\"text-align: right;\">\n",
       "      <th></th>\n",
       "      <th>Hydraulique</th>\n",
       "      <th>Capa_hyd</th>\n",
       "      <th>TCH_hyd</th>\n",
       "      <th>Hyd_p_sinus</th>\n",
       "      <th>Err_sinus</th>\n",
       "      <th>Hyd_p_exog</th>\n",
       "      <th>Err_exog</th>\n",
       "      <th>Hyd_p_filter</th>\n",
       "      <th>Err_exog_filter</th>\n",
       "      <th>Hyd_p_reduit_noreg</th>\n",
       "      <th>Err_filter_noreg</th>\n",
       "      <th>Hyd_p_reduit</th>\n",
       "      <th>Err_filter_exog_filter</th>\n",
       "      <th>Hyd_p_LinReg</th>\n",
       "      <th>Err_LinReg</th>\n",
       "      <th>Hyd_p_LinReg_filter</th>\n",
       "      <th>Err_LinReg_filter</th>\n",
       "    </tr>\n",
       "  </thead>\n",
       "  <tbody>\n",
       "    <tr>\n",
       "      <th>count</th>\n",
       "      <td>5360.000000</td>\n",
       "      <td>5360.0</td>\n",
       "      <td>5360.000000</td>\n",
       "      <td>5360.000000</td>\n",
       "      <td>5360.000000</td>\n",
       "      <td>5360.000000</td>\n",
       "      <td>5360.000000</td>\n",
       "      <td>5360.000000</td>\n",
       "      <td>5.360000e+03</td>\n",
       "      <td>5360.000000</td>\n",
       "      <td>5360.000000</td>\n",
       "      <td>5360.000000</td>\n",
       "      <td>5360.000000</td>\n",
       "      <td>5360.000000</td>\n",
       "      <td>5360.000000</td>\n",
       "      <td>5360.000000</td>\n",
       "      <td>5360.000000</td>\n",
       "    </tr>\n",
       "    <tr>\n",
       "      <th>mean</th>\n",
       "      <td>7260.388184</td>\n",
       "      <td>25346.0</td>\n",
       "      <td>0.286451</td>\n",
       "      <td>0.321103</td>\n",
       "      <td>0.088204</td>\n",
       "      <td>0.316670</td>\n",
       "      <td>0.084840</td>\n",
       "      <td>0.320900</td>\n",
       "      <td>8.680896e-02</td>\n",
       "      <td>0.322392</td>\n",
       "      <td>0.087479</td>\n",
       "      <td>0.321816</td>\n",
       "      <td>0.086353</td>\n",
       "      <td>0.285056</td>\n",
       "      <td>0.082179</td>\n",
       "      <td>0.285045</td>\n",
       "      <td>0.082181</td>\n",
       "    </tr>\n",
       "    <tr>\n",
       "      <th>std</th>\n",
       "      <td>2609.352124</td>\n",
       "      <td>0.0</td>\n",
       "      <td>0.102949</td>\n",
       "      <td>0.095678</td>\n",
       "      <td>0.065891</td>\n",
       "      <td>0.093569</td>\n",
       "      <td>0.063392</td>\n",
       "      <td>0.096011</td>\n",
       "      <td>6.472702e-02</td>\n",
       "      <td>0.095018</td>\n",
       "      <td>0.065213</td>\n",
       "      <td>0.094157</td>\n",
       "      <td>0.064338</td>\n",
       "      <td>0.006965</td>\n",
       "      <td>0.062076</td>\n",
       "      <td>0.007067</td>\n",
       "      <td>0.062081</td>\n",
       "    </tr>\n",
       "    <tr>\n",
       "      <th>min</th>\n",
       "      <td>1795.000000</td>\n",
       "      <td>25346.0</td>\n",
       "      <td>0.070820</td>\n",
       "      <td>0.087967</td>\n",
       "      <td>0.000010</td>\n",
       "      <td>0.085757</td>\n",
       "      <td>0.000004</td>\n",
       "      <td>0.082013</td>\n",
       "      <td>8.173221e-08</td>\n",
       "      <td>0.068747</td>\n",
       "      <td>0.000028</td>\n",
       "      <td>0.071355</td>\n",
       "      <td>0.000007</td>\n",
       "      <td>0.271036</td>\n",
       "      <td>0.000006</td>\n",
       "      <td>0.270820</td>\n",
       "      <td>0.000051</td>\n",
       "    </tr>\n",
       "    <tr>\n",
       "      <th>25%</th>\n",
       "      <td>5350.208333</td>\n",
       "      <td>25346.0</td>\n",
       "      <td>0.211087</td>\n",
       "      <td>0.252296</td>\n",
       "      <td>0.035179</td>\n",
       "      <td>0.248938</td>\n",
       "      <td>0.034316</td>\n",
       "      <td>0.251495</td>\n",
       "      <td>3.524117e-02</td>\n",
       "      <td>0.253741</td>\n",
       "      <td>0.034292</td>\n",
       "      <td>0.253788</td>\n",
       "      <td>0.033846</td>\n",
       "      <td>0.280861</td>\n",
       "      <td>0.033463</td>\n",
       "      <td>0.280788</td>\n",
       "      <td>0.033443</td>\n",
       "    </tr>\n",
       "    <tr>\n",
       "      <th>50%</th>\n",
       "      <td>7097.000000</td>\n",
       "      <td>25346.0</td>\n",
       "      <td>0.280005</td>\n",
       "      <td>0.319804</td>\n",
       "      <td>0.074470</td>\n",
       "      <td>0.314946</td>\n",
       "      <td>0.071271</td>\n",
       "      <td>0.319622</td>\n",
       "      <td>7.308759e-02</td>\n",
       "      <td>0.320974</td>\n",
       "      <td>0.075363</td>\n",
       "      <td>0.320309</td>\n",
       "      <td>0.074238</td>\n",
       "      <td>0.283530</td>\n",
       "      <td>0.069933</td>\n",
       "      <td>0.283496</td>\n",
       "      <td>0.069988</td>\n",
       "    </tr>\n",
       "    <tr>\n",
       "      <th>75%</th>\n",
       "      <td>8883.833333</td>\n",
       "      <td>25346.0</td>\n",
       "      <td>0.350502</td>\n",
       "      <td>0.390432</td>\n",
       "      <td>0.126265</td>\n",
       "      <td>0.385166</td>\n",
       "      <td>0.120740</td>\n",
       "      <td>0.390582</td>\n",
       "      <td>1.239484e-01</td>\n",
       "      <td>0.391116</td>\n",
       "      <td>0.126627</td>\n",
       "      <td>0.390236</td>\n",
       "      <td>0.124536</td>\n",
       "      <td>0.287188</td>\n",
       "      <td>0.118113</td>\n",
       "      <td>0.287209</td>\n",
       "      <td>0.118140</td>\n",
       "    </tr>\n",
       "    <tr>\n",
       "      <th>max</th>\n",
       "      <td>17214.000000</td>\n",
       "      <td>25346.0</td>\n",
       "      <td>0.679160</td>\n",
       "      <td>0.603015</td>\n",
       "      <td>0.382586</td>\n",
       "      <td>0.592832</td>\n",
       "      <td>0.372403</td>\n",
       "      <td>0.608290</td>\n",
       "      <td>3.878606e-01</td>\n",
       "      <td>0.581431</td>\n",
       "      <td>0.359626</td>\n",
       "      <td>0.578460</td>\n",
       "      <td>0.352967</td>\n",
       "      <td>0.351224</td>\n",
       "      <td>0.388001</td>\n",
       "      <td>0.352183</td>\n",
       "      <td>0.387922</td>\n",
       "    </tr>\n",
       "  </tbody>\n",
       "</table>\n",
       "</div>"
      ],
      "text/plain": [
       "        Hydraulique  Capa_hyd      TCH_hyd  Hyd_p_sinus    Err_sinus  \\\n",
       "count   5360.000000    5360.0  5360.000000  5360.000000  5360.000000   \n",
       "mean    7260.388184   25346.0     0.286451     0.321103     0.088204   \n",
       "std     2609.352124       0.0     0.102949     0.095678     0.065891   \n",
       "min     1795.000000   25346.0     0.070820     0.087967     0.000010   \n",
       "25%     5350.208333   25346.0     0.211087     0.252296     0.035179   \n",
       "50%     7097.000000   25346.0     0.280005     0.319804     0.074470   \n",
       "75%     8883.833333   25346.0     0.350502     0.390432     0.126265   \n",
       "max    17214.000000   25346.0     0.679160     0.603015     0.382586   \n",
       "\n",
       "        Hyd_p_exog     Err_exog  Hyd_p_filter  Err_exog_filter  \\\n",
       "count  5360.000000  5360.000000   5360.000000     5.360000e+03   \n",
       "mean      0.316670     0.084840      0.320900     8.680896e-02   \n",
       "std       0.093569     0.063392      0.096011     6.472702e-02   \n",
       "min       0.085757     0.000004      0.082013     8.173221e-08   \n",
       "25%       0.248938     0.034316      0.251495     3.524117e-02   \n",
       "50%       0.314946     0.071271      0.319622     7.308759e-02   \n",
       "75%       0.385166     0.120740      0.390582     1.239484e-01   \n",
       "max       0.592832     0.372403      0.608290     3.878606e-01   \n",
       "\n",
       "       Hyd_p_reduit_noreg  Err_filter_noreg  Hyd_p_reduit  \\\n",
       "count         5360.000000       5360.000000   5360.000000   \n",
       "mean             0.322392          0.087479      0.321816   \n",
       "std              0.095018          0.065213      0.094157   \n",
       "min              0.068747          0.000028      0.071355   \n",
       "25%              0.253741          0.034292      0.253788   \n",
       "50%              0.320974          0.075363      0.320309   \n",
       "75%              0.391116          0.126627      0.390236   \n",
       "max              0.581431          0.359626      0.578460   \n",
       "\n",
       "       Err_filter_exog_filter  Hyd_p_LinReg   Err_LinReg  Hyd_p_LinReg_filter  \\\n",
       "count             5360.000000   5360.000000  5360.000000          5360.000000   \n",
       "mean                 0.086353      0.285056     0.082179             0.285045   \n",
       "std                  0.064338      0.006965     0.062076             0.007067   \n",
       "min                  0.000007      0.271036     0.000006             0.270820   \n",
       "25%                  0.033846      0.280861     0.033463             0.280788   \n",
       "50%                  0.074238      0.283530     0.069933             0.283496   \n",
       "75%                  0.124536      0.287188     0.118113             0.287209   \n",
       "max                  0.352967      0.351224     0.388001             0.352183   \n",
       "\n",
       "       Err_LinReg_filter  \n",
       "count        5360.000000  \n",
       "mean            0.082181  \n",
       "std             0.062081  \n",
       "min             0.000051  \n",
       "25%             0.033443  \n",
       "50%             0.069988  \n",
       "75%             0.118140  \n",
       "max             0.387922  "
      ]
     },
     "execution_count": 82,
     "metadata": {},
     "output_type": "execute_result"
    }
   ],
   "source": [
    "bilan['Err_LinReg_filter'] = np.abs(bilan['Hyd_p_LinReg_filter'] - bilan['TCH_hyd'])\n",
    "bilan.describe()"
   ]
  },
  {
   "cell_type": "markdown",
   "metadata": {},
   "source": [
    "# Calcul de la prediction : TCH x Capacité"
   ]
  },
  {
   "cell_type": "code",
   "execution_count": 83,
   "metadata": {},
   "outputs": [
    {
     "data": {
      "text/html": [
       "<div>\n",
       "<style scoped>\n",
       "    .dataframe tbody tr th:only-of-type {\n",
       "        vertical-align: middle;\n",
       "    }\n",
       "\n",
       "    .dataframe tbody tr th {\n",
       "        vertical-align: top;\n",
       "    }\n",
       "\n",
       "    .dataframe thead th {\n",
       "        text-align: right;\n",
       "    }\n",
       "</style>\n",
       "<table border=\"1\" class=\"dataframe\">\n",
       "  <thead>\n",
       "    <tr style=\"text-align: right;\">\n",
       "      <th></th>\n",
       "      <th>Hydraulique</th>\n",
       "      <th>Capa_hyd</th>\n",
       "      <th>TCH_hyd</th>\n",
       "      <th>Hyd_p_sinus</th>\n",
       "      <th>Err_sinus</th>\n",
       "      <th>Hyd_p_exog</th>\n",
       "      <th>Err_exog</th>\n",
       "      <th>Hyd_p_filter</th>\n",
       "      <th>Err_exog_filter</th>\n",
       "      <th>Hyd_p_reduit_noreg</th>\n",
       "      <th>Err_filter_noreg</th>\n",
       "      <th>Hyd_p_reduit</th>\n",
       "      <th>Err_filter_exog_filter</th>\n",
       "      <th>Hyd_p_LinReg</th>\n",
       "      <th>Err_LinReg</th>\n",
       "      <th>Hyd_p_LinReg_filter</th>\n",
       "      <th>Err_LinReg_filter</th>\n",
       "    </tr>\n",
       "  </thead>\n",
       "  <tbody>\n",
       "    <tr>\n",
       "      <th>count</th>\n",
       "      <td>5360.000000</td>\n",
       "      <td>5360.0</td>\n",
       "      <td>5360.000000</td>\n",
       "      <td>5360.000000</td>\n",
       "      <td>5360.000000</td>\n",
       "      <td>5360.000000</td>\n",
       "      <td>5360.000000</td>\n",
       "      <td>5360.000000</td>\n",
       "      <td>5360.000000</td>\n",
       "      <td>5360.000000</td>\n",
       "      <td>5360.000000</td>\n",
       "      <td>5360.000000</td>\n",
       "      <td>5360.000000</td>\n",
       "      <td>5360.000000</td>\n",
       "      <td>5360.000000</td>\n",
       "      <td>5360.000000</td>\n",
       "      <td>5360.000000</td>\n",
       "    </tr>\n",
       "    <tr>\n",
       "      <th>mean</th>\n",
       "      <td>7260.388184</td>\n",
       "      <td>25346.0</td>\n",
       "      <td>0.286451</td>\n",
       "      <td>8138.683347</td>\n",
       "      <td>2235.628878</td>\n",
       "      <td>8026.308227</td>\n",
       "      <td>2150.354827</td>\n",
       "      <td>8133.537459</td>\n",
       "      <td>2200.259910</td>\n",
       "      <td>8171.355487</td>\n",
       "      <td>2217.245448</td>\n",
       "      <td>8156.744706</td>\n",
       "      <td>2188.711046</td>\n",
       "      <td>7225.021802</td>\n",
       "      <td>2082.911347</td>\n",
       "      <td>7224.743865</td>\n",
       "      <td>2082.954843</td>\n",
       "    </tr>\n",
       "    <tr>\n",
       "      <th>std</th>\n",
       "      <td>2609.352124</td>\n",
       "      <td>0.0</td>\n",
       "      <td>0.102949</td>\n",
       "      <td>2425.058187</td>\n",
       "      <td>1670.066510</td>\n",
       "      <td>2371.602095</td>\n",
       "      <td>1606.726106</td>\n",
       "      <td>2433.498619</td>\n",
       "      <td>1640.571029</td>\n",
       "      <td>2408.319027</td>\n",
       "      <td>1652.895735</td>\n",
       "      <td>2386.500795</td>\n",
       "      <td>1630.706145</td>\n",
       "      <td>176.541035</td>\n",
       "      <td>1573.387623</td>\n",
       "      <td>179.128817</td>\n",
       "      <td>1573.506470</td>\n",
       "    </tr>\n",
       "    <tr>\n",
       "      <th>min</th>\n",
       "      <td>1795.000000</td>\n",
       "      <td>25346.0</td>\n",
       "      <td>0.070820</td>\n",
       "      <td>2229.622176</td>\n",
       "      <td>0.249491</td>\n",
       "      <td>2173.590512</td>\n",
       "      <td>0.090748</td>\n",
       "      <td>2078.707108</td>\n",
       "      <td>0.002072</td>\n",
       "      <td>1742.464318</td>\n",
       "      <td>0.703016</td>\n",
       "      <td>1808.575360</td>\n",
       "      <td>0.174679</td>\n",
       "      <td>6869.689282</td>\n",
       "      <td>0.153563</td>\n",
       "      <td>6864.202792</td>\n",
       "      <td>1.293014</td>\n",
       "    </tr>\n",
       "    <tr>\n",
       "      <th>25%</th>\n",
       "      <td>5350.208333</td>\n",
       "      <td>25346.0</td>\n",
       "      <td>0.211087</td>\n",
       "      <td>6394.688229</td>\n",
       "      <td>891.656596</td>\n",
       "      <td>6309.594590</td>\n",
       "      <td>869.785909</td>\n",
       "      <td>6374.404622</td>\n",
       "      <td>893.222705</td>\n",
       "      <td>6431.323347</td>\n",
       "      <td>869.177412</td>\n",
       "      <td>6432.514038</td>\n",
       "      <td>857.868943</td>\n",
       "      <td>7118.693700</td>\n",
       "      <td>848.147916</td>\n",
       "      <td>7116.857179</td>\n",
       "      <td>847.638411</td>\n",
       "    </tr>\n",
       "    <tr>\n",
       "      <th>50%</th>\n",
       "      <td>7097.000000</td>\n",
       "      <td>25346.0</td>\n",
       "      <td>0.280005</td>\n",
       "      <td>8105.754487</td>\n",
       "      <td>1887.508226</td>\n",
       "      <td>7982.620050</td>\n",
       "      <td>1806.441143</td>\n",
       "      <td>8101.127710</td>\n",
       "      <td>1852.478049</td>\n",
       "      <td>8135.398494</td>\n",
       "      <td>1910.138417</td>\n",
       "      <td>8118.554062</td>\n",
       "      <td>1881.626437</td>\n",
       "      <td>7186.341162</td>\n",
       "      <td>1772.528854</td>\n",
       "      <td>7185.496235</td>\n",
       "      <td>1773.909269</td>\n",
       "    </tr>\n",
       "    <tr>\n",
       "      <th>75%</th>\n",
       "      <td>8883.833333</td>\n",
       "      <td>25346.0</td>\n",
       "      <td>0.350502</td>\n",
       "      <td>9895.894589</td>\n",
       "      <td>3200.319533</td>\n",
       "      <td>9762.415177</td>\n",
       "      <td>3060.279763</td>\n",
       "      <td>9899.697170</td>\n",
       "      <td>3141.594923</td>\n",
       "      <td>9913.215716</td>\n",
       "      <td>3209.485283</td>\n",
       "      <td>9890.910759</td>\n",
       "      <td>3156.488036</td>\n",
       "      <td>7279.072326</td>\n",
       "      <td>2993.687426</td>\n",
       "      <td>7279.586675</td>\n",
       "      <td>2994.383275</td>\n",
       "    </tr>\n",
       "    <tr>\n",
       "      <th>max</th>\n",
       "      <td>17214.000000</td>\n",
       "      <td>25346.0</td>\n",
       "      <td>0.679160</td>\n",
       "      <td>15284.015993</td>\n",
       "      <td>9697.015993</td>\n",
       "      <td>15025.931639</td>\n",
       "      <td>9438.931639</td>\n",
       "      <td>15417.714721</td>\n",
       "      <td>9830.714721</td>\n",
       "      <td>14736.952938</td>\n",
       "      <td>9115.088004</td>\n",
       "      <td>14661.656601</td>\n",
       "      <td>8946.299498</td>\n",
       "      <td>8902.131842</td>\n",
       "      <td>9834.265700</td>\n",
       "      <td>8926.437399</td>\n",
       "      <td>9832.275823</td>\n",
       "    </tr>\n",
       "  </tbody>\n",
       "</table>\n",
       "</div>"
      ],
      "text/plain": [
       "        Hydraulique  Capa_hyd      TCH_hyd   Hyd_p_sinus    Err_sinus  \\\n",
       "count   5360.000000    5360.0  5360.000000   5360.000000  5360.000000   \n",
       "mean    7260.388184   25346.0     0.286451   8138.683347  2235.628878   \n",
       "std     2609.352124       0.0     0.102949   2425.058187  1670.066510   \n",
       "min     1795.000000   25346.0     0.070820   2229.622176     0.249491   \n",
       "25%     5350.208333   25346.0     0.211087   6394.688229   891.656596   \n",
       "50%     7097.000000   25346.0     0.280005   8105.754487  1887.508226   \n",
       "75%     8883.833333   25346.0     0.350502   9895.894589  3200.319533   \n",
       "max    17214.000000   25346.0     0.679160  15284.015993  9697.015993   \n",
       "\n",
       "         Hyd_p_exog     Err_exog  Hyd_p_filter  Err_exog_filter  \\\n",
       "count   5360.000000  5360.000000   5360.000000      5360.000000   \n",
       "mean    8026.308227  2150.354827   8133.537459      2200.259910   \n",
       "std     2371.602095  1606.726106   2433.498619      1640.571029   \n",
       "min     2173.590512     0.090748   2078.707108         0.002072   \n",
       "25%     6309.594590   869.785909   6374.404622       893.222705   \n",
       "50%     7982.620050  1806.441143   8101.127710      1852.478049   \n",
       "75%     9762.415177  3060.279763   9899.697170      3141.594923   \n",
       "max    15025.931639  9438.931639  15417.714721      9830.714721   \n",
       "\n",
       "       Hyd_p_reduit_noreg  Err_filter_noreg  Hyd_p_reduit  \\\n",
       "count         5360.000000       5360.000000   5360.000000   \n",
       "mean          8171.355487       2217.245448   8156.744706   \n",
       "std           2408.319027       1652.895735   2386.500795   \n",
       "min           1742.464318          0.703016   1808.575360   \n",
       "25%           6431.323347        869.177412   6432.514038   \n",
       "50%           8135.398494       1910.138417   8118.554062   \n",
       "75%           9913.215716       3209.485283   9890.910759   \n",
       "max          14736.952938       9115.088004  14661.656601   \n",
       "\n",
       "       Err_filter_exog_filter  Hyd_p_LinReg   Err_LinReg  Hyd_p_LinReg_filter  \\\n",
       "count             5360.000000   5360.000000  5360.000000          5360.000000   \n",
       "mean              2188.711046   7225.021802  2082.911347          7224.743865   \n",
       "std               1630.706145    176.541035  1573.387623           179.128817   \n",
       "min                  0.174679   6869.689282     0.153563          6864.202792   \n",
       "25%                857.868943   7118.693700   848.147916          7116.857179   \n",
       "50%               1881.626437   7186.341162  1772.528854          7185.496235   \n",
       "75%               3156.488036   7279.072326  2993.687426          7279.586675   \n",
       "max               8946.299498   8902.131842  9834.265700          8926.437399   \n",
       "\n",
       "       Err_LinReg_filter  \n",
       "count        5360.000000  \n",
       "mean         2082.954843  \n",
       "std          1573.506470  \n",
       "min             1.293014  \n",
       "25%           847.638411  \n",
       "50%          1773.909269  \n",
       "75%          2994.383275  \n",
       "max          9832.275823  "
      ]
     },
     "execution_count": 83,
     "metadata": {},
     "output_type": "execute_result"
    }
   ],
   "source": [
    "bilan['Hyd_p_sinus'] = bilan['Hyd_p_sinus'] * bilan['Capa_hyd']\n",
    "bilan['Err_sinus'] = bilan['Err_sinus'] * bilan['Capa_hyd']\n",
    "bilan['Hyd_p_exog'] = bilan['Hyd_p_exog'] * bilan['Capa_hyd']\n",
    "bilan['Err_exog'] = bilan['Err_exog'] * bilan['Capa_hyd']\n",
    "bilan['Hyd_p_filter'] = bilan['Hyd_p_filter'] * bilan['Capa_hyd']\n",
    "bilan['Err_exog_filter'] = bilan['Err_exog_filter'] * bilan['Capa_hyd']\n",
    "bilan['Hyd_p_reduit_noreg'] = bilan['Hyd_p_reduit_noreg'] * bilan['Capa_hyd']\n",
    "bilan['Err_filter_noreg'] = bilan['Err_filter_noreg'] * bilan['Capa_hyd']\n",
    "bilan['Hyd_p_reduit'] = bilan['Hyd_p_reduit'] * bilan['Capa_hyd']\n",
    "bilan['Err_filter_exog_filter'] = bilan['Err_filter_exog_filter'] * bilan['Capa_hyd']\n",
    "bilan['Hyd_p_LinReg'] = bilan['Hyd_p_LinReg'] * bilan['Capa_hyd']\n",
    "bilan['Err_LinReg'] = bilan['Err_LinReg'] * bilan['Capa_hyd']\n",
    "bilan['Hyd_p_LinReg_filter'] = bilan['Hyd_p_LinReg_filter'] * bilan['Capa_hyd']\n",
    "bilan['Err_LinReg_filter'] = bilan['Err_LinReg_filter'] * bilan['Capa_hyd']\n",
    "bilan.describe()"
   ]
  },
  {
   "cell_type": "markdown",
   "metadata": {},
   "source": [
    "# Visualisation réel vs prédictions"
   ]
  },
  {
   "cell_type": "code",
   "execution_count": 89,
   "metadata": {},
   "outputs": [
    {
     "data": {
      "image/png": "[encoded data removed]",
      "text/plain": [
       "<Figure size 1296x648 with 1 Axes>"
      ]
     },
     "metadata": {
      "needs_background": "light"
     },
     "output_type": "display_data"
    }
   ],
   "source": [
    "plt.figure(figsize=(18,9))\n",
    "plt.plot(bilan['Hydraulique'].resample('W').mean(), color = 'k', label = 'réel')\n",
    "plt.plot(bilan['Hyd_p_sinus'].resample('W').mean(), color = 'y', linestyle = '--', alpha = 0.5, label = 'sinus', marker = '>')\n",
    "plt.plot(bilan['Hyd_p_exog'].resample('W').mean(), color = 'b', linestyle = '--', alpha = 0.5, label = 'exog')\n",
    "plt.plot(bilan['Hyd_p_filter'].resample('W').mean(), color = 'b', linestyle = ':', alpha = 0.5, label = 'exog filtré')\n",
    "plt.plot(bilan['Hyd_p_reduit_noreg'].resample('W').mean(), color = 'r', linestyle = '--', alpha = 0.5, label = 'filtré sans exog')\n",
    "plt.plot(bilan['Hyd_p_reduit'].resample('W').mean(), color = 'r', linestyle = ':', alpha = 0.5, label = 'filtré + exog filtré')\n",
    "plt.plot(bilan['Hyd_p_LinReg'].resample('W').mean(), color = 'g', linestyle = '--', alpha = 0.5, label = 'RegLin')\n",
    "plt.plot(bilan['Hyd_p_LinReg_filter'].resample('W').mean(), color = 'g', linestyle = ':', alpha = 0.5, label = 'RegLin filtré')\n",
    "plt.legend(loc = 'upper right')\n",
    "plt.title('Prediction Hydraulique (3h)')\n",
    "plt.savefig('./results/3h/pred_hydraulique_3h.png');"
   ]
  },
  {
   "cell_type": "markdown",
   "metadata": {},
   "source": [
    "# Synthèse des erreurs"
   ]
  },
  {
   "cell_type": "code",
   "execution_count": 90,
   "metadata": {},
   "outputs": [
    {
     "data": {
      "text/html": [
       "<div>\n",
       "<style scoped>\n",
       "    .dataframe tbody tr th:only-of-type {\n",
       "        vertical-align: middle;\n",
       "    }\n",
       "\n",
       "    .dataframe tbody tr th {\n",
       "        vertical-align: top;\n",
       "    }\n",
       "\n",
       "    .dataframe thead th {\n",
       "        text-align: right;\n",
       "    }\n",
       "</style>\n",
       "<table border=\"1\" class=\"dataframe\">\n",
       "  <thead>\n",
       "    <tr style=\"text-align: right;\">\n",
       "      <th></th>\n",
       "      <th>Err_sinus</th>\n",
       "      <th>Err_exog</th>\n",
       "      <th>Err_exog_filter</th>\n",
       "      <th>Err_filter_noreg</th>\n",
       "      <th>Err_filter_exog_filter</th>\n",
       "      <th>Err_LinReg</th>\n",
       "      <th>Err_LinReg_filter</th>\n",
       "    </tr>\n",
       "  </thead>\n",
       "  <tbody>\n",
       "    <tr>\n",
       "      <th>count</th>\n",
       "      <td>5360.000000</td>\n",
       "      <td>5360.000000</td>\n",
       "      <td>5360.000000</td>\n",
       "      <td>5360.000000</td>\n",
       "      <td>5360.000000</td>\n",
       "      <td>5360.000000</td>\n",
       "      <td>5360.000000</td>\n",
       "    </tr>\n",
       "    <tr>\n",
       "      <th>mean</th>\n",
       "      <td>2235.628878</td>\n",
       "      <td>2150.354827</td>\n",
       "      <td>2200.259910</td>\n",
       "      <td>2217.245448</td>\n",
       "      <td>2188.711046</td>\n",
       "      <td>2082.911347</td>\n",
       "      <td>2082.954843</td>\n",
       "    </tr>\n",
       "    <tr>\n",
       "      <th>std</th>\n",
       "      <td>1670.066510</td>\n",
       "      <td>1606.726106</td>\n",
       "      <td>1640.571029</td>\n",
       "      <td>1652.895735</td>\n",
       "      <td>1630.706145</td>\n",
       "      <td>1573.387623</td>\n",
       "      <td>1573.506470</td>\n",
       "    </tr>\n",
       "    <tr>\n",
       "      <th>min</th>\n",
       "      <td>0.249491</td>\n",
       "      <td>0.090748</td>\n",
       "      <td>0.002072</td>\n",
       "      <td>0.703016</td>\n",
       "      <td>0.174679</td>\n",
       "      <td>0.153563</td>\n",
       "      <td>1.293014</td>\n",
       "    </tr>\n",
       "    <tr>\n",
       "      <th>25%</th>\n",
       "      <td>891.656596</td>\n",
       "      <td>869.785909</td>\n",
       "      <td>893.222705</td>\n",
       "      <td>869.177412</td>\n",
       "      <td>857.868943</td>\n",
       "      <td>848.147916</td>\n",
       "      <td>847.638411</td>\n",
       "    </tr>\n",
       "    <tr>\n",
       "      <th>50%</th>\n",
       "      <td>1887.508226</td>\n",
       "      <td>1806.441143</td>\n",
       "      <td>1852.478049</td>\n",
       "      <td>1910.138417</td>\n",
       "      <td>1881.626437</td>\n",
       "      <td>1772.528854</td>\n",
       "      <td>1773.909269</td>\n",
       "    </tr>\n",
       "    <tr>\n",
       "      <th>75%</th>\n",
       "      <td>3200.319533</td>\n",
       "      <td>3060.279763</td>\n",
       "      <td>3141.594923</td>\n",
       "      <td>3209.485283</td>\n",
       "      <td>3156.488036</td>\n",
       "      <td>2993.687426</td>\n",
       "      <td>2994.383275</td>\n",
       "    </tr>\n",
       "    <tr>\n",
       "      <th>max</th>\n",
       "      <td>9697.015993</td>\n",
       "      <td>9438.931639</td>\n",
       "      <td>9830.714721</td>\n",
       "      <td>9115.088004</td>\n",
       "      <td>8946.299498</td>\n",
       "      <td>9834.265700</td>\n",
       "      <td>9832.275823</td>\n",
       "    </tr>\n",
       "  </tbody>\n",
       "</table>\n",
       "</div>"
      ],
      "text/plain": [
       "         Err_sinus     Err_exog  Err_exog_filter  Err_filter_noreg  \\\n",
       "count  5360.000000  5360.000000      5360.000000       5360.000000   \n",
       "mean   2235.628878  2150.354827      2200.259910       2217.245448   \n",
       "std    1670.066510  1606.726106      1640.571029       1652.895735   \n",
       "min       0.249491     0.090748         0.002072          0.703016   \n",
       "25%     891.656596   869.785909       893.222705        869.177412   \n",
       "50%    1887.508226  1806.441143      1852.478049       1910.138417   \n",
       "75%    3200.319533  3060.279763      3141.594923       3209.485283   \n",
       "max    9697.015993  9438.931639      9830.714721       9115.088004   \n",
       "\n",
       "       Err_filter_exog_filter   Err_LinReg  Err_LinReg_filter  \n",
       "count             5360.000000  5360.000000        5360.000000  \n",
       "mean              2188.711046  2082.911347        2082.954843  \n",
       "std               1630.706145  1573.387623        1573.506470  \n",
       "min                  0.174679     0.153563           1.293014  \n",
       "25%                857.868943   848.147916         847.638411  \n",
       "50%               1881.626437  1772.528854        1773.909269  \n",
       "75%               3156.488036  2993.687426        2994.383275  \n",
       "max               8946.299498  9834.265700        9832.275823  "
      ]
     },
     "execution_count": 90,
     "metadata": {},
     "output_type": "execute_result"
    }
   ],
   "source": [
    "erreur = bilan[['Err_sinus',\n",
    "       'Err_exog',\n",
    "       'Err_exog_filter',\n",
    "       'Err_filter_noreg',\n",
    "       'Err_filter_exog_filter',\n",
    "       'Err_LinReg',\n",
    "       'Err_LinReg_filter'\n",
    "      ]].describe()\n",
    "erreur"
   ]
  },
  {
   "cell_type": "code",
   "execution_count": 91,
   "metadata": {},
   "outputs": [],
   "source": [
    "bilan.to_csv('./results/3h/bilan_hydraulique_3h.csv', sep = ';')\n",
    "erreur.to_csv('./results/3h/erreur_hydraulique_3h.csv', sep = ';')"
   ]
  },
  {
   "cell_type": "code",
   "execution_count": null,
   "metadata": {},
   "outputs": [],
   "source": []
  }
 ],
 "metadata": {
  "kernelspec": {
   "display_name": "Python 3",
   "language": "python",
   "name": "python3"
  },
  "language_info": {
   "codemirror_mode": {
    "name": "ipython",
    "version": 3
   },
   "file_extension": ".py",
   "mimetype": "text/x-python",
   "name": "python",
   "nbconvert_exporter": "python",
   "pygments_lexer": "ipython3",
   "version": "3.8.5"
  }
 },
 "nbformat": 4,
 "nbformat_minor": 2
}
