{
 "cells": [
  {
   "cell_type": "code",
   "execution_count": 1,
   "metadata": {},
   "outputs": [],
   "source": [
    "import numpy as np\n",
    "import pandas as pd\n",
    "import datetime as dt\n",
    "from dateutil.relativedelta import relativedelta\n",
    "import matplotlib.pyplot as plt\n",
    "%matplotlib inline\n",
    "import statsmodels.api as sm\n",
    "from statsmodels.graphics.tsaplots import plot_pacf, plot_acf\n",
    "from statsmodels.tsa.seasonal import seasonal_decompose\n",
    "from sklearn.metrics import mean_absolute_error, mean_squared_error\n",
    "from sklearn.preprocessing import MinMaxScaler\n",
    "from sklearn.linear_model import LinearRegression"
   ]
  },
  {
   "cell_type": "markdown",
   "metadata": {},
   "source": [
    "# Objectif du notebook\n",
    "\n",
    "Comparer les différentes modélisation possible sur la variable **production solaire** :\n",
    "\n",
    "* SARIMAX avec des fonctions sinusoïdales correspondant aux saisons observées en régresseurs exogènes\n",
    "* SARIMAX avec des données métier en régresseurs exogènes (soleil).\n",
    "* SARIMAX avec des données métier FILTREES en régresseurs exogènes\n",
    "* SARIMAX sur le signal filtré par transformation de Fourier sans régresseur\n",
    "* SARIMAX sur le signal filtré avec des données métier FILTREES en régresseurs exogènes\n",
    "* Régression linéaire sur les données métiers FILTREES comme variables explicatives\n",
    "* Régression linéaire sur la variable à expliquée FILTREE et avec les variables explicatives FILTREES."
   ]
  },
  {
   "cell_type": "markdown",
   "metadata": {},
   "source": [
    "# Import du dataset original"
   ]
  },
  {
   "cell_type": "code",
   "execution_count": 2,
   "metadata": {},
   "outputs": [
    {
     "data": {
      "text/html": [
       "<div>\n",
       "<style scoped>\n",
       "    .dataframe tbody tr th:only-of-type {\n",
       "        vertical-align: middle;\n",
       "    }\n",
       "\n",
       "    .dataframe tbody tr th {\n",
       "        vertical-align: top;\n",
       "    }\n",
       "\n",
       "    .dataframe thead th {\n",
       "        text-align: right;\n",
       "    }\n",
       "</style>\n",
       "<table border=\"1\" class=\"dataframe\">\n",
       "  <thead>\n",
       "    <tr style=\"text-align: right;\">\n",
       "      <th></th>\n",
       "      <th>Dates</th>\n",
       "      <th>Solaire</th>\n",
       "    </tr>\n",
       "  </thead>\n",
       "  <tbody>\n",
       "    <tr>\n",
       "      <th>0</th>\n",
       "      <td>2013-01-01</td>\n",
       "      <td>117.333333</td>\n",
       "    </tr>\n",
       "  </tbody>\n",
       "</table>\n",
       "</div>"
      ],
      "text/plain": [
       "        Dates     Solaire\n",
       "0  2013-01-01  117.333333"
      ]
     },
     "execution_count": 2,
     "metadata": {},
     "output_type": "execute_result"
    }
   ],
   "source": [
    "df = pd.read_csv('./dataset/France_D.csv',\n",
    "                usecols = ['Dates', 'Solaire'])\n",
    "df.head(1)"
   ]
  },
  {
   "cell_type": "code",
   "execution_count": 3,
   "metadata": {},
   "outputs": [],
   "source": [
    "df['Dates'] = pd.to_datetime(df['Dates'], yearfirst = True)\n",
    "df.set_index('Dates', inplace = True)"
   ]
  },
  {
   "cell_type": "code",
   "execution_count": 4,
   "metadata": {},
   "outputs": [],
   "source": [
    "debut = dt.datetime(year = 2013, month = 1, day = 1)\n",
    "fin = dt.datetime(year = 2020, month = 1, day = 1)"
   ]
  },
  {
   "cell_type": "markdown",
   "metadata": {},
   "source": [
    "# Conversion en taux de charge pour annuler l'évolution dans le temps"
   ]
  },
  {
   "cell_type": "code",
   "execution_count": 5,
   "metadata": {},
   "outputs": [],
   "source": [
    "capa = pd.read_csv('./datasource/capacite_solaire_FR.csv',\n",
    "                  usecols = ['Dates', 'Capa_sol'])\n",
    "capa['Dates'] = pd.to_datetime(capa['Dates'], format = '%Y/%m/%d %H:%M:%S', yearfirst = True)\n",
    "capa.set_index('Dates', inplace = True)"
   ]
  },
  {
   "cell_type": "code",
   "execution_count": 6,
   "metadata": {},
   "outputs": [],
   "source": [
    "capa = capa.resample('D').mean()"
   ]
  },
  {
   "cell_type": "code",
   "execution_count": 7,
   "metadata": {},
   "outputs": [
    {
     "data": {
      "text/html": [
       "<div>\n",
       "<style scoped>\n",
       "    .dataframe tbody tr th:only-of-type {\n",
       "        vertical-align: middle;\n",
       "    }\n",
       "\n",
       "    .dataframe tbody tr th {\n",
       "        vertical-align: top;\n",
       "    }\n",
       "\n",
       "    .dataframe thead th {\n",
       "        text-align: right;\n",
       "    }\n",
       "</style>\n",
       "<table border=\"1\" class=\"dataframe\">\n",
       "  <thead>\n",
       "    <tr style=\"text-align: right;\">\n",
       "      <th></th>\n",
       "      <th>Solaire</th>\n",
       "      <th>Capa_sol</th>\n",
       "      <th>TCH_sol</th>\n",
       "    </tr>\n",
       "    <tr>\n",
       "      <th>Dates</th>\n",
       "      <th></th>\n",
       "      <th></th>\n",
       "      <th></th>\n",
       "    </tr>\n",
       "  </thead>\n",
       "  <tbody>\n",
       "    <tr>\n",
       "      <th>2013-01-01</th>\n",
       "      <td>117.333333</td>\n",
       "      <td>3644</td>\n",
       "      <td>0.032199</td>\n",
       "    </tr>\n",
       "    <tr>\n",
       "      <th>2013-01-02</th>\n",
       "      <td>262.770833</td>\n",
       "      <td>3647</td>\n",
       "      <td>0.072051</td>\n",
       "    </tr>\n",
       "    <tr>\n",
       "      <th>2013-01-03</th>\n",
       "      <td>210.729167</td>\n",
       "      <td>3648</td>\n",
       "      <td>0.057766</td>\n",
       "    </tr>\n",
       "    <tr>\n",
       "      <th>2013-01-04</th>\n",
       "      <td>141.729167</td>\n",
       "      <td>3649</td>\n",
       "      <td>0.038841</td>\n",
       "    </tr>\n",
       "    <tr>\n",
       "      <th>2013-01-05</th>\n",
       "      <td>149.979167</td>\n",
       "      <td>3650</td>\n",
       "      <td>0.041090</td>\n",
       "    </tr>\n",
       "    <tr>\n",
       "      <th>...</th>\n",
       "      <td>...</td>\n",
       "      <td>...</td>\n",
       "      <td>...</td>\n",
       "    </tr>\n",
       "    <tr>\n",
       "      <th>2021-10-27</th>\n",
       "      <td>1797.666667</td>\n",
       "      <td>12437</td>\n",
       "      <td>0.144542</td>\n",
       "    </tr>\n",
       "    <tr>\n",
       "      <th>2021-10-28</th>\n",
       "      <td>1764.812500</td>\n",
       "      <td>12444</td>\n",
       "      <td>0.141820</td>\n",
       "    </tr>\n",
       "    <tr>\n",
       "      <th>2021-10-29</th>\n",
       "      <td>880.541667</td>\n",
       "      <td>12454</td>\n",
       "      <td>0.070704</td>\n",
       "    </tr>\n",
       "    <tr>\n",
       "      <th>2021-10-30</th>\n",
       "      <td>603.416667</td>\n",
       "      <td>12460</td>\n",
       "      <td>0.048428</td>\n",
       "    </tr>\n",
       "    <tr>\n",
       "      <th>2021-10-31</th>\n",
       "      <td>938.375000</td>\n",
       "      <td>12469</td>\n",
       "      <td>0.075257</td>\n",
       "    </tr>\n",
       "  </tbody>\n",
       "</table>\n",
       "<p>3226 rows × 3 columns</p>\n",
       "</div>"
      ],
      "text/plain": [
       "                Solaire  Capa_sol   TCH_sol\n",
       "Dates                                      \n",
       "2013-01-01   117.333333      3644  0.032199\n",
       "2013-01-02   262.770833      3647  0.072051\n",
       "2013-01-03   210.729167      3648  0.057766\n",
       "2013-01-04   141.729167      3649  0.038841\n",
       "2013-01-05   149.979167      3650  0.041090\n",
       "...                 ...       ...       ...\n",
       "2021-10-27  1797.666667     12437  0.144542\n",
       "2021-10-28  1764.812500     12444  0.141820\n",
       "2021-10-29   880.541667     12454  0.070704\n",
       "2021-10-30   603.416667     12460  0.048428\n",
       "2021-10-31   938.375000     12469  0.075257\n",
       "\n",
       "[3226 rows x 3 columns]"
      ]
     },
     "execution_count": 7,
     "metadata": {},
     "output_type": "execute_result"
    }
   ],
   "source": [
    "df = pd.concat([df, capa], axis = 1)\n",
    "df['TCH_sol'] = df['Solaire'] / df['Capa_sol']\n",
    "df"
   ]
  },
  {
   "cell_type": "code",
   "execution_count": 8,
   "metadata": {
    "scrolled": false
   },
   "outputs": [
    {
     "data": {
      "image/png": "[encoded data removed]",
      "text/plain": [
       "<Figure size 1152x432 with 1 Axes>"
      ]
     },
     "metadata": {
      "needs_background": "light"
     },
     "output_type": "display_data"
    }
   ],
   "source": [
    "plt.figure(figsize=(16, 6))\n",
    "plt.plot(df['Solaire'][(df.index >= debut) & (df.index < fin)])\n",
    "for year in range(debut.year, fin.year + 1): \n",
    "    plt.axvline(pd.to_datetime(str(year)+'-01-01'), color='k', linestyle='--', alpha=0.5);"
   ]
  },
  {
   "cell_type": "code",
   "execution_count": 9,
   "metadata": {},
   "outputs": [
    {
     "data": {
      "image/png": "[encoded data removed]",
      "text/plain": [
       "<Figure size 1152x432 with 1 Axes>"
      ]
     },
     "metadata": {
      "needs_background": "light"
     },
     "output_type": "display_data"
    }
   ],
   "source": [
    "plt.figure(figsize=(16, 6))\n",
    "plt.plot(df['TCH_sol'][(df.index >= debut) & (df.index < fin)])\n",
    "for year in range(debut.year, fin.year + 1): \n",
    "    plt.axvline(pd.to_datetime(str(year)+'-01-01'), color='k', linestyle='--', alpha=0.5);"
   ]
  },
  {
   "cell_type": "markdown",
   "metadata": {},
   "source": [
    "### Test de stationnarité"
   ]
  },
  {
   "cell_type": "code",
   "execution_count": 10,
   "metadata": {},
   "outputs": [
    {
     "data": {
      "text/plain": [
       "(-3.9606086515758063,\n",
       " 0.001631418412006807,\n",
       " 14,\n",
       " 3211,\n",
       " {'1%': -3.432388161120837,\n",
       "  '5%': -2.862440536429695,\n",
       "  '10%': -2.5672493755233123},\n",
       " -12799.62118628942)"
      ]
     },
     "execution_count": 10,
     "metadata": {},
     "output_type": "execute_result"
    }
   ],
   "source": [
    "# la 2ème valeur donne la p_value (stationnaire si < 5%)\n",
    "sm.tsa.stattools.adfuller(df['TCH_sol'])"
   ]
  },
  {
   "cell_type": "markdown",
   "metadata": {},
   "source": [
    "### Coéfficients SARIMAX et saisonnalités"
   ]
  },
  {
   "cell_type": "code",
   "execution_count": 11,
   "metadata": {},
   "outputs": [
    {
     "data": {
      "image/png": "[encoded data removed]",
      "text/plain": [
       "<Figure size 1152x432 with 2 Axes>"
      ]
     },
     "metadata": {
      "needs_background": "light"
     },
     "output_type": "display_data"
    }
   ],
   "source": [
    "fig, (ax1, ax2) = plt.subplots(1, 2, figsize=(16,6))\n",
    "plot_acf(df['TCH_sol'], lags = 100, ax=ax1)\n",
    "plot_pacf(df['TCH_sol'], lags = 100, ax=ax2)\n",
    "plt.show()"
   ]
  },
  {
   "cell_type": "markdown",
   "metadata": {},
   "source": [
    "**Saisonnalités :**\n",
    "* 1 an"
   ]
  },
  {
   "cell_type": "markdown",
   "metadata": {},
   "source": [
    "# Import du dataset filtré (Transformation de Fourier)"
   ]
  },
  {
   "cell_type": "code",
   "execution_count": 12,
   "metadata": {},
   "outputs": [
    {
     "data": {
      "text/html": [
       "<div>\n",
       "<style scoped>\n",
       "    .dataframe tbody tr th:only-of-type {\n",
       "        vertical-align: middle;\n",
       "    }\n",
       "\n",
       "    .dataframe tbody tr th {\n",
       "        vertical-align: top;\n",
       "    }\n",
       "\n",
       "    .dataframe thead th {\n",
       "        text-align: right;\n",
       "    }\n",
       "</style>\n",
       "<table border=\"1\" class=\"dataframe\">\n",
       "  <thead>\n",
       "    <tr style=\"text-align: right;\">\n",
       "      <th></th>\n",
       "      <th>Dates</th>\n",
       "      <th>Solaire</th>\n",
       "    </tr>\n",
       "  </thead>\n",
       "  <tbody>\n",
       "    <tr>\n",
       "      <th>0</th>\n",
       "      <td>2013-01-01</td>\n",
       "      <td>185.528466</td>\n",
       "    </tr>\n",
       "  </tbody>\n",
       "</table>\n",
       "</div>"
      ],
      "text/plain": [
       "        Dates     Solaire\n",
       "0  2013-01-01  185.528466"
      ]
     },
     "execution_count": 12,
     "metadata": {},
     "output_type": "execute_result"
    }
   ],
   "source": [
    "df_filtered = pd.read_csv('./dataset/France_D_filtered.csv',\n",
    "                usecols = ['Dates', 'Solaire'])\n",
    "df_filtered.head(1)"
   ]
  },
  {
   "cell_type": "code",
   "execution_count": 13,
   "metadata": {},
   "outputs": [],
   "source": [
    "df_filtered['Dates'] = pd.to_datetime(df_filtered['Dates'], yearfirst = True)\n",
    "df_filtered.set_index('Dates', inplace = True)"
   ]
  },
  {
   "cell_type": "code",
   "execution_count": 14,
   "metadata": {},
   "outputs": [],
   "source": [
    "df_filtered = pd.concat([df_filtered, capa], axis = 1)\n",
    "df_filtered['TCH_sol'] = df_filtered['Solaire'] / df_filtered['Capa_sol']"
   ]
  },
  {
   "cell_type": "code",
   "execution_count": 15,
   "metadata": {
    "scrolled": false
   },
   "outputs": [
    {
     "data": {
      "image/png": "[encoded data removed]",
      "text/plain": [
       "<Figure size 1152x432 with 1 Axes>"
      ]
     },
     "metadata": {
      "needs_background": "light"
     },
     "output_type": "display_data"
    }
   ],
   "source": [
    "plt.figure(figsize=(16, 6))\n",
    "plt.plot(df_filtered['Solaire'][(df.index >= debut) & (df.index < fin)])\n",
    "for year in range(debut.year, fin.year + 1): \n",
    "    plt.axvline(pd.to_datetime(str(year)+'-01-01'), color='k', linestyle='--', alpha=0.5);"
   ]
  },
  {
   "cell_type": "code",
   "execution_count": 16,
   "metadata": {},
   "outputs": [
    {
     "data": {
      "image/png": "[encoded data removed]",
      "text/plain": [
       "<Figure size 1152x432 with 1 Axes>"
      ]
     },
     "metadata": {
      "needs_background": "light"
     },
     "output_type": "display_data"
    }
   ],
   "source": [
    "plt.figure(figsize=(16, 6))\n",
    "plt.plot(df_filtered['TCH_sol'][(df.index >= debut) & (df.index < fin)])\n",
    "for year in range(debut.year, fin.year + 1): \n",
    "    plt.axvline(pd.to_datetime(str(year)+'-01-01'), color='k', linestyle='--', alpha=0.5);"
   ]
  },
  {
   "cell_type": "markdown",
   "metadata": {},
   "source": [
    "# Jeux d'entrainement et de test"
   ]
  },
  {
   "cell_type": "code",
   "execution_count": 17,
   "metadata": {},
   "outputs": [],
   "source": [
    "df_train = df[(df.index >= debut) & (df.index < fin)]\n",
    "df_test = df[df.index >= fin]"
   ]
  },
  {
   "cell_type": "code",
   "execution_count": 18,
   "metadata": {},
   "outputs": [],
   "source": [
    "df_train_filter = df_filtered[(df_filtered.index >= debut) & (df_filtered.index < fin)]\n",
    "df_test_filter = df_filtered[df_filtered.index >= fin]"
   ]
  },
  {
   "cell_type": "code",
   "execution_count": 19,
   "metadata": {},
   "outputs": [],
   "source": [
    "fenetre = df_test.shape[0]"
   ]
  },
  {
   "cell_type": "code",
   "execution_count": 20,
   "metadata": {},
   "outputs": [],
   "source": [
    "indice = df_test.index"
   ]
  },
  {
   "cell_type": "code",
   "execution_count": 21,
   "metadata": {},
   "outputs": [],
   "source": [
    "bilan = df_test"
   ]
  },
  {
   "cell_type": "markdown",
   "metadata": {},
   "source": [
    "# Paramètres SARIMAX"
   ]
  },
  {
   "cell_type": "code",
   "execution_count": 22,
   "metadata": {},
   "outputs": [],
   "source": [
    "ordre = (2,0,0)\n",
    "saison = (0,0,0,365)"
   ]
  },
  {
   "cell_type": "markdown",
   "metadata": {},
   "source": [
    "# Régresseurs exogènes : sinus & cosinus suivant les saisonnalités"
   ]
  },
  {
   "cell_type": "code",
   "execution_count": 23,
   "metadata": {},
   "outputs": [],
   "source": [
    "exog = pd.DataFrame({'date': df.index})\n",
    "exog['date'] = pd.to_datetime(exog['date'])\n",
    "# suivant saisonnalités\n",
    "# exog['sin_D'] = np.sin(2 * np.pi * exog.index / 8)\n",
    "# exog['cos_D'] = np.cos(2 * np.pi * exog.index / 8)\n",
    "# exog['sin_W'] = np.sin(2 * np.pi * exog.index / 7)\n",
    "# exog['cos_W'] = np.cos(2 * np.pi * exog.index / 7)\n",
    "exog['sin_Y'] = np.sin(2 * np.pi * exog.index / 365.25)\n",
    "exog['cos_Y'] = np.cos(2 * np.pi * exog.index / 365.25)\n",
    "exog.set_index('date', inplace = True)"
   ]
  },
  {
   "cell_type": "code",
   "execution_count": 24,
   "metadata": {},
   "outputs": [],
   "source": [
    "# Split en jeu d'entrainement et jeu de test\n",
    "exog_train = exog[(exog.index >= debut) & (exog.index < fin)]\n",
    "exog_test = exog[exog.index >= fin]"
   ]
  },
  {
   "cell_type": "code",
   "execution_count": 25,
   "metadata": {},
   "outputs": [
    {
     "name": "stderr",
     "output_type": "stream",
     "text": [
      "<ipython-input-25-56416ee0eedf>:2: FutureWarning: The pandas.datetime class is deprecated and will be removed from pandas in a future version. Import from datetime module instead.\n",
      "  plt.plot(exog[(exog.index >= pd.datetime(2016, 1, 1)) & (exog.index < pd.datetime(2016, 1, 15))])\n"
     ]
    },
    {
     "data": {
      "text/plain": [
       "''"
      ]
     },
     "execution_count": 25,
     "metadata": {},
     "output_type": "execute_result"
    },
    {
     "data": {
      "image/png": "[encoded data removed]",
      "text/plain": [
       "<Figure size 1152x288 with 1 Axes>"
      ]
     },
     "metadata": {
      "needs_background": "light"
     },
     "output_type": "display_data"
    }
   ],
   "source": [
    "plt.figure(figsize=(16, 4))\n",
    "plt.plot(exog[(exog.index >= pd.datetime(2016, 1, 1)) & (exog.index < pd.datetime(2016, 1, 15))])\n",
    "# for year in range(debut.year, fin.year + 1): \n",
    "#     plt.axvline(pd.to_datetime(str(year)+'-01-01'), color='k', linestyle='--', alpha=0.5)\n",
    ";"
   ]
  },
  {
   "cell_type": "markdown",
   "metadata": {},
   "source": [
    "### SARIMAX"
   ]
  },
  {
   "cell_type": "code",
   "execution_count": 26,
   "metadata": {},
   "outputs": [],
   "source": [
    "model_sinus = sm.tsa.SARIMAX(df_train['TCH_sol'].values,\n",
    "                             exog = exog_train.values,\n",
    "                             order = ordre,\n",
    "                             seasonal_order = saison)\n",
    "result_sinus = model_sinus.fit()"
   ]
  },
  {
   "cell_type": "code",
   "execution_count": 27,
   "metadata": {},
   "outputs": [],
   "source": [
    "predict_sinus = result_sinus.predict(start = 1 ,\n",
    "                                     end = fenetre,\n",
    "                                     exog = exog_test.values)"
   ]
  },
  {
   "cell_type": "code",
   "execution_count": 28,
   "metadata": {},
   "outputs": [],
   "source": [
    "predict_sinus = pd.DataFrame(predict_sinus, columns=['Sol_p_sinus'], index = indice)"
   ]
  },
  {
   "cell_type": "code",
   "execution_count": 29,
   "metadata": {},
   "outputs": [],
   "source": [
    "bilan = pd.concat([bilan, predict_sinus], axis = 1)"
   ]
  },
  {
   "cell_type": "markdown",
   "metadata": {},
   "source": [
    "### Erreur absolue"
   ]
  },
  {
   "cell_type": "code",
   "execution_count": 30,
   "metadata": {},
   "outputs": [
    {
     "data": {
      "text/html": [
       "<div>\n",
       "<style scoped>\n",
       "    .dataframe tbody tr th:only-of-type {\n",
       "        vertical-align: middle;\n",
       "    }\n",
       "\n",
       "    .dataframe tbody tr th {\n",
       "        vertical-align: top;\n",
       "    }\n",
       "\n",
       "    .dataframe thead th {\n",
       "        text-align: right;\n",
       "    }\n",
       "</style>\n",
       "<table border=\"1\" class=\"dataframe\">\n",
       "  <thead>\n",
       "    <tr style=\"text-align: right;\">\n",
       "      <th></th>\n",
       "      <th>Solaire</th>\n",
       "      <th>Capa_sol</th>\n",
       "      <th>TCH_sol</th>\n",
       "      <th>Sol_p_sinus</th>\n",
       "      <th>Err_sinus</th>\n",
       "    </tr>\n",
       "  </thead>\n",
       "  <tbody>\n",
       "    <tr>\n",
       "      <th>count</th>\n",
       "      <td>670.000000</td>\n",
       "      <td>670.000000</td>\n",
       "      <td>670.000000</td>\n",
       "      <td>670.000000</td>\n",
       "      <td>670.000000</td>\n",
       "    </tr>\n",
       "    <tr>\n",
       "      <th>mean</th>\n",
       "      <td>1571.800218</td>\n",
       "      <td>10519.437313</td>\n",
       "      <td>0.148462</td>\n",
       "      <td>0.139356</td>\n",
       "      <td>0.040357</td>\n",
       "    </tr>\n",
       "    <tr>\n",
       "      <th>std</th>\n",
       "      <td>724.919423</td>\n",
       "      <td>894.312023</td>\n",
       "      <td>0.066439</td>\n",
       "      <td>0.062326</td>\n",
       "      <td>0.032086</td>\n",
       "    </tr>\n",
       "    <tr>\n",
       "      <th>min</th>\n",
       "      <td>255.875000</td>\n",
       "      <td>9414.000000</td>\n",
       "      <td>0.025042</td>\n",
       "      <td>0.015181</td>\n",
       "      <td>0.000262</td>\n",
       "    </tr>\n",
       "    <tr>\n",
       "      <th>25%</th>\n",
       "      <td>918.302083</td>\n",
       "      <td>9791.500000</td>\n",
       "      <td>0.091626</td>\n",
       "      <td>0.084123</td>\n",
       "      <td>0.015716</td>\n",
       "    </tr>\n",
       "    <tr>\n",
       "      <th>50%</th>\n",
       "      <td>1627.468750</td>\n",
       "      <td>10167.000000</td>\n",
       "      <td>0.150289</td>\n",
       "      <td>0.144025</td>\n",
       "      <td>0.031499</td>\n",
       "    </tr>\n",
       "    <tr>\n",
       "      <th>75%</th>\n",
       "      <td>2179.276042</td>\n",
       "      <td>11239.250000</td>\n",
       "      <td>0.202966</td>\n",
       "      <td>0.189270</td>\n",
       "      <td>0.058284</td>\n",
       "    </tr>\n",
       "    <tr>\n",
       "      <th>max</th>\n",
       "      <td>3141.270833</td>\n",
       "      <td>12469.000000</td>\n",
       "      <td>0.276460</td>\n",
       "      <td>0.268618</td>\n",
       "      <td>0.157188</td>\n",
       "    </tr>\n",
       "  </tbody>\n",
       "</table>\n",
       "</div>"
      ],
      "text/plain": [
       "           Solaire      Capa_sol     TCH_sol  Sol_p_sinus   Err_sinus\n",
       "count   670.000000    670.000000  670.000000   670.000000  670.000000\n",
       "mean   1571.800218  10519.437313    0.148462     0.139356    0.040357\n",
       "std     724.919423    894.312023    0.066439     0.062326    0.032086\n",
       "min     255.875000   9414.000000    0.025042     0.015181    0.000262\n",
       "25%     918.302083   9791.500000    0.091626     0.084123    0.015716\n",
       "50%    1627.468750  10167.000000    0.150289     0.144025    0.031499\n",
       "75%    2179.276042  11239.250000    0.202966     0.189270    0.058284\n",
       "max    3141.270833  12469.000000    0.276460     0.268618    0.157188"
      ]
     },
     "execution_count": 30,
     "metadata": {},
     "output_type": "execute_result"
    }
   ],
   "source": [
    "bilan['Err_sinus'] = np.abs(bilan['Sol_p_sinus'] - bilan['TCH_sol'])\n",
    "bilan.describe()"
   ]
  },
  {
   "cell_type": "markdown",
   "metadata": {},
   "source": [
    "# Régresseurs exogènes : données métier"
   ]
  },
  {
   "cell_type": "code",
   "execution_count": 31,
   "metadata": {},
   "outputs": [
    {
     "data": {
      "text/html": [
       "<div>\n",
       "<style scoped>\n",
       "    .dataframe tbody tr th:only-of-type {\n",
       "        vertical-align: middle;\n",
       "    }\n",
       "\n",
       "    .dataframe tbody tr th {\n",
       "        vertical-align: top;\n",
       "    }\n",
       "\n",
       "    .dataframe thead th {\n",
       "        text-align: right;\n",
       "    }\n",
       "</style>\n",
       "<table border=\"1\" class=\"dataframe\">\n",
       "  <thead>\n",
       "    <tr style=\"text-align: right;\">\n",
       "      <th></th>\n",
       "      <th>Dates</th>\n",
       "      <th>Soleil</th>\n",
       "    </tr>\n",
       "  </thead>\n",
       "  <tbody>\n",
       "    <tr>\n",
       "      <th>0</th>\n",
       "      <td>2013-01-01</td>\n",
       "      <td>8.05</td>\n",
       "    </tr>\n",
       "  </tbody>\n",
       "</table>\n",
       "</div>"
      ],
      "text/plain": [
       "        Dates  Soleil\n",
       "0  2013-01-01    8.05"
      ]
     },
     "execution_count": 31,
     "metadata": {},
     "output_type": "execute_result"
    }
   ],
   "source": [
    "exog = pd.read_csv('./exog/exog_D_FR.csv', sep = ';',\n",
    "                   usecols = ['Dates', 'Soleil'])\n",
    "exog.head(1)"
   ]
  },
  {
   "cell_type": "code",
   "execution_count": 32,
   "metadata": {},
   "outputs": [],
   "source": [
    "exog['Dates'] = pd.to_datetime(exog['Dates'], yearfirst = True)\n",
    "exog.set_index('Dates', inplace = True)"
   ]
  },
  {
   "cell_type": "code",
   "execution_count": 33,
   "metadata": {},
   "outputs": [],
   "source": [
    "# Split en jeu d'entrainement et jeu de test\n",
    "exog_train = exog[(exog.index >= debut) & (exog.index < fin)]\n",
    "exog_test = exog[exog.index >= fin]"
   ]
  },
  {
   "cell_type": "markdown",
   "metadata": {},
   "source": [
    "### SARIMAX"
   ]
  },
  {
   "cell_type": "code",
   "execution_count": 34,
   "metadata": {},
   "outputs": [],
   "source": [
    "model_exog = sm.tsa.SARIMAX(df_train['TCH_sol'].values,\n",
    "                       exog = exog_train.values,\n",
    "                       # mle_regression = False, # Default = True\n",
    "                       # simple_differencing = True, #Default = False\n",
    "                       # state_regression = False,\n",
    "                       order = ordre,\n",
    "                       seasonal_order = saison)"
   ]
  },
  {
   "cell_type": "code",
   "execution_count": 35,
   "metadata": {},
   "outputs": [],
   "source": [
    "result_exog = model_exog.fit(low_memory=True)"
   ]
  },
  {
   "cell_type": "code",
   "execution_count": 36,
   "metadata": {},
   "outputs": [
    {
     "data": {
      "text/html": [
       "<table class=\"simpletable\">\n",
       "<caption>SARIMAX Results</caption>\n",
       "<tr>\n",
       "  <th>Dep. Variable:</th>           <td>y</td>        <th>  No. Observations:  </th>    <td>2556</td>   \n",
       "</tr>\n",
       "<tr>\n",
       "  <th>Model:</th>           <td>SARIMAX(2, 0, 0)</td> <th>  Log Likelihood     </th>  <td>5074.954</td> \n",
       "</tr>\n",
       "<tr>\n",
       "  <th>Date:</th>            <td>Wed, 04 May 2022</td> <th>  AIC                </th> <td>-10141.909</td>\n",
       "</tr>\n",
       "<tr>\n",
       "  <th>Time:</th>                <td>10:28:30</td>     <th>  BIC                </th> <td>-10118.524</td>\n",
       "</tr>\n",
       "<tr>\n",
       "  <th>Sample:</th>                  <td>0</td>        <th>  HQIC               </th> <td>-10133.428</td>\n",
       "</tr>\n",
       "<tr>\n",
       "  <th></th>                      <td> - 2556</td>     <th>                     </th>      <td> </td>    \n",
       "</tr>\n",
       "<tr>\n",
       "  <th>Covariance Type:</th>      <td>approx</td>      <th>                     </th>      <td> </td>    \n",
       "</tr>\n",
       "</table>\n",
       "<table class=\"simpletable\">\n",
       "<tr>\n",
       "     <td></td>       <th>coef</th>     <th>std err</th>      <th>z</th>      <th>P>|z|</th>  <th>[0.025</th>    <th>0.975]</th>  \n",
       "</tr>\n",
       "<tr>\n",
       "  <th>x1</th>     <td>    0.0123</td> <td>    0.000</td> <td>   72.267</td> <td> 0.000</td> <td>    0.012</td> <td>    0.013</td>\n",
       "</tr>\n",
       "<tr>\n",
       "  <th>ar.L1</th>  <td>    0.6307</td> <td>    0.020</td> <td>   31.948</td> <td> 0.000</td> <td>    0.592</td> <td>    0.669</td>\n",
       "</tr>\n",
       "<tr>\n",
       "  <th>ar.L2</th>  <td>    0.0630</td> <td>    0.020</td> <td>    3.192</td> <td> 0.001</td> <td>    0.024</td> <td>    0.102</td>\n",
       "</tr>\n",
       "<tr>\n",
       "  <th>sigma2</th> <td>    0.0011</td> <td> 3.09e-05</td> <td>   35.756</td> <td> 0.000</td> <td>    0.001</td> <td>    0.001</td>\n",
       "</tr>\n",
       "</table>\n",
       "<table class=\"simpletable\">\n",
       "<tr>\n",
       "  <th>Ljung-Box (L1) (Q):</th>     <td>0.25</td> <th>  Jarque-Bera (JB):  </th> <td>47.10</td>\n",
       "</tr>\n",
       "<tr>\n",
       "  <th>Prob(Q):</th>                <td>0.62</td> <th>  Prob(JB):          </th> <td>0.00</td> \n",
       "</tr>\n",
       "<tr>\n",
       "  <th>Heteroskedasticity (H):</th> <td>1.07</td> <th>  Skew:              </th> <td>-0.20</td>\n",
       "</tr>\n",
       "<tr>\n",
       "  <th>Prob(H) (two-sided):</th>    <td>0.34</td> <th>  Kurtosis:          </th> <td>3.53</td> \n",
       "</tr>\n",
       "</table><br/><br/>Warnings:<br/>[1] Covariance matrix calculated using numerical (complex-step) differentiation."
      ],
      "text/plain": [
       "<class 'statsmodels.iolib.summary.Summary'>\n",
       "\"\"\"\n",
       "                               SARIMAX Results                                \n",
       "==============================================================================\n",
       "Dep. Variable:                      y   No. Observations:                 2556\n",
       "Model:               SARIMAX(2, 0, 0)   Log Likelihood                5074.954\n",
       "Date:                Wed, 04 May 2022   AIC                         -10141.909\n",
       "Time:                        10:28:30   BIC                         -10118.524\n",
       "Sample:                             0   HQIC                        -10133.428\n",
       "                               - 2556                                         \n",
       "Covariance Type:               approx                                         \n",
       "==============================================================================\n",
       "                 coef    std err          z      P>|z|      [0.025      0.975]\n",
       "------------------------------------------------------------------------------\n",
       "x1             0.0123      0.000     72.267      0.000       0.012       0.013\n",
       "ar.L1          0.6307      0.020     31.948      0.000       0.592       0.669\n",
       "ar.L2          0.0630      0.020      3.192      0.001       0.024       0.102\n",
       "sigma2         0.0011   3.09e-05     35.756      0.000       0.001       0.001\n",
       "===================================================================================\n",
       "Ljung-Box (L1) (Q):                   0.25   Jarque-Bera (JB):                47.10\n",
       "Prob(Q):                              0.62   Prob(JB):                         0.00\n",
       "Heteroskedasticity (H):               1.07   Skew:                            -0.20\n",
       "Prob(H) (two-sided):                  0.34   Kurtosis:                         3.53\n",
       "===================================================================================\n",
       "\n",
       "Warnings:\n",
       "[1] Covariance matrix calculated using numerical (complex-step) differentiation.\n",
       "\"\"\""
      ]
     },
     "execution_count": 36,
     "metadata": {},
     "output_type": "execute_result"
    }
   ],
   "source": [
    "result_exog.summary()"
   ]
  },
  {
   "cell_type": "code",
   "execution_count": 37,
   "metadata": {},
   "outputs": [],
   "source": [
    "predict_exog = result_exog.predict(start = 1 ,\n",
    "                               end = fenetre,\n",
    "                               exog = exog_test.values)"
   ]
  },
  {
   "cell_type": "code",
   "execution_count": 38,
   "metadata": {},
   "outputs": [],
   "source": [
    "predict_exog = pd.DataFrame(predict_exog, index = indice, columns = ['Sol_p_exog'])"
   ]
  },
  {
   "cell_type": "code",
   "execution_count": 39,
   "metadata": {
    "scrolled": true
   },
   "outputs": [],
   "source": [
    "bilan = pd.concat([bilan, predict_exog], axis = 1)"
   ]
  },
  {
   "cell_type": "markdown",
   "metadata": {},
   "source": [
    "### Erreur absolue"
   ]
  },
  {
   "cell_type": "code",
   "execution_count": 40,
   "metadata": {},
   "outputs": [
    {
     "data": {
      "text/html": [
       "<div>\n",
       "<style scoped>\n",
       "    .dataframe tbody tr th:only-of-type {\n",
       "        vertical-align: middle;\n",
       "    }\n",
       "\n",
       "    .dataframe tbody tr th {\n",
       "        vertical-align: top;\n",
       "    }\n",
       "\n",
       "    .dataframe thead th {\n",
       "        text-align: right;\n",
       "    }\n",
       "</style>\n",
       "<table border=\"1\" class=\"dataframe\">\n",
       "  <thead>\n",
       "    <tr style=\"text-align: right;\">\n",
       "      <th></th>\n",
       "      <th>Solaire</th>\n",
       "      <th>Capa_sol</th>\n",
       "      <th>TCH_sol</th>\n",
       "      <th>Sol_p_sinus</th>\n",
       "      <th>Err_sinus</th>\n",
       "      <th>Sol_p_exog</th>\n",
       "      <th>Err_exog</th>\n",
       "    </tr>\n",
       "  </thead>\n",
       "  <tbody>\n",
       "    <tr>\n",
       "      <th>count</th>\n",
       "      <td>670.000000</td>\n",
       "      <td>670.000000</td>\n",
       "      <td>670.000000</td>\n",
       "      <td>670.000000</td>\n",
       "      <td>670.000000</td>\n",
       "      <td>670.000000</td>\n",
       "      <td>670.000000</td>\n",
       "    </tr>\n",
       "    <tr>\n",
       "      <th>mean</th>\n",
       "      <td>1571.800218</td>\n",
       "      <td>10519.437313</td>\n",
       "      <td>0.148462</td>\n",
       "      <td>0.139356</td>\n",
       "      <td>0.040357</td>\n",
       "      <td>0.146329</td>\n",
       "      <td>0.036737</td>\n",
       "    </tr>\n",
       "    <tr>\n",
       "      <th>std</th>\n",
       "      <td>724.919423</td>\n",
       "      <td>894.312023</td>\n",
       "      <td>0.066439</td>\n",
       "      <td>0.062326</td>\n",
       "      <td>0.032086</td>\n",
       "      <td>0.053014</td>\n",
       "      <td>0.028004</td>\n",
       "    </tr>\n",
       "    <tr>\n",
       "      <th>min</th>\n",
       "      <td>255.875000</td>\n",
       "      <td>9414.000000</td>\n",
       "      <td>0.025042</td>\n",
       "      <td>0.015181</td>\n",
       "      <td>0.000262</td>\n",
       "      <td>0.043373</td>\n",
       "      <td>0.000017</td>\n",
       "    </tr>\n",
       "    <tr>\n",
       "      <th>25%</th>\n",
       "      <td>918.302083</td>\n",
       "      <td>9791.500000</td>\n",
       "      <td>0.091626</td>\n",
       "      <td>0.084123</td>\n",
       "      <td>0.015716</td>\n",
       "      <td>0.098320</td>\n",
       "      <td>0.015730</td>\n",
       "    </tr>\n",
       "    <tr>\n",
       "      <th>50%</th>\n",
       "      <td>1627.468750</td>\n",
       "      <td>10167.000000</td>\n",
       "      <td>0.150289</td>\n",
       "      <td>0.144025</td>\n",
       "      <td>0.031499</td>\n",
       "      <td>0.153369</td>\n",
       "      <td>0.030610</td>\n",
       "    </tr>\n",
       "    <tr>\n",
       "      <th>75%</th>\n",
       "      <td>2179.276042</td>\n",
       "      <td>11239.250000</td>\n",
       "      <td>0.202966</td>\n",
       "      <td>0.189270</td>\n",
       "      <td>0.058284</td>\n",
       "      <td>0.188037</td>\n",
       "      <td>0.051504</td>\n",
       "    </tr>\n",
       "    <tr>\n",
       "      <th>max</th>\n",
       "      <td>3141.270833</td>\n",
       "      <td>12469.000000</td>\n",
       "      <td>0.276460</td>\n",
       "      <td>0.268618</td>\n",
       "      <td>0.157188</td>\n",
       "      <td>0.249077</td>\n",
       "      <td>0.137647</td>\n",
       "    </tr>\n",
       "  </tbody>\n",
       "</table>\n",
       "</div>"
      ],
      "text/plain": [
       "           Solaire      Capa_sol     TCH_sol  Sol_p_sinus   Err_sinus  \\\n",
       "count   670.000000    670.000000  670.000000   670.000000  670.000000   \n",
       "mean   1571.800218  10519.437313    0.148462     0.139356    0.040357   \n",
       "std     724.919423    894.312023    0.066439     0.062326    0.032086   \n",
       "min     255.875000   9414.000000    0.025042     0.015181    0.000262   \n",
       "25%     918.302083   9791.500000    0.091626     0.084123    0.015716   \n",
       "50%    1627.468750  10167.000000    0.150289     0.144025    0.031499   \n",
       "75%    2179.276042  11239.250000    0.202966     0.189270    0.058284   \n",
       "max    3141.270833  12469.000000    0.276460     0.268618    0.157188   \n",
       "\n",
       "       Sol_p_exog    Err_exog  \n",
       "count  670.000000  670.000000  \n",
       "mean     0.146329    0.036737  \n",
       "std      0.053014    0.028004  \n",
       "min      0.043373    0.000017  \n",
       "25%      0.098320    0.015730  \n",
       "50%      0.153369    0.030610  \n",
       "75%      0.188037    0.051504  \n",
       "max      0.249077    0.137647  "
      ]
     },
     "execution_count": 40,
     "metadata": {},
     "output_type": "execute_result"
    }
   ],
   "source": [
    "bilan['Err_exog'] = np.abs(bilan['Sol_p_exog'] - bilan['TCH_sol'])\n",
    "bilan.describe()"
   ]
  },
  {
   "cell_type": "markdown",
   "metadata": {},
   "source": [
    "# Régresseurs exogènes : données métier FILTREES"
   ]
  },
  {
   "cell_type": "code",
   "execution_count": 41,
   "metadata": {},
   "outputs": [
    {
     "data": {
      "text/html": [
       "<div>\n",
       "<style scoped>\n",
       "    .dataframe tbody tr th:only-of-type {\n",
       "        vertical-align: middle;\n",
       "    }\n",
       "\n",
       "    .dataframe tbody tr th {\n",
       "        vertical-align: top;\n",
       "    }\n",
       "\n",
       "    .dataframe thead th {\n",
       "        text-align: right;\n",
       "    }\n",
       "</style>\n",
       "<table border=\"1\" class=\"dataframe\">\n",
       "  <thead>\n",
       "    <tr style=\"text-align: right;\">\n",
       "      <th></th>\n",
       "      <th>Dates</th>\n",
       "      <th>Soleil</th>\n",
       "    </tr>\n",
       "  </thead>\n",
       "  <tbody>\n",
       "    <tr>\n",
       "      <th>0</th>\n",
       "      <td>2013-01-01</td>\n",
       "      <td>8.05</td>\n",
       "    </tr>\n",
       "  </tbody>\n",
       "</table>\n",
       "</div>"
      ],
      "text/plain": [
       "        Dates  Soleil\n",
       "0  2013-01-01    8.05"
      ]
     },
     "execution_count": 41,
     "metadata": {},
     "output_type": "execute_result"
    }
   ],
   "source": [
    "exog = pd.read_csv('./exog/exog_D_FR_filtered.csv',# sep = ';',\n",
    "                   usecols = ['Dates', 'Soleil'])\n",
    "exog.head(1)"
   ]
  },
  {
   "cell_type": "code",
   "execution_count": 42,
   "metadata": {},
   "outputs": [],
   "source": [
    "exog['Dates'] = pd.to_datetime(exog['Dates'], yearfirst = True)\n",
    "exog.set_index('Dates', inplace = True)"
   ]
  },
  {
   "cell_type": "code",
   "execution_count": 43,
   "metadata": {},
   "outputs": [],
   "source": [
    "# Split en jeu d'entrainement et jeu de test\n",
    "exog_train = exog[(exog.index >= debut) & (exog.index < fin)]\n",
    "exog_test = exog[exog.index >= fin]"
   ]
  },
  {
   "cell_type": "markdown",
   "metadata": {},
   "source": [
    "### SARIMAX"
   ]
  },
  {
   "cell_type": "code",
   "execution_count": 44,
   "metadata": {},
   "outputs": [],
   "source": [
    "model_filter = sm.tsa.SARIMAX(df_train['TCH_sol'].values,\n",
    "                       exog = exog_train.values,\n",
    "                       # mle_regression = False, # Default = True\n",
    "                       # simple_differencing = True, #Default = False\n",
    "                       # state_regression = False,\n",
    "                       order = ordre,\n",
    "                       seasonal_order = saison)"
   ]
  },
  {
   "cell_type": "code",
   "execution_count": 45,
   "metadata": {},
   "outputs": [],
   "source": [
    "result_filter = model_filter.fit(low_memory=True)"
   ]
  },
  {
   "cell_type": "code",
   "execution_count": 46,
   "metadata": {},
   "outputs": [
    {
     "data": {
      "text/html": [
       "<table class=\"simpletable\">\n",
       "<caption>SARIMAX Results</caption>\n",
       "<tr>\n",
       "  <th>Dep. Variable:</th>           <td>y</td>        <th>  No. Observations:  </th>    <td>2556</td>   \n",
       "</tr>\n",
       "<tr>\n",
       "  <th>Model:</th>           <td>SARIMAX(2, 0, 0)</td> <th>  Log Likelihood     </th>  <td>5074.954</td> \n",
       "</tr>\n",
       "<tr>\n",
       "  <th>Date:</th>            <td>Wed, 04 May 2022</td> <th>  AIC                </th> <td>-10141.909</td>\n",
       "</tr>\n",
       "<tr>\n",
       "  <th>Time:</th>                <td>10:28:31</td>     <th>  BIC                </th> <td>-10118.524</td>\n",
       "</tr>\n",
       "<tr>\n",
       "  <th>Sample:</th>                  <td>0</td>        <th>  HQIC               </th> <td>-10133.428</td>\n",
       "</tr>\n",
       "<tr>\n",
       "  <th></th>                      <td> - 2556</td>     <th>                     </th>      <td> </td>    \n",
       "</tr>\n",
       "<tr>\n",
       "  <th>Covariance Type:</th>      <td>approx</td>      <th>                     </th>      <td> </td>    \n",
       "</tr>\n",
       "</table>\n",
       "<table class=\"simpletable\">\n",
       "<tr>\n",
       "     <td></td>       <th>coef</th>     <th>std err</th>      <th>z</th>      <th>P>|z|</th>  <th>[0.025</th>    <th>0.975]</th>  \n",
       "</tr>\n",
       "<tr>\n",
       "  <th>x1</th>     <td>    0.0123</td> <td>    0.000</td> <td>   72.267</td> <td> 0.000</td> <td>    0.012</td> <td>    0.013</td>\n",
       "</tr>\n",
       "<tr>\n",
       "  <th>ar.L1</th>  <td>    0.6307</td> <td>    0.020</td> <td>   31.948</td> <td> 0.000</td> <td>    0.592</td> <td>    0.669</td>\n",
       "</tr>\n",
       "<tr>\n",
       "  <th>ar.L2</th>  <td>    0.0630</td> <td>    0.020</td> <td>    3.192</td> <td> 0.001</td> <td>    0.024</td> <td>    0.102</td>\n",
       "</tr>\n",
       "<tr>\n",
       "  <th>sigma2</th> <td>    0.0011</td> <td> 3.09e-05</td> <td>   35.756</td> <td> 0.000</td> <td>    0.001</td> <td>    0.001</td>\n",
       "</tr>\n",
       "</table>\n",
       "<table class=\"simpletable\">\n",
       "<tr>\n",
       "  <th>Ljung-Box (L1) (Q):</th>     <td>0.25</td> <th>  Jarque-Bera (JB):  </th> <td>47.10</td>\n",
       "</tr>\n",
       "<tr>\n",
       "  <th>Prob(Q):</th>                <td>0.62</td> <th>  Prob(JB):          </th> <td>0.00</td> \n",
       "</tr>\n",
       "<tr>\n",
       "  <th>Heteroskedasticity (H):</th> <td>1.07</td> <th>  Skew:              </th> <td>-0.20</td>\n",
       "</tr>\n",
       "<tr>\n",
       "  <th>Prob(H) (two-sided):</th>    <td>0.34</td> <th>  Kurtosis:          </th> <td>3.53</td> \n",
       "</tr>\n",
       "</table><br/><br/>Warnings:<br/>[1] Covariance matrix calculated using numerical (complex-step) differentiation."
      ],
      "text/plain": [
       "<class 'statsmodels.iolib.summary.Summary'>\n",
       "\"\"\"\n",
       "                               SARIMAX Results                                \n",
       "==============================================================================\n",
       "Dep. Variable:                      y   No. Observations:                 2556\n",
       "Model:               SARIMAX(2, 0, 0)   Log Likelihood                5074.954\n",
       "Date:                Wed, 04 May 2022   AIC                         -10141.909\n",
       "Time:                        10:28:31   BIC                         -10118.524\n",
       "Sample:                             0   HQIC                        -10133.428\n",
       "                               - 2556                                         \n",
       "Covariance Type:               approx                                         \n",
       "==============================================================================\n",
       "                 coef    std err          z      P>|z|      [0.025      0.975]\n",
       "------------------------------------------------------------------------------\n",
       "x1             0.0123      0.000     72.267      0.000       0.012       0.013\n",
       "ar.L1          0.6307      0.020     31.948      0.000       0.592       0.669\n",
       "ar.L2          0.0630      0.020      3.192      0.001       0.024       0.102\n",
       "sigma2         0.0011   3.09e-05     35.756      0.000       0.001       0.001\n",
       "===================================================================================\n",
       "Ljung-Box (L1) (Q):                   0.25   Jarque-Bera (JB):                47.10\n",
       "Prob(Q):                              0.62   Prob(JB):                         0.00\n",
       "Heteroskedasticity (H):               1.07   Skew:                            -0.20\n",
       "Prob(H) (two-sided):                  0.34   Kurtosis:                         3.53\n",
       "===================================================================================\n",
       "\n",
       "Warnings:\n",
       "[1] Covariance matrix calculated using numerical (complex-step) differentiation.\n",
       "\"\"\""
      ]
     },
     "execution_count": 46,
     "metadata": {},
     "output_type": "execute_result"
    }
   ],
   "source": [
    "result_filter.summary()"
   ]
  },
  {
   "cell_type": "code",
   "execution_count": 47,
   "metadata": {},
   "outputs": [],
   "source": [
    "predict_filter = result_filter.predict(start = 1 ,\n",
    "                               end = fenetre,\n",
    "                               exog = exog_test.values)"
   ]
  },
  {
   "cell_type": "code",
   "execution_count": 48,
   "metadata": {},
   "outputs": [],
   "source": [
    "predict_filter = pd.DataFrame(predict_filter, index = indice, columns = ['Sol_p_filter'])"
   ]
  },
  {
   "cell_type": "code",
   "execution_count": 49,
   "metadata": {
    "scrolled": true
   },
   "outputs": [],
   "source": [
    "bilan = pd.concat([bilan, predict_filter], axis = 1)"
   ]
  },
  {
   "cell_type": "markdown",
   "metadata": {},
   "source": [
    "### Erreur absolue"
   ]
  },
  {
   "cell_type": "code",
   "execution_count": 50,
   "metadata": {},
   "outputs": [
    {
     "data": {
      "text/html": [
       "<div>\n",
       "<style scoped>\n",
       "    .dataframe tbody tr th:only-of-type {\n",
       "        vertical-align: middle;\n",
       "    }\n",
       "\n",
       "    .dataframe tbody tr th {\n",
       "        vertical-align: top;\n",
       "    }\n",
       "\n",
       "    .dataframe thead th {\n",
       "        text-align: right;\n",
       "    }\n",
       "</style>\n",
       "<table border=\"1\" class=\"dataframe\">\n",
       "  <thead>\n",
       "    <tr style=\"text-align: right;\">\n",
       "      <th></th>\n",
       "      <th>Solaire</th>\n",
       "      <th>Capa_sol</th>\n",
       "      <th>TCH_sol</th>\n",
       "      <th>Sol_p_sinus</th>\n",
       "      <th>Err_sinus</th>\n",
       "      <th>Sol_p_exog</th>\n",
       "      <th>Err_exog</th>\n",
       "      <th>Sol_p_filter</th>\n",
       "      <th>Err_exog_filter</th>\n",
       "    </tr>\n",
       "  </thead>\n",
       "  <tbody>\n",
       "    <tr>\n",
       "      <th>count</th>\n",
       "      <td>670.000000</td>\n",
       "      <td>670.000000</td>\n",
       "      <td>670.000000</td>\n",
       "      <td>670.000000</td>\n",
       "      <td>670.000000</td>\n",
       "      <td>670.000000</td>\n",
       "      <td>670.000000</td>\n",
       "      <td>670.000000</td>\n",
       "      <td>670.000000</td>\n",
       "    </tr>\n",
       "    <tr>\n",
       "      <th>mean</th>\n",
       "      <td>1571.800218</td>\n",
       "      <td>10519.437313</td>\n",
       "      <td>0.148462</td>\n",
       "      <td>0.139356</td>\n",
       "      <td>0.040357</td>\n",
       "      <td>0.146329</td>\n",
       "      <td>0.036737</td>\n",
       "      <td>0.146329</td>\n",
       "      <td>0.036737</td>\n",
       "    </tr>\n",
       "    <tr>\n",
       "      <th>std</th>\n",
       "      <td>724.919423</td>\n",
       "      <td>894.312023</td>\n",
       "      <td>0.066439</td>\n",
       "      <td>0.062326</td>\n",
       "      <td>0.032086</td>\n",
       "      <td>0.053014</td>\n",
       "      <td>0.028004</td>\n",
       "      <td>0.053014</td>\n",
       "      <td>0.028004</td>\n",
       "    </tr>\n",
       "    <tr>\n",
       "      <th>min</th>\n",
       "      <td>255.875000</td>\n",
       "      <td>9414.000000</td>\n",
       "      <td>0.025042</td>\n",
       "      <td>0.015181</td>\n",
       "      <td>0.000262</td>\n",
       "      <td>0.043373</td>\n",
       "      <td>0.000017</td>\n",
       "      <td>0.043373</td>\n",
       "      <td>0.000017</td>\n",
       "    </tr>\n",
       "    <tr>\n",
       "      <th>25%</th>\n",
       "      <td>918.302083</td>\n",
       "      <td>9791.500000</td>\n",
       "      <td>0.091626</td>\n",
       "      <td>0.084123</td>\n",
       "      <td>0.015716</td>\n",
       "      <td>0.098320</td>\n",
       "      <td>0.015730</td>\n",
       "      <td>0.098320</td>\n",
       "      <td>0.015730</td>\n",
       "    </tr>\n",
       "    <tr>\n",
       "      <th>50%</th>\n",
       "      <td>1627.468750</td>\n",
       "      <td>10167.000000</td>\n",
       "      <td>0.150289</td>\n",
       "      <td>0.144025</td>\n",
       "      <td>0.031499</td>\n",
       "      <td>0.153369</td>\n",
       "      <td>0.030610</td>\n",
       "      <td>0.153369</td>\n",
       "      <td>0.030610</td>\n",
       "    </tr>\n",
       "    <tr>\n",
       "      <th>75%</th>\n",
       "      <td>2179.276042</td>\n",
       "      <td>11239.250000</td>\n",
       "      <td>0.202966</td>\n",
       "      <td>0.189270</td>\n",
       "      <td>0.058284</td>\n",
       "      <td>0.188037</td>\n",
       "      <td>0.051504</td>\n",
       "      <td>0.188037</td>\n",
       "      <td>0.051504</td>\n",
       "    </tr>\n",
       "    <tr>\n",
       "      <th>max</th>\n",
       "      <td>3141.270833</td>\n",
       "      <td>12469.000000</td>\n",
       "      <td>0.276460</td>\n",
       "      <td>0.268618</td>\n",
       "      <td>0.157188</td>\n",
       "      <td>0.249077</td>\n",
       "      <td>0.137647</td>\n",
       "      <td>0.249077</td>\n",
       "      <td>0.137647</td>\n",
       "    </tr>\n",
       "  </tbody>\n",
       "</table>\n",
       "</div>"
      ],
      "text/plain": [
       "           Solaire      Capa_sol     TCH_sol  Sol_p_sinus   Err_sinus  \\\n",
       "count   670.000000    670.000000  670.000000   670.000000  670.000000   \n",
       "mean   1571.800218  10519.437313    0.148462     0.139356    0.040357   \n",
       "std     724.919423    894.312023    0.066439     0.062326    0.032086   \n",
       "min     255.875000   9414.000000    0.025042     0.015181    0.000262   \n",
       "25%     918.302083   9791.500000    0.091626     0.084123    0.015716   \n",
       "50%    1627.468750  10167.000000    0.150289     0.144025    0.031499   \n",
       "75%    2179.276042  11239.250000    0.202966     0.189270    0.058284   \n",
       "max    3141.270833  12469.000000    0.276460     0.268618    0.157188   \n",
       "\n",
       "       Sol_p_exog    Err_exog  Sol_p_filter  Err_exog_filter  \n",
       "count  670.000000  670.000000    670.000000       670.000000  \n",
       "mean     0.146329    0.036737      0.146329         0.036737  \n",
       "std      0.053014    0.028004      0.053014         0.028004  \n",
       "min      0.043373    0.000017      0.043373         0.000017  \n",
       "25%      0.098320    0.015730      0.098320         0.015730  \n",
       "50%      0.153369    0.030610      0.153369         0.030610  \n",
       "75%      0.188037    0.051504      0.188037         0.051504  \n",
       "max      0.249077    0.137647      0.249077         0.137647  "
      ]
     },
     "execution_count": 50,
     "metadata": {},
     "output_type": "execute_result"
    }
   ],
   "source": [
    "bilan['Err_exog_filter'] = np.abs(bilan['Sol_p_filter'] - bilan['TCH_sol'])\n",
    "bilan.describe()"
   ]
  },
  {
   "cell_type": "markdown",
   "metadata": {},
   "source": [
    "# Target FILTREE sans régresseur"
   ]
  },
  {
   "cell_type": "markdown",
   "metadata": {},
   "source": [
    "### SARIMAX"
   ]
  },
  {
   "cell_type": "code",
   "execution_count": 51,
   "metadata": {},
   "outputs": [],
   "source": [
    "model_reduit_noreg = sm.tsa.SARIMAX(df_train_filter['TCH_sol'].values,\n",
    "                       # exog = exog_train.values,\n",
    "                       # mle_regression = False, # Default = True\n",
    "                       # simple_differencing = True, #Default = False\n",
    "                       # state_regression = False,\n",
    "                       order = ordre,\n",
    "                       seasonal_order = saison)"
   ]
  },
  {
   "cell_type": "code",
   "execution_count": 52,
   "metadata": {},
   "outputs": [
    {
     "name": "stderr",
     "output_type": "stream",
     "text": [
      "C:\\Python\\Anaconda3\\lib\\site-packages\\statsmodels\\base\\model.py:566: ConvergenceWarning: Maximum Likelihood optimization failed to converge. Check mle_retvals\n",
      "  warnings.warn(\"Maximum Likelihood optimization failed to \"\n"
     ]
    }
   ],
   "source": [
    "result_reduit_noreg = model_reduit_noreg.fit(low_memory=True)"
   ]
  },
  {
   "cell_type": "code",
   "execution_count": 53,
   "metadata": {},
   "outputs": [
    {
     "data": {
      "text/html": [
       "<table class=\"simpletable\">\n",
       "<caption>SARIMAX Results</caption>\n",
       "<tr>\n",
       "  <th>Dep. Variable:</th>           <td>y</td>        <th>  No. Observations:  </th>    <td>2556</td>   \n",
       "</tr>\n",
       "<tr>\n",
       "  <th>Model:</th>           <td>SARIMAX(2, 0, 0)</td> <th>  Log Likelihood     </th>  <td>5006.861</td> \n",
       "</tr>\n",
       "<tr>\n",
       "  <th>Date:</th>            <td>Wed, 04 May 2022</td> <th>  AIC                </th> <td>-10007.722</td>\n",
       "</tr>\n",
       "<tr>\n",
       "  <th>Time:</th>                <td>10:28:33</td>     <th>  BIC                </th>  <td>-9990.184</td>\n",
       "</tr>\n",
       "<tr>\n",
       "  <th>Sample:</th>                  <td>0</td>        <th>  HQIC               </th> <td>-10001.362</td>\n",
       "</tr>\n",
       "<tr>\n",
       "  <th></th>                      <td> - 2556</td>     <th>                     </th>      <td> </td>    \n",
       "</tr>\n",
       "<tr>\n",
       "  <th>Covariance Type:</th>      <td>approx</td>      <th>                     </th>      <td> </td>    \n",
       "</tr>\n",
       "</table>\n",
       "<table class=\"simpletable\">\n",
       "<tr>\n",
       "     <td></td>       <th>coef</th>     <th>std err</th>      <th>z</th>      <th>P>|z|</th>  <th>[0.025</th>    <th>0.975]</th>  \n",
       "</tr>\n",
       "<tr>\n",
       "  <th>ar.L1</th>  <td>    0.8239</td> <td>    0.020</td> <td>   42.190</td> <td> 0.000</td> <td>    0.786</td> <td>    0.862</td>\n",
       "</tr>\n",
       "<tr>\n",
       "  <th>ar.L2</th>  <td>    0.1566</td> <td>    0.020</td> <td>    8.016</td> <td> 0.000</td> <td>    0.118</td> <td>    0.195</td>\n",
       "</tr>\n",
       "<tr>\n",
       "  <th>sigma2</th> <td>    0.0012</td> <td> 3.25e-05</td> <td>   35.758</td> <td> 0.000</td> <td>    0.001</td> <td>    0.001</td>\n",
       "</tr>\n",
       "</table>\n",
       "<table class=\"simpletable\">\n",
       "<tr>\n",
       "  <th>Ljung-Box (L1) (Q):</th>     <td>5.14</td> <th>  Jarque-Bera (JB):  </th> <td>30.15</td>\n",
       "</tr>\n",
       "<tr>\n",
       "  <th>Prob(Q):</th>                <td>0.02</td> <th>  Prob(JB):          </th> <td>0.00</td> \n",
       "</tr>\n",
       "<tr>\n",
       "  <th>Heteroskedasticity (H):</th> <td>0.76</td> <th>  Skew:              </th> <td>-0.15</td>\n",
       "</tr>\n",
       "<tr>\n",
       "  <th>Prob(H) (two-sided):</th>    <td>0.00</td> <th>  Kurtosis:          </th> <td>3.44</td> \n",
       "</tr>\n",
       "</table><br/><br/>Warnings:<br/>[1] Covariance matrix calculated using numerical (complex-step) differentiation."
      ],
      "text/plain": [
       "<class 'statsmodels.iolib.summary.Summary'>\n",
       "\"\"\"\n",
       "                               SARIMAX Results                                \n",
       "==============================================================================\n",
       "Dep. Variable:                      y   No. Observations:                 2556\n",
       "Model:               SARIMAX(2, 0, 0)   Log Likelihood                5006.861\n",
       "Date:                Wed, 04 May 2022   AIC                         -10007.722\n",
       "Time:                        10:28:33   BIC                          -9990.184\n",
       "Sample:                             0   HQIC                        -10001.362\n",
       "                               - 2556                                         \n",
       "Covariance Type:               approx                                         \n",
       "==============================================================================\n",
       "                 coef    std err          z      P>|z|      [0.025      0.975]\n",
       "------------------------------------------------------------------------------\n",
       "ar.L1          0.8239      0.020     42.190      0.000       0.786       0.862\n",
       "ar.L2          0.1566      0.020      8.016      0.000       0.118       0.195\n",
       "sigma2         0.0012   3.25e-05     35.758      0.000       0.001       0.001\n",
       "===================================================================================\n",
       "Ljung-Box (L1) (Q):                   5.14   Jarque-Bera (JB):                30.15\n",
       "Prob(Q):                              0.02   Prob(JB):                         0.00\n",
       "Heteroskedasticity (H):               0.76   Skew:                            -0.15\n",
       "Prob(H) (two-sided):                  0.00   Kurtosis:                         3.44\n",
       "===================================================================================\n",
       "\n",
       "Warnings:\n",
       "[1] Covariance matrix calculated using numerical (complex-step) differentiation.\n",
       "\"\"\""
      ]
     },
     "execution_count": 53,
     "metadata": {},
     "output_type": "execute_result"
    }
   ],
   "source": [
    "result_reduit_noreg.summary()"
   ]
  },
  {
   "cell_type": "code",
   "execution_count": 54,
   "metadata": {},
   "outputs": [],
   "source": [
    "predict_reduit_noreg = result_reduit_noreg.predict(start = 1 ,\n",
    "                               end = fenetre,\n",
    "                               # exog = exog_test.values\n",
    "                            )"
   ]
  },
  {
   "cell_type": "code",
   "execution_count": 55,
   "metadata": {},
   "outputs": [],
   "source": [
    "predict_reduit_noreg = pd.DataFrame(predict_reduit_noreg, index = indice, columns = ['Sol_p_reduit_noreg'])"
   ]
  },
  {
   "cell_type": "code",
   "execution_count": 56,
   "metadata": {
    "scrolled": true
   },
   "outputs": [],
   "source": [
    "bilan = pd.concat([bilan, predict_reduit_noreg], axis = 1)"
   ]
  },
  {
   "cell_type": "markdown",
   "metadata": {},
   "source": [
    "### Erreur absolue"
   ]
  },
  {
   "cell_type": "code",
   "execution_count": 57,
   "metadata": {},
   "outputs": [
    {
     "data": {
      "text/html": [
       "<div>\n",
       "<style scoped>\n",
       "    .dataframe tbody tr th:only-of-type {\n",
       "        vertical-align: middle;\n",
       "    }\n",
       "\n",
       "    .dataframe tbody tr th {\n",
       "        vertical-align: top;\n",
       "    }\n",
       "\n",
       "    .dataframe thead th {\n",
       "        text-align: right;\n",
       "    }\n",
       "</style>\n",
       "<table border=\"1\" class=\"dataframe\">\n",
       "  <thead>\n",
       "    <tr style=\"text-align: right;\">\n",
       "      <th></th>\n",
       "      <th>Solaire</th>\n",
       "      <th>Capa_sol</th>\n",
       "      <th>TCH_sol</th>\n",
       "      <th>Sol_p_sinus</th>\n",
       "      <th>Err_sinus</th>\n",
       "      <th>Sol_p_exog</th>\n",
       "      <th>Err_exog</th>\n",
       "      <th>Sol_p_filter</th>\n",
       "      <th>Err_exog_filter</th>\n",
       "      <th>Sol_p_reduit_noreg</th>\n",
       "      <th>Err_filter_noreg</th>\n",
       "    </tr>\n",
       "  </thead>\n",
       "  <tbody>\n",
       "    <tr>\n",
       "      <th>count</th>\n",
       "      <td>670.000000</td>\n",
       "      <td>670.000000</td>\n",
       "      <td>670.000000</td>\n",
       "      <td>670.000000</td>\n",
       "      <td>670.000000</td>\n",
       "      <td>670.000000</td>\n",
       "      <td>670.000000</td>\n",
       "      <td>670.000000</td>\n",
       "      <td>670.000000</td>\n",
       "      <td>670.000000</td>\n",
       "      <td>670.000000</td>\n",
       "    </tr>\n",
       "    <tr>\n",
       "      <th>mean</th>\n",
       "      <td>1571.800218</td>\n",
       "      <td>10519.437313</td>\n",
       "      <td>0.148462</td>\n",
       "      <td>0.139356</td>\n",
       "      <td>0.040357</td>\n",
       "      <td>0.146329</td>\n",
       "      <td>0.036737</td>\n",
       "      <td>0.146329</td>\n",
       "      <td>0.036737</td>\n",
       "      <td>0.139736</td>\n",
       "      <td>0.041878</td>\n",
       "    </tr>\n",
       "    <tr>\n",
       "      <th>std</th>\n",
       "      <td>724.919423</td>\n",
       "      <td>894.312023</td>\n",
       "      <td>0.066439</td>\n",
       "      <td>0.062326</td>\n",
       "      <td>0.032086</td>\n",
       "      <td>0.053014</td>\n",
       "      <td>0.028004</td>\n",
       "      <td>0.053014</td>\n",
       "      <td>0.028004</td>\n",
       "      <td>0.062612</td>\n",
       "      <td>0.033132</td>\n",
       "    </tr>\n",
       "    <tr>\n",
       "      <th>min</th>\n",
       "      <td>255.875000</td>\n",
       "      <td>9414.000000</td>\n",
       "      <td>0.025042</td>\n",
       "      <td>0.015181</td>\n",
       "      <td>0.000262</td>\n",
       "      <td>0.043373</td>\n",
       "      <td>0.000017</td>\n",
       "      <td>0.043373</td>\n",
       "      <td>0.000017</td>\n",
       "      <td>0.002609</td>\n",
       "      <td>0.000004</td>\n",
       "    </tr>\n",
       "    <tr>\n",
       "      <th>25%</th>\n",
       "      <td>918.302083</td>\n",
       "      <td>9791.500000</td>\n",
       "      <td>0.091626</td>\n",
       "      <td>0.084123</td>\n",
       "      <td>0.015716</td>\n",
       "      <td>0.098320</td>\n",
       "      <td>0.015730</td>\n",
       "      <td>0.098320</td>\n",
       "      <td>0.015730</td>\n",
       "      <td>0.086090</td>\n",
       "      <td>0.014966</td>\n",
       "    </tr>\n",
       "    <tr>\n",
       "      <th>50%</th>\n",
       "      <td>1627.468750</td>\n",
       "      <td>10167.000000</td>\n",
       "      <td>0.150289</td>\n",
       "      <td>0.144025</td>\n",
       "      <td>0.031499</td>\n",
       "      <td>0.153369</td>\n",
       "      <td>0.030610</td>\n",
       "      <td>0.153369</td>\n",
       "      <td>0.030610</td>\n",
       "      <td>0.144538</td>\n",
       "      <td>0.035559</td>\n",
       "    </tr>\n",
       "    <tr>\n",
       "      <th>75%</th>\n",
       "      <td>2179.276042</td>\n",
       "      <td>11239.250000</td>\n",
       "      <td>0.202966</td>\n",
       "      <td>0.189270</td>\n",
       "      <td>0.058284</td>\n",
       "      <td>0.188037</td>\n",
       "      <td>0.051504</td>\n",
       "      <td>0.188037</td>\n",
       "      <td>0.051504</td>\n",
       "      <td>0.189924</td>\n",
       "      <td>0.059398</td>\n",
       "    </tr>\n",
       "    <tr>\n",
       "      <th>max</th>\n",
       "      <td>3141.270833</td>\n",
       "      <td>12469.000000</td>\n",
       "      <td>0.276460</td>\n",
       "      <td>0.268618</td>\n",
       "      <td>0.157188</td>\n",
       "      <td>0.249077</td>\n",
       "      <td>0.137647</td>\n",
       "      <td>0.249077</td>\n",
       "      <td>0.137647</td>\n",
       "      <td>0.271635</td>\n",
       "      <td>0.166974</td>\n",
       "    </tr>\n",
       "  </tbody>\n",
       "</table>\n",
       "</div>"
      ],
      "text/plain": [
       "           Solaire      Capa_sol     TCH_sol  Sol_p_sinus   Err_sinus  \\\n",
       "count   670.000000    670.000000  670.000000   670.000000  670.000000   \n",
       "mean   1571.800218  10519.437313    0.148462     0.139356    0.040357   \n",
       "std     724.919423    894.312023    0.066439     0.062326    0.032086   \n",
       "min     255.875000   9414.000000    0.025042     0.015181    0.000262   \n",
       "25%     918.302083   9791.500000    0.091626     0.084123    0.015716   \n",
       "50%    1627.468750  10167.000000    0.150289     0.144025    0.031499   \n",
       "75%    2179.276042  11239.250000    0.202966     0.189270    0.058284   \n",
       "max    3141.270833  12469.000000    0.276460     0.268618    0.157188   \n",
       "\n",
       "       Sol_p_exog    Err_exog  Sol_p_filter  Err_exog_filter  \\\n",
       "count  670.000000  670.000000    670.000000       670.000000   \n",
       "mean     0.146329    0.036737      0.146329         0.036737   \n",
       "std      0.053014    0.028004      0.053014         0.028004   \n",
       "min      0.043373    0.000017      0.043373         0.000017   \n",
       "25%      0.098320    0.015730      0.098320         0.015730   \n",
       "50%      0.153369    0.030610      0.153369         0.030610   \n",
       "75%      0.188037    0.051504      0.188037         0.051504   \n",
       "max      0.249077    0.137647      0.249077         0.137647   \n",
       "\n",
       "       Sol_p_reduit_noreg  Err_filter_noreg  \n",
       "count          670.000000        670.000000  \n",
       "mean             0.139736          0.041878  \n",
       "std              0.062612          0.033132  \n",
       "min              0.002609          0.000004  \n",
       "25%              0.086090          0.014966  \n",
       "50%              0.144538          0.035559  \n",
       "75%              0.189924          0.059398  \n",
       "max              0.271635          0.166974  "
      ]
     },
     "execution_count": 57,
     "metadata": {},
     "output_type": "execute_result"
    }
   ],
   "source": [
    "bilan['Err_filter_noreg'] = np.abs(bilan['Sol_p_reduit_noreg'] - bilan['TCH_sol'])\n",
    "bilan.describe()"
   ]
  },
  {
   "cell_type": "markdown",
   "metadata": {},
   "source": [
    "# Target FILTREE avec Régresseurs exogènes : données métier FILTREES"
   ]
  },
  {
   "cell_type": "code",
   "execution_count": 58,
   "metadata": {},
   "outputs": [
    {
     "data": {
      "text/html": [
       "<div>\n",
       "<style scoped>\n",
       "    .dataframe tbody tr th:only-of-type {\n",
       "        vertical-align: middle;\n",
       "    }\n",
       "\n",
       "    .dataframe tbody tr th {\n",
       "        vertical-align: top;\n",
       "    }\n",
       "\n",
       "    .dataframe thead th {\n",
       "        text-align: right;\n",
       "    }\n",
       "</style>\n",
       "<table border=\"1\" class=\"dataframe\">\n",
       "  <thead>\n",
       "    <tr style=\"text-align: right;\">\n",
       "      <th></th>\n",
       "      <th>Dates</th>\n",
       "      <th>Soleil</th>\n",
       "    </tr>\n",
       "  </thead>\n",
       "  <tbody>\n",
       "    <tr>\n",
       "      <th>0</th>\n",
       "      <td>2013-01-01</td>\n",
       "      <td>8.05</td>\n",
       "    </tr>\n",
       "  </tbody>\n",
       "</table>\n",
       "</div>"
      ],
      "text/plain": [
       "        Dates  Soleil\n",
       "0  2013-01-01    8.05"
      ]
     },
     "execution_count": 58,
     "metadata": {},
     "output_type": "execute_result"
    }
   ],
   "source": [
    "exog = pd.read_csv('./exog/exog_D_FR_filtered.csv',# sep = ';',\n",
    "                   usecols = ['Dates', 'Soleil'])\n",
    "exog.head(1)"
   ]
  },
  {
   "cell_type": "code",
   "execution_count": 59,
   "metadata": {},
   "outputs": [],
   "source": [
    "exog['Dates'] = pd.to_datetime(exog['Dates'], yearfirst = True)\n",
    "exog.set_index('Dates', inplace = True)"
   ]
  },
  {
   "cell_type": "code",
   "execution_count": 60,
   "metadata": {},
   "outputs": [],
   "source": [
    "# Split en jeu d'entrainement et jeu de test\n",
    "exog_train = exog[(exog.index >= debut) & (exog.index < fin)]\n",
    "exog_test = exog[exog.index >= fin]"
   ]
  },
  {
   "cell_type": "markdown",
   "metadata": {},
   "source": [
    "### SARIMAX"
   ]
  },
  {
   "cell_type": "code",
   "execution_count": 61,
   "metadata": {},
   "outputs": [],
   "source": [
    "model_reduit = sm.tsa.SARIMAX(df_train_filter['TCH_sol'].values,\n",
    "                       exog = exog_train.values,\n",
    "                       # mle_regression = False, # Default = True\n",
    "                       # simple_differencing = True, #Default = False\n",
    "                       # state_regression = False,\n",
    "                       order = ordre,\n",
    "                       seasonal_order = saison)"
   ]
  },
  {
   "cell_type": "code",
   "execution_count": 62,
   "metadata": {},
   "outputs": [],
   "source": [
    "result_reduit = model_reduit.fit(low_memory=True)"
   ]
  },
  {
   "cell_type": "code",
   "execution_count": 63,
   "metadata": {},
   "outputs": [
    {
     "data": {
      "text/html": [
       "<table class=\"simpletable\">\n",
       "<caption>SARIMAX Results</caption>\n",
       "<tr>\n",
       "  <th>Dep. Variable:</th>           <td>y</td>        <th>  No. Observations:  </th>    <td>2556</td>   \n",
       "</tr>\n",
       "<tr>\n",
       "  <th>Model:</th>           <td>SARIMAX(2, 0, 0)</td> <th>  Log Likelihood     </th>  <td>5172.430</td> \n",
       "</tr>\n",
       "<tr>\n",
       "  <th>Date:</th>            <td>Wed, 04 May 2022</td> <th>  AIC                </th> <td>-10336.859</td>\n",
       "</tr>\n",
       "<tr>\n",
       "  <th>Time:</th>                <td>10:28:35</td>     <th>  BIC                </th> <td>-10313.474</td>\n",
       "</tr>\n",
       "<tr>\n",
       "  <th>Sample:</th>                  <td>0</td>        <th>  HQIC               </th> <td>-10328.379</td>\n",
       "</tr>\n",
       "<tr>\n",
       "  <th></th>                      <td> - 2556</td>     <th>                     </th>      <td> </td>    \n",
       "</tr>\n",
       "<tr>\n",
       "  <th>Covariance Type:</th>      <td>approx</td>      <th>                     </th>      <td> </td>    \n",
       "</tr>\n",
       "</table>\n",
       "<table class=\"simpletable\">\n",
       "<tr>\n",
       "     <td></td>       <th>coef</th>     <th>std err</th>      <th>z</th>      <th>P>|z|</th>  <th>[0.025</th>    <th>0.975]</th>  \n",
       "</tr>\n",
       "<tr>\n",
       "  <th>x1</th>     <td>    0.0123</td> <td>    0.000</td> <td>   72.925</td> <td> 0.000</td> <td>    0.012</td> <td>    0.013</td>\n",
       "</tr>\n",
       "<tr>\n",
       "  <th>ar.L1</th>  <td>    0.6839</td> <td>    0.020</td> <td>   34.578</td> <td> 0.000</td> <td>    0.645</td> <td>    0.723</td>\n",
       "</tr>\n",
       "<tr>\n",
       "  <th>ar.L2</th>  <td>    0.0185</td> <td>    0.020</td> <td>    0.937</td> <td> 0.349</td> <td>   -0.020</td> <td>    0.057</td>\n",
       "</tr>\n",
       "<tr>\n",
       "  <th>sigma2</th> <td>    0.0010</td> <td> 2.86e-05</td> <td>   35.740</td> <td> 0.000</td> <td>    0.001</td> <td>    0.001</td>\n",
       "</tr>\n",
       "</table>\n",
       "<table class=\"simpletable\">\n",
       "<tr>\n",
       "  <th>Ljung-Box (L1) (Q):</th>     <td>0.06</td> <th>  Jarque-Bera (JB):  </th> <td>4.49</td> \n",
       "</tr>\n",
       "<tr>\n",
       "  <th>Prob(Q):</th>                <td>0.81</td> <th>  Prob(JB):          </th> <td>0.11</td> \n",
       "</tr>\n",
       "<tr>\n",
       "  <th>Heteroskedasticity (H):</th> <td>0.79</td> <th>  Skew:              </th> <td>-0.08</td>\n",
       "</tr>\n",
       "<tr>\n",
       "  <th>Prob(H) (two-sided):</th>    <td>0.00</td> <th>  Kurtosis:          </th> <td>3.12</td> \n",
       "</tr>\n",
       "</table><br/><br/>Warnings:<br/>[1] Covariance matrix calculated using numerical (complex-step) differentiation."
      ],
      "text/plain": [
       "<class 'statsmodels.iolib.summary.Summary'>\n",
       "\"\"\"\n",
       "                               SARIMAX Results                                \n",
       "==============================================================================\n",
       "Dep. Variable:                      y   No. Observations:                 2556\n",
       "Model:               SARIMAX(2, 0, 0)   Log Likelihood                5172.430\n",
       "Date:                Wed, 04 May 2022   AIC                         -10336.859\n",
       "Time:                        10:28:35   BIC                         -10313.474\n",
       "Sample:                             0   HQIC                        -10328.379\n",
       "                               - 2556                                         \n",
       "Covariance Type:               approx                                         \n",
       "==============================================================================\n",
       "                 coef    std err          z      P>|z|      [0.025      0.975]\n",
       "------------------------------------------------------------------------------\n",
       "x1             0.0123      0.000     72.925      0.000       0.012       0.013\n",
       "ar.L1          0.6839      0.020     34.578      0.000       0.645       0.723\n",
       "ar.L2          0.0185      0.020      0.937      0.349      -0.020       0.057\n",
       "sigma2         0.0010   2.86e-05     35.740      0.000       0.001       0.001\n",
       "===================================================================================\n",
       "Ljung-Box (L1) (Q):                   0.06   Jarque-Bera (JB):                 4.49\n",
       "Prob(Q):                              0.81   Prob(JB):                         0.11\n",
       "Heteroskedasticity (H):               0.79   Skew:                            -0.08\n",
       "Prob(H) (two-sided):                  0.00   Kurtosis:                         3.12\n",
       "===================================================================================\n",
       "\n",
       "Warnings:\n",
       "[1] Covariance matrix calculated using numerical (complex-step) differentiation.\n",
       "\"\"\""
      ]
     },
     "execution_count": 63,
     "metadata": {},
     "output_type": "execute_result"
    }
   ],
   "source": [
    "result_reduit.summary()"
   ]
  },
  {
   "cell_type": "code",
   "execution_count": 64,
   "metadata": {},
   "outputs": [],
   "source": [
    "predict_reduit = result_reduit.predict(start = 1 ,\n",
    "                               end = fenetre,\n",
    "                               exog = exog_test.values)"
   ]
  },
  {
   "cell_type": "code",
   "execution_count": 65,
   "metadata": {},
   "outputs": [],
   "source": [
    "predict_reduit = pd.DataFrame(predict_reduit, index = indice, columns = ['Sol_p_reduit'])"
   ]
  },
  {
   "cell_type": "code",
   "execution_count": 66,
   "metadata": {
    "scrolled": true
   },
   "outputs": [],
   "source": [
    "bilan = pd.concat([bilan, predict_reduit], axis = 1)"
   ]
  },
  {
   "cell_type": "markdown",
   "metadata": {},
   "source": [
    "### Erreur absolue"
   ]
  },
  {
   "cell_type": "code",
   "execution_count": 67,
   "metadata": {},
   "outputs": [
    {
     "data": {
      "text/html": [
       "<div>\n",
       "<style scoped>\n",
       "    .dataframe tbody tr th:only-of-type {\n",
       "        vertical-align: middle;\n",
       "    }\n",
       "\n",
       "    .dataframe tbody tr th {\n",
       "        vertical-align: top;\n",
       "    }\n",
       "\n",
       "    .dataframe thead th {\n",
       "        text-align: right;\n",
       "    }\n",
       "</style>\n",
       "<table border=\"1\" class=\"dataframe\">\n",
       "  <thead>\n",
       "    <tr style=\"text-align: right;\">\n",
       "      <th></th>\n",
       "      <th>Solaire</th>\n",
       "      <th>Capa_sol</th>\n",
       "      <th>TCH_sol</th>\n",
       "      <th>Sol_p_sinus</th>\n",
       "      <th>Err_sinus</th>\n",
       "      <th>Sol_p_exog</th>\n",
       "      <th>Err_exog</th>\n",
       "      <th>Sol_p_filter</th>\n",
       "      <th>Err_exog_filter</th>\n",
       "      <th>Sol_p_reduit_noreg</th>\n",
       "      <th>Err_filter_noreg</th>\n",
       "      <th>Sol_p_reduit</th>\n",
       "      <th>Err_filter_exog_filter</th>\n",
       "    </tr>\n",
       "  </thead>\n",
       "  <tbody>\n",
       "    <tr>\n",
       "      <th>count</th>\n",
       "      <td>670.000000</td>\n",
       "      <td>670.000000</td>\n",
       "      <td>670.000000</td>\n",
       "      <td>670.000000</td>\n",
       "      <td>670.000000</td>\n",
       "      <td>670.000000</td>\n",
       "      <td>670.000000</td>\n",
       "      <td>670.000000</td>\n",
       "      <td>670.000000</td>\n",
       "      <td>670.000000</td>\n",
       "      <td>670.000000</td>\n",
       "      <td>670.000000</td>\n",
       "      <td>670.000000</td>\n",
       "    </tr>\n",
       "    <tr>\n",
       "      <th>mean</th>\n",
       "      <td>1571.800218</td>\n",
       "      <td>10519.437313</td>\n",
       "      <td>0.148462</td>\n",
       "      <td>0.139356</td>\n",
       "      <td>0.040357</td>\n",
       "      <td>0.146329</td>\n",
       "      <td>0.036737</td>\n",
       "      <td>0.146329</td>\n",
       "      <td>0.036737</td>\n",
       "      <td>0.139736</td>\n",
       "      <td>0.041878</td>\n",
       "      <td>0.146254</td>\n",
       "      <td>0.038099</td>\n",
       "    </tr>\n",
       "    <tr>\n",
       "      <th>std</th>\n",
       "      <td>724.919423</td>\n",
       "      <td>894.312023</td>\n",
       "      <td>0.066439</td>\n",
       "      <td>0.062326</td>\n",
       "      <td>0.032086</td>\n",
       "      <td>0.053014</td>\n",
       "      <td>0.028004</td>\n",
       "      <td>0.053014</td>\n",
       "      <td>0.028004</td>\n",
       "      <td>0.062612</td>\n",
       "      <td>0.033132</td>\n",
       "      <td>0.054211</td>\n",
       "      <td>0.028885</td>\n",
       "    </tr>\n",
       "    <tr>\n",
       "      <th>min</th>\n",
       "      <td>255.875000</td>\n",
       "      <td>9414.000000</td>\n",
       "      <td>0.025042</td>\n",
       "      <td>0.015181</td>\n",
       "      <td>0.000262</td>\n",
       "      <td>0.043373</td>\n",
       "      <td>0.000017</td>\n",
       "      <td>0.043373</td>\n",
       "      <td>0.000017</td>\n",
       "      <td>0.002609</td>\n",
       "      <td>0.000004</td>\n",
       "      <td>0.028346</td>\n",
       "      <td>0.000015</td>\n",
       "    </tr>\n",
       "    <tr>\n",
       "      <th>25%</th>\n",
       "      <td>918.302083</td>\n",
       "      <td>9791.500000</td>\n",
       "      <td>0.091626</td>\n",
       "      <td>0.084123</td>\n",
       "      <td>0.015716</td>\n",
       "      <td>0.098320</td>\n",
       "      <td>0.015730</td>\n",
       "      <td>0.098320</td>\n",
       "      <td>0.015730</td>\n",
       "      <td>0.086090</td>\n",
       "      <td>0.014966</td>\n",
       "      <td>0.097948</td>\n",
       "      <td>0.015816</td>\n",
       "    </tr>\n",
       "    <tr>\n",
       "      <th>50%</th>\n",
       "      <td>1627.468750</td>\n",
       "      <td>10167.000000</td>\n",
       "      <td>0.150289</td>\n",
       "      <td>0.144025</td>\n",
       "      <td>0.031499</td>\n",
       "      <td>0.153369</td>\n",
       "      <td>0.030610</td>\n",
       "      <td>0.153369</td>\n",
       "      <td>0.030610</td>\n",
       "      <td>0.144538</td>\n",
       "      <td>0.035559</td>\n",
       "      <td>0.152207</td>\n",
       "      <td>0.032553</td>\n",
       "    </tr>\n",
       "    <tr>\n",
       "      <th>75%</th>\n",
       "      <td>2179.276042</td>\n",
       "      <td>11239.250000</td>\n",
       "      <td>0.202966</td>\n",
       "      <td>0.189270</td>\n",
       "      <td>0.058284</td>\n",
       "      <td>0.188037</td>\n",
       "      <td>0.051504</td>\n",
       "      <td>0.188037</td>\n",
       "      <td>0.051504</td>\n",
       "      <td>0.189924</td>\n",
       "      <td>0.059398</td>\n",
       "      <td>0.189386</td>\n",
       "      <td>0.052620</td>\n",
       "    </tr>\n",
       "    <tr>\n",
       "      <th>max</th>\n",
       "      <td>3141.270833</td>\n",
       "      <td>12469.000000</td>\n",
       "      <td>0.276460</td>\n",
       "      <td>0.268618</td>\n",
       "      <td>0.157188</td>\n",
       "      <td>0.249077</td>\n",
       "      <td>0.137647</td>\n",
       "      <td>0.249077</td>\n",
       "      <td>0.137647</td>\n",
       "      <td>0.271635</td>\n",
       "      <td>0.166974</td>\n",
       "      <td>0.257392</td>\n",
       "      <td>0.143960</td>\n",
       "    </tr>\n",
       "  </tbody>\n",
       "</table>\n",
       "</div>"
      ],
      "text/plain": [
       "           Solaire      Capa_sol     TCH_sol  Sol_p_sinus   Err_sinus  \\\n",
       "count   670.000000    670.000000  670.000000   670.000000  670.000000   \n",
       "mean   1571.800218  10519.437313    0.148462     0.139356    0.040357   \n",
       "std     724.919423    894.312023    0.066439     0.062326    0.032086   \n",
       "min     255.875000   9414.000000    0.025042     0.015181    0.000262   \n",
       "25%     918.302083   9791.500000    0.091626     0.084123    0.015716   \n",
       "50%    1627.468750  10167.000000    0.150289     0.144025    0.031499   \n",
       "75%    2179.276042  11239.250000    0.202966     0.189270    0.058284   \n",
       "max    3141.270833  12469.000000    0.276460     0.268618    0.157188   \n",
       "\n",
       "       Sol_p_exog    Err_exog  Sol_p_filter  Err_exog_filter  \\\n",
       "count  670.000000  670.000000    670.000000       670.000000   \n",
       "mean     0.146329    0.036737      0.146329         0.036737   \n",
       "std      0.053014    0.028004      0.053014         0.028004   \n",
       "min      0.043373    0.000017      0.043373         0.000017   \n",
       "25%      0.098320    0.015730      0.098320         0.015730   \n",
       "50%      0.153369    0.030610      0.153369         0.030610   \n",
       "75%      0.188037    0.051504      0.188037         0.051504   \n",
       "max      0.249077    0.137647      0.249077         0.137647   \n",
       "\n",
       "       Sol_p_reduit_noreg  Err_filter_noreg  Sol_p_reduit  \\\n",
       "count          670.000000        670.000000    670.000000   \n",
       "mean             0.139736          0.041878      0.146254   \n",
       "std              0.062612          0.033132      0.054211   \n",
       "min              0.002609          0.000004      0.028346   \n",
       "25%              0.086090          0.014966      0.097948   \n",
       "50%              0.144538          0.035559      0.152207   \n",
       "75%              0.189924          0.059398      0.189386   \n",
       "max              0.271635          0.166974      0.257392   \n",
       "\n",
       "       Err_filter_exog_filter  \n",
       "count              670.000000  \n",
       "mean                 0.038099  \n",
       "std                  0.028885  \n",
       "min                  0.000015  \n",
       "25%                  0.015816  \n",
       "50%                  0.032553  \n",
       "75%                  0.052620  \n",
       "max                  0.143960  "
      ]
     },
     "execution_count": 67,
     "metadata": {},
     "output_type": "execute_result"
    }
   ],
   "source": [
    "bilan['Err_filter_exog_filter'] = np.abs(bilan['Sol_p_reduit'] - bilan['TCH_sol'])\n",
    "bilan.describe()"
   ]
  },
  {
   "cell_type": "markdown",
   "metadata": {},
   "source": [
    "# Régression linéaire avec Régresseurs exogènes : données métier FILTREES "
   ]
  },
  {
   "cell_type": "code",
   "execution_count": 68,
   "metadata": {},
   "outputs": [
    {
     "data": {
      "text/html": [
       "<div>\n",
       "<style scoped>\n",
       "    .dataframe tbody tr th:only-of-type {\n",
       "        vertical-align: middle;\n",
       "    }\n",
       "\n",
       "    .dataframe tbody tr th {\n",
       "        vertical-align: top;\n",
       "    }\n",
       "\n",
       "    .dataframe thead th {\n",
       "        text-align: right;\n",
       "    }\n",
       "</style>\n",
       "<table border=\"1\" class=\"dataframe\">\n",
       "  <thead>\n",
       "    <tr style=\"text-align: right;\">\n",
       "      <th></th>\n",
       "      <th>Dates</th>\n",
       "      <th>Soleil</th>\n",
       "    </tr>\n",
       "  </thead>\n",
       "  <tbody>\n",
       "    <tr>\n",
       "      <th>0</th>\n",
       "      <td>2013-01-01</td>\n",
       "      <td>8.05</td>\n",
       "    </tr>\n",
       "  </tbody>\n",
       "</table>\n",
       "</div>"
      ],
      "text/plain": [
       "        Dates  Soleil\n",
       "0  2013-01-01    8.05"
      ]
     },
     "execution_count": 68,
     "metadata": {},
     "output_type": "execute_result"
    }
   ],
   "source": [
    "exog = pd.read_csv('./exog/exog_D_FR_filtered.csv',# sep = ';',\n",
    "                   usecols = ['Dates', 'Soleil'])\n",
    "exog.head(1)"
   ]
  },
  {
   "cell_type": "code",
   "execution_count": 69,
   "metadata": {},
   "outputs": [],
   "source": [
    "exog['Dates'] = pd.to_datetime(exog['Dates'], yearfirst = True)\n",
    "exog.set_index('Dates', inplace = True)"
   ]
  },
  {
   "cell_type": "code",
   "execution_count": 70,
   "metadata": {},
   "outputs": [],
   "source": [
    "# Split en jeu d'entrainement et jeu de test\n",
    "exog_train = exog[(exog.index >= debut) & (exog.index < fin)]\n",
    "exog_test = exog[exog.index >= fin]"
   ]
  },
  {
   "cell_type": "code",
   "execution_count": 71,
   "metadata": {},
   "outputs": [],
   "source": [
    "LinReg = LinearRegression()\n",
    "LinReg.fit(exog_train, df_train['TCH_sol'])\n",
    "predict_lr = LinReg.predict(exog_test)"
   ]
  },
  {
   "cell_type": "code",
   "execution_count": 72,
   "metadata": {},
   "outputs": [],
   "source": [
    "predict_lr = pd.DataFrame(predict_lr, index = indice, columns = ['Sol_p_LinReg'])"
   ]
  },
  {
   "cell_type": "code",
   "execution_count": 73,
   "metadata": {},
   "outputs": [],
   "source": [
    "bilan = pd.concat([bilan, predict_lr], axis = 1)"
   ]
  },
  {
   "cell_type": "markdown",
   "metadata": {},
   "source": [
    "### Erreur absolue"
   ]
  },
  {
   "cell_type": "code",
   "execution_count": 74,
   "metadata": {},
   "outputs": [
    {
     "data": {
      "text/html": [
       "<div>\n",
       "<style scoped>\n",
       "    .dataframe tbody tr th:only-of-type {\n",
       "        vertical-align: middle;\n",
       "    }\n",
       "\n",
       "    .dataframe tbody tr th {\n",
       "        vertical-align: top;\n",
       "    }\n",
       "\n",
       "    .dataframe thead th {\n",
       "        text-align: right;\n",
       "    }\n",
       "</style>\n",
       "<table border=\"1\" class=\"dataframe\">\n",
       "  <thead>\n",
       "    <tr style=\"text-align: right;\">\n",
       "      <th></th>\n",
       "      <th>Solaire</th>\n",
       "      <th>Capa_sol</th>\n",
       "      <th>TCH_sol</th>\n",
       "      <th>Sol_p_sinus</th>\n",
       "      <th>Err_sinus</th>\n",
       "      <th>Sol_p_exog</th>\n",
       "      <th>Err_exog</th>\n",
       "      <th>Sol_p_filter</th>\n",
       "      <th>Err_exog_filter</th>\n",
       "      <th>Sol_p_reduit_noreg</th>\n",
       "      <th>Err_filter_noreg</th>\n",
       "      <th>Sol_p_reduit</th>\n",
       "      <th>Err_filter_exog_filter</th>\n",
       "      <th>Sol_p_LinReg</th>\n",
       "      <th>Err_LinReg</th>\n",
       "    </tr>\n",
       "  </thead>\n",
       "  <tbody>\n",
       "    <tr>\n",
       "      <th>count</th>\n",
       "      <td>670.000000</td>\n",
       "      <td>670.000000</td>\n",
       "      <td>670.000000</td>\n",
       "      <td>670.000000</td>\n",
       "      <td>670.000000</td>\n",
       "      <td>670.000000</td>\n",
       "      <td>670.000000</td>\n",
       "      <td>670.000000</td>\n",
       "      <td>670.000000</td>\n",
       "      <td>670.000000</td>\n",
       "      <td>670.000000</td>\n",
       "      <td>670.000000</td>\n",
       "      <td>670.000000</td>\n",
       "      <td>670.000000</td>\n",
       "      <td>670.000000</td>\n",
       "    </tr>\n",
       "    <tr>\n",
       "      <th>mean</th>\n",
       "      <td>1571.800218</td>\n",
       "      <td>10519.437313</td>\n",
       "      <td>0.148462</td>\n",
       "      <td>0.139356</td>\n",
       "      <td>0.040357</td>\n",
       "      <td>0.146329</td>\n",
       "      <td>0.036737</td>\n",
       "      <td>0.146329</td>\n",
       "      <td>0.036737</td>\n",
       "      <td>0.139736</td>\n",
       "      <td>0.041878</td>\n",
       "      <td>0.146254</td>\n",
       "      <td>0.038099</td>\n",
       "      <td>0.152264</td>\n",
       "      <td>0.031490</td>\n",
       "    </tr>\n",
       "    <tr>\n",
       "      <th>std</th>\n",
       "      <td>724.919423</td>\n",
       "      <td>894.312023</td>\n",
       "      <td>0.066439</td>\n",
       "      <td>0.062326</td>\n",
       "      <td>0.032086</td>\n",
       "      <td>0.053014</td>\n",
       "      <td>0.028004</td>\n",
       "      <td>0.053014</td>\n",
       "      <td>0.028004</td>\n",
       "      <td>0.062612</td>\n",
       "      <td>0.033132</td>\n",
       "      <td>0.054211</td>\n",
       "      <td>0.028885</td>\n",
       "      <td>0.056018</td>\n",
       "      <td>0.022565</td>\n",
       "    </tr>\n",
       "    <tr>\n",
       "      <th>min</th>\n",
       "      <td>255.875000</td>\n",
       "      <td>9414.000000</td>\n",
       "      <td>0.025042</td>\n",
       "      <td>0.015181</td>\n",
       "      <td>0.000262</td>\n",
       "      <td>0.043373</td>\n",
       "      <td>0.000017</td>\n",
       "      <td>0.043373</td>\n",
       "      <td>0.000017</td>\n",
       "      <td>0.002609</td>\n",
       "      <td>0.000004</td>\n",
       "      <td>0.028346</td>\n",
       "      <td>0.000015</td>\n",
       "      <td>0.058997</td>\n",
       "      <td>0.000086</td>\n",
       "    </tr>\n",
       "    <tr>\n",
       "      <th>25%</th>\n",
       "      <td>918.302083</td>\n",
       "      <td>9791.500000</td>\n",
       "      <td>0.091626</td>\n",
       "      <td>0.084123</td>\n",
       "      <td>0.015716</td>\n",
       "      <td>0.098320</td>\n",
       "      <td>0.015730</td>\n",
       "      <td>0.098320</td>\n",
       "      <td>0.015730</td>\n",
       "      <td>0.086090</td>\n",
       "      <td>0.014966</td>\n",
       "      <td>0.097948</td>\n",
       "      <td>0.015816</td>\n",
       "      <td>0.102912</td>\n",
       "      <td>0.013237</td>\n",
       "    </tr>\n",
       "    <tr>\n",
       "      <th>50%</th>\n",
       "      <td>1627.468750</td>\n",
       "      <td>10167.000000</td>\n",
       "      <td>0.150289</td>\n",
       "      <td>0.144025</td>\n",
       "      <td>0.031499</td>\n",
       "      <td>0.153369</td>\n",
       "      <td>0.030610</td>\n",
       "      <td>0.153369</td>\n",
       "      <td>0.030610</td>\n",
       "      <td>0.144538</td>\n",
       "      <td>0.035559</td>\n",
       "      <td>0.152207</td>\n",
       "      <td>0.032553</td>\n",
       "      <td>0.155642</td>\n",
       "      <td>0.028064</td>\n",
       "    </tr>\n",
       "    <tr>\n",
       "      <th>75%</th>\n",
       "      <td>2179.276042</td>\n",
       "      <td>11239.250000</td>\n",
       "      <td>0.202966</td>\n",
       "      <td>0.189270</td>\n",
       "      <td>0.058284</td>\n",
       "      <td>0.188037</td>\n",
       "      <td>0.051504</td>\n",
       "      <td>0.188037</td>\n",
       "      <td>0.051504</td>\n",
       "      <td>0.189924</td>\n",
       "      <td>0.059398</td>\n",
       "      <td>0.189386</td>\n",
       "      <td>0.052620</td>\n",
       "      <td>0.205545</td>\n",
       "      <td>0.045061</td>\n",
       "    </tr>\n",
       "    <tr>\n",
       "      <th>max</th>\n",
       "      <td>3141.270833</td>\n",
       "      <td>12469.000000</td>\n",
       "      <td>0.276460</td>\n",
       "      <td>0.268618</td>\n",
       "      <td>0.157188</td>\n",
       "      <td>0.249077</td>\n",
       "      <td>0.137647</td>\n",
       "      <td>0.249077</td>\n",
       "      <td>0.137647</td>\n",
       "      <td>0.271635</td>\n",
       "      <td>0.166974</td>\n",
       "      <td>0.257392</td>\n",
       "      <td>0.143960</td>\n",
       "      <td>0.230330</td>\n",
       "      <td>0.117329</td>\n",
       "    </tr>\n",
       "  </tbody>\n",
       "</table>\n",
       "</div>"
      ],
      "text/plain": [
       "           Solaire      Capa_sol     TCH_sol  Sol_p_sinus   Err_sinus  \\\n",
       "count   670.000000    670.000000  670.000000   670.000000  670.000000   \n",
       "mean   1571.800218  10519.437313    0.148462     0.139356    0.040357   \n",
       "std     724.919423    894.312023    0.066439     0.062326    0.032086   \n",
       "min     255.875000   9414.000000    0.025042     0.015181    0.000262   \n",
       "25%     918.302083   9791.500000    0.091626     0.084123    0.015716   \n",
       "50%    1627.468750  10167.000000    0.150289     0.144025    0.031499   \n",
       "75%    2179.276042  11239.250000    0.202966     0.189270    0.058284   \n",
       "max    3141.270833  12469.000000    0.276460     0.268618    0.157188   \n",
       "\n",
       "       Sol_p_exog    Err_exog  Sol_p_filter  Err_exog_filter  \\\n",
       "count  670.000000  670.000000    670.000000       670.000000   \n",
       "mean     0.146329    0.036737      0.146329         0.036737   \n",
       "std      0.053014    0.028004      0.053014         0.028004   \n",
       "min      0.043373    0.000017      0.043373         0.000017   \n",
       "25%      0.098320    0.015730      0.098320         0.015730   \n",
       "50%      0.153369    0.030610      0.153369         0.030610   \n",
       "75%      0.188037    0.051504      0.188037         0.051504   \n",
       "max      0.249077    0.137647      0.249077         0.137647   \n",
       "\n",
       "       Sol_p_reduit_noreg  Err_filter_noreg  Sol_p_reduit  \\\n",
       "count          670.000000        670.000000    670.000000   \n",
       "mean             0.139736          0.041878      0.146254   \n",
       "std              0.062612          0.033132      0.054211   \n",
       "min              0.002609          0.000004      0.028346   \n",
       "25%              0.086090          0.014966      0.097948   \n",
       "50%              0.144538          0.035559      0.152207   \n",
       "75%              0.189924          0.059398      0.189386   \n",
       "max              0.271635          0.166974      0.257392   \n",
       "\n",
       "       Err_filter_exog_filter  Sol_p_LinReg  Err_LinReg  \n",
       "count              670.000000    670.000000  670.000000  \n",
       "mean                 0.038099      0.152264    0.031490  \n",
       "std                  0.028885      0.056018    0.022565  \n",
       "min                  0.000015      0.058997    0.000086  \n",
       "25%                  0.015816      0.102912    0.013237  \n",
       "50%                  0.032553      0.155642    0.028064  \n",
       "75%                  0.052620      0.205545    0.045061  \n",
       "max                  0.143960      0.230330    0.117329  "
      ]
     },
     "execution_count": 74,
     "metadata": {},
     "output_type": "execute_result"
    }
   ],
   "source": [
    "bilan['Err_LinReg'] = np.abs(bilan['Sol_p_LinReg'] - bilan['TCH_sol'])\n",
    "bilan.describe()"
   ]
  },
  {
   "cell_type": "markdown",
   "metadata": {},
   "source": [
    "# Régression linéaire sur target FILTREE avec Régresseurs exogènes : données métier FILTREES "
   ]
  },
  {
   "cell_type": "code",
   "execution_count": 75,
   "metadata": {},
   "outputs": [
    {
     "data": {
      "text/html": [
       "<div>\n",
       "<style scoped>\n",
       "    .dataframe tbody tr th:only-of-type {\n",
       "        vertical-align: middle;\n",
       "    }\n",
       "\n",
       "    .dataframe tbody tr th {\n",
       "        vertical-align: top;\n",
       "    }\n",
       "\n",
       "    .dataframe thead th {\n",
       "        text-align: right;\n",
       "    }\n",
       "</style>\n",
       "<table border=\"1\" class=\"dataframe\">\n",
       "  <thead>\n",
       "    <tr style=\"text-align: right;\">\n",
       "      <th></th>\n",
       "      <th>Dates</th>\n",
       "      <th>Soleil</th>\n",
       "    </tr>\n",
       "  </thead>\n",
       "  <tbody>\n",
       "    <tr>\n",
       "      <th>0</th>\n",
       "      <td>2013-01-01</td>\n",
       "      <td>8.05</td>\n",
       "    </tr>\n",
       "  </tbody>\n",
       "</table>\n",
       "</div>"
      ],
      "text/plain": [
       "        Dates  Soleil\n",
       "0  2013-01-01    8.05"
      ]
     },
     "execution_count": 75,
     "metadata": {},
     "output_type": "execute_result"
    }
   ],
   "source": [
    "exog = pd.read_csv('./exog/exog_D_FR_filtered.csv',# sep = ';',\n",
    "                   usecols = ['Dates', 'Soleil'])\n",
    "exog.head(1)"
   ]
  },
  {
   "cell_type": "code",
   "execution_count": 76,
   "metadata": {},
   "outputs": [],
   "source": [
    "exog['Dates'] = pd.to_datetime(exog['Dates'], yearfirst = True)\n",
    "exog.set_index('Dates', inplace = True)"
   ]
  },
  {
   "cell_type": "code",
   "execution_count": 77,
   "metadata": {},
   "outputs": [],
   "source": [
    "# Split en jeu d'entrainement et jeu de test\n",
    "exog_train = exog[(exog.index >= debut) & (exog.index < fin)]\n",
    "exog_test = exog[exog.index >= fin]"
   ]
  },
  {
   "cell_type": "code",
   "execution_count": 78,
   "metadata": {},
   "outputs": [],
   "source": [
    "LinReg_filter = LinearRegression()\n",
    "LinReg_filter.fit(exog_train, df_train_filter['TCH_sol'])\n",
    "predict_lr_filter = LinReg_filter.predict(exog_test)"
   ]
  },
  {
   "cell_type": "code",
   "execution_count": 79,
   "metadata": {},
   "outputs": [],
   "source": [
    "predict_lr_filter = pd.DataFrame(predict_lr_filter, index = indice, columns = ['Sol_p_LinReg_filter'])"
   ]
  },
  {
   "cell_type": "code",
   "execution_count": 80,
   "metadata": {},
   "outputs": [],
   "source": [
    "bilan = pd.concat([bilan, predict_lr_filter], axis = 1)"
   ]
  },
  {
   "cell_type": "markdown",
   "metadata": {},
   "source": [
    "### Erreur absolue"
   ]
  },
  {
   "cell_type": "code",
   "execution_count": 81,
   "metadata": {},
   "outputs": [
    {
     "data": {
      "text/html": [
       "<div>\n",
       "<style scoped>\n",
       "    .dataframe tbody tr th:only-of-type {\n",
       "        vertical-align: middle;\n",
       "    }\n",
       "\n",
       "    .dataframe tbody tr th {\n",
       "        vertical-align: top;\n",
       "    }\n",
       "\n",
       "    .dataframe thead th {\n",
       "        text-align: right;\n",
       "    }\n",
       "</style>\n",
       "<table border=\"1\" class=\"dataframe\">\n",
       "  <thead>\n",
       "    <tr style=\"text-align: right;\">\n",
       "      <th></th>\n",
       "      <th>Solaire</th>\n",
       "      <th>Capa_sol</th>\n",
       "      <th>TCH_sol</th>\n",
       "      <th>Sol_p_sinus</th>\n",
       "      <th>Err_sinus</th>\n",
       "      <th>Sol_p_exog</th>\n",
       "      <th>Err_exog</th>\n",
       "      <th>Sol_p_filter</th>\n",
       "      <th>Err_exog_filter</th>\n",
       "      <th>Sol_p_reduit_noreg</th>\n",
       "      <th>Err_filter_noreg</th>\n",
       "      <th>Sol_p_reduit</th>\n",
       "      <th>Err_filter_exog_filter</th>\n",
       "      <th>Sol_p_LinReg</th>\n",
       "      <th>Err_LinReg</th>\n",
       "      <th>Sol_p_LinReg_filter</th>\n",
       "      <th>Err_LinReg_filter</th>\n",
       "    </tr>\n",
       "  </thead>\n",
       "  <tbody>\n",
       "    <tr>\n",
       "      <th>count</th>\n",
       "      <td>670.000000</td>\n",
       "      <td>670.000000</td>\n",
       "      <td>670.000000</td>\n",
       "      <td>670.000000</td>\n",
       "      <td>670.000000</td>\n",
       "      <td>670.000000</td>\n",
       "      <td>670.000000</td>\n",
       "      <td>670.000000</td>\n",
       "      <td>670.000000</td>\n",
       "      <td>670.000000</td>\n",
       "      <td>670.000000</td>\n",
       "      <td>670.000000</td>\n",
       "      <td>670.000000</td>\n",
       "      <td>670.000000</td>\n",
       "      <td>670.000000</td>\n",
       "      <td>670.000000</td>\n",
       "      <td>670.000000</td>\n",
       "    </tr>\n",
       "    <tr>\n",
       "      <th>mean</th>\n",
       "      <td>1571.800218</td>\n",
       "      <td>10519.437313</td>\n",
       "      <td>0.148462</td>\n",
       "      <td>0.139356</td>\n",
       "      <td>0.040357</td>\n",
       "      <td>0.146329</td>\n",
       "      <td>0.036737</td>\n",
       "      <td>0.146329</td>\n",
       "      <td>0.036737</td>\n",
       "      <td>0.139736</td>\n",
       "      <td>0.041878</td>\n",
       "      <td>0.146254</td>\n",
       "      <td>0.038099</td>\n",
       "      <td>0.152264</td>\n",
       "      <td>0.031490</td>\n",
       "      <td>0.152262</td>\n",
       "      <td>0.031490</td>\n",
       "    </tr>\n",
       "    <tr>\n",
       "      <th>std</th>\n",
       "      <td>724.919423</td>\n",
       "      <td>894.312023</td>\n",
       "      <td>0.066439</td>\n",
       "      <td>0.062326</td>\n",
       "      <td>0.032086</td>\n",
       "      <td>0.053014</td>\n",
       "      <td>0.028004</td>\n",
       "      <td>0.053014</td>\n",
       "      <td>0.028004</td>\n",
       "      <td>0.062612</td>\n",
       "      <td>0.033132</td>\n",
       "      <td>0.054211</td>\n",
       "      <td>0.028885</td>\n",
       "      <td>0.056018</td>\n",
       "      <td>0.022565</td>\n",
       "      <td>0.056020</td>\n",
       "      <td>0.022565</td>\n",
       "    </tr>\n",
       "    <tr>\n",
       "      <th>min</th>\n",
       "      <td>255.875000</td>\n",
       "      <td>9414.000000</td>\n",
       "      <td>0.025042</td>\n",
       "      <td>0.015181</td>\n",
       "      <td>0.000262</td>\n",
       "      <td>0.043373</td>\n",
       "      <td>0.000017</td>\n",
       "      <td>0.043373</td>\n",
       "      <td>0.000017</td>\n",
       "      <td>0.002609</td>\n",
       "      <td>0.000004</td>\n",
       "      <td>0.028346</td>\n",
       "      <td>0.000015</td>\n",
       "      <td>0.058997</td>\n",
       "      <td>0.000086</td>\n",
       "      <td>0.058992</td>\n",
       "      <td>0.000086</td>\n",
       "    </tr>\n",
       "    <tr>\n",
       "      <th>25%</th>\n",
       "      <td>918.302083</td>\n",
       "      <td>9791.500000</td>\n",
       "      <td>0.091626</td>\n",
       "      <td>0.084123</td>\n",
       "      <td>0.015716</td>\n",
       "      <td>0.098320</td>\n",
       "      <td>0.015730</td>\n",
       "      <td>0.098320</td>\n",
       "      <td>0.015730</td>\n",
       "      <td>0.086090</td>\n",
       "      <td>0.014966</td>\n",
       "      <td>0.097948</td>\n",
       "      <td>0.015816</td>\n",
       "      <td>0.102912</td>\n",
       "      <td>0.013237</td>\n",
       "      <td>0.102908</td>\n",
       "      <td>0.013239</td>\n",
       "    </tr>\n",
       "    <tr>\n",
       "      <th>50%</th>\n",
       "      <td>1627.468750</td>\n",
       "      <td>10167.000000</td>\n",
       "      <td>0.150289</td>\n",
       "      <td>0.144025</td>\n",
       "      <td>0.031499</td>\n",
       "      <td>0.153369</td>\n",
       "      <td>0.030610</td>\n",
       "      <td>0.153369</td>\n",
       "      <td>0.030610</td>\n",
       "      <td>0.144538</td>\n",
       "      <td>0.035559</td>\n",
       "      <td>0.152207</td>\n",
       "      <td>0.032553</td>\n",
       "      <td>0.155642</td>\n",
       "      <td>0.028064</td>\n",
       "      <td>0.155640</td>\n",
       "      <td>0.028066</td>\n",
       "    </tr>\n",
       "    <tr>\n",
       "      <th>75%</th>\n",
       "      <td>2179.276042</td>\n",
       "      <td>11239.250000</td>\n",
       "      <td>0.202966</td>\n",
       "      <td>0.189270</td>\n",
       "      <td>0.058284</td>\n",
       "      <td>0.188037</td>\n",
       "      <td>0.051504</td>\n",
       "      <td>0.188037</td>\n",
       "      <td>0.051504</td>\n",
       "      <td>0.189924</td>\n",
       "      <td>0.059398</td>\n",
       "      <td>0.189386</td>\n",
       "      <td>0.052620</td>\n",
       "      <td>0.205545</td>\n",
       "      <td>0.045061</td>\n",
       "      <td>0.205545</td>\n",
       "      <td>0.045060</td>\n",
       "    </tr>\n",
       "    <tr>\n",
       "      <th>max</th>\n",
       "      <td>3141.270833</td>\n",
       "      <td>12469.000000</td>\n",
       "      <td>0.276460</td>\n",
       "      <td>0.268618</td>\n",
       "      <td>0.157188</td>\n",
       "      <td>0.249077</td>\n",
       "      <td>0.137647</td>\n",
       "      <td>0.249077</td>\n",
       "      <td>0.137647</td>\n",
       "      <td>0.271635</td>\n",
       "      <td>0.166974</td>\n",
       "      <td>0.257392</td>\n",
       "      <td>0.143960</td>\n",
       "      <td>0.230330</td>\n",
       "      <td>0.117329</td>\n",
       "      <td>0.230331</td>\n",
       "      <td>0.117329</td>\n",
       "    </tr>\n",
       "  </tbody>\n",
       "</table>\n",
       "</div>"
      ],
      "text/plain": [
       "           Solaire      Capa_sol     TCH_sol  Sol_p_sinus   Err_sinus  \\\n",
       "count   670.000000    670.000000  670.000000   670.000000  670.000000   \n",
       "mean   1571.800218  10519.437313    0.148462     0.139356    0.040357   \n",
       "std     724.919423    894.312023    0.066439     0.062326    0.032086   \n",
       "min     255.875000   9414.000000    0.025042     0.015181    0.000262   \n",
       "25%     918.302083   9791.500000    0.091626     0.084123    0.015716   \n",
       "50%    1627.468750  10167.000000    0.150289     0.144025    0.031499   \n",
       "75%    2179.276042  11239.250000    0.202966     0.189270    0.058284   \n",
       "max    3141.270833  12469.000000    0.276460     0.268618    0.157188   \n",
       "\n",
       "       Sol_p_exog    Err_exog  Sol_p_filter  Err_exog_filter  \\\n",
       "count  670.000000  670.000000    670.000000       670.000000   \n",
       "mean     0.146329    0.036737      0.146329         0.036737   \n",
       "std      0.053014    0.028004      0.053014         0.028004   \n",
       "min      0.043373    0.000017      0.043373         0.000017   \n",
       "25%      0.098320    0.015730      0.098320         0.015730   \n",
       "50%      0.153369    0.030610      0.153369         0.030610   \n",
       "75%      0.188037    0.051504      0.188037         0.051504   \n",
       "max      0.249077    0.137647      0.249077         0.137647   \n",
       "\n",
       "       Sol_p_reduit_noreg  Err_filter_noreg  Sol_p_reduit  \\\n",
       "count          670.000000        670.000000    670.000000   \n",
       "mean             0.139736          0.041878      0.146254   \n",
       "std              0.062612          0.033132      0.054211   \n",
       "min              0.002609          0.000004      0.028346   \n",
       "25%              0.086090          0.014966      0.097948   \n",
       "50%              0.144538          0.035559      0.152207   \n",
       "75%              0.189924          0.059398      0.189386   \n",
       "max              0.271635          0.166974      0.257392   \n",
       "\n",
       "       Err_filter_exog_filter  Sol_p_LinReg  Err_LinReg  Sol_p_LinReg_filter  \\\n",
       "count              670.000000    670.000000  670.000000           670.000000   \n",
       "mean                 0.038099      0.152264    0.031490             0.152262   \n",
       "std                  0.028885      0.056018    0.022565             0.056020   \n",
       "min                  0.000015      0.058997    0.000086             0.058992   \n",
       "25%                  0.015816      0.102912    0.013237             0.102908   \n",
       "50%                  0.032553      0.155642    0.028064             0.155640   \n",
       "75%                  0.052620      0.205545    0.045061             0.205545   \n",
       "max                  0.143960      0.230330    0.117329             0.230331   \n",
       "\n",
       "       Err_LinReg_filter  \n",
       "count         670.000000  \n",
       "mean            0.031490  \n",
       "std             0.022565  \n",
       "min             0.000086  \n",
       "25%             0.013239  \n",
       "50%             0.028066  \n",
       "75%             0.045060  \n",
       "max             0.117329  "
      ]
     },
     "execution_count": 81,
     "metadata": {},
     "output_type": "execute_result"
    }
   ],
   "source": [
    "bilan['Err_LinReg_filter'] = np.abs(bilan['Sol_p_LinReg_filter'] - bilan['TCH_sol'])\n",
    "bilan.describe()"
   ]
  },
  {
   "cell_type": "markdown",
   "metadata": {},
   "source": [
    "# Calcul de la prediction : TCH x Capacité"
   ]
  },
  {
   "cell_type": "code",
   "execution_count": 82,
   "metadata": {},
   "outputs": [
    {
     "data": {
      "text/html": [
       "<div>\n",
       "<style scoped>\n",
       "    .dataframe tbody tr th:only-of-type {\n",
       "        vertical-align: middle;\n",
       "    }\n",
       "\n",
       "    .dataframe tbody tr th {\n",
       "        vertical-align: top;\n",
       "    }\n",
       "\n",
       "    .dataframe thead th {\n",
       "        text-align: right;\n",
       "    }\n",
       "</style>\n",
       "<table border=\"1\" class=\"dataframe\">\n",
       "  <thead>\n",
       "    <tr style=\"text-align: right;\">\n",
       "      <th></th>\n",
       "      <th>Solaire</th>\n",
       "      <th>Capa_sol</th>\n",
       "      <th>TCH_sol</th>\n",
       "      <th>Sol_p_sinus</th>\n",
       "      <th>Err_sinus</th>\n",
       "      <th>Sol_p_exog</th>\n",
       "      <th>Err_exog</th>\n",
       "      <th>Sol_p_filter</th>\n",
       "      <th>Err_exog_filter</th>\n",
       "      <th>Sol_p_reduit_noreg</th>\n",
       "      <th>Err_filter_noreg</th>\n",
       "      <th>Sol_p_reduit</th>\n",
       "      <th>Err_filter_exog_filter</th>\n",
       "      <th>Sol_p_LinReg</th>\n",
       "      <th>Err_LinReg</th>\n",
       "      <th>Sol_p_LinReg_filter</th>\n",
       "      <th>Err_LinReg_filter</th>\n",
       "    </tr>\n",
       "  </thead>\n",
       "  <tbody>\n",
       "    <tr>\n",
       "      <th>count</th>\n",
       "      <td>670.000000</td>\n",
       "      <td>670.000000</td>\n",
       "      <td>670.000000</td>\n",
       "      <td>670.000000</td>\n",
       "      <td>670.000000</td>\n",
       "      <td>670.000000</td>\n",
       "      <td>670.000000</td>\n",
       "      <td>670.000000</td>\n",
       "      <td>670.000000</td>\n",
       "      <td>670.000000</td>\n",
       "      <td>670.000000</td>\n",
       "      <td>670.000000</td>\n",
       "      <td>670.000000</td>\n",
       "      <td>670.000000</td>\n",
       "      <td>670.000000</td>\n",
       "      <td>670.000000</td>\n",
       "      <td>670.000000</td>\n",
       "    </tr>\n",
       "    <tr>\n",
       "      <th>mean</th>\n",
       "      <td>1571.800218</td>\n",
       "      <td>10519.437313</td>\n",
       "      <td>0.148462</td>\n",
       "      <td>1482.980940</td>\n",
       "      <td>424.658760</td>\n",
       "      <td>1553.140524</td>\n",
       "      <td>387.242290</td>\n",
       "      <td>1553.140524</td>\n",
       "      <td>387.242290</td>\n",
       "      <td>1487.262948</td>\n",
       "      <td>440.486354</td>\n",
       "      <td>1552.528698</td>\n",
       "      <td>401.441335</td>\n",
       "      <td>1612.078546</td>\n",
       "      <td>333.127140</td>\n",
       "      <td>1612.059630</td>\n",
       "      <td>333.124817</td>\n",
       "    </tr>\n",
       "    <tr>\n",
       "      <th>std</th>\n",
       "      <td>724.919423</td>\n",
       "      <td>894.312023</td>\n",
       "      <td>0.066439</td>\n",
       "      <td>699.177690</td>\n",
       "      <td>338.770041</td>\n",
       "      <td>604.886562</td>\n",
       "      <td>296.454643</td>\n",
       "      <td>604.886562</td>\n",
       "      <td>296.454643</td>\n",
       "      <td>701.855706</td>\n",
       "      <td>348.709856</td>\n",
       "      <td>616.049287</td>\n",
       "      <td>305.354352</td>\n",
       "      <td>626.912654</td>\n",
       "      <td>243.069004</td>\n",
       "      <td>626.933460</td>\n",
       "      <td>243.071793</td>\n",
       "    </tr>\n",
       "    <tr>\n",
       "      <th>min</th>\n",
       "      <td>255.875000</td>\n",
       "      <td>9414.000000</td>\n",
       "      <td>0.025042</td>\n",
       "      <td>143.567352</td>\n",
       "      <td>2.970009</td>\n",
       "      <td>410.998665</td>\n",
       "      <td>0.160200</td>\n",
       "      <td>410.998665</td>\n",
       "      <td>0.160200</td>\n",
       "      <td>24.692548</td>\n",
       "      <td>0.041002</td>\n",
       "      <td>287.048117</td>\n",
       "      <td>0.147846</td>\n",
       "      <td>574.189849</td>\n",
       "      <td>0.958295</td>\n",
       "      <td>574.140172</td>\n",
       "      <td>0.958907</td>\n",
       "    </tr>\n",
       "    <tr>\n",
       "      <th>25%</th>\n",
       "      <td>918.302083</td>\n",
       "      <td>9791.500000</td>\n",
       "      <td>0.091626</td>\n",
       "      <td>853.872773</td>\n",
       "      <td>163.652391</td>\n",
       "      <td>1000.263467</td>\n",
       "      <td>163.818604</td>\n",
       "      <td>1000.263467</td>\n",
       "      <td>163.818604</td>\n",
       "      <td>845.295655</td>\n",
       "      <td>154.997375</td>\n",
       "      <td>988.575792</td>\n",
       "      <td>168.120288</td>\n",
       "      <td>1057.316694</td>\n",
       "      <td>135.834919</td>\n",
       "      <td>1057.282359</td>\n",
       "      <td>135.809870</td>\n",
       "    </tr>\n",
       "    <tr>\n",
       "      <th>50%</th>\n",
       "      <td>1627.468750</td>\n",
       "      <td>10167.000000</td>\n",
       "      <td>0.150289</td>\n",
       "      <td>1509.746464</td>\n",
       "      <td>332.109825</td>\n",
       "      <td>1594.069687</td>\n",
       "      <td>320.066480</td>\n",
       "      <td>1594.069687</td>\n",
       "      <td>320.066480</td>\n",
       "      <td>1492.351739</td>\n",
       "      <td>371.810848</td>\n",
       "      <td>1591.013668</td>\n",
       "      <td>337.191933</td>\n",
       "      <td>1646.633680</td>\n",
       "      <td>293.966403</td>\n",
       "      <td>1646.621465</td>\n",
       "      <td>293.948470</td>\n",
       "    </tr>\n",
       "    <tr>\n",
       "      <th>75%</th>\n",
       "      <td>2179.276042</td>\n",
       "      <td>11239.250000</td>\n",
       "      <td>0.202966</td>\n",
       "      <td>2038.959087</td>\n",
       "      <td>625.925646</td>\n",
       "      <td>2055.684665</td>\n",
       "      <td>534.385880</td>\n",
       "      <td>2055.684665</td>\n",
       "      <td>534.385880</td>\n",
       "      <td>2065.560969</td>\n",
       "      <td>619.595688</td>\n",
       "      <td>2059.988946</td>\n",
       "      <td>563.642672</td>\n",
       "      <td>2158.604094</td>\n",
       "      <td>480.479159</td>\n",
       "      <td>2158.598805</td>\n",
       "      <td>480.484316</td>\n",
       "    </tr>\n",
       "    <tr>\n",
       "      <th>max</th>\n",
       "      <td>3141.270833</td>\n",
       "      <td>12469.000000</td>\n",
       "      <td>0.276460</td>\n",
       "      <td>3015.770539</td>\n",
       "      <td>1764.749705</td>\n",
       "      <td>2805.438044</td>\n",
       "      <td>1545.365433</td>\n",
       "      <td>2805.438044</td>\n",
       "      <td>1545.365433</td>\n",
       "      <td>3055.496866</td>\n",
       "      <td>1798.622471</td>\n",
       "      <td>2940.183360</td>\n",
       "      <td>1616.235597</td>\n",
       "      <td>2651.408741</td>\n",
       "      <td>1139.146513</td>\n",
       "      <td>2651.421376</td>\n",
       "      <td>1139.148263</td>\n",
       "    </tr>\n",
       "  </tbody>\n",
       "</table>\n",
       "</div>"
      ],
      "text/plain": [
       "           Solaire      Capa_sol     TCH_sol  Sol_p_sinus    Err_sinus  \\\n",
       "count   670.000000    670.000000  670.000000   670.000000   670.000000   \n",
       "mean   1571.800218  10519.437313    0.148462  1482.980940   424.658760   \n",
       "std     724.919423    894.312023    0.066439   699.177690   338.770041   \n",
       "min     255.875000   9414.000000    0.025042   143.567352     2.970009   \n",
       "25%     918.302083   9791.500000    0.091626   853.872773   163.652391   \n",
       "50%    1627.468750  10167.000000    0.150289  1509.746464   332.109825   \n",
       "75%    2179.276042  11239.250000    0.202966  2038.959087   625.925646   \n",
       "max    3141.270833  12469.000000    0.276460  3015.770539  1764.749705   \n",
       "\n",
       "        Sol_p_exog     Err_exog  Sol_p_filter  Err_exog_filter  \\\n",
       "count   670.000000   670.000000    670.000000       670.000000   \n",
       "mean   1553.140524   387.242290   1553.140524       387.242290   \n",
       "std     604.886562   296.454643    604.886562       296.454643   \n",
       "min     410.998665     0.160200    410.998665         0.160200   \n",
       "25%    1000.263467   163.818604   1000.263467       163.818604   \n",
       "50%    1594.069687   320.066480   1594.069687       320.066480   \n",
       "75%    2055.684665   534.385880   2055.684665       534.385880   \n",
       "max    2805.438044  1545.365433   2805.438044      1545.365433   \n",
       "\n",
       "       Sol_p_reduit_noreg  Err_filter_noreg  Sol_p_reduit  \\\n",
       "count          670.000000        670.000000    670.000000   \n",
       "mean          1487.262948        440.486354   1552.528698   \n",
       "std            701.855706        348.709856    616.049287   \n",
       "min             24.692548          0.041002    287.048117   \n",
       "25%            845.295655        154.997375    988.575792   \n",
       "50%           1492.351739        371.810848   1591.013668   \n",
       "75%           2065.560969        619.595688   2059.988946   \n",
       "max           3055.496866       1798.622471   2940.183360   \n",
       "\n",
       "       Err_filter_exog_filter  Sol_p_LinReg   Err_LinReg  Sol_p_LinReg_filter  \\\n",
       "count              670.000000    670.000000   670.000000           670.000000   \n",
       "mean               401.441335   1612.078546   333.127140          1612.059630   \n",
       "std                305.354352    626.912654   243.069004           626.933460   \n",
       "min                  0.147846    574.189849     0.958295           574.140172   \n",
       "25%                168.120288   1057.316694   135.834919          1057.282359   \n",
       "50%                337.191933   1646.633680   293.966403          1646.621465   \n",
       "75%                563.642672   2158.604094   480.479159          2158.598805   \n",
       "max               1616.235597   2651.408741  1139.146513          2651.421376   \n",
       "\n",
       "       Err_LinReg_filter  \n",
       "count         670.000000  \n",
       "mean          333.124817  \n",
       "std           243.071793  \n",
       "min             0.958907  \n",
       "25%           135.809870  \n",
       "50%           293.948470  \n",
       "75%           480.484316  \n",
       "max          1139.148263  "
      ]
     },
     "execution_count": 82,
     "metadata": {},
     "output_type": "execute_result"
    }
   ],
   "source": [
    "bilan['Sol_p_sinus'] = bilan['Sol_p_sinus'] * bilan['Capa_sol']\n",
    "bilan['Err_sinus'] = bilan['Err_sinus'] * bilan['Capa_sol']\n",
    "bilan['Sol_p_exog'] = bilan['Sol_p_exog'] * bilan['Capa_sol']\n",
    "bilan['Err_exog'] = bilan['Err_exog'] * bilan['Capa_sol']\n",
    "bilan['Sol_p_filter'] = bilan['Sol_p_filter'] * bilan['Capa_sol']\n",
    "bilan['Err_exog_filter'] = bilan['Err_exog_filter'] * bilan['Capa_sol']\n",
    "bilan['Sol_p_reduit_noreg'] = bilan['Sol_p_reduit_noreg'] * bilan['Capa_sol']\n",
    "bilan['Err_filter_noreg'] = bilan['Err_filter_noreg'] * bilan['Capa_sol']\n",
    "bilan['Sol_p_reduit'] = bilan['Sol_p_reduit'] * bilan['Capa_sol']\n",
    "bilan['Err_filter_exog_filter'] = bilan['Err_filter_exog_filter'] * bilan['Capa_sol']\n",
    "bilan['Sol_p_LinReg'] = bilan['Sol_p_LinReg'] * bilan['Capa_sol']\n",
    "bilan['Err_LinReg'] = bilan['Err_LinReg'] * bilan['Capa_sol']\n",
    "bilan['Sol_p_LinReg_filter'] = bilan['Sol_p_LinReg_filter'] * bilan['Capa_sol']\n",
    "bilan['Err_LinReg_filter'] = bilan['Err_LinReg_filter'] * bilan['Capa_sol']\n",
    "bilan.describe()"
   ]
  },
  {
   "cell_type": "markdown",
   "metadata": {},
   "source": [
    "# Visualisation réel vs prédictions"
   ]
  },
  {
   "cell_type": "code",
   "execution_count": 83,
   "metadata": {},
   "outputs": [
    {
     "data": {
      "image/png": "[encoded data removed]",
      "text/plain": [
       "<Figure size 1296x648 with 1 Axes>"
      ]
     },
     "metadata": {
      "needs_background": "light"
     },
     "output_type": "display_data"
    }
   ],
   "source": [
    "plt.figure(figsize=(18,9))\n",
    "plt.plot(bilan['Solaire'].resample('W').mean(), color = 'k', label = 'réel')\n",
    "plt.plot(bilan['Sol_p_sinus'].resample('W').mean(), color = 'y', linestyle = '--', alpha = 0.5, label = 'sinus', marker = '>')\n",
    "plt.plot(bilan['Sol_p_exog'].resample('W').mean(), color = 'b', linestyle = '--', alpha = 0.5, label = 'exog')\n",
    "plt.plot(bilan['Sol_p_filter'].resample('W').mean(), color = 'b', linestyle = ':', alpha = 0.5, label = 'exog filtré')\n",
    "plt.plot(bilan['Sol_p_reduit_noreg'].resample('W').mean(), color = 'r', linestyle = '--', alpha = 0.5, label = 'filtré sans exog')\n",
    "plt.plot(bilan['Sol_p_reduit'].resample('W').mean(), color = 'r', linestyle = ':', alpha = 0.5, label = 'filtré + exog filtré')\n",
    "plt.plot(bilan['Sol_p_LinReg'].resample('W').mean(), color = 'g', linestyle = '--', alpha = 0.5, label = 'RegLin')\n",
    "plt.plot(bilan['Sol_p_LinReg_filter'].resample('W').mean(), color = 'g', linestyle = ':', alpha = 0.5, label = 'RegLin filtré')\n",
    "plt.legend(loc = 'upper right')\n",
    "plt.title('Prediction Solaire (D)')\n",
    "plt.savefig('./results/D/pred_solaire_D.png');"
   ]
  },
  {
   "cell_type": "markdown",
   "metadata": {},
   "source": [
    "# Synthèse des erreurs"
   ]
  },
  {
   "cell_type": "code",
   "execution_count": 86,
   "metadata": {},
   "outputs": [
    {
     "data": {
      "text/html": [
       "<div>\n",
       "<style scoped>\n",
       "    .dataframe tbody tr th:only-of-type {\n",
       "        vertical-align: middle;\n",
       "    }\n",
       "\n",
       "    .dataframe tbody tr th {\n",
       "        vertical-align: top;\n",
       "    }\n",
       "\n",
       "    .dataframe thead th {\n",
       "        text-align: right;\n",
       "    }\n",
       "</style>\n",
       "<table border=\"1\" class=\"dataframe\">\n",
       "  <thead>\n",
       "    <tr style=\"text-align: right;\">\n",
       "      <th></th>\n",
       "      <th>Err_sinus</th>\n",
       "      <th>Err_exog</th>\n",
       "      <th>Err_exog_filter</th>\n",
       "      <th>Err_filter_noreg</th>\n",
       "      <th>Err_filter_exog_filter</th>\n",
       "      <th>Err_LinReg</th>\n",
       "      <th>Err_LinReg_filter</th>\n",
       "    </tr>\n",
       "  </thead>\n",
       "  <tbody>\n",
       "    <tr>\n",
       "      <th>count</th>\n",
       "      <td>670.000000</td>\n",
       "      <td>670.000000</td>\n",
       "      <td>670.000000</td>\n",
       "      <td>670.000000</td>\n",
       "      <td>670.000000</td>\n",
       "      <td>670.000000</td>\n",
       "      <td>670.000000</td>\n",
       "    </tr>\n",
       "    <tr>\n",
       "      <th>mean</th>\n",
       "      <td>424.658760</td>\n",
       "      <td>387.242290</td>\n",
       "      <td>387.242290</td>\n",
       "      <td>440.486354</td>\n",
       "      <td>401.441335</td>\n",
       "      <td>333.127140</td>\n",
       "      <td>333.124817</td>\n",
       "    </tr>\n",
       "    <tr>\n",
       "      <th>std</th>\n",
       "      <td>338.770041</td>\n",
       "      <td>296.454643</td>\n",
       "      <td>296.454643</td>\n",
       "      <td>348.709856</td>\n",
       "      <td>305.354352</td>\n",
       "      <td>243.069004</td>\n",
       "      <td>243.071793</td>\n",
       "    </tr>\n",
       "    <tr>\n",
       "      <th>min</th>\n",
       "      <td>2.970009</td>\n",
       "      <td>0.160200</td>\n",
       "      <td>0.160200</td>\n",
       "      <td>0.041002</td>\n",
       "      <td>0.147846</td>\n",
       "      <td>0.958295</td>\n",
       "      <td>0.958907</td>\n",
       "    </tr>\n",
       "    <tr>\n",
       "      <th>25%</th>\n",
       "      <td>163.652391</td>\n",
       "      <td>163.818604</td>\n",
       "      <td>163.818604</td>\n",
       "      <td>154.997375</td>\n",
       "      <td>168.120288</td>\n",
       "      <td>135.834919</td>\n",
       "      <td>135.809870</td>\n",
       "    </tr>\n",
       "    <tr>\n",
       "      <th>50%</th>\n",
       "      <td>332.109825</td>\n",
       "      <td>320.066480</td>\n",
       "      <td>320.066480</td>\n",
       "      <td>371.810848</td>\n",
       "      <td>337.191933</td>\n",
       "      <td>293.966403</td>\n",
       "      <td>293.948470</td>\n",
       "    </tr>\n",
       "    <tr>\n",
       "      <th>75%</th>\n",
       "      <td>625.925646</td>\n",
       "      <td>534.385880</td>\n",
       "      <td>534.385880</td>\n",
       "      <td>619.595688</td>\n",
       "      <td>563.642672</td>\n",
       "      <td>480.479159</td>\n",
       "      <td>480.484316</td>\n",
       "    </tr>\n",
       "    <tr>\n",
       "      <th>max</th>\n",
       "      <td>1764.749705</td>\n",
       "      <td>1545.365433</td>\n",
       "      <td>1545.365433</td>\n",
       "      <td>1798.622471</td>\n",
       "      <td>1616.235597</td>\n",
       "      <td>1139.146513</td>\n",
       "      <td>1139.148263</td>\n",
       "    </tr>\n",
       "  </tbody>\n",
       "</table>\n",
       "</div>"
      ],
      "text/plain": [
       "         Err_sinus     Err_exog  Err_exog_filter  Err_filter_noreg  \\\n",
       "count   670.000000   670.000000       670.000000        670.000000   \n",
       "mean    424.658760   387.242290       387.242290        440.486354   \n",
       "std     338.770041   296.454643       296.454643        348.709856   \n",
       "min       2.970009     0.160200         0.160200          0.041002   \n",
       "25%     163.652391   163.818604       163.818604        154.997375   \n",
       "50%     332.109825   320.066480       320.066480        371.810848   \n",
       "75%     625.925646   534.385880       534.385880        619.595688   \n",
       "max    1764.749705  1545.365433      1545.365433       1798.622471   \n",
       "\n",
       "       Err_filter_exog_filter   Err_LinReg  Err_LinReg_filter  \n",
       "count              670.000000   670.000000         670.000000  \n",
       "mean               401.441335   333.127140         333.124817  \n",
       "std                305.354352   243.069004         243.071793  \n",
       "min                  0.147846     0.958295           0.958907  \n",
       "25%                168.120288   135.834919         135.809870  \n",
       "50%                337.191933   293.966403         293.948470  \n",
       "75%                563.642672   480.479159         480.484316  \n",
       "max               1616.235597  1139.146513        1139.148263  "
      ]
     },
     "execution_count": 86,
     "metadata": {},
     "output_type": "execute_result"
    }
   ],
   "source": [
    "erreur = bilan[['Err_sinus',\n",
    "       'Err_exog',\n",
    "       'Err_exog_filter',\n",
    "       'Err_filter_noreg',\n",
    "       'Err_filter_exog_filter',\n",
    "       'Err_LinReg',\n",
    "       'Err_LinReg_filter'\n",
    "      ]].describe()\n",
    "erreur"
   ]
  },
  {
   "cell_type": "code",
   "execution_count": 87,
   "metadata": {},
   "outputs": [],
   "source": [
    "bilan.to_csv('./results/D/bilan_solaire_D.csv', sep = ';')\n",
    "erreur.to_csv('./results/D/erreur_solaire_D.csv', sep = ';')"
   ]
  }
 ],
 "metadata": {
  "kernelspec": {
   "display_name": "Python 3",
   "language": "python",
   "name": "python3"
  },
  "language_info": {
   "codemirror_mode": {
    "name": "ipython",
    "version": 3
   },
   "file_extension": ".py",
   "mimetype": "text/x-python",
   "name": "python",
   "nbconvert_exporter": "python",
   "pygments_lexer": "ipython3",
   "version": "3.8.5"
  }
 },
 "nbformat": 4,
 "nbformat_minor": 2
}
