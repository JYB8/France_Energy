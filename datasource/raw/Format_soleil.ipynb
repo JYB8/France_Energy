{
 "cells": [
  {
   "cell_type": "code",
   "execution_count": 1,
   "metadata": {},
   "outputs": [],
   "source": [
    "import pandas as pd\n",
    "import datetime as dt"
   ]
  },
  {
   "cell_type": "code",
   "execution_count": 2,
   "metadata": {},
   "outputs": [
    {
     "data": {
      "text/html": [
       "<div>\n",
       "<style scoped>\n",
       "    .dataframe tbody tr th:only-of-type {\n",
       "        vertical-align: middle;\n",
       "    }\n",
       "\n",
       "    .dataframe tbody tr th {\n",
       "        vertical-align: top;\n",
       "    }\n",
       "\n",
       "    .dataframe thead th {\n",
       "        text-align: right;\n",
       "    }\n",
       "</style>\n",
       "<table border=\"1\" class=\"dataframe\">\n",
       "  <thead>\n",
       "    <tr style=\"text-align: right;\">\n",
       "      <th></th>\n",
       "      <th>Dates</th>\n",
       "      <th>Lever</th>\n",
       "      <th>Coucher</th>\n",
       "      <th>Aube</th>\n",
       "      <th>Aurore</th>\n",
       "    </tr>\n",
       "  </thead>\n",
       "  <tbody>\n",
       "    <tr>\n",
       "      <th>0</th>\n",
       "      <td>01/01/2013</td>\n",
       "      <td>08:45</td>\n",
       "      <td>16:48</td>\n",
       "      <td>08:06</td>\n",
       "      <td>17:27</td>\n",
       "    </tr>\n",
       "  </tbody>\n",
       "</table>\n",
       "</div>"
      ],
      "text/plain": [
       "        Dates  Lever Coucher   Aube Aurore\n",
       "0  01/01/2013  08:45   16:48  08:06  17:27"
      ]
     },
     "execution_count": 2,
     "metadata": {},
     "output_type": "execute_result"
    }
   ],
   "source": [
    "df = pd.read_csv('soleil.csv', sep=';')\n",
    "df.head(1)"
   ]
  },
  {
   "cell_type": "code",
   "execution_count": 3,
   "metadata": {},
   "outputs": [],
   "source": [
    "df['Dates'] = pd.to_datetime(df['Dates'], dayfirst = True)"
   ]
  },
  {
   "cell_type": "code",
   "execution_count": 4,
   "metadata": {},
   "outputs": [],
   "source": [
    "df.set_index('Dates', inplace = True)"
   ]
  },
  {
   "cell_type": "code",
   "execution_count": 5,
   "metadata": {},
   "outputs": [
    {
     "data": {
      "text/plain": [
       "(3287, 4)"
      ]
     },
     "execution_count": 5,
     "metadata": {},
     "output_type": "execute_result"
    }
   ],
   "source": [
    "df.shape"
   ]
  },
  {
   "cell_type": "code",
   "execution_count": 6,
   "metadata": {},
   "outputs": [
    {
     "name": "stderr",
     "output_type": "stream",
     "text": [
      "<ipython-input-6-3926c26036b0>:2: FutureWarning: The pandas.datetime class is deprecated and will be removed from pandas in a future version. Import from datetime module instead.\n",
      "  deb_i = pd.datetime(year = 2013, month = 1, day = 1)\n",
      "<ipython-input-6-3926c26036b0>:3: FutureWarning: The pandas.datetime class is deprecated and will be removed from pandas in a future version. Import from datetime module instead.\n",
      "  fin_i = pd.datetime(year = 2021, month = 11, day = 1)\n"
     ]
    }
   ],
   "source": [
    "indice = []\n",
    "deb_i = pd.datetime(year = 2013, month = 1, day = 1)\n",
    "fin_i = pd.datetime(year = 2021, month = 11, day = 1)\n",
    "cou = (fin_i - deb_i).days\n",
    "for i in range(8 * cou):\n",
    "    delta = dt.timedelta(hours = 3 * i)\n",
    "    datum = deb_i + delta\n",
    "    indice.append(datum)"
   ]
  },
  {
   "cell_type": "code",
   "execution_count": 7,
   "metadata": {},
   "outputs": [
    {
     "data": {
      "text/plain": [
       "25808"
      ]
     },
     "execution_count": 7,
     "metadata": {},
     "output_type": "execute_result"
    }
   ],
   "source": [
    "len(indice)"
   ]
  },
  {
   "cell_type": "code",
   "execution_count": 8,
   "metadata": {},
   "outputs": [],
   "source": [
    "df = df.reindex(index = indice, method = 'ffill')"
   ]
  },
  {
   "cell_type": "code",
   "execution_count": 9,
   "metadata": {},
   "outputs": [
    {
     "data": {
      "text/html": [
       "<div>\n",
       "<style scoped>\n",
       "    .dataframe tbody tr th:only-of-type {\n",
       "        vertical-align: middle;\n",
       "    }\n",
       "\n",
       "    .dataframe tbody tr th {\n",
       "        vertical-align: top;\n",
       "    }\n",
       "\n",
       "    .dataframe thead th {\n",
       "        text-align: right;\n",
       "    }\n",
       "</style>\n",
       "<table border=\"1\" class=\"dataframe\">\n",
       "  <thead>\n",
       "    <tr style=\"text-align: right;\">\n",
       "      <th></th>\n",
       "      <th>Lever</th>\n",
       "      <th>Coucher</th>\n",
       "      <th>Aube</th>\n",
       "      <th>Aurore</th>\n",
       "    </tr>\n",
       "    <tr>\n",
       "      <th>Dates</th>\n",
       "      <th></th>\n",
       "      <th></th>\n",
       "      <th></th>\n",
       "      <th></th>\n",
       "    </tr>\n",
       "  </thead>\n",
       "  <tbody>\n",
       "    <tr>\n",
       "      <th>2013-01-01 00:00:00</th>\n",
       "      <td>08:45</td>\n",
       "      <td>16:48</td>\n",
       "      <td>08:06</td>\n",
       "      <td>17:27</td>\n",
       "    </tr>\n",
       "    <tr>\n",
       "      <th>2013-01-01 03:00:00</th>\n",
       "      <td>08:45</td>\n",
       "      <td>16:48</td>\n",
       "      <td>08:06</td>\n",
       "      <td>17:27</td>\n",
       "    </tr>\n",
       "    <tr>\n",
       "      <th>2013-01-01 06:00:00</th>\n",
       "      <td>08:45</td>\n",
       "      <td>16:48</td>\n",
       "      <td>08:06</td>\n",
       "      <td>17:27</td>\n",
       "    </tr>\n",
       "    <tr>\n",
       "      <th>2013-01-01 09:00:00</th>\n",
       "      <td>08:45</td>\n",
       "      <td>16:48</td>\n",
       "      <td>08:06</td>\n",
       "      <td>17:27</td>\n",
       "    </tr>\n",
       "    <tr>\n",
       "      <th>2013-01-01 12:00:00</th>\n",
       "      <td>08:45</td>\n",
       "      <td>16:48</td>\n",
       "      <td>08:06</td>\n",
       "      <td>17:27</td>\n",
       "    </tr>\n",
       "    <tr>\n",
       "      <th>...</th>\n",
       "      <td>...</td>\n",
       "      <td>...</td>\n",
       "      <td>...</td>\n",
       "      <td>...</td>\n",
       "    </tr>\n",
       "    <tr>\n",
       "      <th>2021-10-31 09:00:00</th>\n",
       "      <td>07:33</td>\n",
       "      <td>17:19</td>\n",
       "      <td>06:58</td>\n",
       "      <td>17:53</td>\n",
       "    </tr>\n",
       "    <tr>\n",
       "      <th>2021-10-31 12:00:00</th>\n",
       "      <td>07:33</td>\n",
       "      <td>17:19</td>\n",
       "      <td>06:58</td>\n",
       "      <td>17:53</td>\n",
       "    </tr>\n",
       "    <tr>\n",
       "      <th>2021-10-31 15:00:00</th>\n",
       "      <td>07:33</td>\n",
       "      <td>17:19</td>\n",
       "      <td>06:58</td>\n",
       "      <td>17:53</td>\n",
       "    </tr>\n",
       "    <tr>\n",
       "      <th>2021-10-31 18:00:00</th>\n",
       "      <td>07:33</td>\n",
       "      <td>17:19</td>\n",
       "      <td>06:58</td>\n",
       "      <td>17:53</td>\n",
       "    </tr>\n",
       "    <tr>\n",
       "      <th>2021-10-31 21:00:00</th>\n",
       "      <td>07:33</td>\n",
       "      <td>17:19</td>\n",
       "      <td>06:58</td>\n",
       "      <td>17:53</td>\n",
       "    </tr>\n",
       "  </tbody>\n",
       "</table>\n",
       "<p>25808 rows × 4 columns</p>\n",
       "</div>"
      ],
      "text/plain": [
       "                     Lever Coucher   Aube Aurore\n",
       "Dates                                           \n",
       "2013-01-01 00:00:00  08:45   16:48  08:06  17:27\n",
       "2013-01-01 03:00:00  08:45   16:48  08:06  17:27\n",
       "2013-01-01 06:00:00  08:45   16:48  08:06  17:27\n",
       "2013-01-01 09:00:00  08:45   16:48  08:06  17:27\n",
       "2013-01-01 12:00:00  08:45   16:48  08:06  17:27\n",
       "...                    ...     ...    ...    ...\n",
       "2021-10-31 09:00:00  07:33   17:19  06:58  17:53\n",
       "2021-10-31 12:00:00  07:33   17:19  06:58  17:53\n",
       "2021-10-31 15:00:00  07:33   17:19  06:58  17:53\n",
       "2021-10-31 18:00:00  07:33   17:19  06:58  17:53\n",
       "2021-10-31 21:00:00  07:33   17:19  06:58  17:53\n",
       "\n",
       "[25808 rows x 4 columns]"
      ]
     },
     "execution_count": 9,
     "metadata": {},
     "output_type": "execute_result"
    }
   ],
   "source": [
    "df"
   ]
  },
  {
   "cell_type": "code",
   "execution_count": 10,
   "metadata": {},
   "outputs": [],
   "source": [
    "df['Lever'] = pd.to_datetime(df['Lever']).dt.hour + pd.to_datetime(df['Lever']).dt.minute / 60\n",
    "df['Coucher'] = pd.to_datetime(df['Coucher']).dt.hour + pd.to_datetime(df['Coucher']).dt.minute / 60\n",
    "df['Aube'] = pd.to_datetime(df['Aube']).dt.hour + pd.to_datetime(df['Aube']).dt.minute / 60\n",
    "df['Aurore'] = pd.to_datetime(df['Aurore']).dt.hour + pd.to_datetime(df['Aurore']).dt.minute / 60"
   ]
  },
  {
   "cell_type": "code",
   "execution_count": 11,
   "metadata": {},
   "outputs": [
    {
     "data": {
      "text/html": [
       "<div>\n",
       "<style scoped>\n",
       "    .dataframe tbody tr th:only-of-type {\n",
       "        vertical-align: middle;\n",
       "    }\n",
       "\n",
       "    .dataframe tbody tr th {\n",
       "        vertical-align: top;\n",
       "    }\n",
       "\n",
       "    .dataframe thead th {\n",
       "        text-align: right;\n",
       "    }\n",
       "</style>\n",
       "<table border=\"1\" class=\"dataframe\">\n",
       "  <thead>\n",
       "    <tr style=\"text-align: right;\">\n",
       "      <th></th>\n",
       "      <th>Lever</th>\n",
       "      <th>Coucher</th>\n",
       "      <th>Aube</th>\n",
       "      <th>Aurore</th>\n",
       "    </tr>\n",
       "    <tr>\n",
       "      <th>Dates</th>\n",
       "      <th></th>\n",
       "      <th></th>\n",
       "      <th></th>\n",
       "      <th></th>\n",
       "    </tr>\n",
       "  </thead>\n",
       "  <tbody>\n",
       "    <tr>\n",
       "      <th>2013-01-01 00:00:00</th>\n",
       "      <td>8.75</td>\n",
       "      <td>16.800000</td>\n",
       "      <td>8.100000</td>\n",
       "      <td>17.450000</td>\n",
       "    </tr>\n",
       "    <tr>\n",
       "      <th>2013-01-01 03:00:00</th>\n",
       "      <td>8.75</td>\n",
       "      <td>16.800000</td>\n",
       "      <td>8.100000</td>\n",
       "      <td>17.450000</td>\n",
       "    </tr>\n",
       "    <tr>\n",
       "      <th>2013-01-01 06:00:00</th>\n",
       "      <td>8.75</td>\n",
       "      <td>16.800000</td>\n",
       "      <td>8.100000</td>\n",
       "      <td>17.450000</td>\n",
       "    </tr>\n",
       "    <tr>\n",
       "      <th>2013-01-01 09:00:00</th>\n",
       "      <td>8.75</td>\n",
       "      <td>16.800000</td>\n",
       "      <td>8.100000</td>\n",
       "      <td>17.450000</td>\n",
       "    </tr>\n",
       "    <tr>\n",
       "      <th>2013-01-01 12:00:00</th>\n",
       "      <td>8.75</td>\n",
       "      <td>16.800000</td>\n",
       "      <td>8.100000</td>\n",
       "      <td>17.450000</td>\n",
       "    </tr>\n",
       "    <tr>\n",
       "      <th>...</th>\n",
       "      <td>...</td>\n",
       "      <td>...</td>\n",
       "      <td>...</td>\n",
       "      <td>...</td>\n",
       "    </tr>\n",
       "    <tr>\n",
       "      <th>2021-10-31 09:00:00</th>\n",
       "      <td>7.55</td>\n",
       "      <td>17.316667</td>\n",
       "      <td>6.966667</td>\n",
       "      <td>17.883333</td>\n",
       "    </tr>\n",
       "    <tr>\n",
       "      <th>2021-10-31 12:00:00</th>\n",
       "      <td>7.55</td>\n",
       "      <td>17.316667</td>\n",
       "      <td>6.966667</td>\n",
       "      <td>17.883333</td>\n",
       "    </tr>\n",
       "    <tr>\n",
       "      <th>2021-10-31 15:00:00</th>\n",
       "      <td>7.55</td>\n",
       "      <td>17.316667</td>\n",
       "      <td>6.966667</td>\n",
       "      <td>17.883333</td>\n",
       "    </tr>\n",
       "    <tr>\n",
       "      <th>2021-10-31 18:00:00</th>\n",
       "      <td>7.55</td>\n",
       "      <td>17.316667</td>\n",
       "      <td>6.966667</td>\n",
       "      <td>17.883333</td>\n",
       "    </tr>\n",
       "    <tr>\n",
       "      <th>2021-10-31 21:00:00</th>\n",
       "      <td>7.55</td>\n",
       "      <td>17.316667</td>\n",
       "      <td>6.966667</td>\n",
       "      <td>17.883333</td>\n",
       "    </tr>\n",
       "  </tbody>\n",
       "</table>\n",
       "<p>25808 rows × 4 columns</p>\n",
       "</div>"
      ],
      "text/plain": [
       "                     Lever    Coucher      Aube     Aurore\n",
       "Dates                                                     \n",
       "2013-01-01 00:00:00   8.75  16.800000  8.100000  17.450000\n",
       "2013-01-01 03:00:00   8.75  16.800000  8.100000  17.450000\n",
       "2013-01-01 06:00:00   8.75  16.800000  8.100000  17.450000\n",
       "2013-01-01 09:00:00   8.75  16.800000  8.100000  17.450000\n",
       "2013-01-01 12:00:00   8.75  16.800000  8.100000  17.450000\n",
       "...                    ...        ...       ...        ...\n",
       "2021-10-31 09:00:00   7.55  17.316667  6.966667  17.883333\n",
       "2021-10-31 12:00:00   7.55  17.316667  6.966667  17.883333\n",
       "2021-10-31 15:00:00   7.55  17.316667  6.966667  17.883333\n",
       "2021-10-31 18:00:00   7.55  17.316667  6.966667  17.883333\n",
       "2021-10-31 21:00:00   7.55  17.316667  6.966667  17.883333\n",
       "\n",
       "[25808 rows x 4 columns]"
      ]
     },
     "execution_count": 11,
     "metadata": {},
     "output_type": "execute_result"
    }
   ],
   "source": [
    "df"
   ]
  },
  {
   "cell_type": "code",
   "execution_count": 12,
   "metadata": {},
   "outputs": [],
   "source": [
    "df.to_csv('../../datasource/horaires_soleil.csv', sep=';')"
   ]
  }
 ],
 "metadata": {
  "kernelspec": {
   "display_name": "Python 3",
   "language": "python",
   "name": "python3"
  },
  "language_info": {
   "codemirror_mode": {
    "name": "ipython",
    "version": 3
   },
   "file_extension": ".py",
   "mimetype": "text/x-python",
   "name": "python",
   "nbconvert_exporter": "python",
   "pygments_lexer": "ipython3",
   "version": "3.8.5"
  }
 },
 "nbformat": 4,
 "nbformat_minor": 2
}
